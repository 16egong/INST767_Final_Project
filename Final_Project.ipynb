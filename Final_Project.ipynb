{
 "cells": [
  {
   "cell_type": "markdown",
   "id": "latter-cambodia",
   "metadata": {},
   "source": [
    "# Recipe 1M + Spark"
   ]
  },
  {
   "cell_type": "markdown",
   "id": "academic-knitting",
   "metadata": {},
   "source": [
    "Outline\n",
    "- Downloads\n",
    "- Imports\n",
    "- Loading Data\n",
    "- Formatting Data\n",
    "- Pyspark NLP Pipeline\n",
    "- Spark ML\n",
    "- Visualize Ingredients/Instructions"
   ]
  },
  {
   "cell_type": "markdown",
   "id": "controlling-methodology",
   "metadata": {},
   "source": [
    "# Downloads"
   ]
  },
  {
   "cell_type": "markdown",
   "id": "waiting-operation",
   "metadata": {},
   "source": [
    "Java 8"
   ]
  },
  {
   "cell_type": "code",
   "execution_count": 1,
   "id": "continued-theater",
   "metadata": {},
   "outputs": [],
   "source": [
    "# !apt-get update\n",
    "# !apt-get install openjdk-8-jdk-headless -qq > /dev/null"
   ]
  },
  {
   "cell_type": "markdown",
   "id": "ahead-collect",
   "metadata": {},
   "source": [
    "Java 11"
   ]
  },
  {
   "cell_type": "code",
   "execution_count": 2,
   "id": "fossil-mount",
   "metadata": {},
   "outputs": [],
   "source": [
    "# !sudo apt-get update\n",
    "# !sudo apt-get install openjdk-11-jdk-headless -qq > /dev/null"
   ]
  },
  {
   "cell_type": "markdown",
   "id": "noticed-jackson",
   "metadata": {},
   "source": [
    "Pyhon libary installs\n",
    "NOTE: Might need apache spark downloads, check later"
   ]
  },
  {
   "cell_type": "code",
   "execution_count": 3,
   "id": "preliminary-dining",
   "metadata": {},
   "outputs": [],
   "source": [
    "# !pip install pyspark\n",
    "# !pip install spark-nlp==3.0.0\n",
    "\n",
    "# !pip install pandas\n",
    "# !python -m pip install -U matplotlib #might not need this\n",
    "# !pip install bokeh"
   ]
  },
  {
   "cell_type": "markdown",
   "id": "regular-belfast",
   "metadata": {},
   "source": [
    "check if GPU has been allocated"
   ]
  },
  {
   "cell_type": "code",
   "execution_count": 53,
   "id": "protective-office",
   "metadata": {},
   "outputs": [
    {
     "name": "stdout",
     "output_type": "stream",
     "text": [
      "Thu Apr 29 19:05:41 2021       \r\n",
      "+-----------------------------------------------------------------------------+\r\n",
      "| NVIDIA-SMI 460.73.01    Driver Version: 460.73.01    CUDA Version: 11.2     |\r\n",
      "|-------------------------------+----------------------+----------------------+\r\n",
      "| GPU  Name        Persistence-M| Bus-Id        Disp.A | Volatile Uncorr. ECC |\r\n",
      "| Fan  Temp  Perf  Pwr:Usage/Cap|         Memory-Usage | GPU-Util  Compute M. |\r\n",
      "|                               |                      |               MIG M. |\r\n",
      "|===============================+======================+======================|\r\n",
      "|   0  GeForce RTX 3070    Off  | 00000000:01:00.0  On |                  N/A |\r\n",
      "|  0%   40C    P8    18W / 220W |    880MiB /  7979MiB |     26%      Default |\r\n",
      "|                               |                      |                  N/A |\r\n",
      "+-------------------------------+----------------------+----------------------+\r\n",
      "                                                                               \r\n",
      "+-----------------------------------------------------------------------------+\r\n",
      "| Processes:                                                                  |\r\n",
      "|  GPU   GI   CI        PID   Type   Process name                  GPU Memory |\r\n",
      "|        ID   ID                                                   Usage      |\r\n",
      "|=============================================================================|\r\n",
      "|    0   N/A  N/A      1611      G   /usr/lib/xorg/Xorg                 38MiB |\r\n",
      "|    0   N/A  N/A      1662      G   /usr/bin/gnome-shell              116MiB |\r\n",
      "|    0   N/A  N/A      1978      G   /usr/lib/xorg/Xorg                388MiB |\r\n",
      "|    0   N/A  N/A      2109      G   /usr/bin/gnome-shell               41MiB |\r\n",
      "|    0   N/A  N/A      3073      G   /usr/lib/firefox/firefox            5MiB |\r\n",
      "|    0   N/A  N/A      3326      C   ...-8-openjdk-amd64/bin/java      151MiB |\r\n",
      "|    0   N/A  N/A      6496      G   ...AAAAAAAAA= --shared-files      100MiB |\r\n",
      "+-----------------------------------------------------------------------------+\r\n"
     ]
    }
   ],
   "source": [
    "!nvidia-smi"
   ]
  },
  {
   "cell_type": "markdown",
   "id": "noticed-increase",
   "metadata": {},
   "source": [
    " Install RAPIDS Google Colab"
   ]
  },
  {
   "cell_type": "code",
   "execution_count": 56,
   "id": "powered-express",
   "metadata": {},
   "outputs": [],
   "source": [
    "# # Install RAPIDS Google Colab\n",
    "# !git clone https://github.com/rapidsai/rapidsai-csp-utils.git\n",
    "# !bash rapidsai-csp-utils/colab/rapids-colab.sh stable\n",
    "\n",
    "# import sys, os, shutil\n",
    "\n",
    "# sys.path.append('/usr/local/lib/python3.7/site-packages/')\n",
    "# os.environ['NUMBAPRO_NVVM'] = '/usr/local/cuda/nvvm/lib64/libnvvm.so'\n",
    "# os.environ['NUMBAPRO_LIBDEVICE'] = '/usr/local/cuda/nvvm/libdevice/'\n",
    "# os.environ[\"CONDA_PREFIX\"] = \"/usr/local\"\n",
    "# for so in ['cudf', 'rmm', 'nccl', 'cuml', 'cugraph', 'xgboost', 'cuspatial']:\n",
    "#     fn = 'lib'+so+'.so'\n",
    "#     source_fn = '/usr/local/lib/'+fn\n",
    "#     dest_fn = '/usr/lib/'+fn\n",
    "#     if os.path.exists(source_fn):\n",
    "#         print(f'Copying {source_fn} to {dest_fn}')\n",
    "#         shutil.copyfile(source_fn, dest_fn)\n",
    "# # fix for BlazingSQL import issue\n",
    "# # ImportError: /usr/lib/x86_64-linux-gnu/libstdc++.so.6: version `GLIBCXX_3.4.26' not found (required by /usr/local/lib/python3.7/site-packages/../../libblazingsql-engine.so)\n",
    "# if not os.path.exists('/usr/lib64'):\n",
    "#     os.makedirs('/usr/lib64')\n",
    "# for so_file in os.listdir('/usr/local/lib'):\n",
    "#     if 'libstdc' in so_file:\n",
    "#         shutil.copyfile('/usr/local/lib/'+so_file, '/usr/lib64/'+so_file)\n",
    "#         shutil.copyfile('/usr/local/lib/'+so_file, '/usr/lib/x86_64-linux-gnu/'+so_file)"
   ]
  },
  {
   "cell_type": "markdown",
   "id": "coordinate-trainer",
   "metadata": {},
   "source": [
    "Install RAPIDS Local"
   ]
  },
  {
   "cell_type": "markdown",
   "id": "purple-mauritius",
   "metadata": {},
   "source": [
    "CUDA Toolkit to use GPU\n",
    "https://developer.nvidia.com/cuda-11.2.0-download-archive?target_os=Linux&target_arch=x86_64&target_distro=Ubuntu&target_version=1804&target_type=runfilelocal\n",
    "TAPIDS Instructions: https://rapids.ai/start.html\n",
    "Personally: `conda create -n rapids-0.19 -c rapidsai -c nvidia -c conda-forge \\ \n",
    "blazingsql=0.19 cuml=0.19 python=3.7 cudatoolkit=11.2`\n"
   ]
  },
  {
   "cell_type": "code",
   "execution_count": 62,
   "id": "right-crowd",
   "metadata": {},
   "outputs": [
    {
     "ename": "ModuleNotFoundError",
     "evalue": "No module named 'cuml'",
     "output_type": "error",
     "traceback": [
      "\u001b[0;31m---------------------------------------------------------------------------\u001b[0m",
      "\u001b[0;31mModuleNotFoundError\u001b[0m                       Traceback (most recent call last)",
      "\u001b[0;32m<ipython-input-62-a450aff8eac6>\u001b[0m in \u001b[0;36m<module>\u001b[0;34m\u001b[0m\n\u001b[0;32m----> 1\u001b[0;31m \u001b[0;32mimport\u001b[0m \u001b[0mcuml\u001b[0m\u001b[0;34m\u001b[0m\u001b[0;34m\u001b[0m\u001b[0m\n\u001b[0m",
      "\u001b[0;31mModuleNotFoundError\u001b[0m: No module named 'cuml'"
     ]
    }
   ],
   "source": [
    "import cuml"
   ]
  },
  {
   "cell_type": "markdown",
   "id": "pending-grove",
   "metadata": {},
   "source": [
    "# Imports"
   ]
  },
  {
   "cell_type": "code",
   "execution_count": 4,
   "id": "human-plymouth",
   "metadata": {},
   "outputs": [],
   "source": [
    "# TODO: Check which ones get used\n",
    "import random\n",
    "import json\n",
    "import os\n",
    "\n",
    "import pandas as pd\n",
    "import matplotlib.pyplot as plt\n",
    "\n",
    "import pyspark\n",
    "from pyspark.ml import Pipeline\n",
    "from pyspark.ml.feature import SQLTransformer\n",
    "from pyspark.ml.feature import Normalizer\n",
    "from pyspark.ml.feature import VectorAssembler\n",
    "from pyspark.ml.linalg import Vector, Vectors, VectorUDT\n",
    "from pyspark.ml.feature import PCA\n",
    "# from org.apache.spark.ml.linal import Vector, Vectors # Typo in John Snow Labs\n",
    "\n",
    "from pyspark.sql.types import StringType, DoubleType\n",
    "from pyspark.sql.functions import UserDefinedFunction\n",
    "from pyspark.sql.functions import explode\n",
    "from pyspark.sql.functions import udf, col\n",
    "from pyspark.ml.functions import vector_to_array\n",
    "from pyspark.ml.clustering import LDA\n",
    "from pyspark.ml.clustering import KMeans\n",
    "from pyspark.ml.evaluation import ClusteringEvaluator\n",
    "\n",
    "# visualizations\n",
    "from bokeh.plotting import figure, show\n",
    "from bokeh.palettes import d3\n",
    "from bokeh.models import ColumnDataSource, CategoricalColorMapper, HoverTool\n",
    "from bokeh.io import output_notebook\n",
    "\n",
    "import sparknlp\n",
    "from sparknlp.base import *\n",
    "from sparknlp.annotator import *              \n",
    "from sparknlp.pretrained import PretrainedPipeline"
   ]
  },
  {
   "cell_type": "markdown",
   "id": "private-bicycle",
   "metadata": {},
   "source": [
    "Java 8 Environment Setup"
   ]
  },
  {
   "cell_type": "code",
   "execution_count": 5,
   "id": "english-dairy",
   "metadata": {},
   "outputs": [],
   "source": [
    "os.environ['JAVA_HOME'] = \"/usr/lib/jvm/java-8-openjdk-amd64\""
   ]
  },
  {
   "cell_type": "markdown",
   "id": "annual-desktop",
   "metadata": {},
   "source": [
    "Java 11 Environment Setup"
   ]
  },
  {
   "cell_type": "code",
   "execution_count": 6,
   "id": "formal-trading",
   "metadata": {},
   "outputs": [],
   "source": [
    "# os.environ[\"JAVA_HOME\"] = \"/usr/lib/jvm/java-11-openjdk-amd64\""
   ]
  },
  {
   "cell_type": "markdown",
   "id": "committed-wholesale",
   "metadata": {},
   "source": [
    "Jupyter Notebook Import"
   ]
  },
  {
   "cell_type": "code",
   "execution_count": 7,
   "id": "temporal-practice",
   "metadata": {},
   "outputs": [
    {
     "data": {
      "text/html": [
       "<style>.container { width:80% !important; }</style>"
      ],
      "text/plain": [
       "<IPython.core.display.HTML object>"
      ]
     },
     "metadata": {},
     "output_type": "display_data"
    }
   ],
   "source": [
    "# Expands the width of the notebook\n",
    "from IPython.core.display import display, HTML\n",
    "display(HTML(\"<style>.container { width:80% !important; }</style>\"))"
   ]
  },
  {
   "cell_type": "markdown",
   "id": "rough-establishment",
   "metadata": {},
   "source": [
    "Google Colab Import"
   ]
  },
  {
   "cell_type": "code",
   "execution_count": 8,
   "id": "complex-modeling",
   "metadata": {},
   "outputs": [],
   "source": [
    "# from google.colab import drive\n",
    "# drive.mount('/content/drive')"
   ]
  },
  {
   "cell_type": "markdown",
   "id": "handed-instruction",
   "metadata": {},
   "source": [
    "Spark NLP: Without GPU"
   ]
  },
  {
   "cell_type": "code",
   "execution_count": 9,
   "id": "hired-butter",
   "metadata": {},
   "outputs": [],
   "source": [
    "# spark = sparknlp.start()\n",
    "# print('[INFO] Spark type: ', type(spark))"
   ]
  },
  {
   "cell_type": "markdown",
   "id": "covered-relationship",
   "metadata": {},
   "source": [
    "Adjust GPU flag for individual use"
   ]
  },
  {
   "cell_type": "code",
   "execution_count": 10,
   "id": "thrown-bracelet",
   "metadata": {},
   "outputs": [
    {
     "name": "stdout",
     "output_type": "stream",
     "text": [
      "[INFO] Spark type:  <class 'pyspark.sql.session.SparkSession'>\n"
     ]
    }
   ],
   "source": [
    "spark = sparknlp.start(gpu=True, memory=\"32G\")\n",
    "print('[INFO] Spark type: ', type(spark))"
   ]
  },
  {
   "cell_type": "markdown",
   "id": "extra-isolation",
   "metadata": {},
   "source": [
    "**Learning Point:** Difference between _spark session_ and _spark context_\n",
    "\n",
    "- can access spark context through spark session\n",
    "- unified view of contexts via session\n",
    "\n",
    "Reference: https://medium.com/@achilleus/spark-session-10d0d66d1d24"
   ]
  },
  {
   "cell_type": "code",
   "execution_count": 11,
   "id": "convenient-negotiation",
   "metadata": {},
   "outputs": [
    {
     "data": {
      "text/plain": [
       "'3.1.1'"
      ]
     },
     "execution_count": 11,
     "metadata": {},
     "output_type": "execute_result"
    }
   ],
   "source": [
    "sparknlp.version()\n",
    "spark.version"
   ]
  },
  {
   "cell_type": "markdown",
   "id": "sunset-finding",
   "metadata": {},
   "source": [
    "# Load Data"
   ]
  },
  {
   "cell_type": "code",
   "execution_count": 12,
   "id": "critical-primary",
   "metadata": {},
   "outputs": [],
   "source": [
    "def load_to_spark_dataframe(file_path):\n",
    "    return spark.read.json(file_path)"
   ]
  },
  {
   "cell_type": "code",
   "execution_count": 13,
   "id": "stuck-sierra",
   "metadata": {},
   "outputs": [],
   "source": [
    "def drop_extra_colums(df):\n",
    "    columns_to_drop = (\"_corrupt_record\", \"url\", \"partition\")\n",
    "    return df.drop(*columns_to_drop).dropna()"
   ]
  },
  {
   "cell_type": "code",
   "execution_count": 14,
   "id": "dress-kernel",
   "metadata": {},
   "outputs": [],
   "source": [
    "def display_dataframe_info(df):\n",
    "    print('[COUNT] ', df.count())\n",
    "    print()\n",
    "    print('[SCHEMA] ')\n",
    "    df.printSchema()\n",
    "    print()\n",
    "    print('[SHOW] ')\n",
    "    df.show()"
   ]
  },
  {
   "cell_type": "code",
   "execution_count": 15,
   "id": "american-schedule",
   "metadata": {},
   "outputs": [],
   "source": [
    "def sample_df(df, sample_size):\n",
    "    return spark.createDataFrame(df.head(sample_size))"
   ]
  },
  {
   "cell_type": "code",
   "execution_count": 16,
   "id": "orange-romance",
   "metadata": {},
   "outputs": [],
   "source": [
    "# jupyter notebook file path\n",
    "file_path='layer1.json'\n",
    "# google colab file path\n",
    "# file_path = '/content/drive/MyDrive/layer1.json'"
   ]
  },
  {
   "cell_type": "code",
   "execution_count": 17,
   "id": "rocky-reflection",
   "metadata": {},
   "outputs": [],
   "source": [
    "#TODO: Change this later and seperate it out\n",
    "def load_data():\n",
    "    df = load_to_spark_dataframe(file_path)\n",
    "    df = drop_extra_colums(df)\n",
    "    display_dataframe_info(df)\n",
    "    \n",
    "    sample_size = 100\n",
    "    df = sample_df(df, sample_size)\n",
    "    return df"
   ]
  },
  {
   "cell_type": "markdown",
   "id": "gentle-petersburg",
   "metadata": {},
   "source": [
    "# Format Data"
   ]
  },
  {
   "cell_type": "markdown",
   "id": "classical-receiver",
   "metadata": {},
   "source": [
    "The ingredients and instructions are currently in lists, but I want to combine them into one string to create a \"document\". So I will need to change the ingredients/instructions from an aray of strings to one string\n",
    "\n",
    "**Learning Point:** Using a User Defined Function (UDF)\n",
    "- functions that act on one row at a time\n",
    "- alternatively, you can use a map function\n",
    "- expensive operations but can help when you need something outside of the typical SQL functions\n",
    "\n",
    "Reference: \n",
    "- https://medium.com/@fqaiser94/udfs-vs-map-vs-custom-spark-native-functions-91ab2c154b44\n",
    "- https://stackoverflow.com/questions/29109916/updating-a-dataframe-column-in-spark"
   ]
  },
  {
   "cell_type": "code",
   "execution_count": 18,
   "id": "pressing-prediction",
   "metadata": {},
   "outputs": [
    {
     "name": "stdout",
     "output_type": "stream",
     "text": [
      "[COUNT]  1029720\n",
      "\n",
      "[SCHEMA] \n",
      "root\n",
      " |-- id: string (nullable = true)\n",
      " |-- ingredients: array (nullable = true)\n",
      " |    |-- element: struct (containsNull = true)\n",
      " |    |    |-- text: string (nullable = true)\n",
      " |-- instructions: array (nullable = true)\n",
      " |    |-- element: struct (containsNull = true)\n",
      " |    |    |-- text: string (nullable = true)\n",
      " |-- title: string (nullable = true)\n",
      "\n",
      "\n",
      "[SHOW] \n",
      "+----------+--------------------+--------------------+--------------------+\n",
      "|        id|         ingredients|        instructions|               title|\n",
      "+----------+--------------------+--------------------+--------------------+\n",
      "|000018c8a5|[{6 ounces penne}...|[{Preheat the ove...|Worlds Best Mac a...|\n",
      "|000033e39b|[{1 c. elbow maca...|[{Cook macaroni a...|Dilly Macaroni Sa...|\n",
      "|000035f7ed|[{8 tomatoes, qua...|[{Add the tomatoe...|            Gazpacho|\n",
      "|00003a70b1|[{2 12 cups milk}...|[{Preheat oven to...|Crunchy Onion Pot...|\n",
      "|00004320bb|[{1 (3 ounce) pac...|[{Dissolve Jello ...|Cool 'n Easy Crea...|\n",
      "|0000631d90|[{12 cup shredded...|[{In a large skil...|Easy Tropical Bee...|\n",
      "|000075604a|[{2 Chicken thigh...|[{Pierce the skin...|Kombu Tea Grilled...|\n",
      "|00007bfd16|[{6 -8 cups fresh...|[{Put ingredients...|Strawberry Rhubar...|\n",
      "|000095fc1d|[{8 ounces, weigh...|[{Layer all ingre...|     Yogurt Parfaits|\n",
      "|0000973574|[{2 cups flour}, ...|[{Sift dry ingred...|  Zucchini Nut Bread|\n",
      "|0000a4bcf6|[{1/2 cup green o...|[{Chop green onio...|Salmon & Salad a ...|\n",
      "|0000b1e2b5|[{1 teaspoon fenn...|[{Preheat oven to...|Fennel-Rubbed Por...|\n",
      "|0000c79afb|[{1 (750 ml) bott...|[{In a pitcher, c...|        Pink Sangria|\n",
      "|0000ed95f8|[{14 cup butter},...|[{Cream butter, s...|      Pineapple Loaf|\n",
      "|00010379bf|[{200 grams Cake ...|[{In a bowl, mix ...|Brown Sugar 'Kari...|\n",
      "|000106ec3c|[{1 can tomato sa...|[{Fry hamburger a...|      Corn Casserole|\n",
      "|00010c7867|[{1 12 lbs ground...|[{Combine beef, o...|Grandmommy's Mexi...|\n",
      "|00010d44c7|[{1 (10 ounce) pa...|[{Mix all ingredi...|  Broccoli Rice Bake|\n",
      "|00011e0b2c|[{1/2 cup A.1. Cl...|[{Pour marinade o...|Steak & Asparagus...|\n",
      "|00011fc1f9|[{1 cup lentils},...|[{Saute the onion...|Lentils Vegetable...|\n",
      "+----------+--------------------+--------------------+--------------------+\n",
      "only showing top 20 rows\n",
      "\n"
     ]
    }
   ],
   "source": [
    "df = load_data()"
   ]
  },
  {
   "cell_type": "code",
   "execution_count": 19,
   "id": "corresponding-transsexual",
   "metadata": {},
   "outputs": [],
   "source": [
    "# Returns the list joined together with periods as seperators\n",
    "def join_lists_udf(list_to_join):\n",
    "    return '. '.join([data['text'] for data in list_to_join])\n",
    "    return '. '.join([data['text'] for data in ingredients])\n",
    "\n",
    "def apply_udf(df, column_name):\n",
    "    udf = UserDefinedFunction(join_lists_udf, StringType())\n",
    "    return df.select(*[udf(column).alias(column_name) if column == column_name else column for column in df.columns])"
   ]
  },
  {
   "cell_type": "code",
   "execution_count": 20,
   "id": "established-latest",
   "metadata": {},
   "outputs": [],
   "source": [
    "df = apply_udf(df, 'ingredients')\n",
    "df = apply_udf(df, 'instructions')"
   ]
  },
  {
   "cell_type": "markdown",
   "id": "constitutional-stanley",
   "metadata": {},
   "source": [
    "The lists have been removed"
   ]
  },
  {
   "cell_type": "code",
   "execution_count": 21,
   "id": "challenging-tournament",
   "metadata": {
    "scrolled": true
   },
   "outputs": [
    {
     "name": "stdout",
     "output_type": "stream",
     "text": [
      "+----------+--------------------+--------------------+--------------------+\n",
      "|        id|         ingredients|        instructions|               title|\n",
      "+----------+--------------------+--------------------+--------------------+\n",
      "|000018c8a5|6 ounces penne. 2...|Preheat the oven ...|Worlds Best Mac a...|\n",
      "|000033e39b|1 c. elbow macaro...|Cook macaroni acc...|Dilly Macaroni Sa...|\n",
      "|000035f7ed|8 tomatoes, quart...|Add the tomatoes ...|            Gazpacho|\n",
      "|00003a70b1|2 12 cups milk. 1...|Preheat oven to 3...|Crunchy Onion Pot...|\n",
      "|00004320bb|1 (3 ounce) packa...|Dissolve Jello in...|Cool 'n Easy Crea...|\n",
      "|0000631d90|12 cup shredded c...|In a large skille...|Easy Tropical Bee...|\n",
      "|000075604a|2 Chicken thighs....|Pierce the skin o...|Kombu Tea Grilled...|\n",
      "|00007bfd16|6 -8 cups fresh r...|Put ingredients i...|Strawberry Rhubar...|\n",
      "|000095fc1d|8 ounces, weight ...|Layer all ingredi...|     Yogurt Parfaits|\n",
      "|0000973574|2 cups flour. 1 t...|Sift dry ingredie...|  Zucchini Nut Bread|\n",
      "+----------+--------------------+--------------------+--------------------+\n",
      "only showing top 10 rows\n",
      "\n"
     ]
    }
   ],
   "source": [
    "df.show(10)"
   ]
  },
  {
   "cell_type": "markdown",
   "id": "hourly-method",
   "metadata": {},
   "source": [
    "# Introducing Pyspark NLP Pipeline"
   ]
  },
  {
   "cell_type": "markdown",
   "id": "buried-sally",
   "metadata": {},
   "source": [
    "There are manythings to learn relating to Pyspark NLP. I highly reccomend reading some of the material prior to getting started. I will specefically be using BERT sentence embeddings for my pipeline. \n",
    "\n",
    "**Learning Point:** Implementing PySpark NLP Pipeline\n",
    "- DocumentAssembler: Allows you to transform your raw data into a format the pipeline can use\n",
    "- SentenceEmbeddings: \n",
    "  - I will ues BertSentenceEmbeddings for the purposes of this project\n",
    "  - Alternative Embeddings are mentioned in John Snow Labs Annotator (see reference below)\n",
    "  - You may also annotate each word and then aggregate the mean to create sentence embeddings (to provide more flexibility for stemming and other preprocessing)\n",
    "  \n",
    "Note: There are some typos in the documentation, I have noted them as we go along as [WARNING]\n",
    "  \n",
    "Reference:\n",
    "- https://towardsdatascience.com/introduction-to-spark-nlp-foundations-and-basic-components-part-i-c83b7629ed59 (Highly reccomend)\n",
    "- https://nlp.johnsnowlabs.com/docs/en/transformers\n",
    "- https://nlp.johnsnowlabs.com/docs/en/annotators"
   ]
  },
  {
   "cell_type": "code",
   "execution_count": 22,
   "id": "pacific-australia",
   "metadata": {},
   "outputs": [],
   "source": [
    "def create_pipeline(column_name):\n",
    "    # Document Assembler: Converts our raw data into a format for the Pyspark NLP to use for other parts of the pipeline, \n",
    "    # specefically in the \"Document\" type\n",
    "    documentAssembler = DocumentAssembler() \\\n",
    "        .setInputCol(column_name) \\\n",
    "        .setOutputCol(\"document\") \\\n",
    "        .setCleanupMode(\"shrink\")\n",
    "\n",
    "    # [WARNING] Typo in the documentation: \n",
    "    # Documentation: BertSentenceembeddings (missing uppercase in the E)\n",
    "    # Correction: BertSentenceEmbeddings\n",
    "    sentence_embeddings = BertSentenceEmbeddings.pretrained() \\\n",
    "        .setInputCols(\"document\") \\\n",
    "        .setOutputCol(\"sentence_embeddings\") \\\n",
    "        .setLazyAnnotator(False)\n",
    "    \n",
    "    # [WARNING]\n",
    "    # The documentation states after SentenceEmbeddings that you will need to convert \n",
    "    # these embeddings into Vectors or what's known as Feature column so it can be used in Spark ML\n",
    "    # Correction: The documentation states its in python, however the code is not python \n",
    "    # and a mixture between Scala and other typos\n",
    "    # Instead, you can use the embeddings finisher to help format the vectors\n",
    "\n",
    "    embeddings_finisher = EmbeddingsFinisher() \\\n",
    "                .setInputCols([\"sentence_embeddings\"]) \\\n",
    "                .setOutputCols(\"sentence_embeddings_vectors\") \\\n",
    "                .setCleanAnnotations(True) \\\n",
    "                .setOutputAsVector(True)\n",
    "    \n",
    "    pipeline = Pipeline(\n",
    "    stages=[\n",
    "        documentAssembler, \n",
    "        sentence_embeddings,\n",
    "        embeddings_finisher\n",
    "    ])\n",
    "    return pipeline"
   ]
  },
  {
   "cell_type": "code",
   "execution_count": 23,
   "id": "identified-stupid",
   "metadata": {},
   "outputs": [
    {
     "name": "stdout",
     "output_type": "stream",
     "text": [
      "sent_small_bert_L2_768 download started this may take some time.\n",
      "Approximate size to download 139.6 MB\n",
      "[OK!]\n"
     ]
    }
   ],
   "source": [
    "ingredients_pipeline = create_pipeline('ingredients')"
   ]
  },
  {
   "cell_type": "code",
   "execution_count": 24,
   "id": "considered-reviewer",
   "metadata": {},
   "outputs": [
    {
     "name": "stdout",
     "output_type": "stream",
     "text": [
      "sent_small_bert_L2_768 download started this may take some time.\n",
      "Approximate size to download 139.6 MB\n",
      "[OK!]\n"
     ]
    }
   ],
   "source": [
    "instructions_pipeline = create_pipeline('instructions')"
   ]
  },
  {
   "cell_type": "markdown",
   "id": "egyptian-marketing",
   "metadata": {},
   "source": [
    "Below we will fit and transform the data to create a BERT representation of our ingredients and instructions data respectively\n",
    "\n",
    "Through the pipeline, new columns are created for each part of the pipeline (setOutputCol). Thus the names may be duplicated and need to change"
   ]
  },
  {
   "cell_type": "code",
   "execution_count": 25,
   "id": "illegal-norman",
   "metadata": {},
   "outputs": [],
   "source": [
    "# Create ingredients embeddings\n",
    "ingredients_pipeline_model = ingredients_pipeline.fit(df)\n",
    "\n",
    "transformed_df = ingredients_pipeline_model.transform(df)\n",
    "\n",
    "transformed_df = transformed_df.withColumnRenamed(\"sentence_embeddings\", \"ingredients_sentence_embeddings\")\n",
    "transformed_df = transformed_df.withColumnRenamed(\"sentence_embeddings_vectors\", \"ingredients_sentence_embeddings_vectors\")\n",
    "\n",
    "# Create instruction embeddings\n",
    "instructions_pipeline_model = instructions_pipeline.fit(df)\n",
    "\n",
    "transformed_df = instructions_pipeline_model.transform(transformed_df)\n",
    "\n",
    "transformed_df = transformed_df.withColumnRenamed(\"sentence_embeddings\", \"instructions_sentence_embeddings\")\n",
    "transformed_df = transformed_df.withColumnRenamed(\"sentence_embeddings_vectors\", \"instructions_sentence_embeddings_vectors\")"
   ]
  },
  {
   "cell_type": "code",
   "execution_count": 26,
   "id": "contrary-railway",
   "metadata": {},
   "outputs": [
    {
     "name": "stdout",
     "output_type": "stream",
     "text": [
      "+----------+--------------------+--------------------+--------------------+-------------------------------+---------------------------------------+--------------------------------+----------------------------------------+\n",
      "|        id|         ingredients|        instructions|               title|ingredients_sentence_embeddings|ingredients_sentence_embeddings_vectors|instructions_sentence_embeddings|instructions_sentence_embeddings_vectors|\n",
      "+----------+--------------------+--------------------+--------------------+-------------------------------+---------------------------------------+--------------------------------+----------------------------------------+\n",
      "|000018c8a5|6 ounces penne. 2...|Preheat the oven ...|Worlds Best Mac a...|           [{sentence_embedd...|                   [[0.2496253103017...|            [{sentence_embedd...|                    [[0.6857207417488...|\n",
      "|000033e39b|1 c. elbow macaro...|Cook macaroni acc...|Dilly Macaroni Sa...|           [{sentence_embedd...|                   [[0.3729802668094...|            [{sentence_embedd...|                    [[0.5114012360572...|\n",
      "|000035f7ed|8 tomatoes, quart...|Add the tomatoes ...|            Gazpacho|           [{sentence_embedd...|                   [[0.2992067039012...|            [{sentence_embedd...|                    [[0.5063223242759...|\n",
      "|00003a70b1|2 12 cups milk. 1...|Preheat oven to 3...|Crunchy Onion Pot...|           [{sentence_embedd...|                   [[0.3870077133178...|            [{sentence_embedd...|                    [[0.4314882457256...|\n",
      "|00004320bb|1 (3 ounce) packa...|Dissolve Jello in...|Cool 'n Easy Crea...|           [{sentence_embedd...|                   [[0.4652682244777...|            [{sentence_embedd...|                    [[0.5512062311172...|\n",
      "|0000631d90|12 cup shredded c...|In a large skille...|Easy Tropical Bee...|           [{sentence_embedd...|                   [[0.4759099185466...|            [{sentence_embedd...|                    [[0.4940183460712...|\n",
      "|000075604a|2 Chicken thighs....|Pierce the skin o...|Kombu Tea Grilled...|           [{sentence_embedd...|                   [[0.2703805863857...|            [{sentence_embedd...|                    [[0.4098443388938...|\n",
      "|00007bfd16|6 -8 cups fresh r...|Put ingredients i...|Strawberry Rhubar...|           [{sentence_embedd...|                   [[0.3721141815185...|            [{sentence_embedd...|                    [[0.3969734311103...|\n",
      "|000095fc1d|8 ounces, weight ...|Layer all ingredi...|     Yogurt Parfaits|           [{sentence_embedd...|                   [[0.4540592432022...|            [{sentence_embedd...|                    [[0.6383946537971...|\n",
      "|0000973574|2 cups flour. 1 t...|Sift dry ingredie...|  Zucchini Nut Bread|           [{sentence_embedd...|                   [[0.4259899854660...|            [{sentence_embedd...|                    [[0.6173505187034...|\n",
      "|0000a4bcf6|1/2 cup green oni...|Chop green onions...|Salmon & Salad a ...|           [{sentence_embedd...|                   [[0.4051529169082...|            [{sentence_embedd...|                    [[0.3969822525978...|\n",
      "|0000b1e2b5|1 teaspoon fennel...|Preheat oven to 3...|Fennel-Rubbed Por...|           [{sentence_embedd...|                   [[0.4809822440147...|            [{sentence_embedd...|                    [[0.3896652162075...|\n",
      "|0000c79afb|1 (750 ml) bottle...|In a pitcher, com...|        Pink Sangria|           [{sentence_embedd...|                   [[0.4633704125881...|            [{sentence_embedd...|                    [[0.5625424385070...|\n",
      "|0000ed95f8|14 cup butter. 34...|Cream butter, sug...|      Pineapple Loaf|           [{sentence_embedd...|                   [[0.3177408576011...|            [{sentence_embedd...|                    [[0.4884404838085...|\n",
      "|00010379bf|200 grams Cake fl...|In a bowl, mix fl...|Brown Sugar 'Kari...|           [{sentence_embedd...|                   [[0.2816092967987...|            [{sentence_embedd...|                    [[0.4976661801338...|\n",
      "|000106ec3c|1 can tomato sauc...|Fry hamburger and...|      Corn Casserole|           [{sentence_embedd...|                   [[0.3493588566780...|            [{sentence_embedd...|                    [[0.6556598544120...|\n",
      "|00010c7867|1 12 lbs ground b...|Combine beef, oat...|Grandmommy's Mexi...|           [{sentence_embedd...|                   [[0.3142421543598...|            [{sentence_embedd...|                    [[0.4656312763690...|\n",
      "|00010d44c7|1 (10 ounce) pack...|Mix all ingredien...|  Broccoli Rice Bake|           [{sentence_embedd...|                   [[0.3920705914497...|            [{sentence_embedd...|                    [[0.4130271673202...|\n",
      "|00011e0b2c|1/2 cup A.1. Clas...|Pour marinade ove...|Steak & Asparagus...|           [{sentence_embedd...|                   [[0.3486717641353...|            [{sentence_embedd...|                    [[0.5910604000091...|\n",
      "|00011fc1f9|1 cup lentils. 12...|Saute the onions,...|Lentils Vegetable...|           [{sentence_embedd...|                   [[0.3638961613178...|            [{sentence_embedd...|                    [[0.4828342497348...|\n",
      "+----------+--------------------+--------------------+--------------------+-------------------------------+---------------------------------------+--------------------------------+----------------------------------------+\n",
      "only showing top 20 rows\n",
      "\n"
     ]
    }
   ],
   "source": [
    "transformed_df.show()"
   ]
  },
  {
   "cell_type": "code",
   "execution_count": 27,
   "id": "numerical-pastor",
   "metadata": {},
   "outputs": [],
   "source": [
    "# drop coulmns\n",
    "embedding_columns = [\"ingredients_sentence_embeddings\", \"instructions_sentence_embeddings\"]\n",
    "transformed_df = transformed_df.drop(*embedding_columns)"
   ]
  },
  {
   "cell_type": "code",
   "execution_count": 28,
   "id": "interested-secretariat",
   "metadata": {},
   "outputs": [
    {
     "name": "stdout",
     "output_type": "stream",
     "text": [
      "+----------+--------------------+--------------------+--------------------+---------------------------------------+----------------------------------------+\n",
      "|        id|         ingredients|        instructions|               title|ingredients_sentence_embeddings_vectors|instructions_sentence_embeddings_vectors|\n",
      "+----------+--------------------+--------------------+--------------------+---------------------------------------+----------------------------------------+\n",
      "|000018c8a5|6 ounces penne. 2...|Preheat the oven ...|Worlds Best Mac a...|                   [[0.2496253103017...|                    [[0.6857207417488...|\n",
      "|000033e39b|1 c. elbow macaro...|Cook macaroni acc...|Dilly Macaroni Sa...|                   [[0.3729802668094...|                    [[0.5114012360572...|\n",
      "|000035f7ed|8 tomatoes, quart...|Add the tomatoes ...|            Gazpacho|                   [[0.2992067039012...|                    [[0.5063223242759...|\n",
      "|00003a70b1|2 12 cups milk. 1...|Preheat oven to 3...|Crunchy Onion Pot...|                   [[0.3870077133178...|                    [[0.4314882457256...|\n",
      "|00004320bb|1 (3 ounce) packa...|Dissolve Jello in...|Cool 'n Easy Crea...|                   [[0.4652682244777...|                    [[0.5512062311172...|\n",
      "|0000631d90|12 cup shredded c...|In a large skille...|Easy Tropical Bee...|                   [[0.4759099185466...|                    [[0.4940183460712...|\n",
      "|000075604a|2 Chicken thighs....|Pierce the skin o...|Kombu Tea Grilled...|                   [[0.2703805863857...|                    [[0.4098443388938...|\n",
      "|00007bfd16|6 -8 cups fresh r...|Put ingredients i...|Strawberry Rhubar...|                   [[0.3721141815185...|                    [[0.3969734311103...|\n",
      "|000095fc1d|8 ounces, weight ...|Layer all ingredi...|     Yogurt Parfaits|                   [[0.4540592432022...|                    [[0.6383946537971...|\n",
      "|0000973574|2 cups flour. 1 t...|Sift dry ingredie...|  Zucchini Nut Bread|                   [[0.4259899854660...|                    [[0.6173505187034...|\n",
      "|0000a4bcf6|1/2 cup green oni...|Chop green onions...|Salmon & Salad a ...|                   [[0.4051529169082...|                    [[0.3969822525978...|\n",
      "|0000b1e2b5|1 teaspoon fennel...|Preheat oven to 3...|Fennel-Rubbed Por...|                   [[0.4809822440147...|                    [[0.3896652162075...|\n",
      "|0000c79afb|1 (750 ml) bottle...|In a pitcher, com...|        Pink Sangria|                   [[0.4633704125881...|                    [[0.5625424385070...|\n",
      "|0000ed95f8|14 cup butter. 34...|Cream butter, sug...|      Pineapple Loaf|                   [[0.3177408576011...|                    [[0.4884404838085...|\n",
      "|00010379bf|200 grams Cake fl...|In a bowl, mix fl...|Brown Sugar 'Kari...|                   [[0.2816092967987...|                    [[0.4976661801338...|\n",
      "|000106ec3c|1 can tomato sauc...|Fry hamburger and...|      Corn Casserole|                   [[0.3493588566780...|                    [[0.6556598544120...|\n",
      "|00010c7867|1 12 lbs ground b...|Combine beef, oat...|Grandmommy's Mexi...|                   [[0.3142421543598...|                    [[0.4656312763690...|\n",
      "|00010d44c7|1 (10 ounce) pack...|Mix all ingredien...|  Broccoli Rice Bake|                   [[0.3920705914497...|                    [[0.4130271673202...|\n",
      "|00011e0b2c|1/2 cup A.1. Clas...|Pour marinade ove...|Steak & Asparagus...|                   [[0.3486717641353...|                    [[0.5910604000091...|\n",
      "|00011fc1f9|1 cup lentils. 12...|Saute the onions,...|Lentils Vegetable...|                   [[0.3638961613178...|                    [[0.4828342497348...|\n",
      "+----------+--------------------+--------------------+--------------------+---------------------------------------+----------------------------------------+\n",
      "only showing top 20 rows\n",
      "\n"
     ]
    }
   ],
   "source": [
    "transformed_df.show()"
   ]
  },
  {
   "cell_type": "markdown",
   "id": "living-november",
   "metadata": {},
   "source": [
    "Hark! Another issue, the vectors produced in the transformed_df are of type list, but we need a Dense Vector to input into the PySpark ML side."
   ]
  },
  {
   "cell_type": "code",
   "execution_count": 29,
   "id": "lightweight-vegetation",
   "metadata": {},
   "outputs": [
    {
     "data": {
      "text/plain": [
       "list"
      ]
     },
     "execution_count": 29,
     "metadata": {},
     "output_type": "execute_result"
    }
   ],
   "source": [
    "# Demonstrate the type here is a list when a Dense vector is desired\n",
    "type(transformed_df.collect()[0]['ingredients_sentence_embeddings_vectors'])"
   ]
  },
  {
   "cell_type": "markdown",
   "id": "adopted-lawsuit",
   "metadata": {},
   "source": [
    "# Spark ML"
   ]
  },
  {
   "cell_type": "markdown",
   "id": "requested-compensation",
   "metadata": {},
   "source": [
    "## Preparing Data"
   ]
  },
  {
   "cell_type": "markdown",
   "id": "palestinian-jewel",
   "metadata": {},
   "source": [
    "Lark! We will address the challenge mentioned above. We want to use a UDF to change the instruction or ingredient lists to vectors"
   ]
  },
  {
   "cell_type": "code",
   "execution_count": 30,
   "id": "amended-kansas",
   "metadata": {},
   "outputs": [],
   "source": [
    "# The data for the sentence_embeddings_vectors is in a list of DenseVectors rather than just DenseVectors\n",
    "# I have no idea why, have to figure that out\n",
    "# Correction: I use a UDF to convert the list to the DenseVector \n",
    "\n",
    "def format_list_to_vector(df, column_name):\n",
    "    list_to_vector_udf = udf(lambda l: l[0], VectorUDT())\n",
    "    \n",
    "#     return df.select(df['id'], list_to_vector_udf(df[column_name]).alias(\"features\"))\n",
    "#     return df.select(df['id'], list_to_vector_udf(df[column_name]).alias(column_name))\n",
    "    return list_to_vector_udf(df[column_name]).alias(column_name)"
   ]
  },
  {
   "cell_type": "code",
   "execution_count": 31,
   "id": "framed-thailand",
   "metadata": {},
   "outputs": [],
   "source": [
    "column_name = \"ingredients_sentence_embeddings_vectors\" \n",
    "transformed_df = transformed_df.withColumn(column_name, format_list_to_vector(transformed_df, column_name))"
   ]
  },
  {
   "cell_type": "code",
   "execution_count": 32,
   "id": "motivated-possible",
   "metadata": {},
   "outputs": [],
   "source": [
    "column_name = \"instructions_sentence_embeddings_vectors\"\n",
    "transformed_df = transformed_df.withColumn(column_name, format_list_to_vector(transformed_df, column_name))"
   ]
  },
  {
   "cell_type": "code",
   "execution_count": 33,
   "id": "intensive-spouse",
   "metadata": {},
   "outputs": [
    {
     "name": "stdout",
     "output_type": "stream",
     "text": [
      "+----------+--------------------+--------------------+--------------------+---------------------------------------+----------------------------------------+\n",
      "|        id|         ingredients|        instructions|               title|ingredients_sentence_embeddings_vectors|instructions_sentence_embeddings_vectors|\n",
      "+----------+--------------------+--------------------+--------------------+---------------------------------------+----------------------------------------+\n",
      "|000018c8a5|6 ounces penne. 2...|Preheat the oven ...|Worlds Best Mac a...|                   [0.24962531030178...|                    [0.68572074174880...|\n",
      "|000033e39b|1 c. elbow macaro...|Cook macaroni acc...|Dilly Macaroni Sa...|                   [0.37298026680946...|                    [0.51140123605728...|\n",
      "|000035f7ed|8 tomatoes, quart...|Add the tomatoes ...|            Gazpacho|                   [0.29920670390129...|                    [0.50632232427597...|\n",
      "|00003a70b1|2 12 cups milk. 1...|Preheat oven to 3...|Crunchy Onion Pot...|                   [0.38700771331787...|                    [0.43148824572563...|\n",
      "|00004320bb|1 (3 ounce) packa...|Dissolve Jello in...|Cool 'n Easy Crea...|                   [0.46526822447776...|                    [0.55120623111724...|\n",
      "|0000631d90|12 cup shredded c...|In a large skille...|Easy Tropical Bee...|                   [0.47590991854667...|                    [0.49401834607124...|\n",
      "|000075604a|2 Chicken thighs....|Pierce the skin o...|Kombu Tea Grilled...|                   [0.27038058638572...|                    [0.40984433889389...|\n",
      "|00007bfd16|6 -8 cups fresh r...|Put ingredients i...|Strawberry Rhubar...|                   [0.37211418151855...|                    [0.39697343111038...|\n",
      "|000095fc1d|8 ounces, weight ...|Layer all ingredi...|     Yogurt Parfaits|                   [0.45405924320220...|                    [0.63839465379714...|\n",
      "|0000973574|2 cups flour. 1 t...|Sift dry ingredie...|  Zucchini Nut Bread|                   [0.42598998546600...|                    [0.61735051870346...|\n",
      "|0000a4bcf6|1/2 cup green oni...|Chop green onions...|Salmon & Salad a ...|                   [0.40515291690826...|                    [0.39698225259780...|\n",
      "|0000b1e2b5|1 teaspoon fennel...|Preheat oven to 3...|Fennel-Rubbed Por...|                   [0.48098224401474...|                    [0.38966521620750...|\n",
      "|0000c79afb|1 (750 ml) bottle...|In a pitcher, com...|        Pink Sangria|                   [0.46337041258811...|                    [0.56254243850708...|\n",
      "|0000ed95f8|14 cup butter. 34...|Cream butter, sug...|      Pineapple Loaf|                   [0.31774085760116...|                    [0.48844048380851...|\n",
      "|00010379bf|200 grams Cake fl...|In a bowl, mix fl...|Brown Sugar 'Kari...|                   [0.28160929679870...|                    [0.49766618013381...|\n",
      "|000106ec3c|1 can tomato sauc...|Fry hamburger and...|      Corn Casserole|                   [0.34935885667800...|                    [0.65565985441207...|\n",
      "|00010c7867|1 12 lbs ground b...|Combine beef, oat...|Grandmommy's Mexi...|                   [0.31424215435981...|                    [0.46563127636909...|\n",
      "|00010d44c7|1 (10 ounce) pack...|Mix all ingredien...|  Broccoli Rice Bake|                   [0.39207059144973...|                    [0.41302716732025...|\n",
      "|00011e0b2c|1/2 cup A.1. Clas...|Pour marinade ove...|Steak & Asparagus...|                   [0.34867176413536...|                    [0.59106040000915...|\n",
      "|00011fc1f9|1 cup lentils. 12...|Saute the onions,...|Lentils Vegetable...|                   [0.36389616131782...|                    [0.48283424973487...|\n",
      "+----------+--------------------+--------------------+--------------------+---------------------------------------+----------------------------------------+\n",
      "only showing top 20 rows\n",
      "\n"
     ]
    }
   ],
   "source": [
    "transformed_df.show()"
   ]
  },
  {
   "cell_type": "code",
   "execution_count": 34,
   "id": "instrumental-movie",
   "metadata": {},
   "outputs": [
    {
     "data": {
      "text/plain": [
       "pyspark.ml.linalg.DenseVector"
      ]
     },
     "execution_count": 34,
     "metadata": {},
     "output_type": "execute_result"
    }
   ],
   "source": [
    "# Demonstrate the type here is a Dense vector as desired\n",
    "type(transformed_df.collect()[0]['ingredients_sentence_embeddings_vectors'])"
   ]
  },
  {
   "cell_type": "markdown",
   "id": "worse-fields",
   "metadata": {},
   "source": [
    "## K-Means"
   ]
  },
  {
   "cell_type": "markdown",
   "id": "periodic-exchange",
   "metadata": {},
   "source": [
    "To select the best number of clusters for k-means. I will se the Silhouette Score.\n",
    "\n",
    "**Learning Point:** K-Means Silhouette Score\n",
    "- Visualize to create the number of clusters\n",
    "\n",
    "Resources:\n",
    "- https://towardsdatascience.com/k-means-clustering-using-pyspark-on-big-data-6214beacdc8b\n",
    "- https://rsandstroem.github.io/sparkkmeans.html"
   ]
  },
  {
   "cell_type": "markdown",
   "id": "facial-intensity",
   "metadata": {},
   "source": [
    "### Find the number of clusters"
   ]
  },
  {
   "cell_type": "code",
   "execution_count": 35,
   "id": "russian-howard",
   "metadata": {},
   "outputs": [],
   "source": [
    "def calculate_silhoutte_scores(df, column_name, max_number_of_clusters, ):\n",
    "    df = df.withColumnRenamed(column_name + \"_sentence_embeddings_vectors\", \"features\")\n",
    "    \n",
    "    silhouette_scores=[]\n",
    "    evaluator = ClusteringEvaluator()\n",
    "\n",
    "    for i in range(2, max_number_of_clusters):\n",
    "        kmeans = KMeans().setK(i).setSeed(1)\n",
    "        kmeans_model = kmeans.fit(df)\n",
    "        predictions = kmeans_model.transform(df)\n",
    "        silhouette = evaluator.evaluate(predictions)\n",
    "        silhouette_scores.append(silhouette)\n",
    "        \n",
    "    max_silhouette = max(silhouette_scores)\n",
    "    print('[IDEAL CLUSTER ]', silhouette_scores.index(max_silhouette) + 2)\n",
    "    return silhouette_scores"
   ]
  },
  {
   "cell_type": "code",
   "execution_count": 36,
   "id": "empty-infrared",
   "metadata": {},
   "outputs": [],
   "source": [
    "def display_silhoutte_scores(silhouette_scores, max_number_of_clusters):\n",
    "    fig, ax = plt.subplots(1,1, figsize =(8,6))\n",
    "    ax.plot(range(2,10),silhouette_scores)\n",
    "    ax.set_xlabel('k')\n",
    "    ax.set_ylabel('cost')"
   ]
  },
  {
   "cell_type": "markdown",
   "id": "stainless-hamilton",
   "metadata": {},
   "source": [
    "Number of \"ideal\" clusters for Ingredients"
   ]
  },
  {
   "cell_type": "code",
   "execution_count": 37,
   "id": "apart-kansas",
   "metadata": {},
   "outputs": [],
   "source": [
    "# max_number_of_clusters = 10\n",
    "# silhouette_scores = calculate_silhoutte_scores(ingredients_df, max_number_of_clusters)"
   ]
  },
  {
   "cell_type": "code",
   "execution_count": 38,
   "id": "directed-layout",
   "metadata": {},
   "outputs": [],
   "source": [
    "# display_silhoutte_scores(silhouette_scores, max_number_of_clusters)"
   ]
  },
  {
   "cell_type": "markdown",
   "id": "compound-depth",
   "metadata": {},
   "source": [
    "Number of \"ideal\" clusters for Instructions"
   ]
  },
  {
   "cell_type": "code",
   "execution_count": 39,
   "id": "increasing-reliance",
   "metadata": {},
   "outputs": [],
   "source": [
    "# max_number_of_clusters = 10\n",
    "# silhouette_scores = calculate_silhoutte_scores(instructions_df, max_number_of_clusters)"
   ]
  },
  {
   "cell_type": "code",
   "execution_count": 40,
   "id": "dirty-straight",
   "metadata": {},
   "outputs": [],
   "source": [
    "# display_silhoutte_scores(silhouette_scores, max_number_of_clusters)"
   ]
  },
  {
   "cell_type": "markdown",
   "id": "grave-accused",
   "metadata": {},
   "source": [
    "### Create the clusters based on instruction features"
   ]
  },
  {
   "cell_type": "code",
   "execution_count": 41,
   "id": "sharp-senior",
   "metadata": {},
   "outputs": [],
   "source": [
    "def create_clusters(df, column_name, number_of_clusters):\n",
    "    df = df.withColumnRenamed(column_name + \"_sentence_embeddings_vectors\", \"features\")\n",
    "    \n",
    "    kmeans = KMeans().setK(number_of_clusters).setSeed(1)\n",
    "    kmeans_model = kmeans.fit(df)\n",
    "\n",
    "    # Make predictions\n",
    "    transformed = kmeans_model.transform(df).select('id', 'prediction')\n",
    "\n",
    "    # Evaluate clustering by computing Silhouette score\n",
    "    evaluator = ClusteringEvaluator()\n",
    "    \n",
    "    rows = transformed.collect()\n",
    "    \n",
    "    df_pred = spark.createDataFrame(rows)\n",
    "    \n",
    "    df = df.withColumnRenamed(\"features\", column_name + \"_sentence_embeddings_vectors\")\n",
    "    \n",
    "    return df_pred.join(df, 'id')"
   ]
  },
  {
   "cell_type": "code",
   "execution_count": 42,
   "id": "devoted-wilson",
   "metadata": {},
   "outputs": [],
   "source": [
    "number_of_clusters = 5\n",
    "column_name = \"instructions\"\n",
    "predicted_df = create_clusters(transformed_df, column_name, number_of_clusters)"
   ]
  },
  {
   "cell_type": "code",
   "execution_count": 43,
   "id": "smaller-exhibition",
   "metadata": {},
   "outputs": [
    {
     "name": "stdout",
     "output_type": "stream",
     "text": [
      "+----------+----------+--------------------+--------------------+--------------------+---------------------------------------+----------------------------------------+\n",
      "|        id|prediction|         ingredients|        instructions|               title|ingredients_sentence_embeddings_vectors|instructions_sentence_embeddings_vectors|\n",
      "+----------+----------+--------------------+--------------------+--------------------+---------------------------------------+----------------------------------------+\n",
      "|00011fc1f9|         1|1 cup lentils. 12...|Saute the onions,...|Lentils Vegetable...|                   [0.36389616131782...|                    [0.48283424973487...|\n",
      "|00004320bb|         0|1 (3 ounce) packa...|Dissolve Jello in...|Cool 'n Easy Crea...|                   [0.46526822447776...|                    [0.55120623111724...|\n",
      "|000033e39b|         3|1 c. elbow macaro...|Cook macaroni acc...|Dilly Macaroni Sa...|                   [0.37298026680946...|                    [0.51140123605728...|\n",
      "|00050db874|         1|34 cup peanut but...|In a large bowl, ...| Peanut Butter Bread|                   [0.25108271837234...|                    [0.58366048336029...|\n",
      "|000368efd3|         1|2 eggs, scrambled...|COOK the eggs ove...|Cheesy Herbed Egg...|                   [0.32029792666435...|                    [0.66683596372604...|\n",
      "|00033f624d|         1|1/4 cup butter. 1...|preheat oven to 1...|Amy's Cheesey , B...|                   [0.49439576268196...|                    [0.53619104623794...|\n",
      "|00010379bf|         1|200 grams Cake fl...|In a bowl, mix fl...|Brown Sugar 'Kari...|                   [0.28160929679870...|                    [0.49766618013381...|\n",
      "|0002491373|         4|nonstick cooking ...|Preheat oven to 4...|    Tex-Mex Caponata|                   [0.45599916577339...|                    [0.59755605459213...|\n",
      "|00052b48d3|         3|3 cups cooked bro...|Brown the meat in...|         Revoltillos|                   [0.31432643532752...|                    [0.70446658134460...|\n",
      "|00010c7867|         3|1 12 lbs ground b...|Combine beef, oat...|Grandmommy's Mexi...|                   [0.31424215435981...|                    [0.46563127636909...|\n",
      "|00029df38f|         1|1 egg white, room...|Preheat oven to 3...|      Praline Kisses|                   [0.44035866856575...|                    [0.44818520545959...|\n",
      "|000535f6ea|         3|12 chopped sweet ...|Place the cut fru...|Wonderful and Goo...|                   [0.47991812229156...|                    [0.56523013114929...|\n",
      "|0004dbbc43|         3|2 tablespoons oli...|Heat oil in heavy...|Crab Salad with E...|                   [0.39791613817214...|                    [0.49543440341949...|\n",
      "|0006556e29|         3|1 lb bacon, cooke...|Saute chopped gar...|Green Bean Casser...|                   [0.42092370986938...|                    [0.50144761800765...|\n",
      "|0001cba765|         1|3 ounces orange j...|Combine the orang...|    Margarita Madras|                   [0.26264858245849...|                    [0.47692489624023...|\n",
      "|0000a4bcf6|         4|1/2 cup green oni...|Chop green onions...|Salmon & Salad a ...|                   [0.40515291690826...|                    [0.39698225259780...|\n",
      "|000075604a|         4|2 Chicken thighs....|Pierce the skin o...|Kombu Tea Grilled...|                   [0.27038058638572...|                    [0.40984433889389...|\n",
      "|0001d81db6|         0|2 ripe avocados. ...|Mix above ingredi...|           Guacamole|                   [0.48554530739784...|                    [0.58493417501449...|\n",
      "|0004c0a2a8|         0|1 lb leftover cho...|In a bowl, combin...|Hot Corned Beef Buns|                   [0.42867171764373...|                    [0.39743590354919...|\n",
      "|000566f1e0|         1|1-1/4 gal. popped...|Spread popped cor...|Grandma's Caramel...|                   [0.47426775097846...|                    [0.54757672548294...|\n",
      "+----------+----------+--------------------+--------------------+--------------------+---------------------------------------+----------------------------------------+\n",
      "only showing top 20 rows\n",
      "\n"
     ]
    }
   ],
   "source": [
    "predicted_df.show()"
   ]
  },
  {
   "cell_type": "markdown",
   "id": "demanding-snowboard",
   "metadata": {},
   "source": [
    "## PCA"
   ]
  },
  {
   "cell_type": "markdown",
   "id": "brave-young",
   "metadata": {},
   "source": [
    "Now we will take our vectors for ingredients and instructions and reduce them to two dimensions for visualizations. To reduce, we will use Pysparks ml PCA and then we will split the features into separate columns.\n",
    "\n",
    "Goals:\n",
    "- reduce vectors to 2-D\n",
    "- split 2-D to two columns"
   ]
  },
  {
   "cell_type": "markdown",
   "id": "engaging-privilege",
   "metadata": {},
   "source": [
    "**Learning Point:** Pyspark mlib is incompatible with ml\n",
    "- ml library is designed for DataFrame-Objects\n",
    "- mllib library is for RDD-objects\n",
    "- pay attention where you import from\n",
    "\n",
    "Resources:\n",
    "- https://stackoverflow.com/questions/41074182/cannot-convert-type-class-pyspark-ml-linalg-sparsevector-into-vector\n",
    "- MLB PCA: https://spark.apache.org/docs/latest/mllib-dimensionality-reduction#principal-component-analysis-pca uses mlibml pc\n",
    "- \n",
    "ML PCA: https://spark.apache.org/docs/1.5.1/ml-features.html#pca"
   ]
  },
  {
   "cell_type": "code",
   "execution_count": 44,
   "id": "dressed-chamber",
   "metadata": {},
   "outputs": [],
   "source": [
    " def pca_dimentionality_reduction(df, column_name, number_of_dimensions):\n",
    "    pca = PCA(k=number_of_dimensions,\n",
    "              inputCol=column_name + \"_sentence_embeddings_vectors\",\n",
    "              outputCol=column_name + \"_pca_features\")\n",
    "    pca_model = pca.fit(df)\n",
    "    return pca_model.transform(df).select(\"id\", \"prediction\", \"title\", \n",
    "                                          \"ingredients\", \"instructions\",\n",
    "                                         column_name + \"_pca_features\")"
   ]
  },
  {
   "cell_type": "code",
   "execution_count": 45,
   "id": "sufficient-coffee",
   "metadata": {},
   "outputs": [],
   "source": [
    "def split_pca_features(df, column_name, number_of_dimensions):\n",
    "    return df.withColumn(\"dim\", vector_to_array(column_name + \"_pca_features\")).select([\"id\"] + [\"prediction\"] + \n",
    "                                                                                           [\"title\"] + [\"ingredients\"] + \n",
    "                                                                                           [\"instructions\"] + \n",
    "                                                                                           [col(\"dim\")[i] for i in range(2)])"
   ]
  },
  {
   "cell_type": "markdown",
   "id": "informal-zoning",
   "metadata": {},
   "source": [
    "### PCA on Ingredients Features"
   ]
  },
  {
   "cell_type": "code",
   "execution_count": 46,
   "id": "enhanced-validity",
   "metadata": {},
   "outputs": [],
   "source": [
    "column_name = \"ingredients\"\n",
    "number_of_dimensions = 2\n",
    "reduced_ingredients_df = pca_dimentionality_reduction(predicted_df, column_name, number_of_dimensions)\n",
    "reduced_ingredients_df = split_pca_features(reduced_ingredients_df, column_name, number_of_dimensions)"
   ]
  },
  {
   "cell_type": "code",
   "execution_count": 47,
   "id": "historical-crisis",
   "metadata": {},
   "outputs": [
    {
     "name": "stdout",
     "output_type": "stream",
     "text": [
      "+----------+----------+--------------------+--------------------+--------------------+--------------------+--------------------+\n",
      "|        id|prediction|               title|         ingredients|        instructions|              dim[0]|              dim[1]|\n",
      "+----------+----------+--------------------+--------------------+--------------------+--------------------+--------------------+\n",
      "|00011fc1f9|         1|Lentils Vegetable...|1 cup lentils. 12...|Saute the onions,...| -1.5658635956364213|  -1.753411199120299|\n",
      "|00004320bb|         0|Cool 'n Easy Crea...|1 (3 ounce) packa...|Dissolve Jello in...| -1.0292415508838946| 0.11491375932398373|\n",
      "|000033e39b|         3|Dilly Macaroni Sa...|1 c. elbow macaro...|Cook macaroni acc...| -0.6938908218629017| 0.20321849206833065|\n",
      "|00050db874|         1| Peanut Butter Bread|34 cup peanut but...|In a large bowl, ...| -3.5653463062817417|  -1.075541862002314|\n",
      "|000368efd3|         1|Cheesy Herbed Egg...|2 eggs, scrambled...|COOK the eggs ove...| -0.6741251393958528| -0.4367034942211523|\n",
      "|00033f624d|         1|Amy's Cheesey , B...|1/4 cup butter. 1...|preheat oven to 1...| -0.9005175688029008|-0.32023749330236645|\n",
      "|00010379bf|         1|Brown Sugar 'Kari...|200 grams Cake fl...|In a bowl, mix fl...| -1.3607978530125284|  0.5233787958325818|\n",
      "|0002491373|         4|    Tex-Mex Caponata|nonstick cooking ...|Preheat oven to 4...| -0.8811579354276373|  -2.000861843796879|\n",
      "|00052b48d3|         3|         Revoltillos|3 cups cooked bro...|Brown the meat in...|-0.05474487516476371| -1.3606814368324096|\n",
      "|00010c7867|         3|Grandmommy's Mexi...|1 12 lbs ground b...|Combine beef, oat...| -1.5309009627948311|  -1.342773017937521|\n",
      "|00029df38f|         1|      Praline Kisses|1 egg white, room...|Preheat oven to 3...| -2.8620212794017212| -1.2499052307315528|\n",
      "|000535f6ea|         3|Wonderful and Goo...|12 chopped sweet ...|Place the cut fru...| -1.7973626263681814|  -1.660349443500529|\n",
      "|0004dbbc43|         3|Crab Salad with E...|2 tablespoons oli...|Heat oil in heavy...| -0.9971259687213888|  -1.158974507718589|\n",
      "|0006556e29|         3|Green Bean Casser...|1 lb bacon, cooke...|Saute chopped gar...| -0.8601519669499265| -1.3432434956663046|\n",
      "|0001cba765|         1|    Margarita Madras|3 ounces orange j...|Combine the orang...| -0.3005749511881546|0.015091492664504763|\n",
      "|0000a4bcf6|         4|Salmon & Salad a ...|1/2 cup green oni...|Chop green onions...|  -1.133926428756267| -0.7572080500081287|\n",
      "|000075604a|         4|Kombu Tea Grilled...|2 Chicken thighs....|Pierce the skin o...| -0.8911408906058543| 0.07602063932626785|\n",
      "|0001d81db6|         0|           Guacamole|2 ripe avocados. ...|Mix above ingredi...|  -0.536092805363522| -1.2982331636811173|\n",
      "|0004c0a2a8|         0|Hot Corned Beef Buns|1 lb leftover cho...|In a bowl, combin...| -1.3799942682359394| -1.8942260096851473|\n",
      "|000566f1e0|         1|Grandma's Caramel...|1-1/4 gal. popped...|Spread popped cor...|  -2.625923261030039|  0.7975407653155618|\n",
      "+----------+----------+--------------------+--------------------+--------------------+--------------------+--------------------+\n",
      "only showing top 20 rows\n",
      "\n"
     ]
    }
   ],
   "source": [
    "reduced_ingredients_df.show()"
   ]
  },
  {
   "cell_type": "markdown",
   "id": "ordinary-tunnel",
   "metadata": {},
   "source": [
    "### PCA on Instruction Features"
   ]
  },
  {
   "cell_type": "code",
   "execution_count": 48,
   "id": "forward-suspension",
   "metadata": {},
   "outputs": [],
   "source": [
    "column_name = \"instructions\"\n",
    "number_of_dimensions = 2\n",
    "reduced_instructions_df = pca_dimentionality_reduction(predicted_df, column_name, number_of_dimensions)\n",
    "reduced_instructions_df = split_pca_features(reduced_instructions_df, column_name, number_of_dimensions)"
   ]
  },
  {
   "cell_type": "code",
   "execution_count": 49,
   "id": "split-australian",
   "metadata": {},
   "outputs": [
    {
     "name": "stdout",
     "output_type": "stream",
     "text": [
      "+----------+----------+--------------------+--------------------+--------------------+--------------------+-------------------+\n",
      "|        id|prediction|               title|         ingredients|        instructions|              dim[0]|             dim[1]|\n",
      "+----------+----------+--------------------+--------------------+--------------------+--------------------+-------------------+\n",
      "|00011fc1f9|         1|Lentils Vegetable...|1 cup lentils. 12...|Saute the onions,...| -1.2722409938104375| -3.342701242340617|\n",
      "|00004320bb|         0|Cool 'n Easy Crea...|1 (3 ounce) packa...|Dissolve Jello in...|   1.040194973565729|-2.6965306736431547|\n",
      "|000033e39b|         3|Dilly Macaroni Sa...|1 c. elbow macaro...|Cook macaroni acc...| 0.25938181098541246|-3.7679415654076873|\n",
      "|00050db874|         1| Peanut Butter Bread|34 cup peanut but...|In a large bowl, ...| -0.6284153726924759|-3.1889812019712473|\n",
      "|000368efd3|         1|Cheesy Herbed Egg...|2 eggs, scrambled...|COOK the eggs ove...|-0.24728522243161705|-3.7735428163194307|\n",
      "|00033f624d|         1|Amy's Cheesey , B...|1/4 cup butter. 1...|preheat oven to 1...| -0.6170302403339855|  -3.18399335067643|\n",
      "|00010379bf|         1|Brown Sugar 'Kari...|200 grams Cake fl...|In a bowl, mix fl...| -0.5585851172140643| -2.007921222415212|\n",
      "|0002491373|         4|    Tex-Mex Caponata|nonstick cooking ...|Preheat oven to 4...|-0.12485811110695322|-1.8559047223091834|\n",
      "|00052b48d3|         3|         Revoltillos|3 cups cooked bro...|Brown the meat in...| -0.3728768047182933| -4.137261185949932|\n",
      "|00010c7867|         3|Grandmommy's Mexi...|1 12 lbs ground b...|Combine beef, oat...|-0.35302828387348073| -4.011327714404287|\n",
      "|00029df38f|         1|      Praline Kisses|1 egg white, room...|Preheat oven to 3...| 0.04608943844748014|  -2.29960006077649|\n",
      "|000535f6ea|         3|Wonderful and Goo...|12 chopped sweet ...|Place the cut fru...| 0.29030789588802064| -5.047117424446231|\n",
      "|0004dbbc43|         3|Crab Salad with E...|2 tablespoons oli...|Heat oil in heavy...|-0.10153283570243227|-3.3481502621845816|\n",
      "|0006556e29|         3|Green Bean Casser...|1 lb bacon, cooke...|Saute chopped gar...| -0.7696506630745388|-3.4406355080645694|\n",
      "|0001cba765|         1|    Margarita Madras|3 ounces orange j...|Combine the orang...|-0.13320713891249814| -2.862889356234189|\n",
      "|0000a4bcf6|         4|Salmon & Salad a ...|1/2 cup green oni...|Chop green onions...| -0.1791761225120206|-2.2288940365426493|\n",
      "|000075604a|         4|Kombu Tea Grilled...|2 Chicken thighs....|Pierce the skin o...|  -0.167033952951614| -1.418656987484941|\n",
      "|0001d81db6|         0|           Guacamole|2 ripe avocados. ...|Mix above ingredi...|  3.4618734642287783|  -2.72505488984549|\n",
      "|0004c0a2a8|         0|Hot Corned Beef Buns|1 lb leftover cho...|In a bowl, combin...|  0.2617430951543911|-2.9351829141028802|\n",
      "|000566f1e0|         1|Grandma's Caramel...|1-1/4 gal. popped...|Spread popped cor...|-0.15171693533410924| -3.329743510051701|\n",
      "+----------+----------+--------------------+--------------------+--------------------+--------------------+-------------------+\n",
      "only showing top 20 rows\n",
      "\n"
     ]
    }
   ],
   "source": [
    "reduced_instructions_df.show()"
   ]
  },
  {
   "cell_type": "markdown",
   "id": "technical-elevation",
   "metadata": {},
   "source": [
    "# Visualize Ingredient Predictions"
   ]
  },
  {
   "cell_type": "code",
   "execution_count": 50,
   "id": "robust-color",
   "metadata": {},
   "outputs": [],
   "source": [
    "def visualize_reduced_clusters(df):\n",
    "    output_notebook()\n",
    "    df = df.toPandas().set_index('id')\n",
    "    prediction = [str(x) for x in df[\"prediction\"]]\n",
    "\n",
    "    source = ColumnDataSource(dict(\n",
    "        x=df[\"dim[0]\"], \n",
    "        y=df[\"dim[1]\"],\n",
    "        titles=df[\"title\"],\n",
    "        label=prediction,\n",
    "    ))\n",
    "\n",
    "\n",
    "    predictions_set = list(set(prediction))\n",
    "\n",
    "    palette = d3['Category10'][len(predictions_set)]\n",
    "\n",
    "    color_map = CategoricalColorMapper(factors=predictions_set,\n",
    "                                       palette=palette)\n",
    "\n",
    "    TOOLTIPS = [\n",
    "        ('name', \"@titles\"),\n",
    "    ]\n",
    "\n",
    "    p = figure(plot_width=800, plot_height=800, tools='hover', tooltips=TOOLTIPS)\n",
    "    p.circle(x='x', \n",
    "             y='y',\n",
    "             source=source,\n",
    "             size=20,\n",
    "             color={'field': 'label', 'transform': color_map},\n",
    "             alpha=0.5)\n",
    "#     hover = p.select(dict(type=HoverTool))\n",
    "    show(p)"
   ]
  },
  {
   "cell_type": "code",
   "execution_count": 51,
   "id": "failing-afghanistan",
   "metadata": {},
   "outputs": [
    {
     "data": {
      "text/html": [
       "\n",
       "    <div class=\"bk-root\">\n",
       "        <a href=\"https://bokeh.org\" target=\"_blank\" class=\"bk-logo bk-logo-small bk-logo-notebook\"></a>\n",
       "        <span id=\"1002\">Loading BokehJS ...</span>\n",
       "    </div>"
      ]
     },
     "metadata": {},
     "output_type": "display_data"
    },
    {
     "data": {
      "application/javascript": [
       "\n",
       "(function(root) {\n",
       "  function now() {\n",
       "    return new Date();\n",
       "  }\n",
       "\n",
       "  var force = true;\n",
       "\n",
       "  if (typeof root._bokeh_onload_callbacks === \"undefined\" || force === true) {\n",
       "    root._bokeh_onload_callbacks = [];\n",
       "    root._bokeh_is_loading = undefined;\n",
       "  }\n",
       "\n",
       "  var JS_MIME_TYPE = 'application/javascript';\n",
       "  var HTML_MIME_TYPE = 'text/html';\n",
       "  var EXEC_MIME_TYPE = 'application/vnd.bokehjs_exec.v0+json';\n",
       "  var CLASS_NAME = 'output_bokeh rendered_html';\n",
       "\n",
       "  /**\n",
       "   * Render data to the DOM node\n",
       "   */\n",
       "  function render(props, node) {\n",
       "    var script = document.createElement(\"script\");\n",
       "    node.appendChild(script);\n",
       "  }\n",
       "\n",
       "  /**\n",
       "   * Handle when an output is cleared or removed\n",
       "   */\n",
       "  function handleClearOutput(event, handle) {\n",
       "    var cell = handle.cell;\n",
       "\n",
       "    var id = cell.output_area._bokeh_element_id;\n",
       "    var server_id = cell.output_area._bokeh_server_id;\n",
       "    // Clean up Bokeh references\n",
       "    if (id != null && id in Bokeh.index) {\n",
       "      Bokeh.index[id].model.document.clear();\n",
       "      delete Bokeh.index[id];\n",
       "    }\n",
       "\n",
       "    if (server_id !== undefined) {\n",
       "      // Clean up Bokeh references\n",
       "      var cmd = \"from bokeh.io.state import curstate; print(curstate().uuid_to_server['\" + server_id + \"'].get_sessions()[0].document.roots[0]._id)\";\n",
       "      cell.notebook.kernel.execute(cmd, {\n",
       "        iopub: {\n",
       "          output: function(msg) {\n",
       "            var id = msg.content.text.trim();\n",
       "            if (id in Bokeh.index) {\n",
       "              Bokeh.index[id].model.document.clear();\n",
       "              delete Bokeh.index[id];\n",
       "            }\n",
       "          }\n",
       "        }\n",
       "      });\n",
       "      // Destroy server and session\n",
       "      var cmd = \"import bokeh.io.notebook as ion; ion.destroy_server('\" + server_id + \"')\";\n",
       "      cell.notebook.kernel.execute(cmd);\n",
       "    }\n",
       "  }\n",
       "\n",
       "  /**\n",
       "   * Handle when a new output is added\n",
       "   */\n",
       "  function handleAddOutput(event, handle) {\n",
       "    var output_area = handle.output_area;\n",
       "    var output = handle.output;\n",
       "\n",
       "    // limit handleAddOutput to display_data with EXEC_MIME_TYPE content only\n",
       "    if ((output.output_type != \"display_data\") || (!Object.prototype.hasOwnProperty.call(output.data, EXEC_MIME_TYPE))) {\n",
       "      return\n",
       "    }\n",
       "\n",
       "    var toinsert = output_area.element.find(\".\" + CLASS_NAME.split(' ')[0]);\n",
       "\n",
       "    if (output.metadata[EXEC_MIME_TYPE][\"id\"] !== undefined) {\n",
       "      toinsert[toinsert.length - 1].firstChild.textContent = output.data[JS_MIME_TYPE];\n",
       "      // store reference to embed id on output_area\n",
       "      output_area._bokeh_element_id = output.metadata[EXEC_MIME_TYPE][\"id\"];\n",
       "    }\n",
       "    if (output.metadata[EXEC_MIME_TYPE][\"server_id\"] !== undefined) {\n",
       "      var bk_div = document.createElement(\"div\");\n",
       "      bk_div.innerHTML = output.data[HTML_MIME_TYPE];\n",
       "      var script_attrs = bk_div.children[0].attributes;\n",
       "      for (var i = 0; i < script_attrs.length; i++) {\n",
       "        toinsert[toinsert.length - 1].firstChild.setAttribute(script_attrs[i].name, script_attrs[i].value);\n",
       "        toinsert[toinsert.length - 1].firstChild.textContent = bk_div.children[0].textContent\n",
       "      }\n",
       "      // store reference to server id on output_area\n",
       "      output_area._bokeh_server_id = output.metadata[EXEC_MIME_TYPE][\"server_id\"];\n",
       "    }\n",
       "  }\n",
       "\n",
       "  function register_renderer(events, OutputArea) {\n",
       "\n",
       "    function append_mime(data, metadata, element) {\n",
       "      // create a DOM node to render to\n",
       "      var toinsert = this.create_output_subarea(\n",
       "        metadata,\n",
       "        CLASS_NAME,\n",
       "        EXEC_MIME_TYPE\n",
       "      );\n",
       "      this.keyboard_manager.register_events(toinsert);\n",
       "      // Render to node\n",
       "      var props = {data: data, metadata: metadata[EXEC_MIME_TYPE]};\n",
       "      render(props, toinsert[toinsert.length - 1]);\n",
       "      element.append(toinsert);\n",
       "      return toinsert\n",
       "    }\n",
       "\n",
       "    /* Handle when an output is cleared or removed */\n",
       "    events.on('clear_output.CodeCell', handleClearOutput);\n",
       "    events.on('delete.Cell', handleClearOutput);\n",
       "\n",
       "    /* Handle when a new output is added */\n",
       "    events.on('output_added.OutputArea', handleAddOutput);\n",
       "\n",
       "    /**\n",
       "     * Register the mime type and append_mime function with output_area\n",
       "     */\n",
       "    OutputArea.prototype.register_mime_type(EXEC_MIME_TYPE, append_mime, {\n",
       "      /* Is output safe? */\n",
       "      safe: true,\n",
       "      /* Index of renderer in `output_area.display_order` */\n",
       "      index: 0\n",
       "    });\n",
       "  }\n",
       "\n",
       "  // register the mime type if in Jupyter Notebook environment and previously unregistered\n",
       "  if (root.Jupyter !== undefined) {\n",
       "    var events = require('base/js/events');\n",
       "    var OutputArea = require('notebook/js/outputarea').OutputArea;\n",
       "\n",
       "    if (OutputArea.prototype.mime_types().indexOf(EXEC_MIME_TYPE) == -1) {\n",
       "      register_renderer(events, OutputArea);\n",
       "    }\n",
       "  }\n",
       "\n",
       "  \n",
       "  if (typeof (root._bokeh_timeout) === \"undefined\" || force === true) {\n",
       "    root._bokeh_timeout = Date.now() + 5000;\n",
       "    root._bokeh_failed_load = false;\n",
       "  }\n",
       "\n",
       "  var NB_LOAD_WARNING = {'data': {'text/html':\n",
       "     \"<div style='background-color: #fdd'>\\n\"+\n",
       "     \"<p>\\n\"+\n",
       "     \"BokehJS does not appear to have successfully loaded. If loading BokehJS from CDN, this \\n\"+\n",
       "     \"may be due to a slow or bad network connection. Possible fixes:\\n\"+\n",
       "     \"</p>\\n\"+\n",
       "     \"<ul>\\n\"+\n",
       "     \"<li>re-rerun `output_notebook()` to attempt to load from CDN again, or</li>\\n\"+\n",
       "     \"<li>use INLINE resources instead, as so:</li>\\n\"+\n",
       "     \"</ul>\\n\"+\n",
       "     \"<code>\\n\"+\n",
       "     \"from bokeh.resources import INLINE\\n\"+\n",
       "     \"output_notebook(resources=INLINE)\\n\"+\n",
       "     \"</code>\\n\"+\n",
       "     \"</div>\"}};\n",
       "\n",
       "  function display_loaded() {\n",
       "    var el = document.getElementById(\"1002\");\n",
       "    if (el != null) {\n",
       "      el.textContent = \"BokehJS is loading...\";\n",
       "    }\n",
       "    if (root.Bokeh !== undefined) {\n",
       "      if (el != null) {\n",
       "        el.textContent = \"BokehJS \" + root.Bokeh.version + \" successfully loaded.\";\n",
       "      }\n",
       "    } else if (Date.now() < root._bokeh_timeout) {\n",
       "      setTimeout(display_loaded, 100)\n",
       "    }\n",
       "  }\n",
       "\n",
       "\n",
       "  function run_callbacks() {\n",
       "    try {\n",
       "      root._bokeh_onload_callbacks.forEach(function(callback) {\n",
       "        if (callback != null)\n",
       "          callback();\n",
       "      });\n",
       "    } finally {\n",
       "      delete root._bokeh_onload_callbacks\n",
       "    }\n",
       "    console.debug(\"Bokeh: all callbacks have finished\");\n",
       "  }\n",
       "\n",
       "  function load_libs(css_urls, js_urls, callback) {\n",
       "    if (css_urls == null) css_urls = [];\n",
       "    if (js_urls == null) js_urls = [];\n",
       "\n",
       "    root._bokeh_onload_callbacks.push(callback);\n",
       "    if (root._bokeh_is_loading > 0) {\n",
       "      console.debug(\"Bokeh: BokehJS is being loaded, scheduling callback at\", now());\n",
       "      return null;\n",
       "    }\n",
       "    if (js_urls == null || js_urls.length === 0) {\n",
       "      run_callbacks();\n",
       "      return null;\n",
       "    }\n",
       "    console.debug(\"Bokeh: BokehJS not loaded, scheduling load and callback at\", now());\n",
       "    root._bokeh_is_loading = css_urls.length + js_urls.length;\n",
       "\n",
       "    function on_load() {\n",
       "      root._bokeh_is_loading--;\n",
       "      if (root._bokeh_is_loading === 0) {\n",
       "        console.debug(\"Bokeh: all BokehJS libraries/stylesheets loaded\");\n",
       "        run_callbacks()\n",
       "      }\n",
       "    }\n",
       "\n",
       "    function on_error(url) {\n",
       "      console.error(\"failed to load \" + url);\n",
       "    }\n",
       "\n",
       "    for (let i = 0; i < css_urls.length; i++) {\n",
       "      const url = css_urls[i];\n",
       "      const element = document.createElement(\"link\");\n",
       "      element.onload = on_load;\n",
       "      element.onerror = on_error.bind(null, url);\n",
       "      element.rel = \"stylesheet\";\n",
       "      element.type = \"text/css\";\n",
       "      element.href = url;\n",
       "      console.debug(\"Bokeh: injecting link tag for BokehJS stylesheet: \", url);\n",
       "      document.body.appendChild(element);\n",
       "    }\n",
       "\n",
       "    const hashes = {\"https://cdn.bokeh.org/bokeh/release/bokeh-2.3.1.min.js\": \"YF85VygJKMVnHE+lLv2AM93Vbstr0yo2TbIu5v8se5Rq3UQAUmcuh4aaJwNlpKwa\", \"https://cdn.bokeh.org/bokeh/release/bokeh-widgets-2.3.1.min.js\": \"KKuas3gevv3PvrlkyCMzffFeaMq5we/a2QsP5AUoS3mJ0jmaCL7jirFJN3GoE/lM\", \"https://cdn.bokeh.org/bokeh/release/bokeh-tables-2.3.1.min.js\": \"MK/uFc3YT18pkvvXRl66tTHjP0/dxoSH2e/eiNMFIguKlun2+WVqaPTWmUy/zvh4\"};\n",
       "\n",
       "    for (let i = 0; i < js_urls.length; i++) {\n",
       "      const url = js_urls[i];\n",
       "      const element = document.createElement('script');\n",
       "      element.onload = on_load;\n",
       "      element.onerror = on_error.bind(null, url);\n",
       "      element.async = false;\n",
       "      element.src = url;\n",
       "      if (url in hashes) {\n",
       "        element.crossOrigin = \"anonymous\";\n",
       "        element.integrity = \"sha384-\" + hashes[url];\n",
       "      }\n",
       "      console.debug(\"Bokeh: injecting script tag for BokehJS library: \", url);\n",
       "      document.head.appendChild(element);\n",
       "    }\n",
       "  };\n",
       "\n",
       "  function inject_raw_css(css) {\n",
       "    const element = document.createElement(\"style\");\n",
       "    element.appendChild(document.createTextNode(css));\n",
       "    document.body.appendChild(element);\n",
       "  }\n",
       "\n",
       "  \n",
       "  var js_urls = [\"https://cdn.bokeh.org/bokeh/release/bokeh-2.3.1.min.js\", \"https://cdn.bokeh.org/bokeh/release/bokeh-widgets-2.3.1.min.js\", \"https://cdn.bokeh.org/bokeh/release/bokeh-tables-2.3.1.min.js\"];\n",
       "  var css_urls = [];\n",
       "  \n",
       "\n",
       "  var inline_js = [\n",
       "    function(Bokeh) {\n",
       "      Bokeh.set_log_level(\"info\");\n",
       "    },\n",
       "    function(Bokeh) {\n",
       "    \n",
       "    \n",
       "    }\n",
       "  ];\n",
       "\n",
       "  function run_inline_js() {\n",
       "    \n",
       "    if (root.Bokeh !== undefined || force === true) {\n",
       "      \n",
       "    for (var i = 0; i < inline_js.length; i++) {\n",
       "      inline_js[i].call(root, root.Bokeh);\n",
       "    }\n",
       "    if (force === true) {\n",
       "        display_loaded();\n",
       "      }} else if (Date.now() < root._bokeh_timeout) {\n",
       "      setTimeout(run_inline_js, 100);\n",
       "    } else if (!root._bokeh_failed_load) {\n",
       "      console.log(\"Bokeh: BokehJS failed to load within specified timeout.\");\n",
       "      root._bokeh_failed_load = true;\n",
       "    } else if (force !== true) {\n",
       "      var cell = $(document.getElementById(\"1002\")).parents('.cell').data().cell;\n",
       "      cell.output_area.append_execute_result(NB_LOAD_WARNING)\n",
       "    }\n",
       "\n",
       "  }\n",
       "\n",
       "  if (root._bokeh_is_loading === 0) {\n",
       "    console.debug(\"Bokeh: BokehJS loaded, going straight to plotting\");\n",
       "    run_inline_js();\n",
       "  } else {\n",
       "    load_libs(css_urls, js_urls, function() {\n",
       "      console.debug(\"Bokeh: BokehJS plotting callback run at\", now());\n",
       "      run_inline_js();\n",
       "    });\n",
       "  }\n",
       "}(window));"
      ],
      "application/vnd.bokehjs_load.v0+json": "\n(function(root) {\n  function now() {\n    return new Date();\n  }\n\n  var force = true;\n\n  if (typeof root._bokeh_onload_callbacks === \"undefined\" || force === true) {\n    root._bokeh_onload_callbacks = [];\n    root._bokeh_is_loading = undefined;\n  }\n\n  \n\n  \n  if (typeof (root._bokeh_timeout) === \"undefined\" || force === true) {\n    root._bokeh_timeout = Date.now() + 5000;\n    root._bokeh_failed_load = false;\n  }\n\n  var NB_LOAD_WARNING = {'data': {'text/html':\n     \"<div style='background-color: #fdd'>\\n\"+\n     \"<p>\\n\"+\n     \"BokehJS does not appear to have successfully loaded. If loading BokehJS from CDN, this \\n\"+\n     \"may be due to a slow or bad network connection. Possible fixes:\\n\"+\n     \"</p>\\n\"+\n     \"<ul>\\n\"+\n     \"<li>re-rerun `output_notebook()` to attempt to load from CDN again, or</li>\\n\"+\n     \"<li>use INLINE resources instead, as so:</li>\\n\"+\n     \"</ul>\\n\"+\n     \"<code>\\n\"+\n     \"from bokeh.resources import INLINE\\n\"+\n     \"output_notebook(resources=INLINE)\\n\"+\n     \"</code>\\n\"+\n     \"</div>\"}};\n\n  function display_loaded() {\n    var el = document.getElementById(\"1002\");\n    if (el != null) {\n      el.textContent = \"BokehJS is loading...\";\n    }\n    if (root.Bokeh !== undefined) {\n      if (el != null) {\n        el.textContent = \"BokehJS \" + root.Bokeh.version + \" successfully loaded.\";\n      }\n    } else if (Date.now() < root._bokeh_timeout) {\n      setTimeout(display_loaded, 100)\n    }\n  }\n\n\n  function run_callbacks() {\n    try {\n      root._bokeh_onload_callbacks.forEach(function(callback) {\n        if (callback != null)\n          callback();\n      });\n    } finally {\n      delete root._bokeh_onload_callbacks\n    }\n    console.debug(\"Bokeh: all callbacks have finished\");\n  }\n\n  function load_libs(css_urls, js_urls, callback) {\n    if (css_urls == null) css_urls = [];\n    if (js_urls == null) js_urls = [];\n\n    root._bokeh_onload_callbacks.push(callback);\n    if (root._bokeh_is_loading > 0) {\n      console.debug(\"Bokeh: BokehJS is being loaded, scheduling callback at\", now());\n      return null;\n    }\n    if (js_urls == null || js_urls.length === 0) {\n      run_callbacks();\n      return null;\n    }\n    console.debug(\"Bokeh: BokehJS not loaded, scheduling load and callback at\", now());\n    root._bokeh_is_loading = css_urls.length + js_urls.length;\n\n    function on_load() {\n      root._bokeh_is_loading--;\n      if (root._bokeh_is_loading === 0) {\n        console.debug(\"Bokeh: all BokehJS libraries/stylesheets loaded\");\n        run_callbacks()\n      }\n    }\n\n    function on_error(url) {\n      console.error(\"failed to load \" + url);\n    }\n\n    for (let i = 0; i < css_urls.length; i++) {\n      const url = css_urls[i];\n      const element = document.createElement(\"link\");\n      element.onload = on_load;\n      element.onerror = on_error.bind(null, url);\n      element.rel = \"stylesheet\";\n      element.type = \"text/css\";\n      element.href = url;\n      console.debug(\"Bokeh: injecting link tag for BokehJS stylesheet: \", url);\n      document.body.appendChild(element);\n    }\n\n    const hashes = {\"https://cdn.bokeh.org/bokeh/release/bokeh-2.3.1.min.js\": \"YF85VygJKMVnHE+lLv2AM93Vbstr0yo2TbIu5v8se5Rq3UQAUmcuh4aaJwNlpKwa\", \"https://cdn.bokeh.org/bokeh/release/bokeh-widgets-2.3.1.min.js\": \"KKuas3gevv3PvrlkyCMzffFeaMq5we/a2QsP5AUoS3mJ0jmaCL7jirFJN3GoE/lM\", \"https://cdn.bokeh.org/bokeh/release/bokeh-tables-2.3.1.min.js\": \"MK/uFc3YT18pkvvXRl66tTHjP0/dxoSH2e/eiNMFIguKlun2+WVqaPTWmUy/zvh4\"};\n\n    for (let i = 0; i < js_urls.length; i++) {\n      const url = js_urls[i];\n      const element = document.createElement('script');\n      element.onload = on_load;\n      element.onerror = on_error.bind(null, url);\n      element.async = false;\n      element.src = url;\n      if (url in hashes) {\n        element.crossOrigin = \"anonymous\";\n        element.integrity = \"sha384-\" + hashes[url];\n      }\n      console.debug(\"Bokeh: injecting script tag for BokehJS library: \", url);\n      document.head.appendChild(element);\n    }\n  };\n\n  function inject_raw_css(css) {\n    const element = document.createElement(\"style\");\n    element.appendChild(document.createTextNode(css));\n    document.body.appendChild(element);\n  }\n\n  \n  var js_urls = [\"https://cdn.bokeh.org/bokeh/release/bokeh-2.3.1.min.js\", \"https://cdn.bokeh.org/bokeh/release/bokeh-widgets-2.3.1.min.js\", \"https://cdn.bokeh.org/bokeh/release/bokeh-tables-2.3.1.min.js\"];\n  var css_urls = [];\n  \n\n  var inline_js = [\n    function(Bokeh) {\n      Bokeh.set_log_level(\"info\");\n    },\n    function(Bokeh) {\n    \n    \n    }\n  ];\n\n  function run_inline_js() {\n    \n    if (root.Bokeh !== undefined || force === true) {\n      \n    for (var i = 0; i < inline_js.length; i++) {\n      inline_js[i].call(root, root.Bokeh);\n    }\n    if (force === true) {\n        display_loaded();\n      }} else if (Date.now() < root._bokeh_timeout) {\n      setTimeout(run_inline_js, 100);\n    } else if (!root._bokeh_failed_load) {\n      console.log(\"Bokeh: BokehJS failed to load within specified timeout.\");\n      root._bokeh_failed_load = true;\n    } else if (force !== true) {\n      var cell = $(document.getElementById(\"1002\")).parents('.cell').data().cell;\n      cell.output_area.append_execute_result(NB_LOAD_WARNING)\n    }\n\n  }\n\n  if (root._bokeh_is_loading === 0) {\n    console.debug(\"Bokeh: BokehJS loaded, going straight to plotting\");\n    run_inline_js();\n  } else {\n    load_libs(css_urls, js_urls, function() {\n      console.debug(\"Bokeh: BokehJS plotting callback run at\", now());\n      run_inline_js();\n    });\n  }\n}(window));"
     },
     "metadata": {},
     "output_type": "display_data"
    },
    {
     "data": {
      "text/html": [
       "\n",
       "\n",
       "\n",
       "\n",
       "\n",
       "\n",
       "  <div class=\"bk-root\" id=\"23e58896-d3c3-4fa3-9273-b8e21f45499e\" data-root-id=\"1005\"></div>\n"
      ]
     },
     "metadata": {},
     "output_type": "display_data"
    },
    {
     "data": {
      "application/javascript": [
       "(function(root) {\n",
       "  function embed_document(root) {\n",
       "    \n",
       "  var docs_json = {\"afb75872-3ba7-4798-8041-88ec3a1ed28f\":{\"defs\":[],\"roots\":{\"references\":[{\"attributes\":{\"below\":[{\"id\":\"1014\"}],\"center\":[{\"id\":\"1017\"},{\"id\":\"1021\"}],\"height\":800,\"left\":[{\"id\":\"1018\"}],\"renderers\":[{\"id\":\"1028\"}],\"title\":{\"id\":\"1031\"},\"toolbar\":{\"id\":\"1023\"},\"width\":800,\"x_range\":{\"id\":\"1006\"},\"x_scale\":{\"id\":\"1010\"},\"y_range\":{\"id\":\"1008\"},\"y_scale\":{\"id\":\"1012\"}},\"id\":\"1005\",\"subtype\":\"Figure\",\"type\":\"Plot\"},{\"attributes\":{\"formatter\":{\"id\":\"1032\"},\"major_label_policy\":{\"id\":\"1033\"},\"ticker\":{\"id\":\"1019\"}},\"id\":\"1018\",\"type\":\"LinearAxis\"},{\"attributes\":{\"data_source\":{\"id\":\"1003\"},\"glyph\":{\"id\":\"1026\"},\"hover_glyph\":null,\"muted_glyph\":null,\"nonselection_glyph\":{\"id\":\"1027\"},\"view\":{\"id\":\"1029\"}},\"id\":\"1028\",\"type\":\"GlyphRenderer\"},{\"attributes\":{},\"id\":\"1008\",\"type\":\"DataRange1d\"},{\"attributes\":{\"axis\":{\"id\":\"1014\"},\"ticker\":null},\"id\":\"1017\",\"type\":\"Grid\"},{\"attributes\":{},\"id\":\"1038\",\"type\":\"UnionRenderers\"},{\"attributes\":{\"source\":{\"id\":\"1003\"}},\"id\":\"1029\",\"type\":\"CDSView\"},{\"attributes\":{},\"id\":\"1015\",\"type\":\"BasicTicker\"},{\"attributes\":{\"formatter\":{\"id\":\"1035\"},\"major_label_policy\":{\"id\":\"1036\"},\"ticker\":{\"id\":\"1015\"}},\"id\":\"1014\",\"type\":\"LinearAxis\"},{\"attributes\":{\"callback\":null,\"tooltips\":[[\"name\",\"@titles\"]]},\"id\":\"1022\",\"type\":\"HoverTool\"},{\"attributes\":{},\"id\":\"1032\",\"type\":\"BasicTickFormatter\"},{\"attributes\":{\"active_multi\":null,\"tools\":[{\"id\":\"1022\"}]},\"id\":\"1023\",\"type\":\"Toolbar\"},{\"attributes\":{\"factors\":[\"3\",\"0\",\"2\",\"1\",\"4\"],\"palette\":[\"#1f77b4\",\"#ff7f0e\",\"#2ca02c\",\"#d62728\",\"#9467bd\"]},\"id\":\"1004\",\"type\":\"CategoricalColorMapper\"},{\"attributes\":{\"fill_alpha\":{\"value\":0.5},\"fill_color\":{\"field\":\"label\",\"transform\":{\"id\":\"1004\"}},\"line_alpha\":{\"value\":0.5},\"line_color\":{\"field\":\"label\",\"transform\":{\"id\":\"1004\"}},\"size\":{\"value\":20},\"x\":{\"field\":\"x\"},\"y\":{\"field\":\"y\"}},\"id\":\"1026\",\"type\":\"Circle\"},{\"attributes\":{},\"id\":\"1019\",\"type\":\"BasicTicker\"},{\"attributes\":{},\"id\":\"1039\",\"type\":\"Selection\"},{\"attributes\":{},\"id\":\"1033\",\"type\":\"AllLabels\"},{\"attributes\":{},\"id\":\"1006\",\"type\":\"DataRange1d\"},{\"attributes\":{\"fill_alpha\":{\"value\":0.1},\"fill_color\":{\"field\":\"label\",\"transform\":{\"id\":\"1004\"}},\"line_alpha\":{\"value\":0.1},\"line_color\":{\"field\":\"label\",\"transform\":{\"id\":\"1004\"}},\"size\":{\"value\":20},\"x\":{\"field\":\"x\"},\"y\":{\"field\":\"y\"}},\"id\":\"1027\",\"type\":\"Circle\"},{\"attributes\":{},\"id\":\"1036\",\"type\":\"AllLabels\"},{\"attributes\":{},\"id\":\"1012\",\"type\":\"LinearScale\"},{\"attributes\":{},\"id\":\"1010\",\"type\":\"LinearScale\"},{\"attributes\":{},\"id\":\"1035\",\"type\":\"BasicTickFormatter\"},{\"attributes\":{\"axis\":{\"id\":\"1018\"},\"dimension\":1,\"ticker\":null},\"id\":\"1021\",\"type\":\"Grid\"},{\"attributes\":{},\"id\":\"1031\",\"type\":\"Title\"},{\"attributes\":{\"data\":{\"label\":[\"1\",\"0\",\"3\",\"1\",\"1\",\"1\",\"1\",\"4\",\"3\",\"3\",\"1\",\"3\",\"3\",\"3\",\"1\",\"4\",\"4\",\"0\",\"0\",\"1\",\"1\",\"4\",\"0\",\"3\",\"1\",\"0\",\"3\",\"0\",\"2\",\"1\",\"4\",\"1\",\"0\",\"1\",\"2\",\"1\",\"1\",\"4\",\"1\",\"3\",\"4\",\"4\",\"3\",\"3\",\"4\",\"3\",\"3\",\"0\",\"1\",\"4\",\"3\",\"1\",\"1\",\"1\",\"4\",\"1\",\"1\",\"1\",\"4\",\"1\",\"4\",\"0\",\"0\",\"1\",\"3\",\"4\",\"0\",\"0\",\"0\",\"1\",\"3\",\"1\",\"4\",\"1\",\"0\",\"1\",\"4\",\"3\",\"1\",\"4\",\"0\",\"1\",\"1\",\"3\",\"1\",\"0\",\"1\",\"4\",\"3\",\"1\",\"4\",\"3\",\"4\",\"1\",\"1\",\"1\",\"4\",\"0\",\"1\",\"3\"],\"titles\":[\"Lentils Vegetable Soup\",\"Cool 'n Easy Creamy Watermelon Pie\",\"Dilly Macaroni Salad Recipe\",\"Peanut Butter Bread\",\"Cheesy Herbed Egg Sandwich\",\"Amy's Cheesey , Bacon savory bites .\",\"Brown Sugar 'Karintou' Snacks\",\"Tex-Mex Caponata\",\"Revoltillos\",\"Grandmommy's Mexicali Meatloaf\",\"Praline Kisses\",\"Wonderful and Good For Health Fruit Salad\",\"Crab Salad with Endive and Tomato-Cilantro Sauce\",\"Green Bean Casserole (Mushroom, Garlic and Bacon, Oh My!)\",\"Margarita Madras\",\"Salmon & Salad a La SPORTZ\",\"Kombu Tea Grilled Chicken Thigh\",\"Guacamole\",\"Hot Corned Beef Buns\",\"Grandma's Caramel Corn\",\"Best Ever Fettuccine Alfredo\",\"Butternut Squash Soup or Bisque (Roasting Method)\",\"Creme Curd Cups\",\"Balsamic Chicken Pasta with Fresh Cheese\",\"Old-Fashioned Sweet Potato Pie\",\"Blondie's Walnut Balls\",\"Curried Pumpkin and Smoked Salmon Soup\",\"Barbecue Baked Potatoes\",\"Popcorn Trail Mix\",\"Whole Wheat Waffles\",\"Tinklee's Vanilla Crack\",\"Penne with Smoked Trout and Sugar Snap Peas\",\"Cooked Raspberry Jelly - CERTO Crystals\",\"Soft Pretzels with Queso Poblano Sauce and Mustard Sauce\",\"Yogurt Parfaits\",\"Peach Scones\",\"Banana Cream Pie Smoothie\",\"Rice Paper Wrapped Halibut Roasted with Foie Gras Gingered Spaghetti Squash and Wild Mushroom Ragout\",\"Spoonriver Melon Mint Soup\",\"Easy Tropical Beef Skillet\",\"My Family's Meat Stuffing for a Turkey\",\"Crock Pot Chicken Tortillas Recipe\",\"Acorn Squash & Black Bean Soup\",\"Shrimp and Caper Salad\",\"Leek, Potato, and Bacon Casserole\",\"Gazpacho\",\"Midnight Mashed Potatoes\",\"Mango Atchar\",\"Quick & Easy Crab Dip\",\"Fennel-Rubbed Pork Tenderloin with Roasted Fennel Wedges\",\"Chicken Sausage Stir Fry\",\"Half-Time Sunshine Bars\",\"Dried Fruit Salad with Philly* Cream\",\"Apple Carrot Bones (dog treat)\",\"Lobster on the Barbie\",\"Erin's Mashed Potatoes\",\"Sweet Biscuit Wreath\",\"Worlds Best Mac and Cheese\",\"Honey Sriracha Chicken Wings\",\"Tropical Banana Muffins\",\"Chirashi (Scattered) Sushi\",\"Left over Make over Turkey Pot Pie\",\"Salt Free, Low Cholesterol Sugar Cookies Recipe\",\"Apple Cinnamon French Toast Strata\",\"Mediterranean Style Lamb and Vegetable Stir-Fry\",\"cheese omelette\",\"Zucchini Nut Bread\",\"Monkey Bread\",\"Frosty Lemon Ice Cream Sandwiches\",\"Pineapple Loaf\",\"Sweet and Spicy Red Pepper Dip\",\"Broccoli Rice Bake\",\"Super Easy Pie Crust\",\"Meringue Topping... You Don't Weep, It Doesn't Either!!\",\"Irresistible Peanut Butter Cookies\",\"Sausage and marmalade plait recipe\",\"Sausage Bread\",\"Curry Wheat Berry Salad\",\"Apple-Currant Bars\",\"Apples And Almonds In Flaky Pastry Recipe\",\"Dinner In A Skillet Recipe\",\"Frosty Strawberry Squares\",\"Vegetable Fritto Misto With Lemon Mayonnaise\",\"Caramelized Beef Skewers\",\"Party Dog Appetizers\",\"Mummy Cupcakes\",\"Lemon Cupcakes with Blueberry Compote Filling and Cream Cheese Frosting\",\"Gyro Meat Loaf W/ Tzatziki Sauce\",\"Crunchy Onion Potato Bake\",\"Harrison Muesli\",\"Shalom Bayit Kugel (Potato Kugel)\",\"Steak & Asparagus Wraps\",\"Strawberry Rhubarb Dump Cake\",\"Anise Biscotti\",\"Corn & Mushroom Curry\",\"Double Cherry Crumble\",\"Spanish Spiked Gazpacho in Cucumber Cups\",\"Almond Blondie Triangles Recipe\",\"Pink Sangria\",\"Corn Casserole\"],\"x\":{\"__ndarray__\":\"HBZU/MYN+b+7sAv9xXfwv8epXIZaNOa/5SfDSNSFDMBtu2PibpLlv6JrbzgK0ey/Qn4y+NPF9b/+uGggcjLsv0Wb6TCFB6y/P+YJApJ++L9L5Jtpa+UGwDbdNFD/wfy/Z9I0uHTo77/wevRqXYbrvxhlVriePNO/eUD5CZAk8r+D+ajmOYTsv/MHVRmsJ+G/Xdqr3nQU9r8BcP8N5AEFwNOhlnpGvvW/C6xAxJP/4b9Y8wXLb83uv6ucDqnRw/G/v8eZbarfA8CPX4TJ7ScAwEF7XMsAUN2/SPY+lkX56r9joo8b3qvcv1zjQYyEFgbA9wVAajjHA8DDwTqNZ3/nvwmxYNVSKADA7NRgjv7/+b+qRi6sgYnvvxnwgpJ4dAbAlv4Kh5CNAcCbw5Bzqgzhv9K39vICgfy/7Wr1Dm5U8r+u0yWgG4KxPxUy8z20RNa/hvxpLRFt7b/8ldLSgyj4vxYuD8bpBuu/PV4XIylY2z8aeuqWDg//vw7jVeAVpva/RhEUmS+X2b+TO++FOe/1v8T4ACq1Qdq/jR9UhxKFA8Avw9g3zU8AwJf9xtvyife/AuQJL5/b1D8n1JqtyMP9vy6yzbVa/ALAr7tfjIm787/c1a2e/0YDwKjFvrdvfwXAHtDtxktPub901fUSRZjYv6E4RKPqavu/sfvs9Znk+r/GgSf0uM3BP5P6F9RbB+O/33ZGrcc4CcAaMYvUUe8AwE1iNlsv3AHAiTBcP8DLBcAxNpoCZKj0v+b7uJv+5ve/TAOlehoBCMA/0PD9hroIwG0hstFmiQjAUukJ9V8gqr9ltFiyXCfcv6bn/kEnuf2/1dSHO5bKBcAaQlcAiVLsv845h7lUQvK/RQiVt/BKAsBI29MCPsTzv2HzdNmPdNS/iabf9v42AMD7l/tP4zv3v6RuwZVE/QbAvT5x1Wsa5r/CFwwTA3/6v4BfCEHNnwXAIWLhB2Dv37/LtnXBqPG6P62t57zmZPy/hH4T0q18AMDGmUi7ZVj0v/1Uf8Ouf/6/OFXhbvgm97+EpfGKGJz2v+gKSLLlJPS/0gZbBaZVzj8=\",\"dtype\":\"float64\",\"order\":\"little\",\"shape\":[100]},\"y\":{\"__ndarray__\":\"2ZbK5vgN/L9ALCj2/Gq9PwAesEQQA8o/T3YsYms18b88pG428/Lbv53yK2bFftS/Zapw44S/4D/2X7fawwEAwAeD9+VZxfW/0OJfj/979b8vdpGgnP/zv+FD/JPKkPq/3ch42iiL8r9UOUfk7H31vx30iNtJ6I4/6bBhYAw76L9sMrqvFnazP/x8SSOQxfS/20it7r9O/r+ROgg2dIXpP3/1x8HqPfq/5hwmW8gT8r9F24/Z3S3Evyzmv1ORZvi/NlshlvpXxL/RO7DJp8PoP30/hRRfKPO/5EDxVdRkyz/m6FrFNCXiP9cgGmLUNfS/Q++aVVjT0793ALXk7+PXv8XklAJ6Jbc/eMHqJJzy8r+3xJNmE5TTvw2uBjsFyda/zld169e25L9oUfNAYbLrv17Z7SOb0fO/iqI2XCgq9b+oJFwdjl/tvxKtAuDNC+m/uhUf27ZQ+r/CmEWpiJzzv6aDT5vhUe+/jfVVIZ+t+7+p9RGegckCwIxvO7ymoPi/dj8vv4zV5797244cJXX0vy9HflbsYwLAWCl2luxY8b9iqQ7ST9Tsv9we4CnhTNA/4/J8s2XLyr+slClFekIBwBMqBX9dodm/V1in8GkP3z/AqNmIWzz3vwwI1/ubXtS/VVGY9Qvv5b8/VoH8hDW3P7HQKi2BF+Y/lx1lMKRb6b8+QF8Kwij3vy8Xtf+3tPW/WnjTqnsg87/XAsRY/i/FP6BRzm/EuNO/79VVjlz58r9W1SO5iV8BwAk12RfNK/q/CMM3XyzpmD/f1VtUE7D4v27w0SKLAvK/c9dmBzV1879XUbBZdh/lv7pID+vRSwPArNzwW5jcw7+ShKpisLngP213oXAUM7c/Mq7lJTcwqb/1TkPp9tryv5car9Cq4dW/VBIlogDd979NhBgdX2XTP+zRrPYQnbg/JUJM9AAW8b+nBR8em63xvyvCTlubteO/x4d5Q3ko5r//KQb8PqXePx7Fc7bfd+G/0pyT3Lpw5L8HDbCm3qrnv9Rq0FUXW+6/84N31mSVAcDt+N8PyhDwP/TMXUOQq/C/yuUvFfZyrb8=\",\"dtype\":\"float64\",\"order\":\"little\",\"shape\":[100]}},\"selected\":{\"id\":\"1039\"},\"selection_policy\":{\"id\":\"1038\"}},\"id\":\"1003\",\"type\":\"ColumnDataSource\"}],\"root_ids\":[\"1005\"]},\"title\":\"Bokeh Application\",\"version\":\"2.3.1\"}};\n",
       "  var render_items = [{\"docid\":\"afb75872-3ba7-4798-8041-88ec3a1ed28f\",\"root_ids\":[\"1005\"],\"roots\":{\"1005\":\"23e58896-d3c3-4fa3-9273-b8e21f45499e\"}}];\n",
       "  root.Bokeh.embed.embed_items_notebook(docs_json, render_items);\n",
       "\n",
       "  }\n",
       "  if (root.Bokeh !== undefined) {\n",
       "    embed_document(root);\n",
       "  } else {\n",
       "    var attempts = 0;\n",
       "    var timer = setInterval(function(root) {\n",
       "      if (root.Bokeh !== undefined) {\n",
       "        clearInterval(timer);\n",
       "        embed_document(root);\n",
       "      } else {\n",
       "        attempts++;\n",
       "        if (attempts > 100) {\n",
       "          clearInterval(timer);\n",
       "          console.log(\"Bokeh: ERROR: Unable to run BokehJS code because BokehJS library is missing\");\n",
       "        }\n",
       "      }\n",
       "    }, 10, root)\n",
       "  }\n",
       "})(window);"
      ],
      "application/vnd.bokehjs_exec.v0+json": ""
     },
     "metadata": {
      "application/vnd.bokehjs_exec.v0+json": {
       "id": "1005"
      }
     },
     "output_type": "display_data"
    }
   ],
   "source": [
    "visualize_reduced_clusters(reduced_ingredients_df)"
   ]
  },
  {
   "cell_type": "markdown",
   "id": "discrete-retro",
   "metadata": {},
   "source": [
    "# Visualize Instructions with Ingredient Predictions"
   ]
  },
  {
   "cell_type": "markdown",
   "id": "found-nightmare",
   "metadata": {},
   "source": [
    "Here we are going to use the labels based on the ingredient features of each recipe and apply those labels/colors to the instructions when plotted.\n",
    "Example:\n",
    "\n",
    "Ingredient Plot\n",
    "- Title: Ham and Cheese Sandwhich\n",
    "- Ingredient Vector: [0, 0, 0, 1]\n",
    "- Ingredient Prediction: 1\n",
    "- Plot(x,y) = (2,3)\n",
    "\n",
    "Using the labels from the Ingredient plot, we are going to plot using the Instruction Vector\n",
    "Instruction Plot\n",
    "- Title: Ham and Cheese Sandwhich'\n",
    "- Instruction Vector: [0, 1, 0, 0, 1, 0]\n",
    "- Ingredient Prediction: 1\n",
    "- Plot(x,y) = (5,3)\n",
    "\n",
    "In essence we want to see how the labels from ingredients will be grouped in the instruction space. We want to know if Turkey and Cheese Sandwhich with Ingredient Prediction 1 will plot near the Ham and Cheese when only looking at the instruction vectors. \n"
   ]
  },
  {
   "cell_type": "code",
   "execution_count": 57,
   "id": "still-elite",
   "metadata": {},
   "outputs": [
    {
     "data": {
      "text/html": [
       "\n",
       "    <div class=\"bk-root\">\n",
       "        <a href=\"https://bokeh.org\" target=\"_blank\" class=\"bk-logo bk-logo-small bk-logo-notebook\"></a>\n",
       "        <span id=\"1090\">Loading BokehJS ...</span>\n",
       "    </div>"
      ]
     },
     "metadata": {},
     "output_type": "display_data"
    },
    {
     "data": {
      "application/javascript": [
       "\n",
       "(function(root) {\n",
       "  function now() {\n",
       "    return new Date();\n",
       "  }\n",
       "\n",
       "  var force = true;\n",
       "\n",
       "  if (typeof root._bokeh_onload_callbacks === \"undefined\" || force === true) {\n",
       "    root._bokeh_onload_callbacks = [];\n",
       "    root._bokeh_is_loading = undefined;\n",
       "  }\n",
       "\n",
       "  var JS_MIME_TYPE = 'application/javascript';\n",
       "  var HTML_MIME_TYPE = 'text/html';\n",
       "  var EXEC_MIME_TYPE = 'application/vnd.bokehjs_exec.v0+json';\n",
       "  var CLASS_NAME = 'output_bokeh rendered_html';\n",
       "\n",
       "  /**\n",
       "   * Render data to the DOM node\n",
       "   */\n",
       "  function render(props, node) {\n",
       "    var script = document.createElement(\"script\");\n",
       "    node.appendChild(script);\n",
       "  }\n",
       "\n",
       "  /**\n",
       "   * Handle when an output is cleared or removed\n",
       "   */\n",
       "  function handleClearOutput(event, handle) {\n",
       "    var cell = handle.cell;\n",
       "\n",
       "    var id = cell.output_area._bokeh_element_id;\n",
       "    var server_id = cell.output_area._bokeh_server_id;\n",
       "    // Clean up Bokeh references\n",
       "    if (id != null && id in Bokeh.index) {\n",
       "      Bokeh.index[id].model.document.clear();\n",
       "      delete Bokeh.index[id];\n",
       "    }\n",
       "\n",
       "    if (server_id !== undefined) {\n",
       "      // Clean up Bokeh references\n",
       "      var cmd = \"from bokeh.io.state import curstate; print(curstate().uuid_to_server['\" + server_id + \"'].get_sessions()[0].document.roots[0]._id)\";\n",
       "      cell.notebook.kernel.execute(cmd, {\n",
       "        iopub: {\n",
       "          output: function(msg) {\n",
       "            var id = msg.content.text.trim();\n",
       "            if (id in Bokeh.index) {\n",
       "              Bokeh.index[id].model.document.clear();\n",
       "              delete Bokeh.index[id];\n",
       "            }\n",
       "          }\n",
       "        }\n",
       "      });\n",
       "      // Destroy server and session\n",
       "      var cmd = \"import bokeh.io.notebook as ion; ion.destroy_server('\" + server_id + \"')\";\n",
       "      cell.notebook.kernel.execute(cmd);\n",
       "    }\n",
       "  }\n",
       "\n",
       "  /**\n",
       "   * Handle when a new output is added\n",
       "   */\n",
       "  function handleAddOutput(event, handle) {\n",
       "    var output_area = handle.output_area;\n",
       "    var output = handle.output;\n",
       "\n",
       "    // limit handleAddOutput to display_data with EXEC_MIME_TYPE content only\n",
       "    if ((output.output_type != \"display_data\") || (!Object.prototype.hasOwnProperty.call(output.data, EXEC_MIME_TYPE))) {\n",
       "      return\n",
       "    }\n",
       "\n",
       "    var toinsert = output_area.element.find(\".\" + CLASS_NAME.split(' ')[0]);\n",
       "\n",
       "    if (output.metadata[EXEC_MIME_TYPE][\"id\"] !== undefined) {\n",
       "      toinsert[toinsert.length - 1].firstChild.textContent = output.data[JS_MIME_TYPE];\n",
       "      // store reference to embed id on output_area\n",
       "      output_area._bokeh_element_id = output.metadata[EXEC_MIME_TYPE][\"id\"];\n",
       "    }\n",
       "    if (output.metadata[EXEC_MIME_TYPE][\"server_id\"] !== undefined) {\n",
       "      var bk_div = document.createElement(\"div\");\n",
       "      bk_div.innerHTML = output.data[HTML_MIME_TYPE];\n",
       "      var script_attrs = bk_div.children[0].attributes;\n",
       "      for (var i = 0; i < script_attrs.length; i++) {\n",
       "        toinsert[toinsert.length - 1].firstChild.setAttribute(script_attrs[i].name, script_attrs[i].value);\n",
       "        toinsert[toinsert.length - 1].firstChild.textContent = bk_div.children[0].textContent\n",
       "      }\n",
       "      // store reference to server id on output_area\n",
       "      output_area._bokeh_server_id = output.metadata[EXEC_MIME_TYPE][\"server_id\"];\n",
       "    }\n",
       "  }\n",
       "\n",
       "  function register_renderer(events, OutputArea) {\n",
       "\n",
       "    function append_mime(data, metadata, element) {\n",
       "      // create a DOM node to render to\n",
       "      var toinsert = this.create_output_subarea(\n",
       "        metadata,\n",
       "        CLASS_NAME,\n",
       "        EXEC_MIME_TYPE\n",
       "      );\n",
       "      this.keyboard_manager.register_events(toinsert);\n",
       "      // Render to node\n",
       "      var props = {data: data, metadata: metadata[EXEC_MIME_TYPE]};\n",
       "      render(props, toinsert[toinsert.length - 1]);\n",
       "      element.append(toinsert);\n",
       "      return toinsert\n",
       "    }\n",
       "\n",
       "    /* Handle when an output is cleared or removed */\n",
       "    events.on('clear_output.CodeCell', handleClearOutput);\n",
       "    events.on('delete.Cell', handleClearOutput);\n",
       "\n",
       "    /* Handle when a new output is added */\n",
       "    events.on('output_added.OutputArea', handleAddOutput);\n",
       "\n",
       "    /**\n",
       "     * Register the mime type and append_mime function with output_area\n",
       "     */\n",
       "    OutputArea.prototype.register_mime_type(EXEC_MIME_TYPE, append_mime, {\n",
       "      /* Is output safe? */\n",
       "      safe: true,\n",
       "      /* Index of renderer in `output_area.display_order` */\n",
       "      index: 0\n",
       "    });\n",
       "  }\n",
       "\n",
       "  // register the mime type if in Jupyter Notebook environment and previously unregistered\n",
       "  if (root.Jupyter !== undefined) {\n",
       "    var events = require('base/js/events');\n",
       "    var OutputArea = require('notebook/js/outputarea').OutputArea;\n",
       "\n",
       "    if (OutputArea.prototype.mime_types().indexOf(EXEC_MIME_TYPE) == -1) {\n",
       "      register_renderer(events, OutputArea);\n",
       "    }\n",
       "  }\n",
       "\n",
       "  \n",
       "  if (typeof (root._bokeh_timeout) === \"undefined\" || force === true) {\n",
       "    root._bokeh_timeout = Date.now() + 5000;\n",
       "    root._bokeh_failed_load = false;\n",
       "  }\n",
       "\n",
       "  var NB_LOAD_WARNING = {'data': {'text/html':\n",
       "     \"<div style='background-color: #fdd'>\\n\"+\n",
       "     \"<p>\\n\"+\n",
       "     \"BokehJS does not appear to have successfully loaded. If loading BokehJS from CDN, this \\n\"+\n",
       "     \"may be due to a slow or bad network connection. Possible fixes:\\n\"+\n",
       "     \"</p>\\n\"+\n",
       "     \"<ul>\\n\"+\n",
       "     \"<li>re-rerun `output_notebook()` to attempt to load from CDN again, or</li>\\n\"+\n",
       "     \"<li>use INLINE resources instead, as so:</li>\\n\"+\n",
       "     \"</ul>\\n\"+\n",
       "     \"<code>\\n\"+\n",
       "     \"from bokeh.resources import INLINE\\n\"+\n",
       "     \"output_notebook(resources=INLINE)\\n\"+\n",
       "     \"</code>\\n\"+\n",
       "     \"</div>\"}};\n",
       "\n",
       "  function display_loaded() {\n",
       "    var el = document.getElementById(\"1090\");\n",
       "    if (el != null) {\n",
       "      el.textContent = \"BokehJS is loading...\";\n",
       "    }\n",
       "    if (root.Bokeh !== undefined) {\n",
       "      if (el != null) {\n",
       "        el.textContent = \"BokehJS \" + root.Bokeh.version + \" successfully loaded.\";\n",
       "      }\n",
       "    } else if (Date.now() < root._bokeh_timeout) {\n",
       "      setTimeout(display_loaded, 100)\n",
       "    }\n",
       "  }\n",
       "\n",
       "\n",
       "  function run_callbacks() {\n",
       "    try {\n",
       "      root._bokeh_onload_callbacks.forEach(function(callback) {\n",
       "        if (callback != null)\n",
       "          callback();\n",
       "      });\n",
       "    } finally {\n",
       "      delete root._bokeh_onload_callbacks\n",
       "    }\n",
       "    console.debug(\"Bokeh: all callbacks have finished\");\n",
       "  }\n",
       "\n",
       "  function load_libs(css_urls, js_urls, callback) {\n",
       "    if (css_urls == null) css_urls = [];\n",
       "    if (js_urls == null) js_urls = [];\n",
       "\n",
       "    root._bokeh_onload_callbacks.push(callback);\n",
       "    if (root._bokeh_is_loading > 0) {\n",
       "      console.debug(\"Bokeh: BokehJS is being loaded, scheduling callback at\", now());\n",
       "      return null;\n",
       "    }\n",
       "    if (js_urls == null || js_urls.length === 0) {\n",
       "      run_callbacks();\n",
       "      return null;\n",
       "    }\n",
       "    console.debug(\"Bokeh: BokehJS not loaded, scheduling load and callback at\", now());\n",
       "    root._bokeh_is_loading = css_urls.length + js_urls.length;\n",
       "\n",
       "    function on_load() {\n",
       "      root._bokeh_is_loading--;\n",
       "      if (root._bokeh_is_loading === 0) {\n",
       "        console.debug(\"Bokeh: all BokehJS libraries/stylesheets loaded\");\n",
       "        run_callbacks()\n",
       "      }\n",
       "    }\n",
       "\n",
       "    function on_error(url) {\n",
       "      console.error(\"failed to load \" + url);\n",
       "    }\n",
       "\n",
       "    for (let i = 0; i < css_urls.length; i++) {\n",
       "      const url = css_urls[i];\n",
       "      const element = document.createElement(\"link\");\n",
       "      element.onload = on_load;\n",
       "      element.onerror = on_error.bind(null, url);\n",
       "      element.rel = \"stylesheet\";\n",
       "      element.type = \"text/css\";\n",
       "      element.href = url;\n",
       "      console.debug(\"Bokeh: injecting link tag for BokehJS stylesheet: \", url);\n",
       "      document.body.appendChild(element);\n",
       "    }\n",
       "\n",
       "    const hashes = {\"https://cdn.bokeh.org/bokeh/release/bokeh-2.3.1.min.js\": \"YF85VygJKMVnHE+lLv2AM93Vbstr0yo2TbIu5v8se5Rq3UQAUmcuh4aaJwNlpKwa\", \"https://cdn.bokeh.org/bokeh/release/bokeh-widgets-2.3.1.min.js\": \"KKuas3gevv3PvrlkyCMzffFeaMq5we/a2QsP5AUoS3mJ0jmaCL7jirFJN3GoE/lM\", \"https://cdn.bokeh.org/bokeh/release/bokeh-tables-2.3.1.min.js\": \"MK/uFc3YT18pkvvXRl66tTHjP0/dxoSH2e/eiNMFIguKlun2+WVqaPTWmUy/zvh4\"};\n",
       "\n",
       "    for (let i = 0; i < js_urls.length; i++) {\n",
       "      const url = js_urls[i];\n",
       "      const element = document.createElement('script');\n",
       "      element.onload = on_load;\n",
       "      element.onerror = on_error.bind(null, url);\n",
       "      element.async = false;\n",
       "      element.src = url;\n",
       "      if (url in hashes) {\n",
       "        element.crossOrigin = \"anonymous\";\n",
       "        element.integrity = \"sha384-\" + hashes[url];\n",
       "      }\n",
       "      console.debug(\"Bokeh: injecting script tag for BokehJS library: \", url);\n",
       "      document.head.appendChild(element);\n",
       "    }\n",
       "  };\n",
       "\n",
       "  function inject_raw_css(css) {\n",
       "    const element = document.createElement(\"style\");\n",
       "    element.appendChild(document.createTextNode(css));\n",
       "    document.body.appendChild(element);\n",
       "  }\n",
       "\n",
       "  \n",
       "  var js_urls = [\"https://cdn.bokeh.org/bokeh/release/bokeh-2.3.1.min.js\", \"https://cdn.bokeh.org/bokeh/release/bokeh-widgets-2.3.1.min.js\", \"https://cdn.bokeh.org/bokeh/release/bokeh-tables-2.3.1.min.js\"];\n",
       "  var css_urls = [];\n",
       "  \n",
       "\n",
       "  var inline_js = [\n",
       "    function(Bokeh) {\n",
       "      Bokeh.set_log_level(\"info\");\n",
       "    },\n",
       "    function(Bokeh) {\n",
       "    \n",
       "    \n",
       "    }\n",
       "  ];\n",
       "\n",
       "  function run_inline_js() {\n",
       "    \n",
       "    if (root.Bokeh !== undefined || force === true) {\n",
       "      \n",
       "    for (var i = 0; i < inline_js.length; i++) {\n",
       "      inline_js[i].call(root, root.Bokeh);\n",
       "    }\n",
       "    if (force === true) {\n",
       "        display_loaded();\n",
       "      }} else if (Date.now() < root._bokeh_timeout) {\n",
       "      setTimeout(run_inline_js, 100);\n",
       "    } else if (!root._bokeh_failed_load) {\n",
       "      console.log(\"Bokeh: BokehJS failed to load within specified timeout.\");\n",
       "      root._bokeh_failed_load = true;\n",
       "    } else if (force !== true) {\n",
       "      var cell = $(document.getElementById(\"1090\")).parents('.cell').data().cell;\n",
       "      cell.output_area.append_execute_result(NB_LOAD_WARNING)\n",
       "    }\n",
       "\n",
       "  }\n",
       "\n",
       "  if (root._bokeh_is_loading === 0) {\n",
       "    console.debug(\"Bokeh: BokehJS loaded, going straight to plotting\");\n",
       "    run_inline_js();\n",
       "  } else {\n",
       "    load_libs(css_urls, js_urls, function() {\n",
       "      console.debug(\"Bokeh: BokehJS plotting callback run at\", now());\n",
       "      run_inline_js();\n",
       "    });\n",
       "  }\n",
       "}(window));"
      ],
      "application/vnd.bokehjs_load.v0+json": "\n(function(root) {\n  function now() {\n    return new Date();\n  }\n\n  var force = true;\n\n  if (typeof root._bokeh_onload_callbacks === \"undefined\" || force === true) {\n    root._bokeh_onload_callbacks = [];\n    root._bokeh_is_loading = undefined;\n  }\n\n  \n\n  \n  if (typeof (root._bokeh_timeout) === \"undefined\" || force === true) {\n    root._bokeh_timeout = Date.now() + 5000;\n    root._bokeh_failed_load = false;\n  }\n\n  var NB_LOAD_WARNING = {'data': {'text/html':\n     \"<div style='background-color: #fdd'>\\n\"+\n     \"<p>\\n\"+\n     \"BokehJS does not appear to have successfully loaded. If loading BokehJS from CDN, this \\n\"+\n     \"may be due to a slow or bad network connection. Possible fixes:\\n\"+\n     \"</p>\\n\"+\n     \"<ul>\\n\"+\n     \"<li>re-rerun `output_notebook()` to attempt to load from CDN again, or</li>\\n\"+\n     \"<li>use INLINE resources instead, as so:</li>\\n\"+\n     \"</ul>\\n\"+\n     \"<code>\\n\"+\n     \"from bokeh.resources import INLINE\\n\"+\n     \"output_notebook(resources=INLINE)\\n\"+\n     \"</code>\\n\"+\n     \"</div>\"}};\n\n  function display_loaded() {\n    var el = document.getElementById(\"1090\");\n    if (el != null) {\n      el.textContent = \"BokehJS is loading...\";\n    }\n    if (root.Bokeh !== undefined) {\n      if (el != null) {\n        el.textContent = \"BokehJS \" + root.Bokeh.version + \" successfully loaded.\";\n      }\n    } else if (Date.now() < root._bokeh_timeout) {\n      setTimeout(display_loaded, 100)\n    }\n  }\n\n\n  function run_callbacks() {\n    try {\n      root._bokeh_onload_callbacks.forEach(function(callback) {\n        if (callback != null)\n          callback();\n      });\n    } finally {\n      delete root._bokeh_onload_callbacks\n    }\n    console.debug(\"Bokeh: all callbacks have finished\");\n  }\n\n  function load_libs(css_urls, js_urls, callback) {\n    if (css_urls == null) css_urls = [];\n    if (js_urls == null) js_urls = [];\n\n    root._bokeh_onload_callbacks.push(callback);\n    if (root._bokeh_is_loading > 0) {\n      console.debug(\"Bokeh: BokehJS is being loaded, scheduling callback at\", now());\n      return null;\n    }\n    if (js_urls == null || js_urls.length === 0) {\n      run_callbacks();\n      return null;\n    }\n    console.debug(\"Bokeh: BokehJS not loaded, scheduling load and callback at\", now());\n    root._bokeh_is_loading = css_urls.length + js_urls.length;\n\n    function on_load() {\n      root._bokeh_is_loading--;\n      if (root._bokeh_is_loading === 0) {\n        console.debug(\"Bokeh: all BokehJS libraries/stylesheets loaded\");\n        run_callbacks()\n      }\n    }\n\n    function on_error(url) {\n      console.error(\"failed to load \" + url);\n    }\n\n    for (let i = 0; i < css_urls.length; i++) {\n      const url = css_urls[i];\n      const element = document.createElement(\"link\");\n      element.onload = on_load;\n      element.onerror = on_error.bind(null, url);\n      element.rel = \"stylesheet\";\n      element.type = \"text/css\";\n      element.href = url;\n      console.debug(\"Bokeh: injecting link tag for BokehJS stylesheet: \", url);\n      document.body.appendChild(element);\n    }\n\n    const hashes = {\"https://cdn.bokeh.org/bokeh/release/bokeh-2.3.1.min.js\": \"YF85VygJKMVnHE+lLv2AM93Vbstr0yo2TbIu5v8se5Rq3UQAUmcuh4aaJwNlpKwa\", \"https://cdn.bokeh.org/bokeh/release/bokeh-widgets-2.3.1.min.js\": \"KKuas3gevv3PvrlkyCMzffFeaMq5we/a2QsP5AUoS3mJ0jmaCL7jirFJN3GoE/lM\", \"https://cdn.bokeh.org/bokeh/release/bokeh-tables-2.3.1.min.js\": \"MK/uFc3YT18pkvvXRl66tTHjP0/dxoSH2e/eiNMFIguKlun2+WVqaPTWmUy/zvh4\"};\n\n    for (let i = 0; i < js_urls.length; i++) {\n      const url = js_urls[i];\n      const element = document.createElement('script');\n      element.onload = on_load;\n      element.onerror = on_error.bind(null, url);\n      element.async = false;\n      element.src = url;\n      if (url in hashes) {\n        element.crossOrigin = \"anonymous\";\n        element.integrity = \"sha384-\" + hashes[url];\n      }\n      console.debug(\"Bokeh: injecting script tag for BokehJS library: \", url);\n      document.head.appendChild(element);\n    }\n  };\n\n  function inject_raw_css(css) {\n    const element = document.createElement(\"style\");\n    element.appendChild(document.createTextNode(css));\n    document.body.appendChild(element);\n  }\n\n  \n  var js_urls = [\"https://cdn.bokeh.org/bokeh/release/bokeh-2.3.1.min.js\", \"https://cdn.bokeh.org/bokeh/release/bokeh-widgets-2.3.1.min.js\", \"https://cdn.bokeh.org/bokeh/release/bokeh-tables-2.3.1.min.js\"];\n  var css_urls = [];\n  \n\n  var inline_js = [\n    function(Bokeh) {\n      Bokeh.set_log_level(\"info\");\n    },\n    function(Bokeh) {\n    \n    \n    }\n  ];\n\n  function run_inline_js() {\n    \n    if (root.Bokeh !== undefined || force === true) {\n      \n    for (var i = 0; i < inline_js.length; i++) {\n      inline_js[i].call(root, root.Bokeh);\n    }\n    if (force === true) {\n        display_loaded();\n      }} else if (Date.now() < root._bokeh_timeout) {\n      setTimeout(run_inline_js, 100);\n    } else if (!root._bokeh_failed_load) {\n      console.log(\"Bokeh: BokehJS failed to load within specified timeout.\");\n      root._bokeh_failed_load = true;\n    } else if (force !== true) {\n      var cell = $(document.getElementById(\"1090\")).parents('.cell').data().cell;\n      cell.output_area.append_execute_result(NB_LOAD_WARNING)\n    }\n\n  }\n\n  if (root._bokeh_is_loading === 0) {\n    console.debug(\"Bokeh: BokehJS loaded, going straight to plotting\");\n    run_inline_js();\n  } else {\n    load_libs(css_urls, js_urls, function() {\n      console.debug(\"Bokeh: BokehJS plotting callback run at\", now());\n      run_inline_js();\n    });\n  }\n}(window));"
     },
     "metadata": {},
     "output_type": "display_data"
    },
    {
     "data": {
      "text/html": [
       "\n",
       "\n",
       "\n",
       "\n",
       "\n",
       "\n",
       "  <div class=\"bk-root\" id=\"67877a95-116a-4e94-9739-e64103704dfb\" data-root-id=\"1093\"></div>\n"
      ]
     },
     "metadata": {},
     "output_type": "display_data"
    },
    {
     "data": {
      "application/javascript": [
       "(function(root) {\n",
       "  function embed_document(root) {\n",
       "    \n",
       "  var docs_json = {\"cf9e461e-78a3-4aa8-b001-51927e78e6f1\":{\"defs\":[],\"roots\":{\"references\":[{\"attributes\":{\"below\":[{\"id\":\"1102\"}],\"center\":[{\"id\":\"1105\"},{\"id\":\"1109\"}],\"height\":800,\"left\":[{\"id\":\"1106\"}],\"renderers\":[{\"id\":\"1116\"}],\"title\":{\"id\":\"1128\"},\"toolbar\":{\"id\":\"1111\"},\"width\":800,\"x_range\":{\"id\":\"1094\"},\"x_scale\":{\"id\":\"1098\"},\"y_range\":{\"id\":\"1096\"},\"y_scale\":{\"id\":\"1100\"}},\"id\":\"1093\",\"subtype\":\"Figure\",\"type\":\"Plot\"},{\"attributes\":{\"data\":{\"label\":[\"1\",\"0\",\"3\",\"1\",\"1\",\"1\",\"1\",\"4\",\"3\",\"3\",\"1\",\"3\",\"3\",\"3\",\"1\",\"4\",\"4\",\"0\",\"0\",\"1\",\"1\",\"4\",\"0\",\"3\",\"1\",\"0\",\"3\",\"0\",\"2\",\"1\",\"4\",\"1\",\"0\",\"1\",\"2\",\"1\",\"1\",\"4\",\"1\",\"3\",\"4\",\"4\",\"3\",\"3\",\"4\",\"3\",\"3\",\"0\",\"1\",\"4\",\"3\",\"1\",\"1\",\"1\",\"4\",\"1\",\"1\",\"1\",\"4\",\"1\",\"4\",\"0\",\"0\",\"1\",\"3\",\"4\",\"0\",\"0\",\"0\",\"1\",\"3\",\"1\",\"4\",\"1\",\"0\",\"1\",\"4\",\"3\",\"1\",\"4\",\"0\",\"1\",\"1\",\"3\",\"1\",\"0\",\"1\",\"4\",\"3\",\"1\",\"4\",\"3\",\"4\",\"1\",\"1\",\"1\",\"4\",\"0\",\"1\",\"3\"],\"titles\":[\"Lentils Vegetable Soup\",\"Cool 'n Easy Creamy Watermelon Pie\",\"Dilly Macaroni Salad Recipe\",\"Peanut Butter Bread\",\"Cheesy Herbed Egg Sandwich\",\"Amy's Cheesey , Bacon savory bites .\",\"Brown Sugar 'Karintou' Snacks\",\"Tex-Mex Caponata\",\"Revoltillos\",\"Grandmommy's Mexicali Meatloaf\",\"Praline Kisses\",\"Wonderful and Good For Health Fruit Salad\",\"Crab Salad with Endive and Tomato-Cilantro Sauce\",\"Green Bean Casserole (Mushroom, Garlic and Bacon, Oh My!)\",\"Margarita Madras\",\"Salmon & Salad a La SPORTZ\",\"Kombu Tea Grilled Chicken Thigh\",\"Guacamole\",\"Hot Corned Beef Buns\",\"Grandma's Caramel Corn\",\"Best Ever Fettuccine Alfredo\",\"Butternut Squash Soup or Bisque (Roasting Method)\",\"Creme Curd Cups\",\"Balsamic Chicken Pasta with Fresh Cheese\",\"Old-Fashioned Sweet Potato Pie\",\"Blondie's Walnut Balls\",\"Curried Pumpkin and Smoked Salmon Soup\",\"Barbecue Baked Potatoes\",\"Popcorn Trail Mix\",\"Whole Wheat Waffles\",\"Tinklee's Vanilla Crack\",\"Penne with Smoked Trout and Sugar Snap Peas\",\"Cooked Raspberry Jelly - CERTO Crystals\",\"Soft Pretzels with Queso Poblano Sauce and Mustard Sauce\",\"Yogurt Parfaits\",\"Peach Scones\",\"Banana Cream Pie Smoothie\",\"Rice Paper Wrapped Halibut Roasted with Foie Gras Gingered Spaghetti Squash and Wild Mushroom Ragout\",\"Spoonriver Melon Mint Soup\",\"Easy Tropical Beef Skillet\",\"My Family's Meat Stuffing for a Turkey\",\"Crock Pot Chicken Tortillas Recipe\",\"Acorn Squash & Black Bean Soup\",\"Shrimp and Caper Salad\",\"Leek, Potato, and Bacon Casserole\",\"Gazpacho\",\"Midnight Mashed Potatoes\",\"Mango Atchar\",\"Quick & Easy Crab Dip\",\"Fennel-Rubbed Pork Tenderloin with Roasted Fennel Wedges\",\"Chicken Sausage Stir Fry\",\"Half-Time Sunshine Bars\",\"Dried Fruit Salad with Philly* Cream\",\"Apple Carrot Bones (dog treat)\",\"Lobster on the Barbie\",\"Erin's Mashed Potatoes\",\"Sweet Biscuit Wreath\",\"Worlds Best Mac and Cheese\",\"Honey Sriracha Chicken Wings\",\"Tropical Banana Muffins\",\"Chirashi (Scattered) Sushi\",\"Left over Make over Turkey Pot Pie\",\"Salt Free, Low Cholesterol Sugar Cookies Recipe\",\"Apple Cinnamon French Toast Strata\",\"Mediterranean Style Lamb and Vegetable Stir-Fry\",\"cheese omelette\",\"Zucchini Nut Bread\",\"Monkey Bread\",\"Frosty Lemon Ice Cream Sandwiches\",\"Pineapple Loaf\",\"Sweet and Spicy Red Pepper Dip\",\"Broccoli Rice Bake\",\"Super Easy Pie Crust\",\"Meringue Topping... You Don't Weep, It Doesn't Either!!\",\"Irresistible Peanut Butter Cookies\",\"Sausage and marmalade plait recipe\",\"Sausage Bread\",\"Curry Wheat Berry Salad\",\"Apple-Currant Bars\",\"Apples And Almonds In Flaky Pastry Recipe\",\"Dinner In A Skillet Recipe\",\"Frosty Strawberry Squares\",\"Vegetable Fritto Misto With Lemon Mayonnaise\",\"Caramelized Beef Skewers\",\"Party Dog Appetizers\",\"Mummy Cupcakes\",\"Lemon Cupcakes with Blueberry Compote Filling and Cream Cheese Frosting\",\"Gyro Meat Loaf W/ Tzatziki Sauce\",\"Crunchy Onion Potato Bake\",\"Harrison Muesli\",\"Shalom Bayit Kugel (Potato Kugel)\",\"Steak & Asparagus Wraps\",\"Strawberry Rhubarb Dump Cake\",\"Anise Biscotti\",\"Corn & Mushroom Curry\",\"Double Cherry Crumble\",\"Spanish Spiked Gazpacho in Cucumber Cups\",\"Almond Blondie Triangles Recipe\",\"Pink Sangria\",\"Corn Casserole\"],\"x\":{\"__ndarray__\":\"9L1QXxlb9L+m2g58o6TwP4YD1yq2mdA/LpJAjvob5L+6XpDLCqfPv20U3DO2vuO/he9O5e3f4b98Pth/s/a/v4XubKw23de/3Cxz8QOY1r+QVqXtCJmnP84Dp5FnlNI/muXPUA7+ub/r/mdt+qDov4eInHjuDMG/gOQ0QT7vxr9D2J9aXmHFv8YF/rbqsQtAKRVpHGbA0D+CMsHldWvDv6BS1VnCAfC/UkoZZH8kwr9Ta7wXz0fjPyC0SREYreC/wkVlEnPw5L8kh3CPcwHkP1puBUPqq+i/Bo7vx4c26T+6rEOX8H8dQHYvFMOYxtS/wNdPTD4C27/yZ6/9973qv75+ccJGI9Y/m18WNryq4b9EDq3UW6UJQJJ+urgRmp+/IPjMpWTVw79SeSEbSTq5v+wePHdqiuC/Aqno3uzV6r9NJFSpit3CP/PszjBpUrE/LSvGxrXQ5L8Tz0DJVvnrv5aj4Vlfzc+/UKssCDTU6b+9t1k5PMuuv7BSTqvAq+k/8Do6TNrOwb8LAcIso2Znv6KR0fuXrtq/e85vZYefsL+p6/WLwSTev5S+hzXCnKG/IksoPrJ33D9rvfIlndKyvz/83qVlppO/qhx6URXy3b/cINIdtDTYv1sYoVby8Kc/BklCb36txL9zC1M/8lnAP3F4E3UpF9U/aEVNI5Yp1b+3bLmjRu3iv1meCQRUIOC/UyOzfBC+5j8rWNZe1Q3BP6tN+Bm9P+E/AJiBNMHbuL8gs0+bF/bovxiU7JyTEOM/yvFeyoy+sT/wjcW+MMDCv41yTXDfdsc/LyGrhqlv8b+OR+T0IAi1vwllfShiOOW/+Q+kou5zqL9cw87FWuPUP6R9v14mcuA/QizH4mbttj+gPlpJUabkv5lLfZWUkKg/9OqyLEMF2L89FRFHu7zXP0PdotFWMc+/2rXAkvo9cL/0nWSU/XS4v4WRUYUidd+/ulkt2HDe2b+x1qhrhWPMPwZrrNIGk+g/diU7cHjJwr+zKAV8MwHnv2qBIq5kmok/TS2fxKcS0j/BveuZoAfaPzAEbjjQk+g/sNM9zKJTwz8=\",\"dtype\":\"float64\",\"order\":\"little\",\"shape\":[100]},\"y\":{\"__ndarray__\":\"SzYhJtq9CsBhqn+sfpIFwAZSJYy+JA7AwDOQkwiDCcByLlE3NzAOwJqxfoHReAnAy715ADkQAMBd9WwmybH9vxepQjKOjBDAjZ4LfpkLEMArUXe3lGUCwPBF1Iw/MBTArWkxAQPJCsDQv8Toa4YLwBe96Igy5wbA0ZmJZcbUAcDQ1Ver0bL2v6+H/ZPpzAXAd8z+LUF7B8Ah7L2QUKMKwNlMrtCdWgjAnpe7bXk+BMD0hq/viCILwJQNZyCEAQfApEEw6LxkBMCfZ9mBDJcQwIUDSZvkAwvAOPq/GHp1BcByO2FwQmQNwPVAKc9m7Q3AkqXhqEpA6793wDleUOMHwFK9v/0/VgnAoZVT5HZ3CcDA0jgXgg//vyGrudyHggPAffPQZQmmAsA551l5Z3Dpv0N+PSZovATALjsWKsQoDsD7ggr/4yP4vwjLZPLsxAPAmOrj6xPxC8DOTdx9rSwGwIgWdbigzvG/Nn/vOXdlDMBZfGQ+7zEOwFseY+tpMQjAfQvlnj02CcCdJXkX6t3/vzn0Y1dbtxDA7pztC9M1BMBqUiHXNVMMwNUwjLZ2swTAqpOkJ/gC8b+OFFUdPrgKwLWXOkuXmALAKfCC6irJB8CuP/Y2GQHzv2VkhsgAvw3AuirjRxit+r/zEBcJDgQGwKOH3v4n9AnAm72BBLwSB8BV2l4AJy8JwNet1k/ZswDAl9vzlak3DsCypX+pv1cKwOBnemePygLAi+GmiDW0EMCrN42f6WcIwImvIh3CeQbAZtdtZ8gl+b883itqPkQDwE7EueoM2wLAy64uSF4fBcBf1t3n2tUAwES7vtLjMgnANg68ihIVCcA+9BIaAGD6vzkAJF0uoQvAdYJDOrEhBcBes43lEkX/v0MA0Tv/5wnAN4/0r2qtBsDX5lEMSGcKwCyvO4FX4wXA8LccjigOAMCIk4NnW4IMwAaHsaspcgnATzuh6zqV/L95mCTP6ekGwCzx7CaoGOy/Hr+r3OoXAcDvYF3Ero0KwLH4bVEcSgfA2+/PDg5f+L/hTA+niJABwGE7XVOR+QXAJlZHEPZdE8A=\",\"dtype\":\"float64\",\"order\":\"little\",\"shape\":[100]}},\"selected\":{\"id\":\"1137\"},\"selection_policy\":{\"id\":\"1136\"}},\"id\":\"1091\",\"type\":\"ColumnDataSource\"},{\"attributes\":{},\"id\":\"1135\",\"type\":\"BasicTickFormatter\"},{\"attributes\":{\"factors\":[\"2\",\"1\",\"0\",\"3\",\"4\"],\"palette\":[\"#1f77b4\",\"#ff7f0e\",\"#2ca02c\",\"#d62728\",\"#9467bd\"]},\"id\":\"1092\",\"type\":\"CategoricalColorMapper\"},{\"attributes\":{},\"id\":\"1094\",\"type\":\"DataRange1d\"},{\"attributes\":{},\"id\":\"1096\",\"type\":\"DataRange1d\"},{\"attributes\":{},\"id\":\"1133\",\"type\":\"AllLabels\"},{\"attributes\":{\"active_multi\":null,\"tools\":[{\"id\":\"1110\"}]},\"id\":\"1111\",\"type\":\"Toolbar\"},{\"attributes\":{\"callback\":null,\"tooltips\":[[\"name\",\"@titles\"]]},\"id\":\"1110\",\"type\":\"HoverTool\"},{\"attributes\":{\"source\":{\"id\":\"1091\"}},\"id\":\"1117\",\"type\":\"CDSView\"},{\"attributes\":{},\"id\":\"1136\",\"type\":\"UnionRenderers\"},{\"attributes\":{\"fill_alpha\":{\"value\":0.1},\"fill_color\":{\"field\":\"label\",\"transform\":{\"id\":\"1092\"}},\"line_alpha\":{\"value\":0.1},\"line_color\":{\"field\":\"label\",\"transform\":{\"id\":\"1092\"}},\"size\":{\"value\":20},\"x\":{\"field\":\"x\"},\"y\":{\"field\":\"y\"}},\"id\":\"1115\",\"type\":\"Circle\"},{\"attributes\":{},\"id\":\"1107\",\"type\":\"BasicTicker\"},{\"attributes\":{\"axis\":{\"id\":\"1102\"},\"ticker\":null},\"id\":\"1105\",\"type\":\"Grid\"},{\"attributes\":{},\"id\":\"1130\",\"type\":\"AllLabels\"},{\"attributes\":{\"axis\":{\"id\":\"1106\"},\"dimension\":1,\"ticker\":null},\"id\":\"1109\",\"type\":\"Grid\"},{\"attributes\":{\"data_source\":{\"id\":\"1091\"},\"glyph\":{\"id\":\"1114\"},\"hover_glyph\":null,\"muted_glyph\":null,\"nonselection_glyph\":{\"id\":\"1115\"},\"view\":{\"id\":\"1117\"}},\"id\":\"1116\",\"type\":\"GlyphRenderer\"},{\"attributes\":{},\"id\":\"1100\",\"type\":\"LinearScale\"},{\"attributes\":{\"formatter\":{\"id\":\"1135\"},\"major_label_policy\":{\"id\":\"1133\"},\"ticker\":{\"id\":\"1103\"}},\"id\":\"1102\",\"type\":\"LinearAxis\"},{\"attributes\":{},\"id\":\"1103\",\"type\":\"BasicTicker\"},{\"attributes\":{},\"id\":\"1132\",\"type\":\"BasicTickFormatter\"},{\"attributes\":{},\"id\":\"1098\",\"type\":\"LinearScale\"},{\"attributes\":{\"formatter\":{\"id\":\"1132\"},\"major_label_policy\":{\"id\":\"1130\"},\"ticker\":{\"id\":\"1107\"}},\"id\":\"1106\",\"type\":\"LinearAxis\"},{\"attributes\":{\"fill_alpha\":{\"value\":0.5},\"fill_color\":{\"field\":\"label\",\"transform\":{\"id\":\"1092\"}},\"line_alpha\":{\"value\":0.5},\"line_color\":{\"field\":\"label\",\"transform\":{\"id\":\"1092\"}},\"size\":{\"value\":20},\"x\":{\"field\":\"x\"},\"y\":{\"field\":\"y\"}},\"id\":\"1114\",\"type\":\"Circle\"},{\"attributes\":{},\"id\":\"1137\",\"type\":\"Selection\"},{\"attributes\":{},\"id\":\"1128\",\"type\":\"Title\"}],\"root_ids\":[\"1093\"]},\"title\":\"Bokeh Application\",\"version\":\"2.3.1\"}};\n",
       "  var render_items = [{\"docid\":\"cf9e461e-78a3-4aa8-b001-51927e78e6f1\",\"root_ids\":[\"1093\"],\"roots\":{\"1093\":\"67877a95-116a-4e94-9739-e64103704dfb\"}}];\n",
       "  root.Bokeh.embed.embed_items_notebook(docs_json, render_items);\n",
       "\n",
       "  }\n",
       "  if (root.Bokeh !== undefined) {\n",
       "    embed_document(root);\n",
       "  } else {\n",
       "    var attempts = 0;\n",
       "    var timer = setInterval(function(root) {\n",
       "      if (root.Bokeh !== undefined) {\n",
       "        clearInterval(timer);\n",
       "        embed_document(root);\n",
       "      } else {\n",
       "        attempts++;\n",
       "        if (attempts > 100) {\n",
       "          clearInterval(timer);\n",
       "          console.log(\"Bokeh: ERROR: Unable to run BokehJS code because BokehJS library is missing\");\n",
       "        }\n",
       "      }\n",
       "    }, 10, root)\n",
       "  }\n",
       "})(window);"
      ],
      "application/vnd.bokehjs_exec.v0+json": ""
     },
     "metadata": {
      "application/vnd.bokehjs_exec.v0+json": {
       "id": "1093"
      }
     },
     "output_type": "display_data"
    }
   ],
   "source": [
    "visualize_reduced_clusters(reduced_instructions_df)"
   ]
  },
  {
   "cell_type": "code",
   "execution_count": 52,
   "id": "executive-manchester",
   "metadata": {},
   "outputs": [
    {
     "name": "stdout",
     "output_type": "stream",
     "text": [
      "Collecting cuml\n",
      "  Downloading cuml-0.6.1.post1.tar.gz (1.1 kB)\n",
      "Building wheels for collected packages: cuml\n",
      "  Building wheel for cuml (setup.py) ... \u001b[?25lerror\n",
      "\u001b[31m  ERROR: Command errored out with exit status 1:\n",
      "   command: /home/egong/miniconda3/envs/767_py3/bin/python3.9 -u -c 'import sys, setuptools, tokenize; sys.argv[0] = '\"'\"'/tmp/pip-install-ps2isrsd/cuml_0a331e3df5b740f186ced5f58836b3c8/setup.py'\"'\"'; __file__='\"'\"'/tmp/pip-install-ps2isrsd/cuml_0a331e3df5b740f186ced5f58836b3c8/setup.py'\"'\"';f=getattr(tokenize, '\"'\"'open'\"'\"', open)(__file__);code=f.read().replace('\"'\"'\\r\\n'\"'\"', '\"'\"'\\n'\"'\"');f.close();exec(compile(code, __file__, '\"'\"'exec'\"'\"'))' bdist_wheel -d /tmp/pip-wheel-p95eexb9\n",
      "       cwd: /tmp/pip-install-ps2isrsd/cuml_0a331e3df5b740f186ced5f58836b3c8/\n",
      "  Complete output (25 lines):\n",
      "  running bdist_wheel\n",
      "  running build\n",
      "  installing to build/bdist.linux-x86_64/wheel\n",
      "  running install\n",
      "  Traceback (most recent call last):\n",
      "    File \"<string>\", line 1, in <module>\n",
      "    File \"/tmp/pip-install-ps2isrsd/cuml_0a331e3df5b740f186ced5f58836b3c8/setup.py\", line 18, in <module>\n",
      "      setup(name=pkg,\n",
      "    File \"/home/egong/miniconda3/envs/767_py3/lib/python3.9/site-packages/setuptools/__init__.py\", line 163, in setup\n",
      "      return distutils.core.setup(**attrs)\n",
      "    File \"/home/egong/miniconda3/envs/767_py3/lib/python3.9/distutils/core.py\", line 148, in setup\n",
      "      dist.run_commands()\n",
      "    File \"/home/egong/miniconda3/envs/767_py3/lib/python3.9/distutils/dist.py\", line 966, in run_commands\n",
      "      self.run_command(cmd)\n",
      "    File \"/home/egong/miniconda3/envs/767_py3/lib/python3.9/distutils/dist.py\", line 985, in run_command\n",
      "      cmd_obj.run()\n",
      "    File \"/home/egong/miniconda3/envs/767_py3/lib/python3.9/site-packages/wheel/bdist_wheel.py\", line 335, in run\n",
      "      self.run_command('install')\n",
      "    File \"/home/egong/miniconda3/envs/767_py3/lib/python3.9/distutils/cmd.py\", line 313, in run_command\n",
      "      self.distribution.run_command(command)\n",
      "    File \"/home/egong/miniconda3/envs/767_py3/lib/python3.9/distutils/dist.py\", line 985, in run_command\n",
      "      cmd_obj.run()\n",
      "    File \"/tmp/pip-install-ps2isrsd/cuml_0a331e3df5b740f186ced5f58836b3c8/setup.py\", line 15, in run\n",
      "      raise Exception(long_description)\n",
      "  Exception: Please install cuml via the rapidsai conda channel. See https://rapids.ai/start.html for instructions.\n",
      "  ----------------------------------------\u001b[0m\n",
      "\u001b[31m  ERROR: Failed building wheel for cuml\u001b[0m\n",
      "\u001b[?25h  Running setup.py clean for cuml\n",
      "Failed to build cuml\n",
      "Installing collected packages: cuml\n",
      "    Running setup.py install for cuml ... \u001b[?25lerror\n",
      "\u001b[31m    ERROR: Command errored out with exit status 1:\n",
      "     command: /home/egong/miniconda3/envs/767_py3/bin/python3.9 -u -c 'import sys, setuptools, tokenize; sys.argv[0] = '\"'\"'/tmp/pip-install-ps2isrsd/cuml_0a331e3df5b740f186ced5f58836b3c8/setup.py'\"'\"'; __file__='\"'\"'/tmp/pip-install-ps2isrsd/cuml_0a331e3df5b740f186ced5f58836b3c8/setup.py'\"'\"';f=getattr(tokenize, '\"'\"'open'\"'\"', open)(__file__);code=f.read().replace('\"'\"'\\r\\n'\"'\"', '\"'\"'\\n'\"'\"');f.close();exec(compile(code, __file__, '\"'\"'exec'\"'\"'))' install --record /tmp/pip-record-mnwx14nj/install-record.txt --single-version-externally-managed --compile --install-headers /home/egong/miniconda3/envs/767_py3/include/python3.9/cuml\n",
      "         cwd: /tmp/pip-install-ps2isrsd/cuml_0a331e3df5b740f186ced5f58836b3c8/\n",
      "    Complete output (16 lines):\n",
      "    running install\n",
      "    Traceback (most recent call last):\n",
      "      File \"<string>\", line 1, in <module>\n",
      "      File \"/tmp/pip-install-ps2isrsd/cuml_0a331e3df5b740f186ced5f58836b3c8/setup.py\", line 18, in <module>\n",
      "        setup(name=pkg,\n",
      "      File \"/home/egong/miniconda3/envs/767_py3/lib/python3.9/site-packages/setuptools/__init__.py\", line 163, in setup\n",
      "        return distutils.core.setup(**attrs)\n",
      "      File \"/home/egong/miniconda3/envs/767_py3/lib/python3.9/distutils/core.py\", line 148, in setup\n",
      "        dist.run_commands()\n",
      "      File \"/home/egong/miniconda3/envs/767_py3/lib/python3.9/distutils/dist.py\", line 966, in run_commands\n",
      "        self.run_command(cmd)\n",
      "      File \"/home/egong/miniconda3/envs/767_py3/lib/python3.9/distutils/dist.py\", line 985, in run_command\n",
      "        cmd_obj.run()\n",
      "      File \"/tmp/pip-install-ps2isrsd/cuml_0a331e3df5b740f186ced5f58836b3c8/setup.py\", line 15, in run\n",
      "        raise Exception(long_description)\n",
      "    Exception: Please install cuml via the rapidsai conda channel. See https://rapids.ai/start.html for instructions.\n",
      "    ----------------------------------------\u001b[0m\n",
      "\u001b[31mERROR: Command errored out with exit status 1: /home/egong/miniconda3/envs/767_py3/bin/python3.9 -u -c 'import sys, setuptools, tokenize; sys.argv[0] = '\"'\"'/tmp/pip-install-ps2isrsd/cuml_0a331e3df5b740f186ced5f58836b3c8/setup.py'\"'\"'; __file__='\"'\"'/tmp/pip-install-ps2isrsd/cuml_0a331e3df5b740f186ced5f58836b3c8/setup.py'\"'\"';f=getattr(tokenize, '\"'\"'open'\"'\"', open)(__file__);code=f.read().replace('\"'\"'\\r\\n'\"'\"', '\"'\"'\\n'\"'\"');f.close();exec(compile(code, __file__, '\"'\"'exec'\"'\"'))' install --record /tmp/pip-record-mnwx14nj/install-record.txt --single-version-externally-managed --compile --install-headers /home/egong/miniconda3/envs/767_py3/include/python3.9/cuml Check the logs for full command output.\u001b[0m\n",
      "\u001b[?25h"
     ]
    }
   ],
   "source": [
    "!pip install cuml"
   ]
  },
  {
   "cell_type": "code",
   "execution_count": null,
   "id": "fabulous-divide",
   "metadata": {},
   "outputs": [],
   "source": [
    "from cuml.manifold import TSNE\n",
    "\n",
    "# https://medium.com/rapids-ai/tsne-with-gpus-hours-to-seconds-9d9c17c941db\n",
    "# acccelerating TSNE with GPU: 4 optimizations"
   ]
  }
 ],
 "metadata": {
  "kernelspec": {
   "display_name": "Python 3",
   "language": "python",
   "name": "python3"
  },
  "language_info": {
   "codemirror_mode": {
    "name": "ipython",
    "version": 3
   },
   "file_extension": ".py",
   "mimetype": "text/x-python",
   "name": "python",
   "nbconvert_exporter": "python",
   "pygments_lexer": "ipython3",
   "version": "3.9.2"
  }
 },
 "nbformat": 4,
 "nbformat_minor": 5
}
