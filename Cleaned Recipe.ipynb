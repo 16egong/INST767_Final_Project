{
 "cells": [
  {
   "cell_type": "markdown",
   "id": "generic-treatment",
   "metadata": {},
   "source": [
    "# Recipe 1M + Spark"
   ]
  },
  {
   "cell_type": "markdown",
   "id": "working-hamilton",
   "metadata": {},
   "source": [
    "Outline\n",
    "- Downloads\n",
    "- Imports\n",
    "- Loading Data"
   ]
  },
  {
   "cell_type": "markdown",
   "id": "crude-teens",
   "metadata": {},
   "source": [
    "# Downloads"
   ]
  },
  {
   "cell_type": "code",
   "execution_count": 1,
   "id": "powerful-soldier",
   "metadata": {},
   "outputs": [],
   "source": [
    "# # Java\n",
    "# !apt-get update\n",
    "# !apt-get install openjdk-8-jdk-headless -qq > /dev/null"
   ]
  },
  {
   "cell_type": "code",
   "execution_count": 58,
   "id": "normal-founder",
   "metadata": {},
   "outputs": [],
   "source": [
    "# Pyhon libary installs\n",
    "# NOTE: Might need apache spark downloads, check later\n",
    "# !pip install pandas\n",
    "\n",
    "# !pip install pyspark\n",
    "# !pip install spark-nlp==3.0.0\n",
    "# !python -m pip install -U matplotlib #might not need this\n",
    "# !pip install bokeh"
   ]
  },
  {
   "cell_type": "markdown",
   "id": "fewer-adelaide",
   "metadata": {},
   "source": [
    "# Imports"
   ]
  },
  {
   "cell_type": "code",
   "execution_count": 3,
   "id": "academic-report",
   "metadata": {},
   "outputs": [
    {
     "data": {
      "text/html": [
       "<style>.container { width:80% !important; }</style>"
      ],
      "text/plain": [
       "<IPython.core.display.HTML object>"
      ]
     },
     "metadata": {},
     "output_type": "display_data"
    }
   ],
   "source": [
    "# Expands the width of the notebook\n",
    "from IPython.core.display import display, HTML\n",
    "display(HTML(\"<style>.container { width:80% !important; }</style>\"))\n"
   ]
  },
  {
   "cell_type": "code",
   "execution_count": 4,
   "id": "utility-mission",
   "metadata": {},
   "outputs": [],
   "source": [
    "# TODO: Check which ones get used\n",
    "import random\n",
    "import json\n",
    "\n",
    "import pandas as pd\n",
    "import matplotlib.pyplot as plt\n",
    "\n",
    "import pyspark\n",
    "from pyspark.ml import Pipeline\n",
    "from pyspark.ml.feature import SQLTransformer\n",
    "from pyspark.ml.feature import Normalizer\n",
    "from pyspark.ml.feature import VectorAssembler\n",
    "from pyspark.sql.functions import udf, col\n",
    "from pyspark.ml.linalg import Vector, Vectors, VectorUDT\n",
    "# from org.apache.spark.ml.linal import Vector, Vectors # Typo in John Snow Labs\n",
    "\n",
    "from pyspark.sql.functions import UserDefinedFunction\n",
    "from pyspark.sql.types import StringType, DoubleType\n",
    "from pyspark.ml.clustering import LDA\n",
    "\n",
    "from pyspark.ml.clustering import KMeans\n",
    "from pyspark.ml.evaluation import ClusteringEvaluator\n",
    "\n",
    "\n",
    "import pyspark.sql.functions as F\n",
    "from pyspark.sql.functions import explode\n",
    "\n",
    "import sparknlp\n",
    "from sparknlp.base import *\n",
    "from sparknlp.annotator import *              \n",
    "from sparknlp.pretrained import PretrainedPipeline"
   ]
  },
  {
   "cell_type": "code",
   "execution_count": 5,
   "id": "controlled-brazil",
   "metadata": {},
   "outputs": [],
   "source": [
    "# from google.colab import drive\n",
    "# drive.mount('/content/drive')"
   ]
  },
  {
   "cell_type": "code",
   "execution_count": 6,
   "id": "optional-daughter",
   "metadata": {},
   "outputs": [],
   "source": [
    "import os\n",
    "os.environ['JAVA_HOME'] = \"/usr/lib/jvm/java-8-openjdk-amd64\""
   ]
  },
  {
   "cell_type": "code",
   "execution_count": 7,
   "id": "western-nebraska",
   "metadata": {},
   "outputs": [],
   "source": [
    "# Adjust GPU and memory for individual use\n",
    "import sparknlp\n",
    "# spark = sparknlp.start()\n",
    "# for GPU training >> spark = sparknlp.start(gpu=True)\n",
    "spark = sparknlp.start(gpu=True, memory=\"32G\")"
   ]
  },
  {
   "cell_type": "code",
   "execution_count": 8,
   "id": "double-private",
   "metadata": {},
   "outputs": [
    {
     "data": {
      "text/plain": [
       "pyspark.sql.session.SparkSession"
      ]
     },
     "execution_count": 8,
     "metadata": {},
     "output_type": "execute_result"
    }
   ],
   "source": [
    "# Difference between spark session and spark context, can access spark context through spark session\n",
    "# https://medium.com/@achilleus/spark-session-10d0d66d1d24\n",
    "type(spark)"
   ]
  },
  {
   "cell_type": "code",
   "execution_count": 9,
   "id": "temporal-layout",
   "metadata": {},
   "outputs": [
    {
     "data": {
      "text/plain": [
       "'3.1.1'"
      ]
     },
     "execution_count": 9,
     "metadata": {},
     "output_type": "execute_result"
    }
   ],
   "source": [
    "sparknlp.version()\n",
    "spark.version"
   ]
  },
  {
   "cell_type": "markdown",
   "id": "restricted-knife",
   "metadata": {},
   "source": [
    "# Load and Format Data "
   ]
  },
  {
   "cell_type": "markdown",
   "id": "seeing-pendant",
   "metadata": {},
   "source": [
    "TODO: Facts about the data\n",
    "- sourced\n",
    "- layer1.json\n",
    "- etc"
   ]
  },
  {
   "cell_type": "code",
   "execution_count": 159,
   "id": "broadband-allen",
   "metadata": {},
   "outputs": [],
   "source": [
    "# file_path = '/content/drive/MyDrive/layer1.json'\n",
    "file_path = 'layer1.json'"
   ]
  },
  {
   "cell_type": "code",
   "execution_count": 160,
   "id": "southeast-anxiety",
   "metadata": {},
   "outputs": [],
   "source": [
    "# Read in the file to a pyspark dataframe type\n",
    "data_df = spark.read.json(file_path)"
   ]
  },
  {
   "cell_type": "code",
   "execution_count": 161,
   "id": "recreational-latex",
   "metadata": {},
   "outputs": [],
   "source": [
    "# Drop uncessary columns\n",
    "cols_to_drop1 = (\"_corrupt_record\", \"url\", \"partition\", \"instructions\") \n",
    "df_ingredients = data_df.drop(*cols_to_drop1)\n",
    "\n",
    "# Drop null values\n",
    "df_ingredients = df_ingredients.dropna()"
   ]
  },
  {
   "cell_type": "code",
   "execution_count": 162,
   "id": "worst-ocean",
   "metadata": {},
   "outputs": [
    {
     "name": "stdout",
     "output_type": "stream",
     "text": [
      "root\n",
      " |-- id: string (nullable = true)\n",
      " |-- ingredients: array (nullable = true)\n",
      " |    |-- element: struct (containsNull = true)\n",
      " |    |    |-- text: string (nullable = true)\n",
      " |-- title: string (nullable = true)\n",
      "\n"
     ]
    }
   ],
   "source": [
    "# View the data schema\n",
    "df_ingredients.printSchema()"
   ]
  },
  {
   "cell_type": "code",
   "execution_count": 163,
   "id": "informational-supervision",
   "metadata": {},
   "outputs": [
    {
     "name": "stdout",
     "output_type": "stream",
     "text": [
      "+----------+--------------------+--------------------+\n",
      "|        id|         ingredients|               title|\n",
      "+----------+--------------------+--------------------+\n",
      "|000018c8a5|[{6 ounces penne}...|Worlds Best Mac a...|\n",
      "|000033e39b|[{1 c. elbow maca...|Dilly Macaroni Sa...|\n",
      "|000035f7ed|[{8 tomatoes, qua...|            Gazpacho|\n",
      "|00003a70b1|[{2 12 cups milk}...|Crunchy Onion Pot...|\n",
      "|00004320bb|[{1 (3 ounce) pac...|Cool 'n Easy Crea...|\n",
      "|0000631d90|[{12 cup shredded...|Easy Tropical Bee...|\n",
      "|000075604a|[{2 Chicken thigh...|Kombu Tea Grilled...|\n",
      "|00007bfd16|[{6 -8 cups fresh...|Strawberry Rhubar...|\n",
      "|000095fc1d|[{8 ounces, weigh...|     Yogurt Parfaits|\n",
      "|0000973574|[{2 cups flour}, ...|  Zucchini Nut Bread|\n",
      "|0000a4bcf6|[{1/2 cup green o...|Salmon & Salad a ...|\n",
      "|0000b1e2b5|[{1 teaspoon fenn...|Fennel-Rubbed Por...|\n",
      "|0000c79afb|[{1 (750 ml) bott...|        Pink Sangria|\n",
      "|0000ed95f8|[{14 cup butter},...|      Pineapple Loaf|\n",
      "|00010379bf|[{200 grams Cake ...|Brown Sugar 'Kari...|\n",
      "|000106ec3c|[{1 can tomato sa...|      Corn Casserole|\n",
      "|00010c7867|[{1 12 lbs ground...|Grandmommy's Mexi...|\n",
      "|00010d44c7|[{1 (10 ounce) pa...|  Broccoli Rice Bake|\n",
      "|00011e0b2c|[{1/2 cup A.1. Cl...|Steak & Asparagus...|\n",
      "|00011fc1f9|[{1 cup lentils},...|Lentils Vegetable...|\n",
      "+----------+--------------------+--------------------+\n",
      "only showing top 20 rows\n",
      "\n"
     ]
    }
   ],
   "source": [
    "df_ingredients.show()"
   ]
  },
  {
   "cell_type": "code",
   "execution_count": 164,
   "id": "selected-gossip",
   "metadata": {},
   "outputs": [
    {
     "data": {
      "text/plain": [
       "1029720"
      ]
     },
     "execution_count": 164,
     "metadata": {},
     "output_type": "execute_result"
    }
   ],
   "source": [
    "# Size of dataframe\n",
    "df_ingredients.count()"
   ]
  },
  {
   "cell_type": "code",
   "execution_count": 165,
   "id": "annual-opinion",
   "metadata": {},
   "outputs": [
    {
     "data": {
      "text/plain": [
       "100"
      ]
     },
     "execution_count": 165,
     "metadata": {},
     "output_type": "execute_result"
    }
   ],
   "source": [
    "# For testing purposes: sample the size\n",
    "df_ingredients = spark.createDataFrame(df_ingredients.head(100))\n",
    "df_ingredients.count()"
   ]
  },
  {
   "cell_type": "code",
   "execution_count": 157,
   "id": "acoustic-computer",
   "metadata": {},
   "outputs": [],
   "source": [
    "# Convert the ingredients from an aray of strings to one string\n",
    "# Using UDF was definitely new to me\n",
    "# For more information on why to use udf instead of map \n",
    "# https://medium.com/@fqaiser94/udfs-vs-map-vs-custom-spark-native-functions-91ab2c154b44\n",
    "# https://stackoverflow.com/questions/29109916/updating-a-dataframe-column-in-spark\n",
    "\n",
    "name = 'ingredients' #taret_column name\n",
    "# Returns the list joined together with periods as seperators\n",
    "def parse_ingredients(ingredients):\n",
    "    return '. '.join([data['text'] for data in ingredients])\n",
    "\n",
    "udf1 = UserDefinedFunction(parse_ingredients, StringType())\n",
    "\n",
    "df_ingredients = df_ingredients.select(*[udf1(column).alias(name) if column == name else column for column in df_ingredients.columns])"
   ]
  },
  {
   "cell_type": "code",
   "execution_count": 158,
   "id": "signed-waterproof",
   "metadata": {},
   "outputs": [
    {
     "ename": "PythonException",
     "evalue": "\n  An exception was thrown from the Python worker. Please see the stack trace below.\nTraceback (most recent call last):\n  File \"/home/egong/miniconda3/envs/767_py3/lib/python3.9/site-packages/pyspark/python/lib/pyspark.zip/pyspark/worker.py\", line 604, in main\n    process()\n  File \"/home/egong/miniconda3/envs/767_py3/lib/python3.9/site-packages/pyspark/python/lib/pyspark.zip/pyspark/worker.py\", line 596, in process\n    serializer.dump_stream(out_iter, outfile)\n  File \"/home/egong/miniconda3/envs/767_py3/lib/python3.9/site-packages/pyspark/python/lib/pyspark.zip/pyspark/serializers.py\", line 211, in dump_stream\n    self.serializer.dump_stream(self._batched(iterator), stream)\n  File \"/home/egong/miniconda3/envs/767_py3/lib/python3.9/site-packages/pyspark/python/lib/pyspark.zip/pyspark/serializers.py\", line 132, in dump_stream\n    for obj in iterator:\n  File \"/home/egong/miniconda3/envs/767_py3/lib/python3.9/site-packages/pyspark/python/lib/pyspark.zip/pyspark/serializers.py\", line 200, in _batched\n    for item in iterator:\n  File \"/home/egong/miniconda3/envs/767_py3/lib/python3.9/site-packages/pyspark/python/lib/pyspark.zip/pyspark/worker.py\", line 450, in mapper\n    result = tuple(f(*[a[o] for o in arg_offsets]) for (arg_offsets, f) in udfs)\n  File \"/home/egong/miniconda3/envs/767_py3/lib/python3.9/site-packages/pyspark/python/lib/pyspark.zip/pyspark/worker.py\", line 450, in <genexpr>\n    result = tuple(f(*[a[o] for o in arg_offsets]) for (arg_offsets, f) in udfs)\n  File \"/home/egong/miniconda3/envs/767_py3/lib/python3.9/site-packages/pyspark/python/lib/pyspark.zip/pyspark/worker.py\", line 85, in <lambda>\n    return lambda *a: f(*a)\n  File \"/home/egong/miniconda3/envs/767_py3/lib/python3.9/site-packages/pyspark/python/lib/pyspark.zip/pyspark/util.py\", line 73, in wrapper\n    return f(*args, **kwargs)\n  File \"/home/egong/miniconda3/envs/767_py3/lib/python3.9/site-packages/pyspark/python/lib/pyspark.zip/pyspark/worker.py\", line 77, in <lambda>\n    return lambda *a: g(f(*a))\n  File \"<ipython-input-157-f30890fab8e1>\", line 10, in parse_ingredients\n  File \"<ipython-input-157-f30890fab8e1>\", line 10, in <listcomp>\nTypeError: string indices must be integers\n",
     "output_type": "error",
     "traceback": [
      "\u001b[0;31m---------------------------------------------------------------------------\u001b[0m",
      "\u001b[0;31mPythonException\u001b[0m                           Traceback (most recent call last)",
      "\u001b[0;32m<ipython-input-158-8a97baf2438c>\u001b[0m in \u001b[0;36m<module>\u001b[0;34m\u001b[0m\n\u001b[1;32m      1\u001b[0m \u001b[0;31m# As you can see below, the ingredients are strings now\u001b[0m\u001b[0;34m\u001b[0m\u001b[0;34m\u001b[0m\u001b[0;34m\u001b[0m\u001b[0m\n\u001b[0;32m----> 2\u001b[0;31m \u001b[0mdf_ingredients\u001b[0m\u001b[0;34m.\u001b[0m\u001b[0mshow\u001b[0m\u001b[0;34m(\u001b[0m\u001b[0;34m)\u001b[0m\u001b[0;34m\u001b[0m\u001b[0;34m\u001b[0m\u001b[0m\n\u001b[0m",
      "\u001b[0;32m~/miniconda3/envs/767_py3/lib/python3.9/site-packages/pyspark/sql/dataframe.py\u001b[0m in \u001b[0;36mshow\u001b[0;34m(self, n, truncate, vertical)\u001b[0m\n\u001b[1;32m    482\u001b[0m         \"\"\"\n\u001b[1;32m    483\u001b[0m         \u001b[0;32mif\u001b[0m \u001b[0misinstance\u001b[0m\u001b[0;34m(\u001b[0m\u001b[0mtruncate\u001b[0m\u001b[0;34m,\u001b[0m \u001b[0mbool\u001b[0m\u001b[0;34m)\u001b[0m \u001b[0;32mand\u001b[0m \u001b[0mtruncate\u001b[0m\u001b[0;34m:\u001b[0m\u001b[0;34m\u001b[0m\u001b[0;34m\u001b[0m\u001b[0m\n\u001b[0;32m--> 484\u001b[0;31m             \u001b[0mprint\u001b[0m\u001b[0;34m(\u001b[0m\u001b[0mself\u001b[0m\u001b[0;34m.\u001b[0m\u001b[0m_jdf\u001b[0m\u001b[0;34m.\u001b[0m\u001b[0mshowString\u001b[0m\u001b[0;34m(\u001b[0m\u001b[0mn\u001b[0m\u001b[0;34m,\u001b[0m \u001b[0;36m20\u001b[0m\u001b[0;34m,\u001b[0m \u001b[0mvertical\u001b[0m\u001b[0;34m)\u001b[0m\u001b[0;34m)\u001b[0m\u001b[0;34m\u001b[0m\u001b[0;34m\u001b[0m\u001b[0m\n\u001b[0m\u001b[1;32m    485\u001b[0m         \u001b[0;32melse\u001b[0m\u001b[0;34m:\u001b[0m\u001b[0;34m\u001b[0m\u001b[0;34m\u001b[0m\u001b[0m\n\u001b[1;32m    486\u001b[0m             \u001b[0mprint\u001b[0m\u001b[0;34m(\u001b[0m\u001b[0mself\u001b[0m\u001b[0;34m.\u001b[0m\u001b[0m_jdf\u001b[0m\u001b[0;34m.\u001b[0m\u001b[0mshowString\u001b[0m\u001b[0;34m(\u001b[0m\u001b[0mn\u001b[0m\u001b[0;34m,\u001b[0m \u001b[0mint\u001b[0m\u001b[0;34m(\u001b[0m\u001b[0mtruncate\u001b[0m\u001b[0;34m)\u001b[0m\u001b[0;34m,\u001b[0m \u001b[0mvertical\u001b[0m\u001b[0;34m)\u001b[0m\u001b[0;34m)\u001b[0m\u001b[0;34m\u001b[0m\u001b[0;34m\u001b[0m\u001b[0m\n",
      "\u001b[0;32m~/miniconda3/envs/767_py3/lib/python3.9/site-packages/py4j/java_gateway.py\u001b[0m in \u001b[0;36m__call__\u001b[0;34m(self, *args)\u001b[0m\n\u001b[1;32m   1302\u001b[0m \u001b[0;34m\u001b[0m\u001b[0m\n\u001b[1;32m   1303\u001b[0m         \u001b[0manswer\u001b[0m \u001b[0;34m=\u001b[0m \u001b[0mself\u001b[0m\u001b[0;34m.\u001b[0m\u001b[0mgateway_client\u001b[0m\u001b[0;34m.\u001b[0m\u001b[0msend_command\u001b[0m\u001b[0;34m(\u001b[0m\u001b[0mcommand\u001b[0m\u001b[0;34m)\u001b[0m\u001b[0;34m\u001b[0m\u001b[0;34m\u001b[0m\u001b[0m\n\u001b[0;32m-> 1304\u001b[0;31m         return_value = get_return_value(\n\u001b[0m\u001b[1;32m   1305\u001b[0m             answer, self.gateway_client, self.target_id, self.name)\n\u001b[1;32m   1306\u001b[0m \u001b[0;34m\u001b[0m\u001b[0m\n",
      "\u001b[0;32m~/miniconda3/envs/767_py3/lib/python3.9/site-packages/pyspark/sql/utils.py\u001b[0m in \u001b[0;36mdeco\u001b[0;34m(*a, **kw)\u001b[0m\n\u001b[1;32m    115\u001b[0m                 \u001b[0;31m# Hide where the exception came from that shows a non-Pythonic\u001b[0m\u001b[0;34m\u001b[0m\u001b[0;34m\u001b[0m\u001b[0;34m\u001b[0m\u001b[0m\n\u001b[1;32m    116\u001b[0m                 \u001b[0;31m# JVM exception message.\u001b[0m\u001b[0;34m\u001b[0m\u001b[0;34m\u001b[0m\u001b[0;34m\u001b[0m\u001b[0m\n\u001b[0;32m--> 117\u001b[0;31m                 \u001b[0;32mraise\u001b[0m \u001b[0mconverted\u001b[0m \u001b[0;32mfrom\u001b[0m \u001b[0;32mNone\u001b[0m\u001b[0;34m\u001b[0m\u001b[0;34m\u001b[0m\u001b[0m\n\u001b[0m\u001b[1;32m    118\u001b[0m             \u001b[0;32melse\u001b[0m\u001b[0;34m:\u001b[0m\u001b[0;34m\u001b[0m\u001b[0;34m\u001b[0m\u001b[0m\n\u001b[1;32m    119\u001b[0m                 \u001b[0;32mraise\u001b[0m\u001b[0;34m\u001b[0m\u001b[0;34m\u001b[0m\u001b[0m\n",
      "\u001b[0;31mPythonException\u001b[0m: \n  An exception was thrown from the Python worker. Please see the stack trace below.\nTraceback (most recent call last):\n  File \"/home/egong/miniconda3/envs/767_py3/lib/python3.9/site-packages/pyspark/python/lib/pyspark.zip/pyspark/worker.py\", line 604, in main\n    process()\n  File \"/home/egong/miniconda3/envs/767_py3/lib/python3.9/site-packages/pyspark/python/lib/pyspark.zip/pyspark/worker.py\", line 596, in process\n    serializer.dump_stream(out_iter, outfile)\n  File \"/home/egong/miniconda3/envs/767_py3/lib/python3.9/site-packages/pyspark/python/lib/pyspark.zip/pyspark/serializers.py\", line 211, in dump_stream\n    self.serializer.dump_stream(self._batched(iterator), stream)\n  File \"/home/egong/miniconda3/envs/767_py3/lib/python3.9/site-packages/pyspark/python/lib/pyspark.zip/pyspark/serializers.py\", line 132, in dump_stream\n    for obj in iterator:\n  File \"/home/egong/miniconda3/envs/767_py3/lib/python3.9/site-packages/pyspark/python/lib/pyspark.zip/pyspark/serializers.py\", line 200, in _batched\n    for item in iterator:\n  File \"/home/egong/miniconda3/envs/767_py3/lib/python3.9/site-packages/pyspark/python/lib/pyspark.zip/pyspark/worker.py\", line 450, in mapper\n    result = tuple(f(*[a[o] for o in arg_offsets]) for (arg_offsets, f) in udfs)\n  File \"/home/egong/miniconda3/envs/767_py3/lib/python3.9/site-packages/pyspark/python/lib/pyspark.zip/pyspark/worker.py\", line 450, in <genexpr>\n    result = tuple(f(*[a[o] for o in arg_offsets]) for (arg_offsets, f) in udfs)\n  File \"/home/egong/miniconda3/envs/767_py3/lib/python3.9/site-packages/pyspark/python/lib/pyspark.zip/pyspark/worker.py\", line 85, in <lambda>\n    return lambda *a: f(*a)\n  File \"/home/egong/miniconda3/envs/767_py3/lib/python3.9/site-packages/pyspark/python/lib/pyspark.zip/pyspark/util.py\", line 73, in wrapper\n    return f(*args, **kwargs)\n  File \"/home/egong/miniconda3/envs/767_py3/lib/python3.9/site-packages/pyspark/python/lib/pyspark.zip/pyspark/worker.py\", line 77, in <lambda>\n    return lambda *a: g(f(*a))\n  File \"<ipython-input-157-f30890fab8e1>\", line 10, in parse_ingredients\n  File \"<ipython-input-157-f30890fab8e1>\", line 10, in <listcomp>\nTypeError: string indices must be integers\n"
     ]
    }
   ],
   "source": [
    "# As you can see below, the ingredients are strings now\n",
    "df_ingredients.show()"
   ]
  },
  {
   "cell_type": "markdown",
   "id": "authorized-temperature",
   "metadata": {},
   "source": [
    "# Introduce Pyspark NLP Pipeline"
   ]
  },
  {
   "cell_type": "code",
   "execution_count": 19,
   "id": "attended-condition",
   "metadata": {},
   "outputs": [],
   "source": [
    "# Document Assembler: Converts our raw data into a format for the Pyspark NLP to use for other parts of the pipeline, \n",
    "# specefically in the \"Document\" type\n",
    "documentAssembler = DocumentAssembler() \\\n",
    "    .setInputCol(\"ingredients\") \\\n",
    "    .setOutputCol(\"document\") \\\n",
    "    .setCleanupMode(\"shrink\")"
   ]
  },
  {
   "cell_type": "code",
   "execution_count": 20,
   "id": "exterior-center",
   "metadata": {},
   "outputs": [
    {
     "name": "stdout",
     "output_type": "stream",
     "text": [
      "sent_small_bert_L2_768 download started this may take some time.\n",
      "Approximate size to download 139.6 MB\n",
      "[OK!]\n"
     ]
    }
   ],
   "source": [
    "# Typo in the documentation: \n",
    "# Documentation: BertSentenceembeddings (missing uppercase in the E)\n",
    "# Correction: BertSentenceEmbeddings\n",
    "sentence_embeddings = BertSentenceEmbeddings.pretrained() \\\n",
    "    .setInputCols(\"document\") \\\n",
    "    .setOutputCol(\"sentence_embeddings\") \\\n",
    "    .setLazyAnnotator(False)"
   ]
  },
  {
   "cell_type": "code",
   "execution_count": 21,
   "id": "bound-mayor",
   "metadata": {},
   "outputs": [],
   "source": [
    "# The documentation states after SentenceEmbeddings that you will need to convert \n",
    "# these embeddings into Vectors or what's known as Feature column so it can be used in Spark ML\n",
    "# Correction: The documentation states its in python, however the code is not python and a mixture between Scala and other typos\n",
    "# Instead, you can use the embeddings finisher to help format the vectors\n",
    "\n",
    "embeddings_finisher = EmbeddingsFinisher() \\\n",
    "            .setInputCols([\"sentence_embeddings\"]) \\\n",
    "            .setOutputCols(\"sentence_embeddings_vectors\") \\\n",
    "            .setOutputAsVector(True)"
   ]
  },
  {
   "cell_type": "code",
   "execution_count": 22,
   "id": "occasional-matter",
   "metadata": {},
   "outputs": [],
   "source": [
    "# Now we add all of these elements to the pipeline\n",
    "pipeline = Pipeline(\n",
    "    stages=[\n",
    "        documentAssembler, \n",
    "        sentence_embeddings,\n",
    "        embeddings_finisher\n",
    " ])"
   ]
  },
  {
   "cell_type": "code",
   "execution_count": 23,
   "id": "existing-foster",
   "metadata": {},
   "outputs": [],
   "source": [
    "# fit the pipeline on ingredients data\n",
    "pipelineModel = pipeline.fit(df_ingredients)"
   ]
  },
  {
   "cell_type": "code",
   "execution_count": 24,
   "id": "emerging-provision",
   "metadata": {},
   "outputs": [],
   "source": [
    "# transform ingredients data into BERT vectors\n",
    "transformed_df = pipelineModel.transform(df_ingredients)"
   ]
  },
  {
   "cell_type": "code",
   "execution_count": 25,
   "id": "reflected-reservoir",
   "metadata": {},
   "outputs": [
    {
     "name": "stdout",
     "output_type": "stream",
     "text": [
      "root\n",
      " |-- id: string (nullable = true)\n",
      " |-- ingredients: string (nullable = true)\n",
      " |-- title: string (nullable = true)\n",
      " |-- document: array (nullable = true)\n",
      " |    |-- element: struct (containsNull = true)\n",
      " |    |    |-- annotatorType: string (nullable = true)\n",
      " |    |    |-- begin: integer (nullable = false)\n",
      " |    |    |-- end: integer (nullable = false)\n",
      " |    |    |-- result: string (nullable = true)\n",
      " |    |    |-- metadata: map (nullable = true)\n",
      " |    |    |    |-- key: string\n",
      " |    |    |    |-- value: string (valueContainsNull = true)\n",
      " |    |    |-- embeddings: array (nullable = true)\n",
      " |    |    |    |-- element: float (containsNull = false)\n",
      " |-- sentence_embeddings: array (nullable = true)\n",
      " |    |-- element: struct (containsNull = false)\n",
      " |    |    |-- annotatorType: string (nullable = true)\n",
      " |    |    |-- begin: integer (nullable = false)\n",
      " |    |    |-- end: integer (nullable = false)\n",
      " |    |    |-- result: string (nullable = true)\n",
      " |    |    |-- metadata: map (nullable = true)\n",
      " |    |    |    |-- key: string\n",
      " |    |    |    |-- value: string (valueContainsNull = true)\n",
      " |    |    |-- embeddings: array (nullable = true)\n",
      " |    |    |    |-- element: float (containsNull = false)\n",
      " |-- sentence_embeddings_vectors: array (nullable = true)\n",
      " |    |-- element: vector (containsNull = true)\n",
      "\n"
     ]
    }
   ],
   "source": [
    "transformed_df.printSchema()"
   ]
  },
  {
   "cell_type": "code",
   "execution_count": 26,
   "id": "fiscal-hebrew",
   "metadata": {
    "scrolled": true
   },
   "outputs": [
    {
     "name": "stdout",
     "output_type": "stream",
     "text": [
      "+----------+--------------------+--------------------+--------------------+--------------------+---------------------------+\n",
      "|        id|         ingredients|               title|            document| sentence_embeddings|sentence_embeddings_vectors|\n",
      "+----------+--------------------+--------------------+--------------------+--------------------+---------------------------+\n",
      "|000018c8a5|6 ounces penne. 2...|Worlds Best Mac a...|[{document, 0, 51...|[{sentence_embedd...|       [[0.2496253103017...|\n",
      "|000033e39b|1 c. elbow macaro...|Dilly Macaroni Sa...|[{document, 0, 24...|[{sentence_embedd...|       [[0.3729802668094...|\n",
      "|000035f7ed|8 tomatoes, quart...|            Gazpacho|[{document, 0, 30...|[{sentence_embedd...|       [[0.2992067039012...|\n",
      "|00003a70b1|2 12 cups milk. 1...|Crunchy Onion Pot...|[{document, 0, 17...|[{sentence_embedd...|       [[0.3870077133178...|\n",
      "|00004320bb|1 (3 ounce) packa...|Cool 'n Easy Crea...|[{document, 0, 15...|[{sentence_embedd...|       [[0.4652682244777...|\n",
      "|0000631d90|12 cup shredded c...|Easy Tropical Bee...|[{document, 0, 34...|[{sentence_embedd...|       [[0.4759099185466...|\n",
      "|000075604a|2 Chicken thighs....|Kombu Tea Grilled...|[{document, 0, 48...|[{sentence_embedd...|       [[0.2703805863857...|\n",
      "|00007bfd16|6 -8 cups fresh r...|Strawberry Rhubar...|[{document, 0, 22...|[{sentence_embedd...|       [[0.3721141815185...|\n",
      "|000095fc1d|8 ounces, weight ...|     Yogurt Parfaits|[{document, 0, 12...|[{sentence_embedd...|       [[0.4540592432022...|\n",
      "|0000973574|2 cups flour. 1 t...|  Zucchini Nut Bread|[{document, 0, 21...|[{sentence_embedd...|       [[0.4259899854660...|\n",
      "|0000a4bcf6|1/2 cup green oni...|Salmon & Salad a ...|[{document, 0, 53...|[{sentence_embedd...|       [[0.4051529169082...|\n",
      "|0000b1e2b5|1 teaspoon fennel...|Fennel-Rubbed Por...|[{document, 0, 31...|[{sentence_embedd...|       [[0.4809822440147...|\n",
      "|0000c79afb|1 (750 ml) bottle...|        Pink Sangria|[{document, 0, 23...|[{sentence_embedd...|       [[0.4633704125881...|\n",
      "|0000ed95f8|14 cup butter. 34...|      Pineapple Loaf|[{document, 0, 23...|[{sentence_embedd...|       [[0.3177408576011...|\n",
      "|00010379bf|200 grams Cake fl...|Brown Sugar 'Kari...|[{document, 0, 27...|[{sentence_embedd...|       [[0.2816092967987...|\n",
      "|000106ec3c|1 can tomato sauc...|      Corn Casserole|[{document, 0, 13...|[{sentence_embedd...|       [[0.3493588566780...|\n",
      "|00010c7867|1 12 lbs ground b...|Grandmommy's Mexi...|[{document, 0, 34...|[{sentence_embedd...|       [[0.3142421543598...|\n",
      "|00010d44c7|1 (10 ounce) pack...|  Broccoli Rice Bake|[{document, 0, 30...|[{sentence_embedd...|       [[0.3920705914497...|\n",
      "|00011e0b2c|1/2 cup A.1. Clas...|Steak & Asparagus...|[{document, 0, 20...|[{sentence_embedd...|       [[0.3486717641353...|\n",
      "|00011fc1f9|1 cup lentils. 12...|Lentils Vegetable...|[{document, 0, 43...|[{sentence_embedd...|       [[0.3638961613178...|\n",
      "+----------+--------------------+--------------------+--------------------+--------------------+---------------------------+\n",
      "only showing top 20 rows\n",
      "\n"
     ]
    }
   ],
   "source": [
    "transformed_df.show()"
   ]
  },
  {
   "cell_type": "code",
   "execution_count": 27,
   "id": "impressed-offset",
   "metadata": {},
   "outputs": [
    {
     "data": {
      "text/plain": [
       "list"
      ]
     },
     "execution_count": 27,
     "metadata": {},
     "output_type": "execute_result"
    }
   ],
   "source": [
    "# Demonstrate the type here is a list when a Dense vector is desired\n",
    "type(transformed_df.collect()[0]['sentence_embeddings_vectors'])"
   ]
  },
  {
   "cell_type": "code",
   "execution_count": 28,
   "id": "homeless-agreement",
   "metadata": {},
   "outputs": [],
   "source": [
    "# The data for the sentence_embeddings_vectors is in a list of DenseVectors rather than just DenseVectors\n",
    "# I have no idea why, have to figure that out\n",
    "# Correction: I use a UDF to convert the list to the DenseVector \n",
    "\n",
    "list_to_vector_udf = udf(lambda l: l[0], VectorUDT())\n",
    "transformed_df = transformed_df.select(transformed_df['id'], transformed_df['title'], transformed_df['ingredients'], list_to_vector_udf(transformed_df['sentence_embeddings_vectors']).alias(\"features\"))"
   ]
  },
  {
   "cell_type": "code",
   "execution_count": 29,
   "id": "structural-blues",
   "metadata": {},
   "outputs": [
    {
     "name": "stdout",
     "output_type": "stream",
     "text": [
      "+----------+--------------------+--------------------+--------------------+\n",
      "|        id|               title|         ingredients|            features|\n",
      "+----------+--------------------+--------------------+--------------------+\n",
      "|000018c8a5|Worlds Best Mac a...|6 ounces penne. 2...|[0.24962531030178...|\n",
      "|000033e39b|Dilly Macaroni Sa...|1 c. elbow macaro...|[0.37298026680946...|\n",
      "|000035f7ed|            Gazpacho|8 tomatoes, quart...|[0.29920670390129...|\n",
      "|00003a70b1|Crunchy Onion Pot...|2 12 cups milk. 1...|[0.38700771331787...|\n",
      "|00004320bb|Cool 'n Easy Crea...|1 (3 ounce) packa...|[0.46526822447776...|\n",
      "|0000631d90|Easy Tropical Bee...|12 cup shredded c...|[0.47590991854667...|\n",
      "|000075604a|Kombu Tea Grilled...|2 Chicken thighs....|[0.27038058638572...|\n",
      "|00007bfd16|Strawberry Rhubar...|6 -8 cups fresh r...|[0.37211418151855...|\n",
      "|000095fc1d|     Yogurt Parfaits|8 ounces, weight ...|[0.45405924320220...|\n",
      "|0000973574|  Zucchini Nut Bread|2 cups flour. 1 t...|[0.42598998546600...|\n",
      "|0000a4bcf6|Salmon & Salad a ...|1/2 cup green oni...|[0.40515291690826...|\n",
      "|0000b1e2b5|Fennel-Rubbed Por...|1 teaspoon fennel...|[0.48098224401474...|\n",
      "|0000c79afb|        Pink Sangria|1 (750 ml) bottle...|[0.46337041258811...|\n",
      "|0000ed95f8|      Pineapple Loaf|14 cup butter. 34...|[0.31774085760116...|\n",
      "|00010379bf|Brown Sugar 'Kari...|200 grams Cake fl...|[0.28160929679870...|\n",
      "|000106ec3c|      Corn Casserole|1 can tomato sauc...|[0.34935885667800...|\n",
      "|00010c7867|Grandmommy's Mexi...|1 12 lbs ground b...|[0.31424215435981...|\n",
      "|00010d44c7|  Broccoli Rice Bake|1 (10 ounce) pack...|[0.39207059144973...|\n",
      "|00011e0b2c|Steak & Asparagus...|1/2 cup A.1. Clas...|[0.34867176413536...|\n",
      "|00011fc1f9|Lentils Vegetable...|1 cup lentils. 12...|[0.36389616131782...|\n",
      "+----------+--------------------+--------------------+--------------------+\n",
      "only showing top 20 rows\n",
      "\n"
     ]
    }
   ],
   "source": [
    "# Here you can see sentence_embeddings_vectors has been reduced down to DenseVectors\n",
    "transformed_df.show()"
   ]
  },
  {
   "cell_type": "code",
   "execution_count": 32,
   "id": "quantitative-method",
   "metadata": {},
   "outputs": [
    {
     "data": {
      "text/plain": [
       "pyspark.ml.linalg.DenseVector"
      ]
     },
     "execution_count": 32,
     "metadata": {},
     "output_type": "execute_result"
    }
   ],
   "source": [
    "# The correct type to go into Spark ML\n",
    "type(transformed_df.collect()[0]['features'])"
   ]
  },
  {
   "cell_type": "markdown",
   "id": "czech-sharing",
   "metadata": {},
   "source": [
    "# Spark ML"
   ]
  },
  {
   "cell_type": "markdown",
   "id": "sought-grade",
   "metadata": {},
   "source": [
    "## LDA"
   ]
  },
  {
   "cell_type": "code",
   "execution_count": 33,
   "id": "amber-cheese",
   "metadata": {},
   "outputs": [],
   "source": [
    "# num_topics = 3\n",
    "# lda = LDA(k=num_topics, maxIter=1)\n",
    "# lda_model = lda.fit(transformed_df)"
   ]
  },
  {
   "cell_type": "code",
   "execution_count": 34,
   "id": "incoming-student",
   "metadata": {},
   "outputs": [],
   "source": [
    "# topics = lda_model.describeTopics(3)\n",
    "# print(\"The topics described by their top-weighted terms:\")\n",
    "# topics.show(truncate=False)"
   ]
  },
  {
   "cell_type": "code",
   "execution_count": 35,
   "id": "joint-hobby",
   "metadata": {},
   "outputs": [],
   "source": [
    "# # Shows the result\n",
    "# transformed = lda_model.transform(transformed_df)\n",
    "# transformed.show(truncate=False)"
   ]
  },
  {
   "cell_type": "code",
   "execution_count": null,
   "id": "preliminary-design",
   "metadata": {},
   "outputs": [],
   "source": []
  },
  {
   "cell_type": "markdown",
   "id": "peripheral-consciousness",
   "metadata": {},
   "source": [
    "## K-Means"
   ]
  },
  {
   "cell_type": "code",
   "execution_count": 37,
   "id": "refined-scout",
   "metadata": {},
   "outputs": [
    {
     "name": "stdout",
     "output_type": "stream",
     "text": [
      "Silhouette Score: 0.14668229340509278\n",
      "Silhouette Score: 0.11190371639296828\n",
      "Silhouette Score: 0.1285438386571317\n",
      "Silhouette Score: 0.12905865785682435\n",
      "Silhouette Score: 0.09172660328605911\n",
      "Silhouette Score: 0.10026406514072488\n",
      "Silhouette Score: 0.09635323472794038\n",
      "Silhouette Score: 0.04150263483081923\n"
     ]
    }
   ],
   "source": [
    "silhouette_score=[]\n",
    "evaluator = ClusteringEvaluator()\n",
    "\n",
    "for i in range(2,10):\n",
    "    kmeans = KMeans().setK(i).setSeed(1)\n",
    "    kmeans_model = kmeans.fit(transformed_df)\n",
    "    predictions = kmeans_model.transform(transformed_df)\n",
    "    silhouette = evaluator.evaluate(predictions)\n",
    "    silhouette_score.append(silhouette)\n",
    "    \n",
    "    print(\"Silhouette Score:\",silhouette)\n",
    "# https://towardsdatascience.com/k-means-clustering-using-pyspark-on-big-data-6214beacdc8b"
   ]
  },
  {
   "cell_type": "code",
   "execution_count": 38,
   "id": "engaging-machinery",
   "metadata": {},
   "outputs": [
    {
     "data": {
      "text/plain": [
       "Text(0, 0.5, 'cost')"
      ]
     },
     "execution_count": 38,
     "metadata": {},
     "output_type": "execute_result"
    },
    {
     "data": {
      "image/png": "[encoded data removed]",
      "text/plain": [
       "<Figure size 576x432 with 1 Axes>"
      ]
     },
     "metadata": {
      "needs_background": "light"
     },
     "output_type": "display_data"
    }
   ],
   "source": [
    "# Visualizing the silhouette scores in a plot\n",
    "import matplotlib.pyplot as plt\n",
    "fig, ax = plt.subplots(1,1, figsize =(8,6))\n",
    "ax.plot(range(2,10),silhouette_score)\n",
    "ax.set_xlabel('k')\n",
    "ax.set_ylabel('cost')"
   ]
  },
  {
   "cell_type": "code",
   "execution_count": 39,
   "id": "appreciated-weight",
   "metadata": {},
   "outputs": [],
   "source": [
    "kmeans = KMeans().setK(5).setSeed(1)\n",
    "kmeans_model = kmeans.fit(transformed_df)\n",
    "\n",
    "# Make predictions\n",
    "transformed = kmeans_model.transform(transformed_df).select('id', 'prediction')\n",
    "\n",
    "# Evaluate clustering by computing Silhouette score\n",
    "evaluator = ClusteringEvaluator()\n",
    "\n",
    "# Shows the result.\n",
    "# centers = kmeans_model.clusterCenters()\n",
    "# print(\"Cluster Centers: \")\n",
    "# for center in centers:\n",
    "#     print(center)"
   ]
  },
  {
   "cell_type": "code",
   "execution_count": 40,
   "id": "empirical-field",
   "metadata": {},
   "outputs": [
    {
     "name": "stdout",
     "output_type": "stream",
     "text": [
      "[Row(id='000018c8a5', prediction=3), Row(id='000033e39b', prediction=0), Row(id='000035f7ed', prediction=0)]\n"
     ]
    }
   ],
   "source": [
    "# https://rsandstroem.github.io/sparkkmeans.html\n",
    "rows = transformed.collect()\n",
    "print(rows[:3])"
   ]
  },
  {
   "cell_type": "code",
   "execution_count": 41,
   "id": "controlled-suicide",
   "metadata": {},
   "outputs": [
    {
     "name": "stdout",
     "output_type": "stream",
     "text": [
      "+----------+----------+\n",
      "|        id|prediction|\n",
      "+----------+----------+\n",
      "|000018c8a5|         3|\n",
      "|000033e39b|         0|\n",
      "|000035f7ed|         0|\n",
      "|00003a70b1|         1|\n",
      "|00004320bb|         3|\n",
      "|0000631d90|         1|\n",
      "|000075604a|         0|\n",
      "|00007bfd16|         3|\n",
      "|000095fc1d|         3|\n",
      "|0000973574|         1|\n",
      "|0000a4bcf6|         1|\n",
      "|0000b1e2b5|         1|\n",
      "|0000c79afb|         2|\n",
      "|0000ed95f8|         1|\n",
      "|00010379bf|         0|\n",
      "|000106ec3c|         0|\n",
      "|00010c7867|         1|\n",
      "|00010d44c7|         1|\n",
      "|00011e0b2c|         0|\n",
      "|00011fc1f9|         1|\n",
      "+----------+----------+\n",
      "only showing top 20 rows\n",
      "\n"
     ]
    }
   ],
   "source": [
    "df_pred = spark.createDataFrame(rows)\n",
    "df_pred.show()"
   ]
  },
  {
   "cell_type": "code",
   "execution_count": 42,
   "id": "otherwise-printing",
   "metadata": {},
   "outputs": [],
   "source": [
    "test_transformed = kmeans_model.transform(transformed_df).select('id', 'title', 'ingredients', 'prediction')"
   ]
  },
  {
   "cell_type": "code",
   "execution_count": 43,
   "id": "theoretical-volume",
   "metadata": {},
   "outputs": [
    {
     "name": "stdout",
     "output_type": "stream",
     "text": [
      "[Row(id='000018c8a5', prediction=3), Row(id='000033e39b', prediction=0), Row(id='000035f7ed', prediction=0)]\n"
     ]
    }
   ],
   "source": [
    "test_rows = test_transformed.collect()\n",
    "print(rows[:3])"
   ]
  },
  {
   "cell_type": "code",
   "execution_count": 44,
   "id": "civilian-illustration",
   "metadata": {},
   "outputs": [
    {
     "name": "stdout",
     "output_type": "stream",
     "text": [
      "+----------+--------------------+--------------------+----------+\n",
      "|        id|               title|         ingredients|prediction|\n",
      "+----------+--------------------+--------------------+----------+\n",
      "|000018c8a5|Worlds Best Mac a...|6 ounces penne. 2...|         3|\n",
      "|000033e39b|Dilly Macaroni Sa...|1 c. elbow macaro...|         0|\n",
      "|000035f7ed|            Gazpacho|8 tomatoes, quart...|         0|\n",
      "|00003a70b1|Crunchy Onion Pot...|2 12 cups milk. 1...|         1|\n",
      "|00004320bb|Cool 'n Easy Crea...|1 (3 ounce) packa...|         3|\n",
      "|0000631d90|Easy Tropical Bee...|12 cup shredded c...|         1|\n",
      "|000075604a|Kombu Tea Grilled...|2 Chicken thighs....|         0|\n",
      "|00007bfd16|Strawberry Rhubar...|6 -8 cups fresh r...|         3|\n",
      "|000095fc1d|     Yogurt Parfaits|8 ounces, weight ...|         3|\n",
      "|0000973574|  Zucchini Nut Bread|2 cups flour. 1 t...|         1|\n",
      "|0000a4bcf6|Salmon & Salad a ...|1/2 cup green oni...|         1|\n",
      "|0000b1e2b5|Fennel-Rubbed Por...|1 teaspoon fennel...|         1|\n",
      "|0000c79afb|        Pink Sangria|1 (750 ml) bottle...|         2|\n",
      "|0000ed95f8|      Pineapple Loaf|14 cup butter. 34...|         1|\n",
      "|00010379bf|Brown Sugar 'Kari...|200 grams Cake fl...|         0|\n",
      "|000106ec3c|      Corn Casserole|1 can tomato sauc...|         0|\n",
      "|00010c7867|Grandmommy's Mexi...|1 12 lbs ground b...|         1|\n",
      "|00010d44c7|  Broccoli Rice Bake|1 (10 ounce) pack...|         1|\n",
      "|00011e0b2c|Steak & Asparagus...|1/2 cup A.1. Clas...|         0|\n",
      "|00011fc1f9|Lentils Vegetable...|1 cup lentils. 12...|         1|\n",
      "+----------+--------------------+--------------------+----------+\n",
      "only showing top 20 rows\n",
      "\n"
     ]
    }
   ],
   "source": [
    "test_df_pred = spark.createDataFrame(test_rows)\n",
    "test_df_pred.show()"
   ]
  },
  {
   "cell_type": "code",
   "execution_count": 45,
   "id": "ignored-angola",
   "metadata": {},
   "outputs": [
    {
     "name": "stdout",
     "output_type": "stream",
     "text": [
      "+----------+----------+--------------------+--------------------+--------------------+\n",
      "|        id|prediction|               title|         ingredients|            features|\n",
      "+----------+----------+--------------------+--------------------+--------------------+\n",
      "|00011fc1f9|         1|Lentils Vegetable...|1 cup lentils. 12...|[0.36389616131782...|\n",
      "|00004320bb|         3|Cool 'n Easy Crea...|1 (3 ounce) packa...|[0.46526822447776...|\n",
      "|000033e39b|         0|Dilly Macaroni Sa...|1 c. elbow macaro...|[0.37298026680946...|\n",
      "|00050db874|         1| Peanut Butter Bread|34 cup peanut but...|[0.25108271837234...|\n",
      "|000368efd3|         0|Cheesy Herbed Egg...|2 eggs, scrambled...|[0.32029792666435...|\n",
      "|00033f624d|         0|Amy's Cheesey , B...|1/4 cup butter. 1...|[0.49439576268196...|\n",
      "|00010379bf|         0|Brown Sugar 'Kari...|200 grams Cake fl...|[0.28160929679870...|\n",
      "|0002491373|         1|    Tex-Mex Caponata|nonstick cooking ...|[0.45599916577339...|\n",
      "|00052b48d3|         0|         Revoltillos|3 cups cooked bro...|[0.31432643532752...|\n",
      "|00010c7867|         1|Grandmommy's Mexi...|1 12 lbs ground b...|[0.31424215435981...|\n",
      "|00029df38f|         1|      Praline Kisses|1 egg white, room...|[0.44035866856575...|\n",
      "|000535f6ea|         1|Wonderful and Goo...|12 chopped sweet ...|[0.47991812229156...|\n",
      "|0004dbbc43|         1|Crab Salad with E...|2 tablespoons oli...|[0.39791613817214...|\n",
      "|0006556e29|         0|Green Bean Casser...|1 lb bacon, cooke...|[0.42092370986938...|\n",
      "|0001cba765|         2|    Margarita Madras|3 ounces orange j...|[0.26264858245849...|\n",
      "|0000a4bcf6|         1|Salmon & Salad a ...|1/2 cup green oni...|[0.40515291690826...|\n",
      "|000075604a|         0|Kombu Tea Grilled...|2 Chicken thighs....|[0.27038058638572...|\n",
      "|0001d81db6|         2|           Guacamole|2 ripe avocados. ...|[0.48554530739784...|\n",
      "|0004c0a2a8|         1|Hot Corned Beef Buns|1 lb leftover cho...|[0.42867171764373...|\n",
      "|000566f1e0|         1|Grandma's Caramel...|1-1/4 gal. popped...|[0.47426775097846...|\n",
      "+----------+----------+--------------------+--------------------+--------------------+\n",
      "only showing top 20 rows\n",
      "\n"
     ]
    }
   ],
   "source": [
    "df_pred = df_pred.join(transformed_df, 'id')\n",
    "df_pred.show()"
   ]
  },
  {
   "cell_type": "code",
   "execution_count": 46,
   "id": "solid-paper",
   "metadata": {},
   "outputs": [
    {
     "data": {
      "text/html": [
       "<div>\n",
       "<style scoped>\n",
       "    .dataframe tbody tr th:only-of-type {\n",
       "        vertical-align: middle;\n",
       "    }\n",
       "\n",
       "    .dataframe tbody tr th {\n",
       "        vertical-align: top;\n",
       "    }\n",
       "\n",
       "    .dataframe thead th {\n",
       "        text-align: right;\n",
       "    }\n",
       "</style>\n",
       "<table border=\"1\" class=\"dataframe\">\n",
       "  <thead>\n",
       "    <tr style=\"text-align: right;\">\n",
       "      <th></th>\n",
       "      <th>prediction</th>\n",
       "      <th>title</th>\n",
       "      <th>ingredients</th>\n",
       "      <th>features</th>\n",
       "    </tr>\n",
       "    <tr>\n",
       "      <th>id</th>\n",
       "      <th></th>\n",
       "      <th></th>\n",
       "      <th></th>\n",
       "      <th></th>\n",
       "    </tr>\n",
       "  </thead>\n",
       "  <tbody>\n",
       "    <tr>\n",
       "      <th>00011fc1f9</th>\n",
       "      <td>1</td>\n",
       "      <td>Lentils Vegetable Soup</td>\n",
       "      <td>1 cup lentils. 12 onion (finely chopped). 1 to...</td>\n",
       "      <td>[0.3638961613178253, -0.37362033128738403, -0....</td>\n",
       "    </tr>\n",
       "    <tr>\n",
       "      <th>00004320bb</th>\n",
       "      <td>3</td>\n",
       "      <td>Cool 'n Easy Creamy Watermelon Pie</td>\n",
       "      <td>1 (3 ounce) package watermelon gelatin. 14 cup...</td>\n",
       "      <td>[0.46526822447776794, -0.23836040496826172, 0....</td>\n",
       "    </tr>\n",
       "    <tr>\n",
       "      <th>000033e39b</th>\n",
       "      <td>0</td>\n",
       "      <td>Dilly Macaroni Salad Recipe</td>\n",
       "      <td>1 c. elbow macaroni. 1 c. cubed American chees...</td>\n",
       "      <td>[0.3729802668094635, -0.4489460587501526, -0.2...</td>\n",
       "    </tr>\n",
       "    <tr>\n",
       "      <th>00050db874</th>\n",
       "      <td>1</td>\n",
       "      <td>Peanut Butter Bread</td>\n",
       "      <td>34 cup peanut butter. 12 cup sugar. 1 teaspoon...</td>\n",
       "      <td>[0.25108271837234497, -0.4261821210384369, -0....</td>\n",
       "    </tr>\n",
       "    <tr>\n",
       "      <th>000368efd3</th>\n",
       "      <td>0</td>\n",
       "      <td>Cheesy Herbed Egg Sandwich</td>\n",
       "      <td>2 eggs, scrambled. 2 Tbsp. PHILADELPHIA Chive ...</td>\n",
       "      <td>[0.3202979266643524, -0.5811638236045837, -0.1...</td>\n",
       "    </tr>\n",
       "  </tbody>\n",
       "</table>\n",
       "</div>"
      ],
      "text/plain": [
       "            prediction                               title  \\\n",
       "id                                                           \n",
       "00011fc1f9           1              Lentils Vegetable Soup   \n",
       "00004320bb           3  Cool 'n Easy Creamy Watermelon Pie   \n",
       "000033e39b           0         Dilly Macaroni Salad Recipe   \n",
       "00050db874           1                 Peanut Butter Bread   \n",
       "000368efd3           0          Cheesy Herbed Egg Sandwich   \n",
       "\n",
       "                                                  ingredients  \\\n",
       "id                                                              \n",
       "00011fc1f9  1 cup lentils. 12 onion (finely chopped). 1 to...   \n",
       "00004320bb  1 (3 ounce) package watermelon gelatin. 14 cup...   \n",
       "000033e39b  1 c. elbow macaroni. 1 c. cubed American chees...   \n",
       "00050db874  34 cup peanut butter. 12 cup sugar. 1 teaspoon...   \n",
       "000368efd3  2 eggs, scrambled. 2 Tbsp. PHILADELPHIA Chive ...   \n",
       "\n",
       "                                                     features  \n",
       "id                                                             \n",
       "00011fc1f9  [0.3638961613178253, -0.37362033128738403, -0....  \n",
       "00004320bb  [0.46526822447776794, -0.23836040496826172, 0....  \n",
       "000033e39b  [0.3729802668094635, -0.4489460587501526, -0.2...  \n",
       "00050db874  [0.25108271837234497, -0.4261821210384369, -0....  \n",
       "000368efd3  [0.3202979266643524, -0.5811638236045837, -0.1...  "
      ]
     },
     "execution_count": 46,
     "metadata": {},
     "output_type": "execute_result"
    }
   ],
   "source": [
    "pddf_pred = df_pred.toPandas().set_index('id')\n",
    "pddf_pred.head()"
   ]
  },
  {
   "cell_type": "code",
   "execution_count": 47,
   "id": "running-portable",
   "metadata": {},
   "outputs": [
    {
     "name": "stdout",
     "output_type": "stream",
     "text": [
      "<class 'pyspark.ml.linalg.DenseVector'>\n"
     ]
    }
   ],
   "source": [
    "print(type(pddf_pred['features'][0]))\n",
    "denseVector = pddf_pred['features'][0]"
   ]
  },
  {
   "cell_type": "code",
   "execution_count": 50,
   "id": "rubber-header",
   "metadata": {},
   "outputs": [
    {
     "name": "stdout",
     "output_type": "stream",
     "text": [
      "+----------+--------------------+--------------------+--------------------+\n",
      "|        id|               title|         ingredients|         pcaFeatures|\n",
      "+----------+--------------------+--------------------+--------------------+\n",
      "|00011fc1f9|Lentils Vegetable...|1 cup lentils. 12...|[-1.5658635956364...|\n",
      "|00004320bb|Cool 'n Easy Crea...|1 (3 ounce) packa...|[-1.0292415508838...|\n",
      "|000033e39b|Dilly Macaroni Sa...|1 c. elbow macaro...|[-0.6938908218629...|\n",
      "|00050db874| Peanut Butter Bread|34 cup peanut but...|[-3.5653463062817...|\n",
      "|000368efd3|Cheesy Herbed Egg...|2 eggs, scrambled...|[-0.6741251393958...|\n",
      "|00033f624d|Amy's Cheesey , B...|1/4 cup butter. 1...|[-0.9005175688029...|\n",
      "|00010379bf|Brown Sugar 'Kari...|200 grams Cake fl...|[-1.3607978530125...|\n",
      "|0002491373|    Tex-Mex Caponata|nonstick cooking ...|[-0.8811579354276...|\n",
      "|00052b48d3|         Revoltillos|3 cups cooked bro...|[-0.0547448751647...|\n",
      "|00010c7867|Grandmommy's Mexi...|1 12 lbs ground b...|[-1.5309009627948...|\n",
      "|00029df38f|      Praline Kisses|1 egg white, room...|[-2.8620212794017...|\n",
      "|000535f6ea|Wonderful and Goo...|12 chopped sweet ...|[-1.7973626263681...|\n",
      "|0004dbbc43|Crab Salad with E...|2 tablespoons oli...|[-0.9971259687213...|\n",
      "|0006556e29|Green Bean Casser...|1 lb bacon, cooke...|[-0.8601519669499...|\n",
      "|0001cba765|    Margarita Madras|3 ounces orange j...|[-0.3005749511881...|\n",
      "|0000a4bcf6|Salmon & Salad a ...|1/2 cup green oni...|[-1.1339264287562...|\n",
      "|000075604a|Kombu Tea Grilled...|2 Chicken thighs....|[-0.8911408906058...|\n",
      "|0001d81db6|           Guacamole|2 ripe avocados. ...|[-0.5360928053635...|\n",
      "|0004c0a2a8|Hot Corned Beef Buns|1 lb leftover cho...|[-1.3799942682359...|\n",
      "|000566f1e0|Grandma's Caramel...|1-1/4 gal. popped...|[-2.6259232610300...|\n",
      "+----------+--------------------+--------------------+--------------------+\n",
      "only showing top 20 rows\n",
      "\n"
     ]
    }
   ],
   "source": [
    "# mlib is incompatible with ml\n",
    "# https://stackoverflow.com/questions/41074182/cannot-convert-type-class-pyspark-ml-linalg-sparsevector-into-vector\n",
    "#  ml library is designed for DataFrame-Objects and the mllib library is for RDD-objects\n",
    "# So the example from https://spark.apache.org/docs/latest/mllib-dimensionality-reduction#principal-component-analysis-pca uses mlibml pc\n",
    "# Instead you must use the following for reference: https://spark.apache.org/docs/1.5.1/ml-features.html#pca\n",
    "from pyspark.ml.feature import PCA\n",
    "from pyspark.mllib.linalg import Vectors\n",
    "\n",
    "\n",
    "pca = PCA(k=2, inputCol=\"features\", outputCol=\"pcaFeatures\")\n",
    "pca_model = pca.fit(df_pred)\n",
    "result = pca_model.transform(df_pred).select(\"id\", \"title\", \"ingredients\", \"pcaFeatures\")\n",
    "result.show()"
   ]
  },
  {
   "cell_type": "code",
   "execution_count": 60,
   "id": "center-nursery",
   "metadata": {},
   "outputs": [
    {
     "ename": "AnalysisException",
     "evalue": "cannot resolve '`pcaFeatures`' given input columns: [dim[0], dim[1], id, ingredients, title];\n'Project [id#1097, title#129, ingredients#122, dim[0]#1233, dim[1]#1234, UDF('pcaFeatures) AS dim#1263]\n+- Project [id#1097, title#129, ingredients#122, dim#1227[0] AS dim[0]#1233, dim#1227[1] AS dim[1]#1234]\n   +- Project [id#1097, title#129, ingredients#122, pcaFeatures#1190, UDF(pcaFeatures#1190) AS dim#1227]\n      +- Project [id#1097, title#129, ingredients#122, pcaFeatures#1190]\n         +- Project [id#1097, prediction#1098L, title#129, ingredients#122, features#203, UDF(features#203) AS pcaFeatures#1190]\n            +- Project [id#1097, prediction#1098L, title#129, ingredients#122, features#203]\n               +- Join Inner, (id#1097 = id#115)\n                  :- LogicalRDD [id#1097, prediction#1098L], false\n                  +- Project [id#115, title#129, ingredients#122, <lambda>(sentence_embeddings_vectors#159) AS features#203]\n                     +- Project [id#115, ingredients#122, title#129, document#136, sentence_embeddings#150, UDF(sentence_embeddings#150.embeddings) AS sentence_embeddings_vectors#159]\n                        +- Project [id#115, ingredients#122, title#129, document#136, sentence_embeddings#143 AS sentence_embeddings#150]\n                           +- Project [id#115, ingredients#122, title#129, document#136, sentence_embeddings#113 AS sentence_embeddings#143]\n                              +- Project [id#115, ingredients#122, title#129, document#112 AS document#136, sentence_embeddings#113]\n                                 +- Project [id#115, ingredients#122, title#111 AS title#129, document#112, sentence_embeddings#113]\n                                    +- Project [id#115, ingredients#110 AS ingredients#122, title#111, document#112, sentence_embeddings#113]\n                                       +- Project [id#109 AS id#115, ingredients#110, title#111, document#112, sentence_embeddings#113]\n                                          +- SerializeFromObject [if (assertnotnull(input[0, org.apache.spark.sql.Row, true]).isNullAt) null else staticinvoke(class org.apache.spark.unsafe.types.UTF8String, StringType, fromString, validateexternaltype(getexternalrowfield(assertnotnull(input[0, org.apache.spark.sql.Row, true]), 0, id), StringType), true, false) AS id#109, if (assertnotnull(input[0, org.apache.spark.sql.Row, true]).isNullAt) null else staticinvoke(class org.apache.spark.unsafe.types.UTF8String, StringType, fromString, validateexternaltype(getexternalrowfield(assertnotnull(input[0, org.apache.spark.sql.Row, true]), 1, ingredients), StringType), true, false) AS ingredients#110, if (assertnotnull(input[0, org.apache.spark.sql.Row, true]).isNullAt) null else staticinvoke(class org.apache.spark.unsafe.types.UTF8String, StringType, fromString, validateexternaltype(getexternalrowfield(assertnotnull(input[0, org.apache.spark.sql.Row, true]), 2, title), StringType), true, false) AS title#111, if (assertnotnull(input[0, org.apache.spark.sql.Row, true]).isNullAt) null else mapobjects(lambdavariable(MapObject, ObjectType(class java.lang.Object), true, 27), if (isnull(validateexternaltype(lambdavariable(MapObject, ObjectType(class java.lang.Object), true, 27), StructField(annotatorType,StringType,true), StructField(begin,IntegerType,false), StructField(end,IntegerType,false), StructField(result,StringType,true), StructField(metadata,MapType(StringType,StringType,true),true), StructField(embeddings,ArrayType(FloatType,false),true)))) null else named_struct(annotatorType, if (validateexternaltype(lambdavariable(MapObject, ObjectType(class java.lang.Object), true, 27), StructField(annotatorType,StringType,true), StructField(begin,IntegerType,false), StructField(end,IntegerType,false), StructField(result,StringType,true), StructField(metadata,MapType(StringType,StringType,true),true), StructField(embeddings,ArrayType(FloatType,false),true)).isNullAt) null else staticinvoke(class org.apache.spark.unsafe.types.UTF8String, StringType, fromString, validateexternaltype(getexternalrowfield(validateexternaltype(lambdavariable(MapObject, ObjectType(class java.lang.Object), true, 27), StructField(annotatorType,StringType,true), StructField(begin,IntegerType,false), StructField(end,IntegerType,false), StructField(result,StringType,true), StructField(metadata,MapType(StringType,StringType,true),true), StructField(embeddings,ArrayType(FloatType,false),true)), 0, annotatorType), StringType), true, false), begin, validateexternaltype(getexternalrowfield(validateexternaltype(lambdavariable(MapObject, ObjectType(class java.lang.Object), true, 27), StructField(annotatorType,StringType,true), StructField(begin,IntegerType,false), StructField(end,IntegerType,false), StructField(result,StringType,true), StructField(metadata,MapType(StringType,StringType,true),true), StructField(embeddings,ArrayType(FloatType,false),true)), 1, begin), IntegerType), end, validateexternaltype(getexternalrowfield(validateexternaltype(lambdavariable(MapObject, ObjectType(class java.lang.Object), true, 27), StructField(annotatorType,StringType,true), StructField(begin,IntegerType,false), StructField(end,IntegerType,false), StructField(result,StringType,true), StructField(metadata,MapType(StringType,StringType,true),true), StructField(embeddings,ArrayType(FloatType,false),true)), 2, end), IntegerType), result, if (validateexternaltype(lambdavariable(MapObject, ObjectType(class java.lang.Object), true, 27), StructField(annotatorType,StringType,true), StructField(begin,IntegerType,false), StructField(end,IntegerType,false), StructField(result,StringType,true), StructField(metadata,MapType(StringType,StringType,true),true), StructField(embeddings,ArrayType(FloatType,false),true)).isNullAt) null else staticinvoke(class org.apache.spark.unsafe.types.UTF8String, StringType, fromString, validateexternaltype(getexternalrowfield(validateexternaltype(lambdavariable(MapObject, ObjectType(class java.lang.Object), true, 27), StructField(annotatorType,StringType,true), StructField(begin,IntegerType,false), StructField(end,IntegerType,false), StructField(result,StringType,true), StructField(metadata,MapType(StringType,StringType,true),true), StructField(embeddings,ArrayType(FloatType,false),true)), 3, result), StringType), true, false), metadata, if (validateexternaltype(lambdavariable(MapObject, ObjectType(class java.lang.Object), true, 27), StructField(annotatorType,StringType,true), StructField(begin,IntegerType,false), StructField(end,IntegerType,false), StructField(result,StringType,true), StructField(metadata,MapType(StringType,StringType,true),true), StructField(embeddings,ArrayType(FloatType,false),true)).isNullAt) null else newInstance(class org.apache.spark.sql.catalyst.util.ArrayBasedMapData), embeddings, if (validateexternaltype(lambdavariable(MapObject, ObjectType(class java.lang.Object), true, 27), StructField(annotatorType,StringType,true), StructField(begin,IntegerType,false), StructField(end,IntegerType,false), StructField(result,StringType,true), StructField(metadata,MapType(StringType,StringType,true),true), StructField(embeddings,ArrayType(FloatType,false),true)).isNullAt) null else staticinvoke(class org.apache.spark.sql.catalyst.util.ArrayData, ArrayType(FloatType,false), toArrayData, validateexternaltype(getexternalrowfield(validateexternaltype(lambdavariable(MapObject, ObjectType(class java.lang.Object), true, 27), StructField(annotatorType,StringType,true), StructField(begin,IntegerType,false), StructField(end,IntegerType,false), StructField(result,StringType,true), StructField(metadata,MapType(StringType,StringType,true),true), StructField(embeddings,ArrayType(FloatType,false),true)), 5, embeddings), ArrayType(FloatType,false)), true, false)), validateexternaltype(getexternalrowfield(assertnotnull(input[0, org.apache.spark.sql.Row, true]), 3, document), ArrayType(StructType(StructField(annotatorType,StringType,true), StructField(begin,IntegerType,false), StructField(end,IntegerType,false), StructField(result,StringType,true), StructField(metadata,MapType(StringType,StringType,true),true), StructField(embeddings,ArrayType(FloatType,false),true)),true)), None) AS document#112, if (assertnotnull(input[0, org.apache.spark.sql.Row, true]).isNullAt) null else mapobjects(lambdavariable(MapObject, ObjectType(class java.lang.Object), true, 30), assertnotnull(if (isnull(validateexternaltype(lambdavariable(MapObject, ObjectType(class java.lang.Object), true, 30), StructField(annotatorType,StringType,true), StructField(begin,IntegerType,false), StructField(end,IntegerType,false), StructField(result,StringType,true), StructField(metadata,MapType(StringType,StringType,true),true), StructField(embeddings,ArrayType(FloatType,false),true)))) null else named_struct(annotatorType, if (validateexternaltype(lambdavariable(MapObject, ObjectType(class java.lang.Object), true, 30), StructField(annotatorType,StringType,true), StructField(begin,IntegerType,false), StructField(end,IntegerType,false), StructField(result,StringType,true), StructField(metadata,MapType(StringType,StringType,true),true), StructField(embeddings,ArrayType(FloatType,false),true)).isNullAt) null else staticinvoke(class org.apache.spark.unsafe.types.UTF8String, StringType, fromString, validateexternaltype(getexternalrowfield(validateexternaltype(lambdavariable(MapObject, ObjectType(class java.lang.Object), true, 30), StructField(annotatorType,StringType,true), StructField(begin,IntegerType,false), StructField(end,IntegerType,false), StructField(result,StringType,true), StructField(metadata,MapType(StringType,StringType,true),true), StructField(embeddings,ArrayType(FloatType,false),true)), 0, annotatorType), StringType), true, false), begin, validateexternaltype(getexternalrowfield(validateexternaltype(lambdavariable(MapObject, ObjectType(class java.lang.Object), true, 30), StructField(annotatorType,StringType,true), StructField(begin,IntegerType,false), StructField(end,IntegerType,false), StructField(result,StringType,true), StructField(metadata,MapType(StringType,StringType,true),true), StructField(embeddings,ArrayType(FloatType,false),true)), 1, begin), IntegerType), end, validateexternaltype(getexternalrowfield(validateexternaltype(lambdavariable(MapObject, ObjectType(class java.lang.Object), true, 30), StructField(annotatorType,StringType,true), StructField(begin,IntegerType,false), StructField(end,IntegerType,false), StructField(result,StringType,true), StructField(metadata,MapType(StringType,StringType,true),true), StructField(embeddings,ArrayType(FloatType,false),true)), 2, end), IntegerType), result, if (validateexternaltype(lambdavariable(MapObject, ObjectType(class java.lang.Object), true, 30), StructField(annotatorType,StringType,true), StructField(begin,IntegerType,false), StructField(end,IntegerType,false), StructField(result,StringType,true), StructField(metadata,MapType(StringType,StringType,true),true), StructField(embeddings,ArrayType(FloatType,false),true)).isNullAt) null else staticinvoke(class org.apache.spark.unsafe.types.UTF8String, StringType, fromString, validateexternaltype(getexternalrowfield(validateexternaltype(lambdavariable(MapObject, ObjectType(class java.lang.Object), true, 30), StructField(annotatorType,StringType,true), StructField(begin,IntegerType,false), StructField(end,IntegerType,false), StructField(result,StringType,true), StructField(metadata,MapType(StringType,StringType,true),true), StructField(embeddings,ArrayType(FloatType,false),true)), 3, result), StringType), true, false), metadata, if (validateexternaltype(lambdavariable(MapObject, ObjectType(class java.lang.Object), true, 30), StructField(annotatorType,StringType,true), StructField(begin,IntegerType,false), StructField(end,IntegerType,false), StructField(result,StringType,true), StructField(metadata,MapType(StringType,StringType,true),true), StructField(embeddings,ArrayType(FloatType,false),true)).isNullAt) null else newInstance(class org.apache.spark.sql.catalyst.util.ArrayBasedMapData), embeddings, if (validateexternaltype(lambdavariable(MapObject, ObjectType(class java.lang.Object), true, 30), StructField(annotatorType,StringType,true), StructField(begin,IntegerType,false), StructField(end,IntegerType,false), StructField(result,StringType,true), StructField(metadata,MapType(StringType,StringType,true),true), StructField(embeddings,ArrayType(FloatType,false),true)).isNullAt) null else staticinvoke(class org.apache.spark.sql.catalyst.util.ArrayData, ArrayType(FloatType,false), toArrayData, validateexternaltype(getexternalrowfield(validateexternaltype(lambdavariable(MapObject, ObjectType(class java.lang.Object), true, 30), StructField(annotatorType,StringType,true), StructField(begin,IntegerType,false), StructField(end,IntegerType,false), StructField(result,StringType,true), StructField(metadata,MapType(StringType,StringType,true),true), StructField(embeddings,ArrayType(FloatType,false),true)), 5, embeddings), ArrayType(FloatType,false)), true, false))), validateexternaltype(getexternalrowfield(assertnotnull(input[0, org.apache.spark.sql.Row, true]), 4, sentence_embeddings), ArrayType(StructType(StructField(annotatorType,StringType,true), StructField(begin,IntegerType,false), StructField(end,IntegerType,false), StructField(result,StringType,true), StructField(metadata,MapType(StringType,StringType,true),true), StructField(embeddings,ArrayType(FloatType,false),true)),false)), None) AS sentence_embeddings#113]\n                                             +- MapPartitions com.johnsnowlabs.nlp.AnnotatorModel$$Lambda$4239/82357369@4c326f1c, obj#108: org.apache.spark.sql.Row\n                                                +- DeserializeToObject createexternalrow(id#57.toString, ingredients#72.toString, title#59.toString, staticinvoke(class scala.collection.mutable.WrappedArray$, ObjectType(interface scala.collection.Seq), make, mapobjects(lambdavariable(MapObject, StructField(annotatorType,StringType,true), StructField(begin,IntegerType,false), StructField(end,IntegerType,false), StructField(result,StringType,true), StructField(metadata,MapType(StringType,StringType,true),true), StructField(embeddings,ArrayType(FloatType,false),true), true, 23), if (isnull(lambdavariable(MapObject, StructField(annotatorType,StringType,true), StructField(begin,IntegerType,false), StructField(end,IntegerType,false), StructField(result,StringType,true), StructField(metadata,MapType(StringType,StringType,true),true), StructField(embeddings,ArrayType(FloatType,false),true), true, 23))) null else createexternalrow(if (lambdavariable(MapObject, StructField(annotatorType,StringType,true), StructField(begin,IntegerType,false), StructField(end,IntegerType,false), StructField(result,StringType,true), StructField(metadata,MapType(StringType,StringType,true),true), StructField(embeddings,ArrayType(FloatType,false),true), true, 23).isNullAt) null else lambdavariable(MapObject, StructField(annotatorType,StringType,true), StructField(begin,IntegerType,false), StructField(end,IntegerType,false), StructField(result,StringType,true), StructField(metadata,MapType(StringType,StringType,true),true), StructField(embeddings,ArrayType(FloatType,false),true), true, 23).annotatorType.toString, if (lambdavariable(MapObject, StructField(annotatorType,StringType,true), StructField(begin,IntegerType,false), StructField(end,IntegerType,false), StructField(result,StringType,true), StructField(metadata,MapType(StringType,StringType,true),true), StructField(embeddings,ArrayType(FloatType,false),true), true, 23).isNullAt) null else lambdavariable(MapObject, StructField(annotatorType,StringType,true), StructField(begin,IntegerType,false), StructField(end,IntegerType,false), StructField(result,StringType,true), StructField(metadata,MapType(StringType,StringType,true),true), StructField(embeddings,ArrayType(FloatType,false),true), true, 23).begin, if (lambdavariable(MapObject, StructField(annotatorType,StringType,true), StructField(begin,IntegerType,false), StructField(end,IntegerType,false), StructField(result,StringType,true), StructField(metadata,MapType(StringType,StringType,true),true), StructField(embeddings,ArrayType(FloatType,false),true), true, 23).isNullAt) null else lambdavariable(MapObject, StructField(annotatorType,StringType,true), StructField(begin,IntegerType,false), StructField(end,IntegerType,false), StructField(result,StringType,true), StructField(metadata,MapType(StringType,StringType,true),true), StructField(embeddings,ArrayType(FloatType,false),true), true, 23).end, if (lambdavariable(MapObject, StructField(annotatorType,StringType,true), StructField(begin,IntegerType,false), StructField(end,IntegerType,false), StructField(result,StringType,true), StructField(metadata,MapType(StringType,StringType,true),true), StructField(embeddings,ArrayType(FloatType,false),true), true, 23).isNullAt) null else lambdavariable(MapObject, StructField(annotatorType,StringType,true), StructField(begin,IntegerType,false), StructField(end,IntegerType,false), StructField(result,StringType,true), StructField(metadata,MapType(StringType,StringType,true),true), StructField(embeddings,ArrayType(FloatType,false),true), true, 23).result.toString, if (lambdavariable(MapObject, StructField(annotatorType,StringType,true), StructField(begin,IntegerType,false), StructField(end,IntegerType,false), StructField(result,StringType,true), StructField(metadata,MapType(StringType,StringType,true),true), StructField(embeddings,ArrayType(FloatType,false),true), true, 23).isNullAt) null else staticinvoke(class org.apache.spark.sql.catalyst.util.ArrayBasedMapData$, ObjectType(interface scala.collection.Map), toScalaMap, staticinvoke(class scala.collection.mutable.WrappedArray$, ObjectType(interface scala.collection.Seq), make, mapobjects(lambdavariable(MapObject, StringType, true, 24), lambdavariable(MapObject, StringType, true, 24).toString, lambdavariable(MapObject, StructField(annotatorType,StringType,true), StructField(begin,IntegerType,false), StructField(end,IntegerType,false), StructField(result,StringType,true), StructField(metadata,MapType(StringType,StringType,true),true), StructField(embeddings,ArrayType(FloatType,false),true), true, 23).metadata.keyArray, None).array, true, false), staticinvoke(class scala.collection.mutable.WrappedArray$, ObjectType(interface scala.collection.Seq), make, mapobjects(lambdavariable(MapObject, StringType, true, 25), lambdavariable(MapObject, StringType, true, 25).toString, lambdavariable(MapObject, StructField(annotatorType,StringType,true), StructField(begin,IntegerType,false), StructField(end,IntegerType,false), StructField(result,StringType,true), StructField(metadata,MapType(StringType,StringType,true),true), StructField(embeddings,ArrayType(FloatType,false),true), true, 23).metadata.valueArray, None).array, true, false), true, false), if (lambdavariable(MapObject, StructField(annotatorType,StringType,true), StructField(begin,IntegerType,false), StructField(end,IntegerType,false), StructField(result,StringType,true), StructField(metadata,MapType(StringType,StringType,true),true), StructField(embeddings,ArrayType(FloatType,false),true), true, 23).isNullAt) null else staticinvoke(class scala.collection.mutable.WrappedArray$, ObjectType(interface scala.collection.Seq), make, mapobjects(lambdavariable(MapObject, FloatType, true, 26), lambdavariable(MapObject, FloatType, true, 26), lambdavariable(MapObject, StructField(annotatorType,StringType,true), StructField(begin,IntegerType,false), StructField(end,IntegerType,false), StructField(result,StringType,true), StructField(metadata,MapType(StringType,StringType,true),true), StructField(embeddings,ArrayType(FloatType,false),true), true, 23).embeddings, None).array, true, false), StructField(annotatorType,StringType,true), StructField(begin,IntegerType,false), StructField(end,IntegerType,false), StructField(result,StringType,true), StructField(metadata,MapType(StringType,StringType,true),true), StructField(embeddings,ArrayType(FloatType,false),true)), document#94, None).array, true, false), StructField(id,StringType,true), StructField(ingredients,StringType,true), StructField(title,StringType,true), StructField(document,ArrayType(StructType(StructField(annotatorType,StringType,true), StructField(begin,IntegerType,false), StructField(end,IntegerType,false), StructField(result,StringType,true), StructField(metadata,MapType(StringType,StringType,true),true), StructField(embeddings,ArrayType(FloatType,false),true)),true),true)), obj#107: org.apache.spark.sql.Row\n                                                   +- Project [id#57, ingredients#72, title#59, UDF(ingredients#72) AS document#94]\n                                                      +- Project [id#57, parse_ingredients(ingredients#58) AS ingredients#72, title#59]\n                                                         +- LogicalRDD [id#57, ingredients#58, title#59], false\n",
     "output_type": "error",
     "traceback": [
      "\u001b[0;31m---------------------------------------------------------------------------\u001b[0m",
      "\u001b[0;31mAnalysisException\u001b[0m                         Traceback (most recent call last)",
      "\u001b[0;32m<ipython-input-60-0966edb51b0e>\u001b[0m in \u001b[0;36m<module>\u001b[0;34m\u001b[0m\n\u001b[1;32m      1\u001b[0m \u001b[0;32mfrom\u001b[0m \u001b[0mpyspark\u001b[0m\u001b[0;34m.\u001b[0m\u001b[0mml\u001b[0m\u001b[0;34m.\u001b[0m\u001b[0mfunctions\u001b[0m \u001b[0;32mimport\u001b[0m \u001b[0mvector_to_array\u001b[0m\u001b[0;34m\u001b[0m\u001b[0;34m\u001b[0m\u001b[0m\n\u001b[0;32m----> 2\u001b[0;31m \u001b[0mresult\u001b[0m \u001b[0;34m=\u001b[0m \u001b[0;34m(\u001b[0m\u001b[0mresult\u001b[0m\u001b[0;34m.\u001b[0m\u001b[0mwithColumn\u001b[0m\u001b[0;34m(\u001b[0m\u001b[0;34m\"dim\"\u001b[0m\u001b[0;34m,\u001b[0m \u001b[0mvector_to_array\u001b[0m\u001b[0;34m(\u001b[0m\u001b[0;34m\"pcaFeatures\"\u001b[0m\u001b[0;34m)\u001b[0m\u001b[0;34m)\u001b[0m\u001b[0;34m)\u001b[0m\u001b[0;34m.\u001b[0m\u001b[0mselect\u001b[0m\u001b[0;34m(\u001b[0m\u001b[0;34m[\u001b[0m\u001b[0;34m\"id\"\u001b[0m\u001b[0;34m]\u001b[0m \u001b[0;34m+\u001b[0m \u001b[0;34m[\u001b[0m\u001b[0;34m\"title\"\u001b[0m\u001b[0;34m]\u001b[0m \u001b[0;34m+\u001b[0m \u001b[0;34m[\u001b[0m\u001b[0;34m\"ingredients\"\u001b[0m\u001b[0;34m]\u001b[0m \u001b[0;34m+\u001b[0m \u001b[0;34m[\u001b[0m\u001b[0mcol\u001b[0m\u001b[0;34m(\u001b[0m\u001b[0;34m\"dim\"\u001b[0m\u001b[0;34m)\u001b[0m\u001b[0;34m[\u001b[0m\u001b[0mi\u001b[0m\u001b[0;34m]\u001b[0m \u001b[0;32mfor\u001b[0m \u001b[0mi\u001b[0m \u001b[0;32min\u001b[0m \u001b[0mrange\u001b[0m\u001b[0;34m(\u001b[0m\u001b[0;36m2\u001b[0m\u001b[0;34m)\u001b[0m\u001b[0;34m]\u001b[0m\u001b[0;34m)\u001b[0m\u001b[0;34m\u001b[0m\u001b[0;34m\u001b[0m\u001b[0m\n\u001b[0m",
      "\u001b[0;32m~/miniconda3/envs/767_py3/lib/python3.9/site-packages/pyspark/sql/dataframe.py\u001b[0m in \u001b[0;36mwithColumn\u001b[0;34m(self, colName, col)\u001b[0m\n\u001b[1;32m   2453\u001b[0m         \"\"\"\n\u001b[1;32m   2454\u001b[0m         \u001b[0;32massert\u001b[0m \u001b[0misinstance\u001b[0m\u001b[0;34m(\u001b[0m\u001b[0mcol\u001b[0m\u001b[0;34m,\u001b[0m \u001b[0mColumn\u001b[0m\u001b[0;34m)\u001b[0m\u001b[0;34m,\u001b[0m \u001b[0;34m\"col should be Column\"\u001b[0m\u001b[0;34m\u001b[0m\u001b[0;34m\u001b[0m\u001b[0m\n\u001b[0;32m-> 2455\u001b[0;31m         \u001b[0;32mreturn\u001b[0m \u001b[0mDataFrame\u001b[0m\u001b[0;34m(\u001b[0m\u001b[0mself\u001b[0m\u001b[0;34m.\u001b[0m\u001b[0m_jdf\u001b[0m\u001b[0;34m.\u001b[0m\u001b[0mwithColumn\u001b[0m\u001b[0;34m(\u001b[0m\u001b[0mcolName\u001b[0m\u001b[0;34m,\u001b[0m \u001b[0mcol\u001b[0m\u001b[0;34m.\u001b[0m\u001b[0m_jc\u001b[0m\u001b[0;34m)\u001b[0m\u001b[0;34m,\u001b[0m \u001b[0mself\u001b[0m\u001b[0;34m.\u001b[0m\u001b[0msql_ctx\u001b[0m\u001b[0;34m)\u001b[0m\u001b[0;34m\u001b[0m\u001b[0;34m\u001b[0m\u001b[0m\n\u001b[0m\u001b[1;32m   2456\u001b[0m \u001b[0;34m\u001b[0m\u001b[0m\n\u001b[1;32m   2457\u001b[0m     \u001b[0;32mdef\u001b[0m \u001b[0mwithColumnRenamed\u001b[0m\u001b[0;34m(\u001b[0m\u001b[0mself\u001b[0m\u001b[0;34m,\u001b[0m \u001b[0mexisting\u001b[0m\u001b[0;34m,\u001b[0m \u001b[0mnew\u001b[0m\u001b[0;34m)\u001b[0m\u001b[0;34m:\u001b[0m\u001b[0;34m\u001b[0m\u001b[0;34m\u001b[0m\u001b[0m\n",
      "\u001b[0;32m~/miniconda3/envs/767_py3/lib/python3.9/site-packages/py4j/java_gateway.py\u001b[0m in \u001b[0;36m__call__\u001b[0;34m(self, *args)\u001b[0m\n\u001b[1;32m   1302\u001b[0m \u001b[0;34m\u001b[0m\u001b[0m\n\u001b[1;32m   1303\u001b[0m         \u001b[0manswer\u001b[0m \u001b[0;34m=\u001b[0m \u001b[0mself\u001b[0m\u001b[0;34m.\u001b[0m\u001b[0mgateway_client\u001b[0m\u001b[0;34m.\u001b[0m\u001b[0msend_command\u001b[0m\u001b[0;34m(\u001b[0m\u001b[0mcommand\u001b[0m\u001b[0;34m)\u001b[0m\u001b[0;34m\u001b[0m\u001b[0;34m\u001b[0m\u001b[0m\n\u001b[0;32m-> 1304\u001b[0;31m         return_value = get_return_value(\n\u001b[0m\u001b[1;32m   1305\u001b[0m             answer, self.gateway_client, self.target_id, self.name)\n\u001b[1;32m   1306\u001b[0m \u001b[0;34m\u001b[0m\u001b[0m\n",
      "\u001b[0;32m~/miniconda3/envs/767_py3/lib/python3.9/site-packages/pyspark/sql/utils.py\u001b[0m in \u001b[0;36mdeco\u001b[0;34m(*a, **kw)\u001b[0m\n\u001b[1;32m    115\u001b[0m                 \u001b[0;31m# Hide where the exception came from that shows a non-Pythonic\u001b[0m\u001b[0;34m\u001b[0m\u001b[0;34m\u001b[0m\u001b[0;34m\u001b[0m\u001b[0m\n\u001b[1;32m    116\u001b[0m                 \u001b[0;31m# JVM exception message.\u001b[0m\u001b[0;34m\u001b[0m\u001b[0;34m\u001b[0m\u001b[0;34m\u001b[0m\u001b[0m\n\u001b[0;32m--> 117\u001b[0;31m                 \u001b[0;32mraise\u001b[0m \u001b[0mconverted\u001b[0m \u001b[0;32mfrom\u001b[0m \u001b[0;32mNone\u001b[0m\u001b[0;34m\u001b[0m\u001b[0;34m\u001b[0m\u001b[0m\n\u001b[0m\u001b[1;32m    118\u001b[0m             \u001b[0;32melse\u001b[0m\u001b[0;34m:\u001b[0m\u001b[0;34m\u001b[0m\u001b[0;34m\u001b[0m\u001b[0m\n\u001b[1;32m    119\u001b[0m                 \u001b[0;32mraise\u001b[0m\u001b[0;34m\u001b[0m\u001b[0;34m\u001b[0m\u001b[0m\n",
      "\u001b[0;31mAnalysisException\u001b[0m: cannot resolve '`pcaFeatures`' given input columns: [dim[0], dim[1], id, ingredients, title];\n'Project [id#1097, title#129, ingredients#122, dim[0]#1233, dim[1]#1234, UDF('pcaFeatures) AS dim#1263]\n+- Project [id#1097, title#129, ingredients#122, dim#1227[0] AS dim[0]#1233, dim#1227[1] AS dim[1]#1234]\n   +- Project [id#1097, title#129, ingredients#122, pcaFeatures#1190, UDF(pcaFeatures#1190) AS dim#1227]\n      +- Project [id#1097, title#129, ingredients#122, pcaFeatures#1190]\n         +- Project [id#1097, prediction#1098L, title#129, ingredients#122, features#203, UDF(features#203) AS pcaFeatures#1190]\n            +- Project [id#1097, prediction#1098L, title#129, ingredients#122, features#203]\n               +- Join Inner, (id#1097 = id#115)\n                  :- LogicalRDD [id#1097, prediction#1098L], false\n                  +- Project [id#115, title#129, ingredients#122, <lambda>(sentence_embeddings_vectors#159) AS features#203]\n                     +- Project [id#115, ingredients#122, title#129, document#136, sentence_embeddings#150, UDF(sentence_embeddings#150.embeddings) AS sentence_embeddings_vectors#159]\n                        +- Project [id#115, ingredients#122, title#129, document#136, sentence_embeddings#143 AS sentence_embeddings#150]\n                           +- Project [id#115, ingredients#122, title#129, document#136, sentence_embeddings#113 AS sentence_embeddings#143]\n                              +- Project [id#115, ingredients#122, title#129, document#112 AS document#136, sentence_embeddings#113]\n                                 +- Project [id#115, ingredients#122, title#111 AS title#129, document#112, sentence_embeddings#113]\n                                    +- Project [id#115, ingredients#110 AS ingredients#122, title#111, document#112, sentence_embeddings#113]\n                                       +- Project [id#109 AS id#115, ingredients#110, title#111, document#112, sentence_embeddings#113]\n                                          +- SerializeFromObject [if (assertnotnull(input[0, org.apache.spark.sql.Row, true]).isNullAt) null else staticinvoke(class org.apache.spark.unsafe.types.UTF8String, StringType, fromString, validateexternaltype(getexternalrowfield(assertnotnull(input[0, org.apache.spark.sql.Row, true]), 0, id), StringType), true, false) AS id#109, if (assertnotnull(input[0, org.apache.spark.sql.Row, true]).isNullAt) null else staticinvoke(class org.apache.spark.unsafe.types.UTF8String, StringType, fromString, validateexternaltype(getexternalrowfield(assertnotnull(input[0, org.apache.spark.sql.Row, true]), 1, ingredients), StringType), true, false) AS ingredients#110, if (assertnotnull(input[0, org.apache.spark.sql.Row, true]).isNullAt) null else staticinvoke(class org.apache.spark.unsafe.types.UTF8String, StringType, fromString, validateexternaltype(getexternalrowfield(assertnotnull(input[0, org.apache.spark.sql.Row, true]), 2, title), StringType), true, false) AS title#111, if (assertnotnull(input[0, org.apache.spark.sql.Row, true]).isNullAt) null else mapobjects(lambdavariable(MapObject, ObjectType(class java.lang.Object), true, 27), if (isnull(validateexternaltype(lambdavariable(MapObject, ObjectType(class java.lang.Object), true, 27), StructField(annotatorType,StringType,true), StructField(begin,IntegerType,false), StructField(end,IntegerType,false), StructField(result,StringType,true), StructField(metadata,MapType(StringType,StringType,true),true), StructField(embeddings,ArrayType(FloatType,false),true)))) null else named_struct(annotatorType, if (validateexternaltype(lambdavariable(MapObject, ObjectType(class java.lang.Object), true, 27), StructField(annotatorType,StringType,true), StructField(begin,IntegerType,false), StructField(end,IntegerType,false), StructField(result,StringType,true), StructField(metadata,MapType(StringType,StringType,true),true), StructField(embeddings,ArrayType(FloatType,false),true)).isNullAt) null else staticinvoke(class org.apache.spark.unsafe.types.UTF8String, StringType, fromString, validateexternaltype(getexternalrowfield(validateexternaltype(lambdavariable(MapObject, ObjectType(class java.lang.Object), true, 27), StructField(annotatorType,StringType,true), StructField(begin,IntegerType,false), StructField(end,IntegerType,false), StructField(result,StringType,true), StructField(metadata,MapType(StringType,StringType,true),true), StructField(embeddings,ArrayType(FloatType,false),true)), 0, annotatorType), StringType), true, false), begin, validateexternaltype(getexternalrowfield(validateexternaltype(lambdavariable(MapObject, ObjectType(class java.lang.Object), true, 27), StructField(annotatorType,StringType,true), StructField(begin,IntegerType,false), StructField(end,IntegerType,false), StructField(result,StringType,true), StructField(metadata,MapType(StringType,StringType,true),true), StructField(embeddings,ArrayType(FloatType,false),true)), 1, begin), IntegerType), end, validateexternaltype(getexternalrowfield(validateexternaltype(lambdavariable(MapObject, ObjectType(class java.lang.Object), true, 27), StructField(annotatorType,StringType,true), StructField(begin,IntegerType,false), StructField(end,IntegerType,false), StructField(result,StringType,true), StructField(metadata,MapType(StringType,StringType,true),true), StructField(embeddings,ArrayType(FloatType,false),true)), 2, end), IntegerType), result, if (validateexternaltype(lambdavariable(MapObject, ObjectType(class java.lang.Object), true, 27), StructField(annotatorType,StringType,true), StructField(begin,IntegerType,false), StructField(end,IntegerType,false), StructField(result,StringType,true), StructField(metadata,MapType(StringType,StringType,true),true), StructField(embeddings,ArrayType(FloatType,false),true)).isNullAt) null else staticinvoke(class org.apache.spark.unsafe.types.UTF8String, StringType, fromString, validateexternaltype(getexternalrowfield(validateexternaltype(lambdavariable(MapObject, ObjectType(class java.lang.Object), true, 27), StructField(annotatorType,StringType,true), StructField(begin,IntegerType,false), StructField(end,IntegerType,false), StructField(result,StringType,true), StructField(metadata,MapType(StringType,StringType,true),true), StructField(embeddings,ArrayType(FloatType,false),true)), 3, result), StringType), true, false), metadata, if (validateexternaltype(lambdavariable(MapObject, ObjectType(class java.lang.Object), true, 27), StructField(annotatorType,StringType,true), StructField(begin,IntegerType,false), StructField(end,IntegerType,false), StructField(result,StringType,true), StructField(metadata,MapType(StringType,StringType,true),true), StructField(embeddings,ArrayType(FloatType,false),true)).isNullAt) null else newInstance(class org.apache.spark.sql.catalyst.util.ArrayBasedMapData), embeddings, if (validateexternaltype(lambdavariable(MapObject, ObjectType(class java.lang.Object), true, 27), StructField(annotatorType,StringType,true), StructField(begin,IntegerType,false), StructField(end,IntegerType,false), StructField(result,StringType,true), StructField(metadata,MapType(StringType,StringType,true),true), StructField(embeddings,ArrayType(FloatType,false),true)).isNullAt) null else staticinvoke(class org.apache.spark.sql.catalyst.util.ArrayData, ArrayType(FloatType,false), toArrayData, validateexternaltype(getexternalrowfield(validateexternaltype(lambdavariable(MapObject, ObjectType(class java.lang.Object), true, 27), StructField(annotatorType,StringType,true), StructField(begin,IntegerType,false), StructField(end,IntegerType,false), StructField(result,StringType,true), StructField(metadata,MapType(StringType,StringType,true),true), StructField(embeddings,ArrayType(FloatType,false),true)), 5, embeddings), ArrayType(FloatType,false)), true, false)), validateexternaltype(getexternalrowfield(assertnotnull(input[0, org.apache.spark.sql.Row, true]), 3, document), ArrayType(StructType(StructField(annotatorType,StringType,true), StructField(begin,IntegerType,false), StructField(end,IntegerType,false), StructField(result,StringType,true), StructField(metadata,MapType(StringType,StringType,true),true), StructField(embeddings,ArrayType(FloatType,false),true)),true)), None) AS document#112, if (assertnotnull(input[0, org.apache.spark.sql.Row, true]).isNullAt) null else mapobjects(lambdavariable(MapObject, ObjectType(class java.lang.Object), true, 30), assertnotnull(if (isnull(validateexternaltype(lambdavariable(MapObject, ObjectType(class java.lang.Object), true, 30), StructField(annotatorType,StringType,true), StructField(begin,IntegerType,false), StructField(end,IntegerType,false), StructField(result,StringType,true), StructField(metadata,MapType(StringType,StringType,true),true), StructField(embeddings,ArrayType(FloatType,false),true)))) null else named_struct(annotatorType, if (validateexternaltype(lambdavariable(MapObject, ObjectType(class java.lang.Object), true, 30), StructField(annotatorType,StringType,true), StructField(begin,IntegerType,false), StructField(end,IntegerType,false), StructField(result,StringType,true), StructField(metadata,MapType(StringType,StringType,true),true), StructField(embeddings,ArrayType(FloatType,false),true)).isNullAt) null else staticinvoke(class org.apache.spark.unsafe.types.UTF8String, StringType, fromString, validateexternaltype(getexternalrowfield(validateexternaltype(lambdavariable(MapObject, ObjectType(class java.lang.Object), true, 30), StructField(annotatorType,StringType,true), StructField(begin,IntegerType,false), StructField(end,IntegerType,false), StructField(result,StringType,true), StructField(metadata,MapType(StringType,StringType,true),true), StructField(embeddings,ArrayType(FloatType,false),true)), 0, annotatorType), StringType), true, false), begin, validateexternaltype(getexternalrowfield(validateexternaltype(lambdavariable(MapObject, ObjectType(class java.lang.Object), true, 30), StructField(annotatorType,StringType,true), StructField(begin,IntegerType,false), StructField(end,IntegerType,false), StructField(result,StringType,true), StructField(metadata,MapType(StringType,StringType,true),true), StructField(embeddings,ArrayType(FloatType,false),true)), 1, begin), IntegerType), end, validateexternaltype(getexternalrowfield(validateexternaltype(lambdavariable(MapObject, ObjectType(class java.lang.Object), true, 30), StructField(annotatorType,StringType,true), StructField(begin,IntegerType,false), StructField(end,IntegerType,false), StructField(result,StringType,true), StructField(metadata,MapType(StringType,StringType,true),true), StructField(embeddings,ArrayType(FloatType,false),true)), 2, end), IntegerType), result, if (validateexternaltype(lambdavariable(MapObject, ObjectType(class java.lang.Object), true, 30), StructField(annotatorType,StringType,true), StructField(begin,IntegerType,false), StructField(end,IntegerType,false), StructField(result,StringType,true), StructField(metadata,MapType(StringType,StringType,true),true), StructField(embeddings,ArrayType(FloatType,false),true)).isNullAt) null else staticinvoke(class org.apache.spark.unsafe.types.UTF8String, StringType, fromString, validateexternaltype(getexternalrowfield(validateexternaltype(lambdavariable(MapObject, ObjectType(class java.lang.Object), true, 30), StructField(annotatorType,StringType,true), StructField(begin,IntegerType,false), StructField(end,IntegerType,false), StructField(result,StringType,true), StructField(metadata,MapType(StringType,StringType,true),true), StructField(embeddings,ArrayType(FloatType,false),true)), 3, result), StringType), true, false), metadata, if (validateexternaltype(lambdavariable(MapObject, ObjectType(class java.lang.Object), true, 30), StructField(annotatorType,StringType,true), StructField(begin,IntegerType,false), StructField(end,IntegerType,false), StructField(result,StringType,true), StructField(metadata,MapType(StringType,StringType,true),true), StructField(embeddings,ArrayType(FloatType,false),true)).isNullAt) null else newInstance(class org.apache.spark.sql.catalyst.util.ArrayBasedMapData), embeddings, if (validateexternaltype(lambdavariable(MapObject, ObjectType(class java.lang.Object), true, 30), StructField(annotatorType,StringType,true), StructField(begin,IntegerType,false), StructField(end,IntegerType,false), StructField(result,StringType,true), StructField(metadata,MapType(StringType,StringType,true),true), StructField(embeddings,ArrayType(FloatType,false),true)).isNullAt) null else staticinvoke(class org.apache.spark.sql.catalyst.util.ArrayData, ArrayType(FloatType,false), toArrayData, validateexternaltype(getexternalrowfield(validateexternaltype(lambdavariable(MapObject, ObjectType(class java.lang.Object), true, 30), StructField(annotatorType,StringType,true), StructField(begin,IntegerType,false), StructField(end,IntegerType,false), StructField(result,StringType,true), StructField(metadata,MapType(StringType,StringType,true),true), StructField(embeddings,ArrayType(FloatType,false),true)), 5, embeddings), ArrayType(FloatType,false)), true, false))), validateexternaltype(getexternalrowfield(assertnotnull(input[0, org.apache.spark.sql.Row, true]), 4, sentence_embeddings), ArrayType(StructType(StructField(annotatorType,StringType,true), StructField(begin,IntegerType,false), StructField(end,IntegerType,false), StructField(result,StringType,true), StructField(metadata,MapType(StringType,StringType,true),true), StructField(embeddings,ArrayType(FloatType,false),true)),false)), None) AS sentence_embeddings#113]\n                                             +- MapPartitions com.johnsnowlabs.nlp.AnnotatorModel$$Lambda$4239/82357369@4c326f1c, obj#108: org.apache.spark.sql.Row\n                                                +- DeserializeToObject createexternalrow(id#57.toString, ingredients#72.toString, title#59.toString, staticinvoke(class scala.collection.mutable.WrappedArray$, ObjectType(interface scala.collection.Seq), make, mapobjects(lambdavariable(MapObject, StructField(annotatorType,StringType,true), StructField(begin,IntegerType,false), StructField(end,IntegerType,false), StructField(result,StringType,true), StructField(metadata,MapType(StringType,StringType,true),true), StructField(embeddings,ArrayType(FloatType,false),true), true, 23), if (isnull(lambdavariable(MapObject, StructField(annotatorType,StringType,true), StructField(begin,IntegerType,false), StructField(end,IntegerType,false), StructField(result,StringType,true), StructField(metadata,MapType(StringType,StringType,true),true), StructField(embeddings,ArrayType(FloatType,false),true), true, 23))) null else createexternalrow(if (lambdavariable(MapObject, StructField(annotatorType,StringType,true), StructField(begin,IntegerType,false), StructField(end,IntegerType,false), StructField(result,StringType,true), StructField(metadata,MapType(StringType,StringType,true),true), StructField(embeddings,ArrayType(FloatType,false),true), true, 23).isNullAt) null else lambdavariable(MapObject, StructField(annotatorType,StringType,true), StructField(begin,IntegerType,false), StructField(end,IntegerType,false), StructField(result,StringType,true), StructField(metadata,MapType(StringType,StringType,true),true), StructField(embeddings,ArrayType(FloatType,false),true), true, 23).annotatorType.toString, if (lambdavariable(MapObject, StructField(annotatorType,StringType,true), StructField(begin,IntegerType,false), StructField(end,IntegerType,false), StructField(result,StringType,true), StructField(metadata,MapType(StringType,StringType,true),true), StructField(embeddings,ArrayType(FloatType,false),true), true, 23).isNullAt) null else lambdavariable(MapObject, StructField(annotatorType,StringType,true), StructField(begin,IntegerType,false), StructField(end,IntegerType,false), StructField(result,StringType,true), StructField(metadata,MapType(StringType,StringType,true),true), StructField(embeddings,ArrayType(FloatType,false),true), true, 23).begin, if (lambdavariable(MapObject, StructField(annotatorType,StringType,true), StructField(begin,IntegerType,false), StructField(end,IntegerType,false), StructField(result,StringType,true), StructField(metadata,MapType(StringType,StringType,true),true), StructField(embeddings,ArrayType(FloatType,false),true), true, 23).isNullAt) null else lambdavariable(MapObject, StructField(annotatorType,StringType,true), StructField(begin,IntegerType,false), StructField(end,IntegerType,false), StructField(result,StringType,true), StructField(metadata,MapType(StringType,StringType,true),true), StructField(embeddings,ArrayType(FloatType,false),true), true, 23).end, if (lambdavariable(MapObject, StructField(annotatorType,StringType,true), StructField(begin,IntegerType,false), StructField(end,IntegerType,false), StructField(result,StringType,true), StructField(metadata,MapType(StringType,StringType,true),true), StructField(embeddings,ArrayType(FloatType,false),true), true, 23).isNullAt) null else lambdavariable(MapObject, StructField(annotatorType,StringType,true), StructField(begin,IntegerType,false), StructField(end,IntegerType,false), StructField(result,StringType,true), StructField(metadata,MapType(StringType,StringType,true),true), StructField(embeddings,ArrayType(FloatType,false),true), true, 23).result.toString, if (lambdavariable(MapObject, StructField(annotatorType,StringType,true), StructField(begin,IntegerType,false), StructField(end,IntegerType,false), StructField(result,StringType,true), StructField(metadata,MapType(StringType,StringType,true),true), StructField(embeddings,ArrayType(FloatType,false),true), true, 23).isNullAt) null else staticinvoke(class org.apache.spark.sql.catalyst.util.ArrayBasedMapData$, ObjectType(interface scala.collection.Map), toScalaMap, staticinvoke(class scala.collection.mutable.WrappedArray$, ObjectType(interface scala.collection.Seq), make, mapobjects(lambdavariable(MapObject, StringType, true, 24), lambdavariable(MapObject, StringType, true, 24).toString, lambdavariable(MapObject, StructField(annotatorType,StringType,true), StructField(begin,IntegerType,false), StructField(end,IntegerType,false), StructField(result,StringType,true), StructField(metadata,MapType(StringType,StringType,true),true), StructField(embeddings,ArrayType(FloatType,false),true), true, 23).metadata.keyArray, None).array, true, false), staticinvoke(class scala.collection.mutable.WrappedArray$, ObjectType(interface scala.collection.Seq), make, mapobjects(lambdavariable(MapObject, StringType, true, 25), lambdavariable(MapObject, StringType, true, 25).toString, lambdavariable(MapObject, StructField(annotatorType,StringType,true), StructField(begin,IntegerType,false), StructField(end,IntegerType,false), StructField(result,StringType,true), StructField(metadata,MapType(StringType,StringType,true),true), StructField(embeddings,ArrayType(FloatType,false),true), true, 23).metadata.valueArray, None).array, true, false), true, false), if (lambdavariable(MapObject, StructField(annotatorType,StringType,true), StructField(begin,IntegerType,false), StructField(end,IntegerType,false), StructField(result,StringType,true), StructField(metadata,MapType(StringType,StringType,true),true), StructField(embeddings,ArrayType(FloatType,false),true), true, 23).isNullAt) null else staticinvoke(class scala.collection.mutable.WrappedArray$, ObjectType(interface scala.collection.Seq), make, mapobjects(lambdavariable(MapObject, FloatType, true, 26), lambdavariable(MapObject, FloatType, true, 26), lambdavariable(MapObject, StructField(annotatorType,StringType,true), StructField(begin,IntegerType,false), StructField(end,IntegerType,false), StructField(result,StringType,true), StructField(metadata,MapType(StringType,StringType,true),true), StructField(embeddings,ArrayType(FloatType,false),true), true, 23).embeddings, None).array, true, false), StructField(annotatorType,StringType,true), StructField(begin,IntegerType,false), StructField(end,IntegerType,false), StructField(result,StringType,true), StructField(metadata,MapType(StringType,StringType,true),true), StructField(embeddings,ArrayType(FloatType,false),true)), document#94, None).array, true, false), StructField(id,StringType,true), StructField(ingredients,StringType,true), StructField(title,StringType,true), StructField(document,ArrayType(StructType(StructField(annotatorType,StringType,true), StructField(begin,IntegerType,false), StructField(end,IntegerType,false), StructField(result,StringType,true), StructField(metadata,MapType(StringType,StringType,true),true), StructField(embeddings,ArrayType(FloatType,false),true)),true),true)), obj#107: org.apache.spark.sql.Row\n                                                   +- Project [id#57, ingredients#72, title#59, UDF(ingredients#72) AS document#94]\n                                                      +- Project [id#57, parse_ingredients(ingredients#58) AS ingredients#72, title#59]\n                                                         +- LogicalRDD [id#57, ingredients#58, title#59], false\n"
     ]
    }
   ],
   "source": [
    "\n",
    "result = (result.withColumn(\"dim\", vector_to_array(\"pcaFeatures\"))).select([\"id\"] + [\"title\"] + [\"ingredients\"] + [col(\"dim\")[i] for i in range(2)])"
   ]
  },
  {
   "cell_type": "code",
   "execution_count": 61,
   "id": "appreciated-difficulty",
   "metadata": {},
   "outputs": [
    {
     "name": "stdout",
     "output_type": "stream",
     "text": [
      "+----------+--------------------+--------------------+--------------------+--------------------+\n",
      "|        id|               title|         ingredients|              dim[0]|              dim[1]|\n",
      "+----------+--------------------+--------------------+--------------------+--------------------+\n",
      "|00011fc1f9|Lentils Vegetable...|1 cup lentils. 12...| -1.5658635956364222|    -1.7534111991203|\n",
      "|00004320bb|Cool 'n Easy Crea...|1 (3 ounce) packa...| -1.0292415508838952| 0.11491375932398303|\n",
      "|000033e39b|Dilly Macaroni Sa...|1 c. elbow macaro...| -0.6938908218629021| 0.20321849206833073|\n",
      "|00050db874| Peanut Butter Bread|34 cup peanut but...|  -3.565346306281742| -1.0755418620023158|\n",
      "|000368efd3|Cheesy Herbed Egg...|2 eggs, scrambled...| -0.6741251393958531|-0.43670349422115273|\n",
      "|00033f624d|Amy's Cheesey , B...|1/4 cup butter. 1...| -0.9005175688029009|-0.32023749330236656|\n",
      "|00010379bf|Brown Sugar 'Kari...|200 grams Cake fl...| -1.3607978530125302|  0.5233787958325812|\n",
      "|0002491373|    Tex-Mex Caponata|nonstick cooking ...| -0.8811579354276378|   -2.00086184379688|\n",
      "|00052b48d3|         Revoltillos|3 cups cooked bro...|-0.05474487516476...|   -1.36068143683241|\n",
      "|00010c7867|Grandmommy's Mexi...|1 12 lbs ground b...| -1.5309009627948313| -1.3427730179375224|\n",
      "|00029df38f|      Praline Kisses|1 egg white, room...|  -2.862021279401724| -1.2499052307315544|\n",
      "|000535f6ea|Wonderful and Goo...|12 chopped sweet ...| -1.7973626263681817| -1.6603494435005313|\n",
      "|0004dbbc43|Crab Salad with E...|2 tablespoons oli...| -0.9971259687213893| -1.1589745077185891|\n",
      "|0006556e29|Green Bean Casser...|1 lb bacon, cooke...|  -0.860151966949927| -1.3432434956663062|\n",
      "|0001cba765|    Margarita Madras|3 ounces orange j...|-0.30057495118815475|0.015091492664504266|\n",
      "|0000a4bcf6|Salmon & Salad a ...|1/2 cup green oni...| -1.1339264287562678| -0.7572080500081293|\n",
      "|000075604a|Kombu Tea Grilled...|2 Chicken thighs....| -0.8911408906058549| 0.07602063932626789|\n",
      "|0001d81db6|           Guacamole|2 ripe avocados. ...| -0.5360928053635219|  -1.298233163681119|\n",
      "|0004c0a2a8|Hot Corned Beef Buns|1 lb leftover cho...| -1.3799942682359398| -1.8942260096851473|\n",
      "|000566f1e0|Grandma's Caramel...|1-1/4 gal. popped...| -2.6259232610300405|  0.7975407653155623|\n",
      "+----------+--------------------+--------------------+--------------------+--------------------+\n",
      "only showing top 20 rows\n",
      "\n"
     ]
    }
   ],
   "source": [
    "result.show()"
   ]
  },
  {
   "cell_type": "code",
   "execution_count": 62,
   "id": "determined-sugar",
   "metadata": {},
   "outputs": [
    {
     "data": {
      "text/html": [
       "<div>\n",
       "<style scoped>\n",
       "    .dataframe tbody tr th:only-of-type {\n",
       "        vertical-align: middle;\n",
       "    }\n",
       "\n",
       "    .dataframe tbody tr th {\n",
       "        vertical-align: top;\n",
       "    }\n",
       "\n",
       "    .dataframe thead th {\n",
       "        text-align: right;\n",
       "    }\n",
       "</style>\n",
       "<table border=\"1\" class=\"dataframe\">\n",
       "  <thead>\n",
       "    <tr style=\"text-align: right;\">\n",
       "      <th></th>\n",
       "      <th>title</th>\n",
       "      <th>ingredients</th>\n",
       "      <th>dim[0]</th>\n",
       "      <th>dim[1]</th>\n",
       "    </tr>\n",
       "    <tr>\n",
       "      <th>id</th>\n",
       "      <th></th>\n",
       "      <th></th>\n",
       "      <th></th>\n",
       "      <th></th>\n",
       "    </tr>\n",
       "  </thead>\n",
       "  <tbody>\n",
       "    <tr>\n",
       "      <th>00011fc1f9</th>\n",
       "      <td>Lentils Vegetable Soup</td>\n",
       "      <td>1 cup lentils. 12 onion (finely chopped). 1 to...</td>\n",
       "      <td>-1.565864</td>\n",
       "      <td>-1.753411</td>\n",
       "    </tr>\n",
       "    <tr>\n",
       "      <th>00004320bb</th>\n",
       "      <td>Cool 'n Easy Creamy Watermelon Pie</td>\n",
       "      <td>1 (3 ounce) package watermelon gelatin. 14 cup...</td>\n",
       "      <td>-1.029242</td>\n",
       "      <td>0.114914</td>\n",
       "    </tr>\n",
       "    <tr>\n",
       "      <th>000033e39b</th>\n",
       "      <td>Dilly Macaroni Salad Recipe</td>\n",
       "      <td>1 c. elbow macaroni. 1 c. cubed American chees...</td>\n",
       "      <td>-0.693891</td>\n",
       "      <td>0.203218</td>\n",
       "    </tr>\n",
       "    <tr>\n",
       "      <th>00050db874</th>\n",
       "      <td>Peanut Butter Bread</td>\n",
       "      <td>34 cup peanut butter. 12 cup sugar. 1 teaspoon...</td>\n",
       "      <td>-3.565346</td>\n",
       "      <td>-1.075542</td>\n",
       "    </tr>\n",
       "    <tr>\n",
       "      <th>000368efd3</th>\n",
       "      <td>Cheesy Herbed Egg Sandwich</td>\n",
       "      <td>2 eggs, scrambled. 2 Tbsp. PHILADELPHIA Chive ...</td>\n",
       "      <td>-0.674125</td>\n",
       "      <td>-0.436703</td>\n",
       "    </tr>\n",
       "  </tbody>\n",
       "</table>\n",
       "</div>"
      ],
      "text/plain": [
       "                                         title  \\\n",
       "id                                               \n",
       "00011fc1f9              Lentils Vegetable Soup   \n",
       "00004320bb  Cool 'n Easy Creamy Watermelon Pie   \n",
       "000033e39b         Dilly Macaroni Salad Recipe   \n",
       "00050db874                 Peanut Butter Bread   \n",
       "000368efd3          Cheesy Herbed Egg Sandwich   \n",
       "\n",
       "                                                  ingredients    dim[0]  \\\n",
       "id                                                                        \n",
       "00011fc1f9  1 cup lentils. 12 onion (finely chopped). 1 to... -1.565864   \n",
       "00004320bb  1 (3 ounce) package watermelon gelatin. 14 cup... -1.029242   \n",
       "000033e39b  1 c. elbow macaroni. 1 c. cubed American chees... -0.693891   \n",
       "00050db874  34 cup peanut butter. 12 cup sugar. 1 teaspoon... -3.565346   \n",
       "000368efd3  2 eggs, scrambled. 2 Tbsp. PHILADELPHIA Chive ... -0.674125   \n",
       "\n",
       "              dim[1]  \n",
       "id                    \n",
       "00011fc1f9 -1.753411  \n",
       "00004320bb  0.114914  \n",
       "000033e39b  0.203218  \n",
       "00050db874 -1.075542  \n",
       "000368efd3 -0.436703  "
      ]
     },
     "execution_count": 62,
     "metadata": {},
     "output_type": "execute_result"
    }
   ],
   "source": [
    "result_df = result.toPandas().set_index('id')\n",
    "result_df.head()"
   ]
  },
  {
   "cell_type": "code",
   "execution_count": 68,
   "id": "extended-advancement",
   "metadata": {},
   "outputs": [
    {
     "data": {
      "text/html": [
       "\n",
       "    <div class=\"bk-root\">\n",
       "        <a href=\"https://bokeh.org\" target=\"_blank\" class=\"bk-logo bk-logo-small bk-logo-notebook\"></a>\n",
       "        <span id=\"1330\">Loading BokehJS ...</span>\n",
       "    </div>"
      ]
     },
     "metadata": {},
     "output_type": "display_data"
    },
    {
     "data": {
      "application/javascript": [
       "\n",
       "(function(root) {\n",
       "  function now() {\n",
       "    return new Date();\n",
       "  }\n",
       "\n",
       "  var force = true;\n",
       "\n",
       "  if (typeof root._bokeh_onload_callbacks === \"undefined\" || force === true) {\n",
       "    root._bokeh_onload_callbacks = [];\n",
       "    root._bokeh_is_loading = undefined;\n",
       "  }\n",
       "\n",
       "  var JS_MIME_TYPE = 'application/javascript';\n",
       "  var HTML_MIME_TYPE = 'text/html';\n",
       "  var EXEC_MIME_TYPE = 'application/vnd.bokehjs_exec.v0+json';\n",
       "  var CLASS_NAME = 'output_bokeh rendered_html';\n",
       "\n",
       "  /**\n",
       "   * Render data to the DOM node\n",
       "   */\n",
       "  function render(props, node) {\n",
       "    var script = document.createElement(\"script\");\n",
       "    node.appendChild(script);\n",
       "  }\n",
       "\n",
       "  /**\n",
       "   * Handle when an output is cleared or removed\n",
       "   */\n",
       "  function handleClearOutput(event, handle) {\n",
       "    var cell = handle.cell;\n",
       "\n",
       "    var id = cell.output_area._bokeh_element_id;\n",
       "    var server_id = cell.output_area._bokeh_server_id;\n",
       "    // Clean up Bokeh references\n",
       "    if (id != null && id in Bokeh.index) {\n",
       "      Bokeh.index[id].model.document.clear();\n",
       "      delete Bokeh.index[id];\n",
       "    }\n",
       "\n",
       "    if (server_id !== undefined) {\n",
       "      // Clean up Bokeh references\n",
       "      var cmd = \"from bokeh.io.state import curstate; print(curstate().uuid_to_server['\" + server_id + \"'].get_sessions()[0].document.roots[0]._id)\";\n",
       "      cell.notebook.kernel.execute(cmd, {\n",
       "        iopub: {\n",
       "          output: function(msg) {\n",
       "            var id = msg.content.text.trim();\n",
       "            if (id in Bokeh.index) {\n",
       "              Bokeh.index[id].model.document.clear();\n",
       "              delete Bokeh.index[id];\n",
       "            }\n",
       "          }\n",
       "        }\n",
       "      });\n",
       "      // Destroy server and session\n",
       "      var cmd = \"import bokeh.io.notebook as ion; ion.destroy_server('\" + server_id + \"')\";\n",
       "      cell.notebook.kernel.execute(cmd);\n",
       "    }\n",
       "  }\n",
       "\n",
       "  /**\n",
       "   * Handle when a new output is added\n",
       "   */\n",
       "  function handleAddOutput(event, handle) {\n",
       "    var output_area = handle.output_area;\n",
       "    var output = handle.output;\n",
       "\n",
       "    // limit handleAddOutput to display_data with EXEC_MIME_TYPE content only\n",
       "    if ((output.output_type != \"display_data\") || (!Object.prototype.hasOwnProperty.call(output.data, EXEC_MIME_TYPE))) {\n",
       "      return\n",
       "    }\n",
       "\n",
       "    var toinsert = output_area.element.find(\".\" + CLASS_NAME.split(' ')[0]);\n",
       "\n",
       "    if (output.metadata[EXEC_MIME_TYPE][\"id\"] !== undefined) {\n",
       "      toinsert[toinsert.length - 1].firstChild.textContent = output.data[JS_MIME_TYPE];\n",
       "      // store reference to embed id on output_area\n",
       "      output_area._bokeh_element_id = output.metadata[EXEC_MIME_TYPE][\"id\"];\n",
       "    }\n",
       "    if (output.metadata[EXEC_MIME_TYPE][\"server_id\"] !== undefined) {\n",
       "      var bk_div = document.createElement(\"div\");\n",
       "      bk_div.innerHTML = output.data[HTML_MIME_TYPE];\n",
       "      var script_attrs = bk_div.children[0].attributes;\n",
       "      for (var i = 0; i < script_attrs.length; i++) {\n",
       "        toinsert[toinsert.length - 1].firstChild.setAttribute(script_attrs[i].name, script_attrs[i].value);\n",
       "        toinsert[toinsert.length - 1].firstChild.textContent = bk_div.children[0].textContent\n",
       "      }\n",
       "      // store reference to server id on output_area\n",
       "      output_area._bokeh_server_id = output.metadata[EXEC_MIME_TYPE][\"server_id\"];\n",
       "    }\n",
       "  }\n",
       "\n",
       "  function register_renderer(events, OutputArea) {\n",
       "\n",
       "    function append_mime(data, metadata, element) {\n",
       "      // create a DOM node to render to\n",
       "      var toinsert = this.create_output_subarea(\n",
       "        metadata,\n",
       "        CLASS_NAME,\n",
       "        EXEC_MIME_TYPE\n",
       "      );\n",
       "      this.keyboard_manager.register_events(toinsert);\n",
       "      // Render to node\n",
       "      var props = {data: data, metadata: metadata[EXEC_MIME_TYPE]};\n",
       "      render(props, toinsert[toinsert.length - 1]);\n",
       "      element.append(toinsert);\n",
       "      return toinsert\n",
       "    }\n",
       "\n",
       "    /* Handle when an output is cleared or removed */\n",
       "    events.on('clear_output.CodeCell', handleClearOutput);\n",
       "    events.on('delete.Cell', handleClearOutput);\n",
       "\n",
       "    /* Handle when a new output is added */\n",
       "    events.on('output_added.OutputArea', handleAddOutput);\n",
       "\n",
       "    /**\n",
       "     * Register the mime type and append_mime function with output_area\n",
       "     */\n",
       "    OutputArea.prototype.register_mime_type(EXEC_MIME_TYPE, append_mime, {\n",
       "      /* Is output safe? */\n",
       "      safe: true,\n",
       "      /* Index of renderer in `output_area.display_order` */\n",
       "      index: 0\n",
       "    });\n",
       "  }\n",
       "\n",
       "  // register the mime type if in Jupyter Notebook environment and previously unregistered\n",
       "  if (root.Jupyter !== undefined) {\n",
       "    var events = require('base/js/events');\n",
       "    var OutputArea = require('notebook/js/outputarea').OutputArea;\n",
       "\n",
       "    if (OutputArea.prototype.mime_types().indexOf(EXEC_MIME_TYPE) == -1) {\n",
       "      register_renderer(events, OutputArea);\n",
       "    }\n",
       "  }\n",
       "\n",
       "  \n",
       "  if (typeof (root._bokeh_timeout) === \"undefined\" || force === true) {\n",
       "    root._bokeh_timeout = Date.now() + 5000;\n",
       "    root._bokeh_failed_load = false;\n",
       "  }\n",
       "\n",
       "  var NB_LOAD_WARNING = {'data': {'text/html':\n",
       "     \"<div style='background-color: #fdd'>\\n\"+\n",
       "     \"<p>\\n\"+\n",
       "     \"BokehJS does not appear to have successfully loaded. If loading BokehJS from CDN, this \\n\"+\n",
       "     \"may be due to a slow or bad network connection. Possible fixes:\\n\"+\n",
       "     \"</p>\\n\"+\n",
       "     \"<ul>\\n\"+\n",
       "     \"<li>re-rerun `output_notebook()` to attempt to load from CDN again, or</li>\\n\"+\n",
       "     \"<li>use INLINE resources instead, as so:</li>\\n\"+\n",
       "     \"</ul>\\n\"+\n",
       "     \"<code>\\n\"+\n",
       "     \"from bokeh.resources import INLINE\\n\"+\n",
       "     \"output_notebook(resources=INLINE)\\n\"+\n",
       "     \"</code>\\n\"+\n",
       "     \"</div>\"}};\n",
       "\n",
       "  function display_loaded() {\n",
       "    var el = document.getElementById(\"1330\");\n",
       "    if (el != null) {\n",
       "      el.textContent = \"BokehJS is loading...\";\n",
       "    }\n",
       "    if (root.Bokeh !== undefined) {\n",
       "      if (el != null) {\n",
       "        el.textContent = \"BokehJS \" + root.Bokeh.version + \" successfully loaded.\";\n",
       "      }\n",
       "    } else if (Date.now() < root._bokeh_timeout) {\n",
       "      setTimeout(display_loaded, 100)\n",
       "    }\n",
       "  }\n",
       "\n",
       "\n",
       "  function run_callbacks() {\n",
       "    try {\n",
       "      root._bokeh_onload_callbacks.forEach(function(callback) {\n",
       "        if (callback != null)\n",
       "          callback();\n",
       "      });\n",
       "    } finally {\n",
       "      delete root._bokeh_onload_callbacks\n",
       "    }\n",
       "    console.debug(\"Bokeh: all callbacks have finished\");\n",
       "  }\n",
       "\n",
       "  function load_libs(css_urls, js_urls, callback) {\n",
       "    if (css_urls == null) css_urls = [];\n",
       "    if (js_urls == null) js_urls = [];\n",
       "\n",
       "    root._bokeh_onload_callbacks.push(callback);\n",
       "    if (root._bokeh_is_loading > 0) {\n",
       "      console.debug(\"Bokeh: BokehJS is being loaded, scheduling callback at\", now());\n",
       "      return null;\n",
       "    }\n",
       "    if (js_urls == null || js_urls.length === 0) {\n",
       "      run_callbacks();\n",
       "      return null;\n",
       "    }\n",
       "    console.debug(\"Bokeh: BokehJS not loaded, scheduling load and callback at\", now());\n",
       "    root._bokeh_is_loading = css_urls.length + js_urls.length;\n",
       "\n",
       "    function on_load() {\n",
       "      root._bokeh_is_loading--;\n",
       "      if (root._bokeh_is_loading === 0) {\n",
       "        console.debug(\"Bokeh: all BokehJS libraries/stylesheets loaded\");\n",
       "        run_callbacks()\n",
       "      }\n",
       "    }\n",
       "\n",
       "    function on_error(url) {\n",
       "      console.error(\"failed to load \" + url);\n",
       "    }\n",
       "\n",
       "    for (let i = 0; i < css_urls.length; i++) {\n",
       "      const url = css_urls[i];\n",
       "      const element = document.createElement(\"link\");\n",
       "      element.onload = on_load;\n",
       "      element.onerror = on_error.bind(null, url);\n",
       "      element.rel = \"stylesheet\";\n",
       "      element.type = \"text/css\";\n",
       "      element.href = url;\n",
       "      console.debug(\"Bokeh: injecting link tag for BokehJS stylesheet: \", url);\n",
       "      document.body.appendChild(element);\n",
       "    }\n",
       "\n",
       "    const hashes = {\"https://cdn.bokeh.org/bokeh/release/bokeh-2.3.1.min.js\": \"YF85VygJKMVnHE+lLv2AM93Vbstr0yo2TbIu5v8se5Rq3UQAUmcuh4aaJwNlpKwa\", \"https://cdn.bokeh.org/bokeh/release/bokeh-widgets-2.3.1.min.js\": \"KKuas3gevv3PvrlkyCMzffFeaMq5we/a2QsP5AUoS3mJ0jmaCL7jirFJN3GoE/lM\", \"https://cdn.bokeh.org/bokeh/release/bokeh-tables-2.3.1.min.js\": \"MK/uFc3YT18pkvvXRl66tTHjP0/dxoSH2e/eiNMFIguKlun2+WVqaPTWmUy/zvh4\"};\n",
       "\n",
       "    for (let i = 0; i < js_urls.length; i++) {\n",
       "      const url = js_urls[i];\n",
       "      const element = document.createElement('script');\n",
       "      element.onload = on_load;\n",
       "      element.onerror = on_error.bind(null, url);\n",
       "      element.async = false;\n",
       "      element.src = url;\n",
       "      if (url in hashes) {\n",
       "        element.crossOrigin = \"anonymous\";\n",
       "        element.integrity = \"sha384-\" + hashes[url];\n",
       "      }\n",
       "      console.debug(\"Bokeh: injecting script tag for BokehJS library: \", url);\n",
       "      document.head.appendChild(element);\n",
       "    }\n",
       "  };\n",
       "\n",
       "  function inject_raw_css(css) {\n",
       "    const element = document.createElement(\"style\");\n",
       "    element.appendChild(document.createTextNode(css));\n",
       "    document.body.appendChild(element);\n",
       "  }\n",
       "\n",
       "  \n",
       "  var js_urls = [\"https://cdn.bokeh.org/bokeh/release/bokeh-2.3.1.min.js\", \"https://cdn.bokeh.org/bokeh/release/bokeh-widgets-2.3.1.min.js\", \"https://cdn.bokeh.org/bokeh/release/bokeh-tables-2.3.1.min.js\"];\n",
       "  var css_urls = [];\n",
       "  \n",
       "\n",
       "  var inline_js = [\n",
       "    function(Bokeh) {\n",
       "      Bokeh.set_log_level(\"info\");\n",
       "    },\n",
       "    function(Bokeh) {\n",
       "    \n",
       "    \n",
       "    }\n",
       "  ];\n",
       "\n",
       "  function run_inline_js() {\n",
       "    \n",
       "    if (root.Bokeh !== undefined || force === true) {\n",
       "      \n",
       "    for (var i = 0; i < inline_js.length; i++) {\n",
       "      inline_js[i].call(root, root.Bokeh);\n",
       "    }\n",
       "    if (force === true) {\n",
       "        display_loaded();\n",
       "      }} else if (Date.now() < root._bokeh_timeout) {\n",
       "      setTimeout(run_inline_js, 100);\n",
       "    } else if (!root._bokeh_failed_load) {\n",
       "      console.log(\"Bokeh: BokehJS failed to load within specified timeout.\");\n",
       "      root._bokeh_failed_load = true;\n",
       "    } else if (force !== true) {\n",
       "      var cell = $(document.getElementById(\"1330\")).parents('.cell').data().cell;\n",
       "      cell.output_area.append_execute_result(NB_LOAD_WARNING)\n",
       "    }\n",
       "\n",
       "  }\n",
       "\n",
       "  if (root._bokeh_is_loading === 0) {\n",
       "    console.debug(\"Bokeh: BokehJS loaded, going straight to plotting\");\n",
       "    run_inline_js();\n",
       "  } else {\n",
       "    load_libs(css_urls, js_urls, function() {\n",
       "      console.debug(\"Bokeh: BokehJS plotting callback run at\", now());\n",
       "      run_inline_js();\n",
       "    });\n",
       "  }\n",
       "}(window));"
      ],
      "application/vnd.bokehjs_load.v0+json": "\n(function(root) {\n  function now() {\n    return new Date();\n  }\n\n  var force = true;\n\n  if (typeof root._bokeh_onload_callbacks === \"undefined\" || force === true) {\n    root._bokeh_onload_callbacks = [];\n    root._bokeh_is_loading = undefined;\n  }\n\n  \n\n  \n  if (typeof (root._bokeh_timeout) === \"undefined\" || force === true) {\n    root._bokeh_timeout = Date.now() + 5000;\n    root._bokeh_failed_load = false;\n  }\n\n  var NB_LOAD_WARNING = {'data': {'text/html':\n     \"<div style='background-color: #fdd'>\\n\"+\n     \"<p>\\n\"+\n     \"BokehJS does not appear to have successfully loaded. If loading BokehJS from CDN, this \\n\"+\n     \"may be due to a slow or bad network connection. Possible fixes:\\n\"+\n     \"</p>\\n\"+\n     \"<ul>\\n\"+\n     \"<li>re-rerun `output_notebook()` to attempt to load from CDN again, or</li>\\n\"+\n     \"<li>use INLINE resources instead, as so:</li>\\n\"+\n     \"</ul>\\n\"+\n     \"<code>\\n\"+\n     \"from bokeh.resources import INLINE\\n\"+\n     \"output_notebook(resources=INLINE)\\n\"+\n     \"</code>\\n\"+\n     \"</div>\"}};\n\n  function display_loaded() {\n    var el = document.getElementById(\"1330\");\n    if (el != null) {\n      el.textContent = \"BokehJS is loading...\";\n    }\n    if (root.Bokeh !== undefined) {\n      if (el != null) {\n        el.textContent = \"BokehJS \" + root.Bokeh.version + \" successfully loaded.\";\n      }\n    } else if (Date.now() < root._bokeh_timeout) {\n      setTimeout(display_loaded, 100)\n    }\n  }\n\n\n  function run_callbacks() {\n    try {\n      root._bokeh_onload_callbacks.forEach(function(callback) {\n        if (callback != null)\n          callback();\n      });\n    } finally {\n      delete root._bokeh_onload_callbacks\n    }\n    console.debug(\"Bokeh: all callbacks have finished\");\n  }\n\n  function load_libs(css_urls, js_urls, callback) {\n    if (css_urls == null) css_urls = [];\n    if (js_urls == null) js_urls = [];\n\n    root._bokeh_onload_callbacks.push(callback);\n    if (root._bokeh_is_loading > 0) {\n      console.debug(\"Bokeh: BokehJS is being loaded, scheduling callback at\", now());\n      return null;\n    }\n    if (js_urls == null || js_urls.length === 0) {\n      run_callbacks();\n      return null;\n    }\n    console.debug(\"Bokeh: BokehJS not loaded, scheduling load and callback at\", now());\n    root._bokeh_is_loading = css_urls.length + js_urls.length;\n\n    function on_load() {\n      root._bokeh_is_loading--;\n      if (root._bokeh_is_loading === 0) {\n        console.debug(\"Bokeh: all BokehJS libraries/stylesheets loaded\");\n        run_callbacks()\n      }\n    }\n\n    function on_error(url) {\n      console.error(\"failed to load \" + url);\n    }\n\n    for (let i = 0; i < css_urls.length; i++) {\n      const url = css_urls[i];\n      const element = document.createElement(\"link\");\n      element.onload = on_load;\n      element.onerror = on_error.bind(null, url);\n      element.rel = \"stylesheet\";\n      element.type = \"text/css\";\n      element.href = url;\n      console.debug(\"Bokeh: injecting link tag for BokehJS stylesheet: \", url);\n      document.body.appendChild(element);\n    }\n\n    const hashes = {\"https://cdn.bokeh.org/bokeh/release/bokeh-2.3.1.min.js\": \"YF85VygJKMVnHE+lLv2AM93Vbstr0yo2TbIu5v8se5Rq3UQAUmcuh4aaJwNlpKwa\", \"https://cdn.bokeh.org/bokeh/release/bokeh-widgets-2.3.1.min.js\": \"KKuas3gevv3PvrlkyCMzffFeaMq5we/a2QsP5AUoS3mJ0jmaCL7jirFJN3GoE/lM\", \"https://cdn.bokeh.org/bokeh/release/bokeh-tables-2.3.1.min.js\": \"MK/uFc3YT18pkvvXRl66tTHjP0/dxoSH2e/eiNMFIguKlun2+WVqaPTWmUy/zvh4\"};\n\n    for (let i = 0; i < js_urls.length; i++) {\n      const url = js_urls[i];\n      const element = document.createElement('script');\n      element.onload = on_load;\n      element.onerror = on_error.bind(null, url);\n      element.async = false;\n      element.src = url;\n      if (url in hashes) {\n        element.crossOrigin = \"anonymous\";\n        element.integrity = \"sha384-\" + hashes[url];\n      }\n      console.debug(\"Bokeh: injecting script tag for BokehJS library: \", url);\n      document.head.appendChild(element);\n    }\n  };\n\n  function inject_raw_css(css) {\n    const element = document.createElement(\"style\");\n    element.appendChild(document.createTextNode(css));\n    document.body.appendChild(element);\n  }\n\n  \n  var js_urls = [\"https://cdn.bokeh.org/bokeh/release/bokeh-2.3.1.min.js\", \"https://cdn.bokeh.org/bokeh/release/bokeh-widgets-2.3.1.min.js\", \"https://cdn.bokeh.org/bokeh/release/bokeh-tables-2.3.1.min.js\"];\n  var css_urls = [];\n  \n\n  var inline_js = [\n    function(Bokeh) {\n      Bokeh.set_log_level(\"info\");\n    },\n    function(Bokeh) {\n    \n    \n    }\n  ];\n\n  function run_inline_js() {\n    \n    if (root.Bokeh !== undefined || force === true) {\n      \n    for (var i = 0; i < inline_js.length; i++) {\n      inline_js[i].call(root, root.Bokeh);\n    }\n    if (force === true) {\n        display_loaded();\n      }} else if (Date.now() < root._bokeh_timeout) {\n      setTimeout(run_inline_js, 100);\n    } else if (!root._bokeh_failed_load) {\n      console.log(\"Bokeh: BokehJS failed to load within specified timeout.\");\n      root._bokeh_failed_load = true;\n    } else if (force !== true) {\n      var cell = $(document.getElementById(\"1330\")).parents('.cell').data().cell;\n      cell.output_area.append_execute_result(NB_LOAD_WARNING)\n    }\n\n  }\n\n  if (root._bokeh_is_loading === 0) {\n    console.debug(\"Bokeh: BokehJS loaded, going straight to plotting\");\n    run_inline_js();\n  } else {\n    load_libs(css_urls, js_urls, function() {\n      console.debug(\"Bokeh: BokehJS plotting callback run at\", now());\n      run_inline_js();\n    });\n  }\n}(window));"
     },
     "metadata": {},
     "output_type": "display_data"
    },
    {
     "name": "stderr",
     "output_type": "stream",
     "text": [
      "BokehDeprecationWarning: 'legend' keyword is deprecated, use explicit 'legend_label', 'legend_field', or 'legend_group' keywords instead\n"
     ]
    },
    {
     "data": {
      "text/html": [
       "\n",
       "\n",
       "\n",
       "\n",
       "\n",
       "\n",
       "  <div class=\"bk-root\" id=\"6c6e1be6-f0a5-4bfd-83af-841be36d2b9f\" data-root-id=\"1333\"></div>\n"
      ]
     },
     "metadata": {},
     "output_type": "display_data"
    },
    {
     "data": {
      "application/javascript": [
       "(function(root) {\n",
       "  function embed_document(root) {\n",
       "    \n",
       "  var docs_json = {\"82627388-4678-4045-ba52-1f661bc52cf1\":{\"defs\":[],\"roots\":{\"references\":[{\"attributes\":{\"below\":[{\"id\":\"1342\"}],\"center\":[{\"id\":\"1345\"},{\"id\":\"1349\"},{\"id\":\"1380\"}],\"left\":[{\"id\":\"1346\"}],\"renderers\":[{\"id\":\"1367\"}],\"title\":{\"id\":\"1370\"},\"toolbar\":{\"id\":\"1357\"},\"x_range\":{\"id\":\"1334\"},\"x_scale\":{\"id\":\"1338\"},\"y_range\":{\"id\":\"1336\"},\"y_scale\":{\"id\":\"1340\"}},\"id\":\"1333\",\"subtype\":\"Figure\",\"type\":\"Plot\"},{\"attributes\":{\"fill_alpha\":{\"value\":0.1},\"fill_color\":{\"field\":\"cat\",\"transform\":{\"id\":\"1332\"}},\"line_alpha\":{\"value\":0.1},\"line_color\":{\"field\":\"cat\",\"transform\":{\"id\":\"1332\"}},\"x\":{\"field\":\"kpi1\"},\"y\":{\"field\":\"kpi2\"}},\"id\":\"1366\",\"type\":\"Scatter\"},{\"attributes\":{},\"id\":\"1374\",\"type\":\"AllLabels\"},{\"attributes\":{},\"id\":\"1347\",\"type\":\"BasicTicker\"},{\"attributes\":{},\"id\":\"1350\",\"type\":\"PanTool\"},{\"attributes\":{},\"id\":\"1375\",\"type\":\"BasicTickFormatter\"},{\"attributes\":{},\"id\":\"1355\",\"type\":\"HelpTool\"},{\"attributes\":{},\"id\":\"1371\",\"type\":\"AllLabels\"},{\"attributes\":{},\"id\":\"1351\",\"type\":\"WheelZoomTool\"},{\"attributes\":{\"fill_color\":{\"field\":\"cat\",\"transform\":{\"id\":\"1332\"}},\"line_color\":{\"field\":\"cat\",\"transform\":{\"id\":\"1332\"}},\"x\":{\"field\":\"kpi1\"},\"y\":{\"field\":\"kpi2\"}},\"id\":\"1365\",\"type\":\"Scatter\"},{\"attributes\":{\"source\":{\"id\":\"1331\"}},\"id\":\"1368\",\"type\":\"CDSView\"},{\"attributes\":{\"label\":{\"field\":\"cat\"},\"renderers\":[{\"id\":\"1367\"}]},\"id\":\"1381\",\"type\":\"LegendItem\"},{\"attributes\":{\"bottom_units\":\"screen\",\"fill_alpha\":0.5,\"fill_color\":\"lightgrey\",\"left_units\":\"screen\",\"level\":\"overlay\",\"line_alpha\":1.0,\"line_color\":\"black\",\"line_dash\":[4,4],\"line_width\":2,\"right_units\":\"screen\",\"syncable\":false,\"top_units\":\"screen\"},\"id\":\"1356\",\"type\":\"BoxAnnotation\"},{\"attributes\":{},\"id\":\"1338\",\"type\":\"LinearScale\"},{\"attributes\":{\"factors\":[\"a\",\"b\",\"c\"],\"palette\":[\"#1f77b4\",\"#ff7f0e\",\"#2ca02c\"]},\"id\":\"1332\",\"type\":\"CategoricalColorMapper\"},{\"attributes\":{},\"id\":\"1372\",\"type\":\"BasicTickFormatter\"},{\"attributes\":{},\"id\":\"1336\",\"type\":\"DataRange1d\"},{\"attributes\":{\"axis\":{\"id\":\"1342\"},\"ticker\":null},\"id\":\"1345\",\"type\":\"Grid\"},{\"attributes\":{},\"id\":\"1378\",\"type\":\"Selection\"},{\"attributes\":{\"items\":[{\"id\":\"1381\"}]},\"id\":\"1380\",\"type\":\"Legend\"},{\"attributes\":{},\"id\":\"1370\",\"type\":\"Title\"},{\"attributes\":{\"data_source\":{\"id\":\"1331\"},\"glyph\":{\"id\":\"1365\"},\"hover_glyph\":null,\"muted_glyph\":null,\"nonselection_glyph\":{\"id\":\"1366\"},\"view\":{\"id\":\"1368\"}},\"id\":\"1367\",\"type\":\"GlyphRenderer\"},{\"attributes\":{},\"id\":\"1379\",\"type\":\"UnionRenderers\"},{\"attributes\":{\"active_multi\":null,\"tools\":[{\"id\":\"1350\"},{\"id\":\"1351\"},{\"id\":\"1352\"},{\"id\":\"1353\"},{\"id\":\"1354\"},{\"id\":\"1355\"}]},\"id\":\"1357\",\"type\":\"Toolbar\"},{\"attributes\":{},\"id\":\"1334\",\"type\":\"DataRange1d\"},{\"attributes\":{},\"id\":\"1353\",\"type\":\"SaveTool\"},{\"attributes\":{},\"id\":\"1340\",\"type\":\"LinearScale\"},{\"attributes\":{\"formatter\":{\"id\":\"1372\"},\"major_label_policy\":{\"id\":\"1371\"},\"ticker\":{\"id\":\"1343\"}},\"id\":\"1342\",\"type\":\"LinearAxis\"},{\"attributes\":{\"overlay\":{\"id\":\"1356\"}},\"id\":\"1352\",\"type\":\"BoxZoomTool\"},{\"attributes\":{},\"id\":\"1343\",\"type\":\"BasicTicker\"},{\"attributes\":{\"axis\":{\"id\":\"1346\"},\"dimension\":1,\"ticker\":null},\"id\":\"1349\",\"type\":\"Grid\"},{\"attributes\":{\"data\":{\"cat\":[\"a\",\"b\",\"a\",\"c\"],\"index\":[0,1,2,3],\"journey\":[\"ch1\",\"ch2\",\"ch2\",\"ch1\"],\"kpi1\":[1,2,3,4],\"kpi2\":[4,3,2,1]},\"selected\":{\"id\":\"1378\"},\"selection_policy\":{\"id\":\"1379\"}},\"id\":\"1331\",\"type\":\"ColumnDataSource\"},{\"attributes\":{\"formatter\":{\"id\":\"1375\"},\"major_label_policy\":{\"id\":\"1374\"},\"ticker\":{\"id\":\"1347\"}},\"id\":\"1346\",\"type\":\"LinearAxis\"},{\"attributes\":{},\"id\":\"1354\",\"type\":\"ResetTool\"}],\"root_ids\":[\"1333\"]},\"title\":\"Bokeh Application\",\"version\":\"2.3.1\"}};\n",
       "  var render_items = [{\"docid\":\"82627388-4678-4045-ba52-1f661bc52cf1\",\"root_ids\":[\"1333\"],\"roots\":{\"1333\":\"6c6e1be6-f0a5-4bfd-83af-841be36d2b9f\"}}];\n",
       "  root.Bokeh.embed.embed_items_notebook(docs_json, render_items);\n",
       "\n",
       "  }\n",
       "  if (root.Bokeh !== undefined) {\n",
       "    embed_document(root);\n",
       "  } else {\n",
       "    var attempts = 0;\n",
       "    var timer = setInterval(function(root) {\n",
       "      if (root.Bokeh !== undefined) {\n",
       "        clearInterval(timer);\n",
       "        embed_document(root);\n",
       "      } else {\n",
       "        attempts++;\n",
       "        if (attempts > 100) {\n",
       "          clearInterval(timer);\n",
       "          console.log(\"Bokeh: ERROR: Unable to run BokehJS code because BokehJS library is missing\");\n",
       "        }\n",
       "      }\n",
       "    }, 10, root)\n",
       "  }\n",
       "})(window);"
      ],
      "application/vnd.bokehjs_exec.v0+json": ""
     },
     "metadata": {
      "application/vnd.bokehjs_exec.v0+json": {
       "id": "1333"
      }
     },
     "output_type": "display_data"
    }
   ],
   "source": [
    "import pandas as pd\n",
    "import bokeh.plotting as bpl\n",
    "import bokeh.models as bmo\n",
    "from bokeh.palettes import d3\n",
    "bpl.output_notebook()\n",
    "\n",
    "\n",
    "df = pd.DataFrame(\n",
    "    {\n",
    "        \"journey\": ['ch1', 'ch2', 'ch2', 'ch1'],\n",
    "        \"cat\": ['a', 'b', 'a', 'c'],\n",
    "        \"kpi1\": [1,2,3,4],\n",
    "        \"kpi2\": [4,3,2,1]\n",
    "    }\n",
    ")\n",
    "source = bpl.ColumnDataSource(df)\n",
    "\n",
    "# use whatever palette you want...\n",
    "palette = d3['Category10'][len(df['cat'].unique())]\n",
    "color_map = bmo.CategoricalColorMapper(factors=df['cat'].unique(),\n",
    "                                   palette=palette)\n",
    "\n",
    "# create figure and plot\n",
    "p = bpl.figure()\n",
    "p.scatter(x='kpi1', y='kpi2',\n",
    "          color={'field': 'cat', 'transform': color_map},\n",
    "          legend='cat', source=source)\n",
    "bpl.show(p)\n"
   ]
  },
  {
   "cell_type": "code",
   "execution_count": 74,
   "id": "nuclear-wildlife",
   "metadata": {},
   "outputs": [
    {
     "data": {
      "text/plain": [
       "0    a\n",
       "1    b\n",
       "2    a\n",
       "3    c\n",
       "Name: cat, dtype: object"
      ]
     },
     "execution_count": 74,
     "metadata": {},
     "output_type": "execute_result"
    }
   ],
   "source": [
    "df['cat']"
   ]
  },
  {
   "cell_type": "code",
   "execution_count": 100,
   "id": "medical-cycle",
   "metadata": {},
   "outputs": [
    {
     "data": {
      "text/plain": [
       "100"
      ]
     },
     "execution_count": 100,
     "metadata": {},
     "output_type": "execute_result"
    }
   ],
   "source": [
    "len(pddf_pred[\"prediction\"])"
   ]
  },
  {
   "cell_type": "code",
   "execution_count": 101,
   "id": "purple-corporation",
   "metadata": {},
   "outputs": [
    {
     "data": {
      "text/plain": [
       "100"
      ]
     },
     "execution_count": 101,
     "metadata": {},
     "output_type": "execute_result"
    }
   ],
   "source": [
    "len(result_df[\"dim[0]\"])"
   ]
  },
  {
   "cell_type": "code",
   "execution_count": 122,
   "id": "postal-apple",
   "metadata": {},
   "outputs": [
    {
     "data": {
      "text/html": [
       "\n",
       "    <div class=\"bk-root\">\n",
       "        <a href=\"https://bokeh.org\" target=\"_blank\" class=\"bk-logo bk-logo-small bk-logo-notebook\"></a>\n",
       "        <span id=\"8062\">Loading BokehJS ...</span>\n",
       "    </div>"
      ]
     },
     "metadata": {},
     "output_type": "display_data"
    },
    {
     "data": {
      "application/javascript": [
       "\n",
       "(function(root) {\n",
       "  function now() {\n",
       "    return new Date();\n",
       "  }\n",
       "\n",
       "  var force = true;\n",
       "\n",
       "  if (typeof root._bokeh_onload_callbacks === \"undefined\" || force === true) {\n",
       "    root._bokeh_onload_callbacks = [];\n",
       "    root._bokeh_is_loading = undefined;\n",
       "  }\n",
       "\n",
       "  var JS_MIME_TYPE = 'application/javascript';\n",
       "  var HTML_MIME_TYPE = 'text/html';\n",
       "  var EXEC_MIME_TYPE = 'application/vnd.bokehjs_exec.v0+json';\n",
       "  var CLASS_NAME = 'output_bokeh rendered_html';\n",
       "\n",
       "  /**\n",
       "   * Render data to the DOM node\n",
       "   */\n",
       "  function render(props, node) {\n",
       "    var script = document.createElement(\"script\");\n",
       "    node.appendChild(script);\n",
       "  }\n",
       "\n",
       "  /**\n",
       "   * Handle when an output is cleared or removed\n",
       "   */\n",
       "  function handleClearOutput(event, handle) {\n",
       "    var cell = handle.cell;\n",
       "\n",
       "    var id = cell.output_area._bokeh_element_id;\n",
       "    var server_id = cell.output_area._bokeh_server_id;\n",
       "    // Clean up Bokeh references\n",
       "    if (id != null && id in Bokeh.index) {\n",
       "      Bokeh.index[id].model.document.clear();\n",
       "      delete Bokeh.index[id];\n",
       "    }\n",
       "\n",
       "    if (server_id !== undefined) {\n",
       "      // Clean up Bokeh references\n",
       "      var cmd = \"from bokeh.io.state import curstate; print(curstate().uuid_to_server['\" + server_id + \"'].get_sessions()[0].document.roots[0]._id)\";\n",
       "      cell.notebook.kernel.execute(cmd, {\n",
       "        iopub: {\n",
       "          output: function(msg) {\n",
       "            var id = msg.content.text.trim();\n",
       "            if (id in Bokeh.index) {\n",
       "              Bokeh.index[id].model.document.clear();\n",
       "              delete Bokeh.index[id];\n",
       "            }\n",
       "          }\n",
       "        }\n",
       "      });\n",
       "      // Destroy server and session\n",
       "      var cmd = \"import bokeh.io.notebook as ion; ion.destroy_server('\" + server_id + \"')\";\n",
       "      cell.notebook.kernel.execute(cmd);\n",
       "    }\n",
       "  }\n",
       "\n",
       "  /**\n",
       "   * Handle when a new output is added\n",
       "   */\n",
       "  function handleAddOutput(event, handle) {\n",
       "    var output_area = handle.output_area;\n",
       "    var output = handle.output;\n",
       "\n",
       "    // limit handleAddOutput to display_data with EXEC_MIME_TYPE content only\n",
       "    if ((output.output_type != \"display_data\") || (!Object.prototype.hasOwnProperty.call(output.data, EXEC_MIME_TYPE))) {\n",
       "      return\n",
       "    }\n",
       "\n",
       "    var toinsert = output_area.element.find(\".\" + CLASS_NAME.split(' ')[0]);\n",
       "\n",
       "    if (output.metadata[EXEC_MIME_TYPE][\"id\"] !== undefined) {\n",
       "      toinsert[toinsert.length - 1].firstChild.textContent = output.data[JS_MIME_TYPE];\n",
       "      // store reference to embed id on output_area\n",
       "      output_area._bokeh_element_id = output.metadata[EXEC_MIME_TYPE][\"id\"];\n",
       "    }\n",
       "    if (output.metadata[EXEC_MIME_TYPE][\"server_id\"] !== undefined) {\n",
       "      var bk_div = document.createElement(\"div\");\n",
       "      bk_div.innerHTML = output.data[HTML_MIME_TYPE];\n",
       "      var script_attrs = bk_div.children[0].attributes;\n",
       "      for (var i = 0; i < script_attrs.length; i++) {\n",
       "        toinsert[toinsert.length - 1].firstChild.setAttribute(script_attrs[i].name, script_attrs[i].value);\n",
       "        toinsert[toinsert.length - 1].firstChild.textContent = bk_div.children[0].textContent\n",
       "      }\n",
       "      // store reference to server id on output_area\n",
       "      output_area._bokeh_server_id = output.metadata[EXEC_MIME_TYPE][\"server_id\"];\n",
       "    }\n",
       "  }\n",
       "\n",
       "  function register_renderer(events, OutputArea) {\n",
       "\n",
       "    function append_mime(data, metadata, element) {\n",
       "      // create a DOM node to render to\n",
       "      var toinsert = this.create_output_subarea(\n",
       "        metadata,\n",
       "        CLASS_NAME,\n",
       "        EXEC_MIME_TYPE\n",
       "      );\n",
       "      this.keyboard_manager.register_events(toinsert);\n",
       "      // Render to node\n",
       "      var props = {data: data, metadata: metadata[EXEC_MIME_TYPE]};\n",
       "      render(props, toinsert[toinsert.length - 1]);\n",
       "      element.append(toinsert);\n",
       "      return toinsert\n",
       "    }\n",
       "\n",
       "    /* Handle when an output is cleared or removed */\n",
       "    events.on('clear_output.CodeCell', handleClearOutput);\n",
       "    events.on('delete.Cell', handleClearOutput);\n",
       "\n",
       "    /* Handle when a new output is added */\n",
       "    events.on('output_added.OutputArea', handleAddOutput);\n",
       "\n",
       "    /**\n",
       "     * Register the mime type and append_mime function with output_area\n",
       "     */\n",
       "    OutputArea.prototype.register_mime_type(EXEC_MIME_TYPE, append_mime, {\n",
       "      /* Is output safe? */\n",
       "      safe: true,\n",
       "      /* Index of renderer in `output_area.display_order` */\n",
       "      index: 0\n",
       "    });\n",
       "  }\n",
       "\n",
       "  // register the mime type if in Jupyter Notebook environment and previously unregistered\n",
       "  if (root.Jupyter !== undefined) {\n",
       "    var events = require('base/js/events');\n",
       "    var OutputArea = require('notebook/js/outputarea').OutputArea;\n",
       "\n",
       "    if (OutputArea.prototype.mime_types().indexOf(EXEC_MIME_TYPE) == -1) {\n",
       "      register_renderer(events, OutputArea);\n",
       "    }\n",
       "  }\n",
       "\n",
       "  \n",
       "  if (typeof (root._bokeh_timeout) === \"undefined\" || force === true) {\n",
       "    root._bokeh_timeout = Date.now() + 5000;\n",
       "    root._bokeh_failed_load = false;\n",
       "  }\n",
       "\n",
       "  var NB_LOAD_WARNING = {'data': {'text/html':\n",
       "     \"<div style='background-color: #fdd'>\\n\"+\n",
       "     \"<p>\\n\"+\n",
       "     \"BokehJS does not appear to have successfully loaded. If loading BokehJS from CDN, this \\n\"+\n",
       "     \"may be due to a slow or bad network connection. Possible fixes:\\n\"+\n",
       "     \"</p>\\n\"+\n",
       "     \"<ul>\\n\"+\n",
       "     \"<li>re-rerun `output_notebook()` to attempt to load from CDN again, or</li>\\n\"+\n",
       "     \"<li>use INLINE resources instead, as so:</li>\\n\"+\n",
       "     \"</ul>\\n\"+\n",
       "     \"<code>\\n\"+\n",
       "     \"from bokeh.resources import INLINE\\n\"+\n",
       "     \"output_notebook(resources=INLINE)\\n\"+\n",
       "     \"</code>\\n\"+\n",
       "     \"</div>\"}};\n",
       "\n",
       "  function display_loaded() {\n",
       "    var el = document.getElementById(\"8062\");\n",
       "    if (el != null) {\n",
       "      el.textContent = \"BokehJS is loading...\";\n",
       "    }\n",
       "    if (root.Bokeh !== undefined) {\n",
       "      if (el != null) {\n",
       "        el.textContent = \"BokehJS \" + root.Bokeh.version + \" successfully loaded.\";\n",
       "      }\n",
       "    } else if (Date.now() < root._bokeh_timeout) {\n",
       "      setTimeout(display_loaded, 100)\n",
       "    }\n",
       "  }\n",
       "\n",
       "\n",
       "  function run_callbacks() {\n",
       "    try {\n",
       "      root._bokeh_onload_callbacks.forEach(function(callback) {\n",
       "        if (callback != null)\n",
       "          callback();\n",
       "      });\n",
       "    } finally {\n",
       "      delete root._bokeh_onload_callbacks\n",
       "    }\n",
       "    console.debug(\"Bokeh: all callbacks have finished\");\n",
       "  }\n",
       "\n",
       "  function load_libs(css_urls, js_urls, callback) {\n",
       "    if (css_urls == null) css_urls = [];\n",
       "    if (js_urls == null) js_urls = [];\n",
       "\n",
       "    root._bokeh_onload_callbacks.push(callback);\n",
       "    if (root._bokeh_is_loading > 0) {\n",
       "      console.debug(\"Bokeh: BokehJS is being loaded, scheduling callback at\", now());\n",
       "      return null;\n",
       "    }\n",
       "    if (js_urls == null || js_urls.length === 0) {\n",
       "      run_callbacks();\n",
       "      return null;\n",
       "    }\n",
       "    console.debug(\"Bokeh: BokehJS not loaded, scheduling load and callback at\", now());\n",
       "    root._bokeh_is_loading = css_urls.length + js_urls.length;\n",
       "\n",
       "    function on_load() {\n",
       "      root._bokeh_is_loading--;\n",
       "      if (root._bokeh_is_loading === 0) {\n",
       "        console.debug(\"Bokeh: all BokehJS libraries/stylesheets loaded\");\n",
       "        run_callbacks()\n",
       "      }\n",
       "    }\n",
       "\n",
       "    function on_error(url) {\n",
       "      console.error(\"failed to load \" + url);\n",
       "    }\n",
       "\n",
       "    for (let i = 0; i < css_urls.length; i++) {\n",
       "      const url = css_urls[i];\n",
       "      const element = document.createElement(\"link\");\n",
       "      element.onload = on_load;\n",
       "      element.onerror = on_error.bind(null, url);\n",
       "      element.rel = \"stylesheet\";\n",
       "      element.type = \"text/css\";\n",
       "      element.href = url;\n",
       "      console.debug(\"Bokeh: injecting link tag for BokehJS stylesheet: \", url);\n",
       "      document.body.appendChild(element);\n",
       "    }\n",
       "\n",
       "    const hashes = {\"https://cdn.bokeh.org/bokeh/release/bokeh-2.3.1.min.js\": \"YF85VygJKMVnHE+lLv2AM93Vbstr0yo2TbIu5v8se5Rq3UQAUmcuh4aaJwNlpKwa\", \"https://cdn.bokeh.org/bokeh/release/bokeh-widgets-2.3.1.min.js\": \"KKuas3gevv3PvrlkyCMzffFeaMq5we/a2QsP5AUoS3mJ0jmaCL7jirFJN3GoE/lM\", \"https://cdn.bokeh.org/bokeh/release/bokeh-tables-2.3.1.min.js\": \"MK/uFc3YT18pkvvXRl66tTHjP0/dxoSH2e/eiNMFIguKlun2+WVqaPTWmUy/zvh4\"};\n",
       "\n",
       "    for (let i = 0; i < js_urls.length; i++) {\n",
       "      const url = js_urls[i];\n",
       "      const element = document.createElement('script');\n",
       "      element.onload = on_load;\n",
       "      element.onerror = on_error.bind(null, url);\n",
       "      element.async = false;\n",
       "      element.src = url;\n",
       "      if (url in hashes) {\n",
       "        element.crossOrigin = \"anonymous\";\n",
       "        element.integrity = \"sha384-\" + hashes[url];\n",
       "      }\n",
       "      console.debug(\"Bokeh: injecting script tag for BokehJS library: \", url);\n",
       "      document.head.appendChild(element);\n",
       "    }\n",
       "  };\n",
       "\n",
       "  function inject_raw_css(css) {\n",
       "    const element = document.createElement(\"style\");\n",
       "    element.appendChild(document.createTextNode(css));\n",
       "    document.body.appendChild(element);\n",
       "  }\n",
       "\n",
       "  \n",
       "  var js_urls = [\"https://cdn.bokeh.org/bokeh/release/bokeh-2.3.1.min.js\", \"https://cdn.bokeh.org/bokeh/release/bokeh-widgets-2.3.1.min.js\", \"https://cdn.bokeh.org/bokeh/release/bokeh-tables-2.3.1.min.js\"];\n",
       "  var css_urls = [];\n",
       "  \n",
       "\n",
       "  var inline_js = [\n",
       "    function(Bokeh) {\n",
       "      Bokeh.set_log_level(\"info\");\n",
       "    },\n",
       "    function(Bokeh) {\n",
       "    \n",
       "    \n",
       "    }\n",
       "  ];\n",
       "\n",
       "  function run_inline_js() {\n",
       "    \n",
       "    if (root.Bokeh !== undefined || force === true) {\n",
       "      \n",
       "    for (var i = 0; i < inline_js.length; i++) {\n",
       "      inline_js[i].call(root, root.Bokeh);\n",
       "    }\n",
       "    if (force === true) {\n",
       "        display_loaded();\n",
       "      }} else if (Date.now() < root._bokeh_timeout) {\n",
       "      setTimeout(run_inline_js, 100);\n",
       "    } else if (!root._bokeh_failed_load) {\n",
       "      console.log(\"Bokeh: BokehJS failed to load within specified timeout.\");\n",
       "      root._bokeh_failed_load = true;\n",
       "    } else if (force !== true) {\n",
       "      var cell = $(document.getElementById(\"8062\")).parents('.cell').data().cell;\n",
       "      cell.output_area.append_execute_result(NB_LOAD_WARNING)\n",
       "    }\n",
       "\n",
       "  }\n",
       "\n",
       "  if (root._bokeh_is_loading === 0) {\n",
       "    console.debug(\"Bokeh: BokehJS loaded, going straight to plotting\");\n",
       "    run_inline_js();\n",
       "  } else {\n",
       "    load_libs(css_urls, js_urls, function() {\n",
       "      console.debug(\"Bokeh: BokehJS plotting callback run at\", now());\n",
       "      run_inline_js();\n",
       "    });\n",
       "  }\n",
       "}(window));"
      ],
      "application/vnd.bokehjs_load.v0+json": "\n(function(root) {\n  function now() {\n    return new Date();\n  }\n\n  var force = true;\n\n  if (typeof root._bokeh_onload_callbacks === \"undefined\" || force === true) {\n    root._bokeh_onload_callbacks = [];\n    root._bokeh_is_loading = undefined;\n  }\n\n  \n\n  \n  if (typeof (root._bokeh_timeout) === \"undefined\" || force === true) {\n    root._bokeh_timeout = Date.now() + 5000;\n    root._bokeh_failed_load = false;\n  }\n\n  var NB_LOAD_WARNING = {'data': {'text/html':\n     \"<div style='background-color: #fdd'>\\n\"+\n     \"<p>\\n\"+\n     \"BokehJS does not appear to have successfully loaded. If loading BokehJS from CDN, this \\n\"+\n     \"may be due to a slow or bad network connection. Possible fixes:\\n\"+\n     \"</p>\\n\"+\n     \"<ul>\\n\"+\n     \"<li>re-rerun `output_notebook()` to attempt to load from CDN again, or</li>\\n\"+\n     \"<li>use INLINE resources instead, as so:</li>\\n\"+\n     \"</ul>\\n\"+\n     \"<code>\\n\"+\n     \"from bokeh.resources import INLINE\\n\"+\n     \"output_notebook(resources=INLINE)\\n\"+\n     \"</code>\\n\"+\n     \"</div>\"}};\n\n  function display_loaded() {\n    var el = document.getElementById(\"8062\");\n    if (el != null) {\n      el.textContent = \"BokehJS is loading...\";\n    }\n    if (root.Bokeh !== undefined) {\n      if (el != null) {\n        el.textContent = \"BokehJS \" + root.Bokeh.version + \" successfully loaded.\";\n      }\n    } else if (Date.now() < root._bokeh_timeout) {\n      setTimeout(display_loaded, 100)\n    }\n  }\n\n\n  function run_callbacks() {\n    try {\n      root._bokeh_onload_callbacks.forEach(function(callback) {\n        if (callback != null)\n          callback();\n      });\n    } finally {\n      delete root._bokeh_onload_callbacks\n    }\n    console.debug(\"Bokeh: all callbacks have finished\");\n  }\n\n  function load_libs(css_urls, js_urls, callback) {\n    if (css_urls == null) css_urls = [];\n    if (js_urls == null) js_urls = [];\n\n    root._bokeh_onload_callbacks.push(callback);\n    if (root._bokeh_is_loading > 0) {\n      console.debug(\"Bokeh: BokehJS is being loaded, scheduling callback at\", now());\n      return null;\n    }\n    if (js_urls == null || js_urls.length === 0) {\n      run_callbacks();\n      return null;\n    }\n    console.debug(\"Bokeh: BokehJS not loaded, scheduling load and callback at\", now());\n    root._bokeh_is_loading = css_urls.length + js_urls.length;\n\n    function on_load() {\n      root._bokeh_is_loading--;\n      if (root._bokeh_is_loading === 0) {\n        console.debug(\"Bokeh: all BokehJS libraries/stylesheets loaded\");\n        run_callbacks()\n      }\n    }\n\n    function on_error(url) {\n      console.error(\"failed to load \" + url);\n    }\n\n    for (let i = 0; i < css_urls.length; i++) {\n      const url = css_urls[i];\n      const element = document.createElement(\"link\");\n      element.onload = on_load;\n      element.onerror = on_error.bind(null, url);\n      element.rel = \"stylesheet\";\n      element.type = \"text/css\";\n      element.href = url;\n      console.debug(\"Bokeh: injecting link tag for BokehJS stylesheet: \", url);\n      document.body.appendChild(element);\n    }\n\n    const hashes = {\"https://cdn.bokeh.org/bokeh/release/bokeh-2.3.1.min.js\": \"YF85VygJKMVnHE+lLv2AM93Vbstr0yo2TbIu5v8se5Rq3UQAUmcuh4aaJwNlpKwa\", \"https://cdn.bokeh.org/bokeh/release/bokeh-widgets-2.3.1.min.js\": \"KKuas3gevv3PvrlkyCMzffFeaMq5we/a2QsP5AUoS3mJ0jmaCL7jirFJN3GoE/lM\", \"https://cdn.bokeh.org/bokeh/release/bokeh-tables-2.3.1.min.js\": \"MK/uFc3YT18pkvvXRl66tTHjP0/dxoSH2e/eiNMFIguKlun2+WVqaPTWmUy/zvh4\"};\n\n    for (let i = 0; i < js_urls.length; i++) {\n      const url = js_urls[i];\n      const element = document.createElement('script');\n      element.onload = on_load;\n      element.onerror = on_error.bind(null, url);\n      element.async = false;\n      element.src = url;\n      if (url in hashes) {\n        element.crossOrigin = \"anonymous\";\n        element.integrity = \"sha384-\" + hashes[url];\n      }\n      console.debug(\"Bokeh: injecting script tag for BokehJS library: \", url);\n      document.head.appendChild(element);\n    }\n  };\n\n  function inject_raw_css(css) {\n    const element = document.createElement(\"style\");\n    element.appendChild(document.createTextNode(css));\n    document.body.appendChild(element);\n  }\n\n  \n  var js_urls = [\"https://cdn.bokeh.org/bokeh/release/bokeh-2.3.1.min.js\", \"https://cdn.bokeh.org/bokeh/release/bokeh-widgets-2.3.1.min.js\", \"https://cdn.bokeh.org/bokeh/release/bokeh-tables-2.3.1.min.js\"];\n  var css_urls = [];\n  \n\n  var inline_js = [\n    function(Bokeh) {\n      Bokeh.set_log_level(\"info\");\n    },\n    function(Bokeh) {\n    \n    \n    }\n  ];\n\n  function run_inline_js() {\n    \n    if (root.Bokeh !== undefined || force === true) {\n      \n    for (var i = 0; i < inline_js.length; i++) {\n      inline_js[i].call(root, root.Bokeh);\n    }\n    if (force === true) {\n        display_loaded();\n      }} else if (Date.now() < root._bokeh_timeout) {\n      setTimeout(run_inline_js, 100);\n    } else if (!root._bokeh_failed_load) {\n      console.log(\"Bokeh: BokehJS failed to load within specified timeout.\");\n      root._bokeh_failed_load = true;\n    } else if (force !== true) {\n      var cell = $(document.getElementById(\"8062\")).parents('.cell').data().cell;\n      cell.output_area.append_execute_result(NB_LOAD_WARNING)\n    }\n\n  }\n\n  if (root._bokeh_is_loading === 0) {\n    console.debug(\"Bokeh: BokehJS loaded, going straight to plotting\");\n    run_inline_js();\n  } else {\n    load_libs(css_urls, js_urls, function() {\n      console.debug(\"Bokeh: BokehJS plotting callback run at\", now());\n      run_inline_js();\n    });\n  }\n}(window));"
     },
     "metadata": {},
     "output_type": "display_data"
    },
    {
     "name": "stdout",
     "output_type": "stream",
     "text": [
      "[LABELS] ['0', '4', '2', '3', '1']\n",
      "[PALETTE] ('#1f77b4', '#ff7f0e', '#2ca02c', '#d62728', '#9467bd')\n"
     ]
    },
    {
     "data": {
      "text/html": [
       "\n",
       "\n",
       "\n",
       "\n",
       "\n",
       "\n",
       "  <div class=\"bk-root\" id=\"9e5bcee0-b64a-4794-b4b3-6d9fffe883e8\" data-root-id=\"8065\"></div>\n"
      ]
     },
     "metadata": {},
     "output_type": "display_data"
    },
    {
     "data": {
      "application/javascript": [
       "(function(root) {\n",
       "  function embed_document(root) {\n",
       "    \n",
       "  var docs_json = {\"93bd95fd-e0ce-4613-85c7-3dbbad07f19b\":{\"defs\":[],\"roots\":{\"references\":[{\"attributes\":{\"below\":[{\"id\":\"8074\"}],\"center\":[{\"id\":\"8077\"},{\"id\":\"8081\"}],\"height\":800,\"left\":[{\"id\":\"8078\"}],\"renderers\":[{\"id\":\"8088\"}],\"title\":{\"id\":\"8091\"},\"toolbar\":{\"id\":\"8083\"},\"width\":800,\"x_range\":{\"id\":\"8066\"},\"x_scale\":{\"id\":\"8070\"},\"y_range\":{\"id\":\"8068\"},\"y_scale\":{\"id\":\"8072\"}},\"id\":\"8065\",\"subtype\":\"Figure\",\"type\":\"Plot\"},{\"attributes\":{},\"id\":\"8068\",\"type\":\"DataRange1d\"},{\"attributes\":{\"fill_alpha\":{\"value\":0.1},\"fill_color\":{\"field\":\"label\",\"transform\":{\"id\":\"8064\"}},\"line_alpha\":{\"value\":0.1},\"line_color\":{\"field\":\"label\",\"transform\":{\"id\":\"8064\"}},\"size\":{\"value\":20},\"x\":{\"field\":\"x\"},\"y\":{\"field\":\"y\"}},\"id\":\"8087\",\"type\":\"Circle\"},{\"attributes\":{\"formatter\":{\"id\":\"8096\"},\"major_label_policy\":{\"id\":\"8095\"},\"ticker\":{\"id\":\"8079\"}},\"id\":\"8078\",\"type\":\"LinearAxis\"},{\"attributes\":{},\"id\":\"8092\",\"type\":\"AllLabels\"},{\"attributes\":{},\"id\":\"8095\",\"type\":\"AllLabels\"},{\"attributes\":{},\"id\":\"8091\",\"type\":\"Title\"},{\"attributes\":{},\"id\":\"8096\",\"type\":\"BasicTickFormatter\"},{\"attributes\":{\"callback\":null,\"tooltips\":[[\"name\",\"@titles\"]]},\"id\":\"8082\",\"type\":\"HoverTool\"},{\"attributes\":{\"fill_alpha\":{\"value\":0.5},\"fill_color\":{\"field\":\"label\",\"transform\":{\"id\":\"8064\"}},\"line_alpha\":{\"value\":0.5},\"line_color\":{\"field\":\"label\",\"transform\":{\"id\":\"8064\"}},\"size\":{\"value\":20},\"x\":{\"field\":\"x\"},\"y\":{\"field\":\"y\"}},\"id\":\"8086\",\"type\":\"Circle\"},{\"attributes\":{\"formatter\":{\"id\":\"8093\"},\"major_label_policy\":{\"id\":\"8092\"},\"ticker\":{\"id\":\"8075\"}},\"id\":\"8074\",\"type\":\"LinearAxis\"},{\"attributes\":{},\"id\":\"8079\",\"type\":\"BasicTicker\"},{\"attributes\":{},\"id\":\"8070\",\"type\":\"LinearScale\"},{\"attributes\":{\"source\":{\"id\":\"8063\"}},\"id\":\"8089\",\"type\":\"CDSView\"},{\"attributes\":{\"axis\":{\"id\":\"8074\"},\"ticker\":null},\"id\":\"8077\",\"type\":\"Grid\"},{\"attributes\":{\"active_multi\":null,\"tools\":[{\"id\":\"8082\"}]},\"id\":\"8083\",\"type\":\"Toolbar\"},{\"attributes\":{\"factors\":[\"0\",\"4\",\"2\",\"3\",\"1\"],\"palette\":[\"#1f77b4\",\"#ff7f0e\",\"#2ca02c\",\"#d62728\",\"#9467bd\"]},\"id\":\"8064\",\"type\":\"CategoricalColorMapper\"},{\"attributes\":{\"data\":{\"label\":[\"1\",\"3\",\"0\",\"1\",\"0\",\"0\",\"0\",\"1\",\"0\",\"1\",\"1\",\"1\",\"1\",\"0\",\"2\",\"1\",\"0\",\"2\",\"1\",\"1\",\"1\",\"0\",\"3\",\"1\",\"1\",\"3\",\"0\",\"0\",\"4\",\"1\",\"3\",\"0\",\"3\",\"1\",\"3\",\"1\",\"1\",\"0\",\"1\",\"1\",\"0\",\"0\",\"1\",\"1\",\"0\",\"0\",\"1\",\"1\",\"0\",\"1\",\"0\",\"1\",\"1\",\"1\",\"0\",\"1\",\"1\",\"3\",\"1\",\"1\",\"0\",\"0\",\"1\",\"3\",\"0\",\"0\",\"1\",\"3\",\"3\",\"1\",\"1\",\"1\",\"1\",\"1\",\"1\",\"0\",\"0\",\"1\",\"1\",\"0\",\"0\",\"1\",\"1\",\"0\",\"1\",\"3\",\"1\",\"0\",\"1\",\"1\",\"0\",\"0\",\"3\",\"1\",\"1\",\"3\",\"1\",\"0\",\"2\",\"0\"],\"titles\":[\"Lentils Vegetable Soup\",\"Cool 'n Easy Creamy Watermelon Pie\",\"Dilly Macaroni Salad Recipe\",\"Peanut Butter Bread\",\"Cheesy Herbed Egg Sandwich\",\"Amy's Cheesey , Bacon savory bites .\",\"Brown Sugar 'Karintou' Snacks\",\"Tex-Mex Caponata\",\"Revoltillos\",\"Grandmommy's Mexicali Meatloaf\",\"Praline Kisses\",\"Wonderful and Good For Health Fruit Salad\",\"Crab Salad with Endive and Tomato-Cilantro Sauce\",\"Green Bean Casserole (Mushroom, Garlic and Bacon, Oh My!)\",\"Margarita Madras\",\"Salmon & Salad a La SPORTZ\",\"Kombu Tea Grilled Chicken Thigh\",\"Guacamole\",\"Hot Corned Beef Buns\",\"Grandma's Caramel Corn\",\"Best Ever Fettuccine Alfredo\",\"Butternut Squash Soup or Bisque (Roasting Method)\",\"Creme Curd Cups\",\"Balsamic Chicken Pasta with Fresh Cheese\",\"Old-Fashioned Sweet Potato Pie\",\"Blondie's Walnut Balls\",\"Curried Pumpkin and Smoked Salmon Soup\",\"Barbecue Baked Potatoes\",\"Popcorn Trail Mix\",\"Whole Wheat Waffles\",\"Tinklee's Vanilla Crack\",\"Penne with Smoked Trout and Sugar Snap Peas\",\"Cooked Raspberry Jelly - CERTO Crystals\",\"Soft Pretzels with Queso Poblano Sauce and Mustard Sauce\",\"Yogurt Parfaits\",\"Peach Scones\",\"Banana Cream Pie Smoothie\",\"Rice Paper Wrapped Halibut Roasted with Foie Gras Gingered Spaghetti Squash and Wild Mushroom Ragout\",\"Spoonriver Melon Mint Soup\",\"Easy Tropical Beef Skillet\",\"My Family's Meat Stuffing for a Turkey\",\"Crock Pot Chicken Tortillas Recipe\",\"Acorn Squash & Black Bean Soup\",\"Shrimp and Caper Salad\",\"Leek, Potato, and Bacon Casserole\",\"Gazpacho\",\"Midnight Mashed Potatoes\",\"Mango Atchar\",\"Quick & Easy Crab Dip\",\"Fennel-Rubbed Pork Tenderloin with Roasted Fennel Wedges\",\"Chicken Sausage Stir Fry\",\"Half-Time Sunshine Bars\",\"Dried Fruit Salad with Philly* Cream\",\"Apple Carrot Bones (dog treat)\",\"Lobster on the Barbie\",\"Erin's Mashed Potatoes\",\"Sweet Biscuit Wreath\",\"Worlds Best Mac and Cheese\",\"Honey Sriracha Chicken Wings\",\"Tropical Banana Muffins\",\"Chirashi (Scattered) Sushi\",\"Left over Make over Turkey Pot Pie\",\"Salt Free, Low Cholesterol Sugar Cookies Recipe\",\"Apple Cinnamon French Toast Strata\",\"Mediterranean Style Lamb and Vegetable Stir-Fry\",\"cheese omelette\",\"Zucchini Nut Bread\",\"Monkey Bread\",\"Frosty Lemon Ice Cream Sandwiches\",\"Pineapple Loaf\",\"Sweet and Spicy Red Pepper Dip\",\"Broccoli Rice Bake\",\"Super Easy Pie Crust\",\"Meringue Topping... You Don't Weep, It Doesn't Either!!\",\"Irresistible Peanut Butter Cookies\",\"Sausage and marmalade plait recipe\",\"Sausage Bread\",\"Curry Wheat Berry Salad\",\"Apple-Currant Bars\",\"Apples And Almonds In Flaky Pastry Recipe\",\"Dinner In A Skillet Recipe\",\"Frosty Strawberry Squares\",\"Vegetable Fritto Misto With Lemon Mayonnaise\",\"Caramelized Beef Skewers\",\"Party Dog Appetizers\",\"Mummy Cupcakes\",\"Lemon Cupcakes with Blueberry Compote Filling and Cream Cheese Frosting\",\"Gyro Meat Loaf W/ Tzatziki Sauce\",\"Crunchy Onion Potato Bake\",\"Harrison Muesli\",\"Shalom Bayit Kugel (Potato Kugel)\",\"Steak & Asparagus Wraps\",\"Strawberry Rhubarb Dump Cake\",\"Anise Biscotti\",\"Corn & Mushroom Curry\",\"Double Cherry Crumble\",\"Spanish Spiked Gazpacho in Cucumber Cups\",\"Almond Blondie Triangles Recipe\",\"Pink Sangria\",\"Corn Casserole\"],\"x\":{\"__ndarray__\":\"IBZU/MYN+b++sAv9xXfwv8qpXIZaNOa/5ifDSNSFDMBvu2PibpLlv6NrbzgK0ey/Sn4y+NPF9b8CuWggcjLsvzab6TCFB6y/QOYJApJ++L9R5Jtpa+UGwDfdNFD/wfy/a9I0uHTo77/1evRqXYbrvxtlVriePNO/fUD5CZAk8r+I+ajmOYTsv/IHVRmsJ+G/X9qr3nQU9r8EcP8N5AEFwNihlnpGvvW/CaxAxJP/4b9e8wXLb83uv6ycDqnRw/G/wseZbarfA8CQX4TJ7ScAwEB7XMsAUN2/TvY+lkX56r9poo8b3qvcv2DjQYyEFgbA/AVAajjHA8DIwTqNZ3/nvwqxYNVSKADA79Rgjv7/+b+rRi6sgYnvvx7wgpJ4dAbAl/4Kh5CNAcCgw5Bzqgzhv9m39vICgfy/7mr1Dm5U8r/D0yWgG4KxPxky8z20RNa/h/xpLRFt7b8EltLSgyj4vxguD8bpBuu/Rl4XIylY2z8beuqWDg//vxDjVeAVpva/TBEUmS+X2b+aO++FOe/1v8T4ACq1Qdq/jx9UhxKFA8Aww9g3zU8AwJj9xtvyife/BeQJL5/b1D8s1JqtyMP9vy+yzbVa/ALAtrtfjIm787/g1a2e/0YDwK3FvrdvfwXAEtDtxktPub901fUSRZjYv6o4RKPqavu/tPvs9Znk+r/LgSf0uM3BP5H6F9RbB+O/43ZGrcc4CcAeMYvUUe8AwE9iNlsv3AHAjzBcP8DLBcA0NpoCZKj0v+f7uJv+5ve/TQOlehoBCMBD0PD9hroIwHEhstFmiQjAQ+kJ9V8gqr9ttFiyXCfcv6rn/kEnuf2/2dSHO5bKBcAhQlcAiVLsv9I5h7lUQvK/SAiVt/BKAsBN29MCPsTzv2LzdNmPdNS/iabf9v42AMAFmPtP4zv3v6huwZVE/QbAwj5x1Wsa5r/FFwwTA3/6v4RfCEHNnwXAIGLhB2Dv37/NtnXBqPG6P7Ot57zmZPy/h34T0q18AMDImUi7ZVj0vwFVf8Ouf/6/O1Xhbvgm97+IpfGKGJz2v+wKSLLlJPS/2QZbBaZVzj8=\",\"dtype\":\"float64\",\"order\":\"little\",\"shape\":[100]},\"y\":{\"__ndarray__\":\"3pbK5vgN/L8NLCj2/Gq9PwMesEQQA8o/V3YsYms18b9EpG428/Lbv5/yK2bFftS/X6pw44S/4D/4X7fawwEAwAmD9+VZxfW/1uJfj/979b82dpGgnP/zv+tD/JPKkPq/3sh42iiL8r9bOUfk7H31v/7yiNtJ6I4/7rBhYAw76L9vMrqvFnazPwR9SSOQxfS/20it7r9O/r+VOgg2dIXpP4P1x8HqPfq/6xwmW8gT8r9d24/Z3S3EvzLmv1ORZvi/T1shlvpXxL/OO7DJp8PoP4U/hRRfKPO/50DxVdRkyz/n6FrFNCXiP98gGmLUNfS/Ue+aVVjT0799ALXk7+PXv3vklAJ6Jbc/fcHqJJzy8r/HxJNmE5TTvxuuBjsFyda/2Fd169e25L9oUfNAYbLrv2LZ7SOb0fO/j6I2XCgq9b+qJFwdjl/tvwutAuDNC+m/vRUf27ZQ+r/EmEWpiJzzv6yDT5vhUe+/kPVVIZ+t+7+v9RGegckCwJJvO7ymoPi/ej8vv4zV5798244cJXX0vzNHflbsYwLAWil2luxY8b9uqQ7ST9Tsv9we4CnhTNA/5vJ8s2XLyr+wlClFekIBwCgqBX9dodm/X1in8GkP3z/DqNmIWzz3vxEI1/ubXtS/VVGY9Qvv5b8zVoH8hDW3P7DQKi2BF+Y/nh1lMKRb6b9EQF8Kwij3vzcXtf+3tPW/YnjTqnsg87/EAsRY/i/FP6xRzm/EuNO/89VVjlz58r9b1SO5iV8BwAs12RfNK/q/bMI3XyzpmD/p1VtUE7D4v3Tw0SKLAvK/c9dmBzV1879gUbBZdh/lv71ID+vRSwPAw9zwW5jcw7+ShKpisLngP2V3oXAUM7c/ha7lJTcwqb/6TkPp9tryv5Mar9Cq4dW/WRIlogDd979MhBgdX2XTP8rRrPYQnbg/KEJM9AAW8b+qBR8em63xvy/CTlubteO/z4d5Q3ko5r8GKgb8PqXePyfFc7bfd+G/25yT3Lpw5L8LDbCm3qrnv99q0FUXW+6/9oN31mSVAcDs+N8PyhDwP/rMXUOQq/C/reUvFfZyrb8=\",\"dtype\":\"float64\",\"order\":\"little\",\"shape\":[100]}},\"selected\":{\"id\":\"8098\"},\"selection_policy\":{\"id\":\"8099\"}},\"id\":\"8063\",\"type\":\"ColumnDataSource\"},{\"attributes\":{},\"id\":\"8098\",\"type\":\"Selection\"},{\"attributes\":{\"axis\":{\"id\":\"8078\"},\"dimension\":1,\"ticker\":null},\"id\":\"8081\",\"type\":\"Grid\"},{\"attributes\":{},\"id\":\"8075\",\"type\":\"BasicTicker\"},{\"attributes\":{},\"id\":\"8099\",\"type\":\"UnionRenderers\"},{\"attributes\":{\"data_source\":{\"id\":\"8063\"},\"glyph\":{\"id\":\"8086\"},\"hover_glyph\":null,\"muted_glyph\":null,\"nonselection_glyph\":{\"id\":\"8087\"},\"view\":{\"id\":\"8089\"}},\"id\":\"8088\",\"type\":\"GlyphRenderer\"},{\"attributes\":{},\"id\":\"8066\",\"type\":\"DataRange1d\"},{\"attributes\":{},\"id\":\"8093\",\"type\":\"BasicTickFormatter\"},{\"attributes\":{},\"id\":\"8072\",\"type\":\"LinearScale\"}],\"root_ids\":[\"8065\"]},\"title\":\"Bokeh Application\",\"version\":\"2.3.1\"}};\n",
       "  var render_items = [{\"docid\":\"93bd95fd-e0ce-4613-85c7-3dbbad07f19b\",\"root_ids\":[\"8065\"],\"roots\":{\"8065\":\"9e5bcee0-b64a-4794-b4b3-6d9fffe883e8\"}}];\n",
       "  root.Bokeh.embed.embed_items_notebook(docs_json, render_items);\n",
       "\n",
       "  }\n",
       "  if (root.Bokeh !== undefined) {\n",
       "    embed_document(root);\n",
       "  } else {\n",
       "    var attempts = 0;\n",
       "    var timer = setInterval(function(root) {\n",
       "      if (root.Bokeh !== undefined) {\n",
       "        clearInterval(timer);\n",
       "        embed_document(root);\n",
       "      } else {\n",
       "        attempts++;\n",
       "        if (attempts > 100) {\n",
       "          clearInterval(timer);\n",
       "          console.log(\"Bokeh: ERROR: Unable to run BokehJS code because BokehJS library is missing\");\n",
       "        }\n",
       "      }\n",
       "    }, 10, root)\n",
       "  }\n",
       "})(window);"
      ],
      "application/vnd.bokehjs_exec.v0+json": ""
     },
     "metadata": {
      "application/vnd.bokehjs_exec.v0+json": {
       "id": "8065"
      }
     },
     "output_type": "display_data"
    }
   ],
   "source": [
    "# bokeh\n",
    "from bokeh.plotting import figure, show\n",
    "from bokeh.palettes import d3\n",
    "from bokeh.models import ColumnDataSource, CategoricalColorMapper, HoverTool\n",
    "from bokeh.io import output_notebook\n",
    "\n",
    "output_notebook()\n",
    "labels = [str(x) for x in pddf_pred[\"prediction\"]]\n",
    "\n",
    "source = ColumnDataSource(dict(\n",
    "    x=result_df[\"dim[0]\"], \n",
    "    y=result_df[\"dim[1]\"],\n",
    "    titles=result_df[\"title\"],\n",
    "    label=labels,\n",
    "))\n",
    "\n",
    "\n",
    "labels_set = list(set(labels))\n",
    "\n",
    "palette = d3['Category10'][len(labels_set)]\n",
    "\n",
    "color_map = CategoricalColorMapper(factors=labels_set,\n",
    "                                   palette=palette)\n",
    "\n",
    "print('[LABELS]', labels_set)\n",
    "print('[PALETTE]', palette)\n",
    "\n",
    "TOOLTIPS = [\n",
    "    ('name', \"@titles\"),\n",
    "]\n",
    "\n",
    "\n",
    "p = figure(plot_width=800, plot_height=800, tools='hover', tooltips=TOOLTIPS)\n",
    "p.circle(x='x', \n",
    "         y='y',\n",
    "         source=source,\n",
    "         size=20,\n",
    "         color={'field': 'label', 'transform': color_map},\n",
    "         alpha=0.5)\n",
    "jover =p.select(dict(type=HoverTool))\n",
    "show(p)"
   ]
  },
  {
   "cell_type": "code",
   "execution_count": 125,
   "id": "reverse-serial",
   "metadata": {},
   "outputs": [],
   "source": [
    "# threedee = plt.figure(figsize=(12,10)).gca(projection='3d')\n",
    "# threedee.scatter(result_df[\"dim[0]\"], result_df[\"dim[1]\"], result_df[\"dim[2]\"], c=pddf_pred.prediction)\n",
    "# threedee.set_xlabel('x')\n",
    "# threedee.set_ylabel('y')\n",
    "# threedee.set_zlabel('z')\n",
    "# plt.show()"
   ]
  },
  {
   "cell_type": "markdown",
   "id": "rising-filing",
   "metadata": {},
   "source": [
    "# Repeat again for Instructions"
   ]
  },
  {
   "cell_type": "code",
   "execution_count": 126,
   "id": "quantitative-desktop",
   "metadata": {},
   "outputs": [
    {
     "name": "stdout",
     "output_type": "stream",
     "text": [
      "Number of rows with nulls dropped:  1029720\n"
     ]
    },
    {
     "data": {
      "text/plain": [
       "100"
      ]
     },
     "execution_count": 126,
     "metadata": {},
     "output_type": "execute_result"
    }
   ],
   "source": [
    "# Drop uncessary columns\n",
    "cols_to_drop1 = (\"_corrupt_record\", \"url\", \"title\", \"partition\", \"ingredients\") \n",
    "df_instructions = data_df.drop(*cols_to_drop1)\n",
    "\n",
    "# Drop null values\n",
    "df_instructions = df_instructions.dropna()\n",
    "\n",
    "print('Number of rows with nulls dropped: ', df_instructions.count())\n",
    "df_instructions = spark.createDataFrame(df_instructions.head(100))\n",
    "df_instructions.count()"
   ]
  },
  {
   "cell_type": "code",
   "execution_count": 127,
   "id": "wrapped-excellence",
   "metadata": {},
   "outputs": [
    {
     "data": {
      "text/plain": [
       "Row(id='000018c8a5', instructions=[Row(text='Preheat the oven to 350 F. Butter or oil an 8-inch baking dish.'), Row(text='Cook the penne 2 minutes less than package directions.'), Row(text='(It will finish cooking in the oven.)'), Row(text='Rinse the pasta in cold water and set aside.'), Row(text='Combine the cooked pasta and the sauce in a medium bowl and mix carefully but thoroughly.'), Row(text='Scrape the pasta into the prepared baking dish.'), Row(text='Sprinkle the top with the cheeses and then the chili powder.'), Row(text='Bake, uncovered, for 20 minutes.'), Row(text='Let the mac and cheese sit for 5 minutes before serving.'), Row(text='Melt the butter in a heavy-bottomed saucepan over medium heat and whisk in the flour.'), Row(text='Continue whisking and cooking for 2 minutes.'), Row(text='Slowly add the milk, whisking constantly.'), Row(text='Cook until the sauce thickens, about 10 minutes, stirring frequently.'), Row(text='Remove from the heat.'), Row(text='Add the cheeses, salt, chili powder, and garlic powder.'), Row(text='Stir until the cheese is melted and all ingredients are incorporated, about 3 minutes.'), Row(text='Use immediately, or refrigerate for up to 3 days.'), Row(text='This sauce reheats nicely on the stove in a saucepan over low heat.'), Row(text='Stir frequently so the sauce doesnt scorch.'), Row(text='This recipe can be assembled before baking and frozen for up to 3 monthsjust be sure to use a freezer-to-oven pan and increase the baking time to 50 minutes.'), Row(text='One-half teaspoon of chipotle chili powder makes a spicy mac, so make sure your family and friends can handle it!'), Row(text='The proportion of pasta to cheese sauce is crucial to the success of the dish.'), Row(text='It will look like a lot of sauce for the pasta, but some of the liquid will be absorbed.')])"
      ]
     },
     "execution_count": 127,
     "metadata": {},
     "output_type": "execute_result"
    }
   ],
   "source": [
    "# The data looks different than ingredients so we will parse and put the strings together\n",
    "df_instructions.collect()[0]"
   ]
  },
  {
   "cell_type": "code",
   "execution_count": 128,
   "id": "wanted-leisure",
   "metadata": {},
   "outputs": [],
   "source": [
    "# Convert the instructions from an aray of strings to one string\n",
    "\n",
    "name = 'instructions' #taret_column name\n",
    "# Returns the list joined together with spaces as seperators\n",
    "def parse_instructions(instructions):\n",
    "    return '. '.join([data['text'] for data in instructions])\n",
    "\n",
    "udf2 = UserDefinedFunction(parse_instructions, StringType())\n",
    "\n",
    "df_instructions = df_instructions.select(*[udf2(column).alias(name) if column == name else column for column in df_instructions.columns])"
   ]
  },
  {
   "cell_type": "code",
   "execution_count": 129,
   "id": "lesser-thumbnail",
   "metadata": {},
   "outputs": [
    {
     "name": "stdout",
     "output_type": "stream",
     "text": [
      "+----------+--------------------+\n",
      "|        id|        instructions|\n",
      "+----------+--------------------+\n",
      "|000018c8a5|Preheat the oven ...|\n",
      "|000033e39b|Cook macaroni acc...|\n",
      "|000035f7ed|Add the tomatoes ...|\n",
      "|00003a70b1|Preheat oven to 3...|\n",
      "|00004320bb|Dissolve Jello in...|\n",
      "|0000631d90|In a large skille...|\n",
      "|000075604a|Pierce the skin o...|\n",
      "|00007bfd16|Put ingredients i...|\n",
      "|000095fc1d|Layer all ingredi...|\n",
      "|0000973574|Sift dry ingredie...|\n",
      "|0000a4bcf6|Chop green onions...|\n",
      "|0000b1e2b5|Preheat oven to 3...|\n",
      "|0000c79afb|In a pitcher, com...|\n",
      "|0000ed95f8|Cream butter, sug...|\n",
      "|00010379bf|In a bowl, mix fl...|\n",
      "|000106ec3c|Fry hamburger and...|\n",
      "|00010c7867|Combine beef, oat...|\n",
      "|00010d44c7|Mix all ingredien...|\n",
      "|00011e0b2c|Pour marinade ove...|\n",
      "|00011fc1f9|Saute the onions,...|\n",
      "+----------+--------------------+\n",
      "only showing top 20 rows\n",
      "\n"
     ]
    }
   ],
   "source": [
    "df_instructions.show()"
   ]
  },
  {
   "cell_type": "code",
   "execution_count": 130,
   "id": "digital-watts",
   "metadata": {},
   "outputs": [
    {
     "name": "stdout",
     "output_type": "stream",
     "text": [
      "sent_small_bert_L2_768 download started this may take some time.\n",
      "Approximate size to download 139.6 MB\n",
      "[OK!]\n"
     ]
    }
   ],
   "source": [
    "documentAssembler = DocumentAssembler() \\\n",
    "    .setInputCol(\"instructions\") \\\n",
    "    .setOutputCol(\"document\") \\\n",
    "    .setCleanupMode(\"shrink\")\n",
    "\n",
    "sentence_embeddings = BertSentenceEmbeddings.pretrained() \\\n",
    "    .setInputCols(\"document\") \\\n",
    "    .setOutputCol(\"sentence_embeddings\") \\\n",
    "    .setLazyAnnotator(False)\n",
    "\n",
    "embeddings_finisher = EmbeddingsFinisher() \\\n",
    "            .setInputCols([\"sentence_embeddings\"]) \\\n",
    "            .setOutputCols(\"sentence_embeddings_vectors\") \\\n",
    "            .setOutputAsVector(True)\n",
    "\n",
    "pipeline2 = Pipeline(\n",
    "    stages=[\n",
    "        documentAssembler, \n",
    "        sentence_embeddings,\n",
    "        embeddings_finisher\n",
    " ])"
   ]
  },
  {
   "cell_type": "code",
   "execution_count": 131,
   "id": "instructional-findings",
   "metadata": {},
   "outputs": [],
   "source": [
    "pipelineModel2 = pipeline2.fit(df_instructions)\n",
    "\n",
    "transformed_df2 = pipelineModel2.transform(df_instructions)"
   ]
  },
  {
   "cell_type": "code",
   "execution_count": 132,
   "id": "amateur-nigeria",
   "metadata": {},
   "outputs": [],
   "source": [
    "# The data for the sentence_embeddings_vectors is in a list of DenseVectors rather than just DenseVectors\n",
    "# I have no idea why, have to figure that out\n",
    "# Correction: I use a UDF to convert the list to the DenseVector \n",
    "\n",
    "list_to_vector_udf = udf(lambda l: l[0], VectorUDT())\n",
    "transformed_df2 = transformed_df2.select(transformed_df2['id'], transformed_df2['instructions'], list_to_vector_udf(transformed_df2['sentence_embeddings_vectors']).alias(\"features\"))"
   ]
  },
  {
   "cell_type": "code",
   "execution_count": 133,
   "id": "southwest-potential",
   "metadata": {},
   "outputs": [
    {
     "name": "stdout",
     "output_type": "stream",
     "text": [
      "+----------+--------------------+--------------------+\n",
      "|        id|        instructions|            features|\n",
      "+----------+--------------------+--------------------+\n",
      "|000018c8a5|Preheat the oven ...|[0.68572074174880...|\n",
      "|000033e39b|Cook macaroni acc...|[0.51140123605728...|\n",
      "|000035f7ed|Add the tomatoes ...|[0.50632232427597...|\n",
      "|00003a70b1|Preheat oven to 3...|[0.43148824572563...|\n",
      "|00004320bb|Dissolve Jello in...|[0.55120623111724...|\n",
      "|0000631d90|In a large skille...|[0.49401834607124...|\n",
      "|000075604a|Pierce the skin o...|[0.40984433889389...|\n",
      "|00007bfd16|Put ingredients i...|[0.39697343111038...|\n",
      "|000095fc1d|Layer all ingredi...|[0.63839465379714...|\n",
      "|0000973574|Sift dry ingredie...|[0.61735051870346...|\n",
      "|0000a4bcf6|Chop green onions...|[0.39698225259780...|\n",
      "|0000b1e2b5|Preheat oven to 3...|[0.38966521620750...|\n",
      "|0000c79afb|In a pitcher, com...|[0.56254243850708...|\n",
      "|0000ed95f8|Cream butter, sug...|[0.48844048380851...|\n",
      "|00010379bf|In a bowl, mix fl...|[0.49766618013381...|\n",
      "|000106ec3c|Fry hamburger and...|[0.65565985441207...|\n",
      "|00010c7867|Combine beef, oat...|[0.46563127636909...|\n",
      "|00010d44c7|Mix all ingredien...|[0.41302716732025...|\n",
      "|00011e0b2c|Pour marinade ove...|[0.59106040000915...|\n",
      "|00011fc1f9|Saute the onions,...|[0.48283424973487...|\n",
      "+----------+--------------------+--------------------+\n",
      "only showing top 20 rows\n",
      "\n"
     ]
    }
   ],
   "source": [
    "transformed_df2.show()"
   ]
  },
  {
   "cell_type": "code",
   "execution_count": 134,
   "id": "bronze-tanzania",
   "metadata": {},
   "outputs": [],
   "source": [
    "# silhouette_score=[]\n",
    "# evaluator = ClusteringEvaluator()\n",
    "\n",
    "# for i in range(2,10):\n",
    "#     kmeans = KMeans().setK(i).setSeed(1)\n",
    "#     kmeans_model = kmeans.fit(transformed_df2)\n",
    "#     predictions = kmeans_model.transform(transformed_df2)\n",
    "#     silhouette = evaluator.evaluate(predictions)\n",
    "#     silhouette_score.append(silhouette)\n",
    "    \n",
    "# https://towardsdatascience.com/k-means-clustering-using-pyspark-on-big-data-6214beacdc8b"
   ]
  },
  {
   "cell_type": "code",
   "execution_count": 135,
   "id": "electoral-ballot",
   "metadata": {},
   "outputs": [],
   "source": [
    "# # Visualizing the silhouette scores in a plot\n",
    "# import matplotlib.pyplot as plt\n",
    "# fig, ax = plt.subplots(1,1, figsize =(8,6))\n",
    "# ax.plot(range(2,10),silhouette_score)\n",
    "# ax.set_xlabel('k')\n",
    "# ax.set_ylabel('cost')"
   ]
  },
  {
   "cell_type": "code",
   "execution_count": 136,
   "id": "dense-domestic",
   "metadata": {},
   "outputs": [],
   "source": [
    "# Interestingly there is a peak at 3 and 5"
   ]
  },
  {
   "cell_type": "code",
   "execution_count": 137,
   "id": "spatial-cowboy",
   "metadata": {},
   "outputs": [],
   "source": [
    "kmeans = KMeans().setK(5).setSeed(1)\n",
    "kmeans_model = kmeans.fit(transformed_df2)\n",
    "\n",
    "# Make predictions\n",
    "transformed = kmeans_model.transform(transformed_df2).select('id', 'prediction')\n",
    "\n",
    "# Evaluate clustering by computing Silhouette score\n",
    "evaluator = ClusteringEvaluator()\n",
    "\n",
    "# Shows the result.\n",
    "# centers = kmeans_model.clusterCenters()\n",
    "# print(\"Cluster Centers: \")\n",
    "# for center in centers:\n",
    "#     print(center)"
   ]
  },
  {
   "cell_type": "code",
   "execution_count": 138,
   "id": "severe-large",
   "metadata": {},
   "outputs": [],
   "source": [
    "transformed_df2 = transformed_df2.withColumnRenamed('features', 'instr_features')"
   ]
  },
  {
   "cell_type": "code",
   "execution_count": 139,
   "id": "monetary-transparency",
   "metadata": {},
   "outputs": [
    {
     "name": "stdout",
     "output_type": "stream",
     "text": [
      "+----------+--------------------+--------------------+\n",
      "|        id|        instructions|      instr_features|\n",
      "+----------+--------------------+--------------------+\n",
      "|000018c8a5|Preheat the oven ...|[0.68572074174880...|\n",
      "|000033e39b|Cook macaroni acc...|[0.51140123605728...|\n",
      "|000035f7ed|Add the tomatoes ...|[0.50632232427597...|\n",
      "|00003a70b1|Preheat oven to 3...|[0.43148824572563...|\n",
      "|00004320bb|Dissolve Jello in...|[0.55120623111724...|\n",
      "|0000631d90|In a large skille...|[0.49401834607124...|\n",
      "|000075604a|Pierce the skin o...|[0.40984433889389...|\n",
      "|00007bfd16|Put ingredients i...|[0.39697343111038...|\n",
      "|000095fc1d|Layer all ingredi...|[0.63839465379714...|\n",
      "|0000973574|Sift dry ingredie...|[0.61735051870346...|\n",
      "|0000a4bcf6|Chop green onions...|[0.39698225259780...|\n",
      "|0000b1e2b5|Preheat oven to 3...|[0.38966521620750...|\n",
      "|0000c79afb|In a pitcher, com...|[0.56254243850708...|\n",
      "|0000ed95f8|Cream butter, sug...|[0.48844048380851...|\n",
      "|00010379bf|In a bowl, mix fl...|[0.49766618013381...|\n",
      "|000106ec3c|Fry hamburger and...|[0.65565985441207...|\n",
      "|00010c7867|Combine beef, oat...|[0.46563127636909...|\n",
      "|00010d44c7|Mix all ingredien...|[0.41302716732025...|\n",
      "|00011e0b2c|Pour marinade ove...|[0.59106040000915...|\n",
      "|00011fc1f9|Saute the onions,...|[0.48283424973487...|\n",
      "+----------+--------------------+--------------------+\n",
      "only showing top 20 rows\n",
      "\n"
     ]
    }
   ],
   "source": [
    "transformed_df2.show()"
   ]
  },
  {
   "cell_type": "code",
   "execution_count": 140,
   "id": "diagnostic-astronomy",
   "metadata": {
    "scrolled": true
   },
   "outputs": [
    {
     "name": "stdout",
     "output_type": "stream",
     "text": [
      "+----------+----------+--------------------+--------------------+--------------------+--------------------+--------------------+\n",
      "|        id|prediction|               title|         ingredients|            features|        instructions|      instr_features|\n",
      "+----------+----------+--------------------+--------------------+--------------------+--------------------+--------------------+\n",
      "|00011fc1f9|         1|Lentils Vegetable...|1 cup lentils. 12...|[0.36389616131782...|Saute the onions,...|[0.48283424973487...|\n",
      "|00004320bb|         3|Cool 'n Easy Crea...|1 (3 ounce) packa...|[0.46526822447776...|Dissolve Jello in...|[0.55120623111724...|\n",
      "|000033e39b|         0|Dilly Macaroni Sa...|1 c. elbow macaro...|[0.37298026680946...|Cook macaroni acc...|[0.51140123605728...|\n",
      "|00050db874|         1| Peanut Butter Bread|34 cup peanut but...|[0.25108271837234...|In a large bowl, ...|[0.58366048336029...|\n",
      "|000368efd3|         0|Cheesy Herbed Egg...|2 eggs, scrambled...|[0.32029792666435...|COOK the eggs ove...|[0.66683596372604...|\n",
      "|00033f624d|         0|Amy's Cheesey , B...|1/4 cup butter. 1...|[0.49439576268196...|preheat oven to 1...|[0.53619104623794...|\n",
      "|00010379bf|         0|Brown Sugar 'Kari...|200 grams Cake fl...|[0.28160929679870...|In a bowl, mix fl...|[0.49766618013381...|\n",
      "|0002491373|         1|    Tex-Mex Caponata|nonstick cooking ...|[0.45599916577339...|Preheat oven to 4...|[0.59755605459213...|\n",
      "|00052b48d3|         0|         Revoltillos|3 cups cooked bro...|[0.31432643532752...|Brown the meat in...|[0.70446658134460...|\n",
      "|00010c7867|         1|Grandmommy's Mexi...|1 12 lbs ground b...|[0.31424215435981...|Combine beef, oat...|[0.46563127636909...|\n",
      "|00029df38f|         1|      Praline Kisses|1 egg white, room...|[0.44035866856575...|Preheat oven to 3...|[0.44818520545959...|\n",
      "|000535f6ea|         1|Wonderful and Goo...|12 chopped sweet ...|[0.47991812229156...|Place the cut fru...|[0.56523013114929...|\n",
      "|0004dbbc43|         1|Crab Salad with E...|2 tablespoons oli...|[0.39791613817214...|Heat oil in heavy...|[0.49543440341949...|\n",
      "|0006556e29|         0|Green Bean Casser...|1 lb bacon, cooke...|[0.42092370986938...|Saute chopped gar...|[0.50144761800765...|\n",
      "|0001cba765|         2|    Margarita Madras|3 ounces orange j...|[0.26264858245849...|Combine the orang...|[0.47692489624023...|\n",
      "|0000a4bcf6|         1|Salmon & Salad a ...|1/2 cup green oni...|[0.40515291690826...|Chop green onions...|[0.39698225259780...|\n",
      "|000075604a|         0|Kombu Tea Grilled...|2 Chicken thighs....|[0.27038058638572...|Pierce the skin o...|[0.40984433889389...|\n",
      "|0001d81db6|         2|           Guacamole|2 ripe avocados. ...|[0.48554530739784...|Mix above ingredi...|[0.58493417501449...|\n",
      "|0004c0a2a8|         1|Hot Corned Beef Buns|1 lb leftover cho...|[0.42867171764373...|In a bowl, combin...|[0.39743590354919...|\n",
      "|000566f1e0|         1|Grandma's Caramel...|1-1/4 gal. popped...|[0.47426775097846...|Spread popped cor...|[0.54757672548294...|\n",
      "+----------+----------+--------------------+--------------------+--------------------+--------------------+--------------------+\n",
      "only showing top 20 rows\n",
      "\n"
     ]
    }
   ],
   "source": [
    "temp = df_pred.join(transformed_df2, 'id')\n",
    "temp.show()"
   ]
  },
  {
   "cell_type": "code",
   "execution_count": 141,
   "id": "portuguese-constitutional",
   "metadata": {},
   "outputs": [
    {
     "data": {
      "text/html": [
       "<div>\n",
       "<style scoped>\n",
       "    .dataframe tbody tr th:only-of-type {\n",
       "        vertical-align: middle;\n",
       "    }\n",
       "\n",
       "    .dataframe tbody tr th {\n",
       "        vertical-align: top;\n",
       "    }\n",
       "\n",
       "    .dataframe thead th {\n",
       "        text-align: right;\n",
       "    }\n",
       "</style>\n",
       "<table border=\"1\" class=\"dataframe\">\n",
       "  <thead>\n",
       "    <tr style=\"text-align: right;\">\n",
       "      <th></th>\n",
       "      <th>prediction</th>\n",
       "      <th>title</th>\n",
       "      <th>ingredients</th>\n",
       "      <th>features</th>\n",
       "      <th>instructions</th>\n",
       "      <th>instr_features</th>\n",
       "    </tr>\n",
       "    <tr>\n",
       "      <th>id</th>\n",
       "      <th></th>\n",
       "      <th></th>\n",
       "      <th></th>\n",
       "      <th></th>\n",
       "      <th></th>\n",
       "      <th></th>\n",
       "    </tr>\n",
       "  </thead>\n",
       "  <tbody>\n",
       "    <tr>\n",
       "      <th>00011fc1f9</th>\n",
       "      <td>1</td>\n",
       "      <td>Lentils Vegetable Soup</td>\n",
       "      <td>1 cup lentils. 12 onion (finely chopped). 1 to...</td>\n",
       "      <td>[0.3638961613178253, -0.37362033128738403, -0....</td>\n",
       "      <td>Saute the onions, carrots, celery with olive o...</td>\n",
       "      <td>[0.48283424973487854, -0.3934648931026459, -0....</td>\n",
       "    </tr>\n",
       "    <tr>\n",
       "      <th>00004320bb</th>\n",
       "      <td>3</td>\n",
       "      <td>Cool 'n Easy Creamy Watermelon Pie</td>\n",
       "      <td>1 (3 ounce) package watermelon gelatin. 14 cup...</td>\n",
       "      <td>[0.46526822447776794, -0.23836040496826172, 0....</td>\n",
       "      <td>Dissolve Jello in boiling water.. Allow to coo...</td>\n",
       "      <td>[0.5512062311172485, -0.42452290654182434, -0....</td>\n",
       "    </tr>\n",
       "    <tr>\n",
       "      <th>000033e39b</th>\n",
       "      <td>0</td>\n",
       "      <td>Dilly Macaroni Salad Recipe</td>\n",
       "      <td>1 c. elbow macaroni. 1 c. cubed American chees...</td>\n",
       "      <td>[0.3729802668094635, -0.4489460587501526, -0.2...</td>\n",
       "      <td>Cook macaroni according to package directions;...</td>\n",
       "      <td>[0.5114012360572815, -0.5341006517410278, -0.0...</td>\n",
       "    </tr>\n",
       "    <tr>\n",
       "      <th>00050db874</th>\n",
       "      <td>1</td>\n",
       "      <td>Peanut Butter Bread</td>\n",
       "      <td>34 cup peanut butter. 12 cup sugar. 1 teaspoon...</td>\n",
       "      <td>[0.25108271837234497, -0.4261821210384369, -0....</td>\n",
       "      <td>In a large bowl, cream together the peanut but...</td>\n",
       "      <td>[0.5836604833602905, -0.5760608911514282, -0.1...</td>\n",
       "    </tr>\n",
       "    <tr>\n",
       "      <th>000368efd3</th>\n",
       "      <td>0</td>\n",
       "      <td>Cheesy Herbed Egg Sandwich</td>\n",
       "      <td>2 eggs, scrambled. 2 Tbsp. PHILADELPHIA Chive ...</td>\n",
       "      <td>[0.3202979266643524, -0.5811638236045837, -0.1...</td>\n",
       "      <td>COOK the eggs over medium heat until fluffy, s...</td>\n",
       "      <td>[0.6668359637260437, -0.4488704204559326, -0.0...</td>\n",
       "    </tr>\n",
       "  </tbody>\n",
       "</table>\n",
       "</div>"
      ],
      "text/plain": [
       "            prediction                               title  \\\n",
       "id                                                           \n",
       "00011fc1f9           1              Lentils Vegetable Soup   \n",
       "00004320bb           3  Cool 'n Easy Creamy Watermelon Pie   \n",
       "000033e39b           0         Dilly Macaroni Salad Recipe   \n",
       "00050db874           1                 Peanut Butter Bread   \n",
       "000368efd3           0          Cheesy Herbed Egg Sandwich   \n",
       "\n",
       "                                                  ingredients  \\\n",
       "id                                                              \n",
       "00011fc1f9  1 cup lentils. 12 onion (finely chopped). 1 to...   \n",
       "00004320bb  1 (3 ounce) package watermelon gelatin. 14 cup...   \n",
       "000033e39b  1 c. elbow macaroni. 1 c. cubed American chees...   \n",
       "00050db874  34 cup peanut butter. 12 cup sugar. 1 teaspoon...   \n",
       "000368efd3  2 eggs, scrambled. 2 Tbsp. PHILADELPHIA Chive ...   \n",
       "\n",
       "                                                     features  \\\n",
       "id                                                              \n",
       "00011fc1f9  [0.3638961613178253, -0.37362033128738403, -0....   \n",
       "00004320bb  [0.46526822447776794, -0.23836040496826172, 0....   \n",
       "000033e39b  [0.3729802668094635, -0.4489460587501526, -0.2...   \n",
       "00050db874  [0.25108271837234497, -0.4261821210384369, -0....   \n",
       "000368efd3  [0.3202979266643524, -0.5811638236045837, -0.1...   \n",
       "\n",
       "                                                 instructions  \\\n",
       "id                                                              \n",
       "00011fc1f9  Saute the onions, carrots, celery with olive o...   \n",
       "00004320bb  Dissolve Jello in boiling water.. Allow to coo...   \n",
       "000033e39b  Cook macaroni according to package directions;...   \n",
       "00050db874  In a large bowl, cream together the peanut but...   \n",
       "000368efd3  COOK the eggs over medium heat until fluffy, s...   \n",
       "\n",
       "                                               instr_features  \n",
       "id                                                             \n",
       "00011fc1f9  [0.48283424973487854, -0.3934648931026459, -0....  \n",
       "00004320bb  [0.5512062311172485, -0.42452290654182434, -0....  \n",
       "000033e39b  [0.5114012360572815, -0.5341006517410278, -0.0...  \n",
       "00050db874  [0.5836604833602905, -0.5760608911514282, -0.1...  \n",
       "000368efd3  [0.6668359637260437, -0.4488704204559326, -0.0...  "
      ]
     },
     "execution_count": 141,
     "metadata": {},
     "output_type": "execute_result"
    }
   ],
   "source": [
    "pddf_pred2 = temp.toPandas().set_index('id')\n",
    "pddf_pred2.head()"
   ]
  },
  {
   "cell_type": "code",
   "execution_count": 145,
   "id": "responsible-collection",
   "metadata": {},
   "outputs": [
    {
     "name": "stdout",
     "output_type": "stream",
     "text": [
      "+----------+--------------------+--------------------+--------------------+----------+--------------------+\n",
      "|        id|               title|        instructions|         ingredients|prediction|   instr_pcaFeatures|\n",
      "+----------+--------------------+--------------------+--------------------+----------+--------------------+\n",
      "|00011fc1f9|Lentils Vegetable...|Saute the onions,...|1 cup lentils. 12...|         1|[-1.2722409938104...|\n",
      "|00004320bb|Cool 'n Easy Crea...|Dissolve Jello in...|1 (3 ounce) packa...|         3|[1.04019497356572...|\n",
      "|000033e39b|Dilly Macaroni Sa...|Cook macaroni acc...|1 c. elbow macaro...|         0|[0.25938181098541...|\n",
      "|00050db874| Peanut Butter Bread|In a large bowl, ...|34 cup peanut but...|         1|[-0.6284153726924...|\n",
      "|000368efd3|Cheesy Herbed Egg...|COOK the eggs ove...|2 eggs, scrambled...|         0|[-0.2472852224316...|\n",
      "|00033f624d|Amy's Cheesey , B...|preheat oven to 1...|1/4 cup butter. 1...|         0|[-0.6170302403339...|\n",
      "|00010379bf|Brown Sugar 'Kari...|In a bowl, mix fl...|200 grams Cake fl...|         0|[-0.5585851172140...|\n",
      "|0002491373|    Tex-Mex Caponata|Preheat oven to 4...|nonstick cooking ...|         1|[-0.1248581111069...|\n",
      "|00052b48d3|         Revoltillos|Brown the meat in...|3 cups cooked bro...|         0|[-0.3728768047182...|\n",
      "|00010c7867|Grandmommy's Mexi...|Combine beef, oat...|1 12 lbs ground b...|         1|[-0.3530282838734...|\n",
      "|00029df38f|      Praline Kisses|Preheat oven to 3...|1 egg white, room...|         1|[0.04608943844747...|\n",
      "|000535f6ea|Wonderful and Goo...|Place the cut fru...|12 chopped sweet ...|         1|[0.29030789588801...|\n",
      "|0004dbbc43|Crab Salad with E...|Heat oil in heavy...|2 tablespoons oli...|         1|[-0.1015328357024...|\n",
      "|0006556e29|Green Bean Casser...|Saute chopped gar...|1 lb bacon, cooke...|         0|[-0.7696506630745...|\n",
      "|0001cba765|    Margarita Madras|Combine the orang...|3 ounces orange j...|         2|[-0.1332071389124...|\n",
      "|0000a4bcf6|Salmon & Salad a ...|Chop green onions...|1/2 cup green oni...|         1|[-0.1791761225120...|\n",
      "|000075604a|Kombu Tea Grilled...|Pierce the skin o...|2 Chicken thighs....|         0|[-0.1670339529516...|\n",
      "|0001d81db6|           Guacamole|Mix above ingredi...|2 ripe avocados. ...|         2|[3.46187346422877...|\n",
      "|0004c0a2a8|Hot Corned Beef Buns|In a bowl, combin...|1 lb leftover cho...|         1|[0.26174309515438...|\n",
      "|000566f1e0|Grandma's Caramel...|Spread popped cor...|1-1/4 gal. popped...|         1|[-0.1517169353341...|\n",
      "+----------+--------------------+--------------------+--------------------+----------+--------------------+\n",
      "only showing top 20 rows\n",
      "\n"
     ]
    }
   ],
   "source": [
    "# mlib is incompatible with ml\n",
    "# https://stackoverflow.com/questions/41074182/cannot-convert-type-class-pyspark-ml-linalg-sparsevector-into-vector\n",
    "#  ml library is designed for DataFrame-Objects and the mllib library is for RDD-objects\n",
    "# So the example from https://spark.apache.org/docs/latest/mllib-dimensionality-reduction#principal-component-analysis-pca uses mlibml pc\n",
    "# Instead you must use the following for reference: https://spark.apache.org/docs/1.5.1/ml-features.html#pca\n",
    "from pyspark.ml.feature import PCA\n",
    "from pyspark.mllib.linalg import Vectors\n",
    "\n",
    "\n",
    "pca = PCA(k=2, inputCol=\"instr_features\", outputCol=\"instr_pcaFeatures\")\n",
    "pca_model = pca.fit(temp)\n",
    "result = pca_model.transform(temp).select(\"id\", \"title\", \"instructions\", \"ingredients\", \"prediction\", \"instr_pcaFeatures\")\n",
    "result.show()"
   ]
  },
  {
   "cell_type": "code",
   "execution_count": 146,
   "id": "individual-heater",
   "metadata": {},
   "outputs": [],
   "source": [
    "from pyspark.ml.functions import vector_to_array\n",
    "result = (result.withColumn(\"dim\", vector_to_array(\"instr_pcaFeatures\"))).select([\"id\"] + [\"title\"] + [\"instructions\"] + [\"ingredients\"] + [\"prediction\"] + [col(\"dim\")[i] for i in range(2)])"
   ]
  },
  {
   "cell_type": "code",
   "execution_count": 147,
   "id": "enhanced-circulation",
   "metadata": {},
   "outputs": [
    {
     "data": {
      "text/html": [
       "<div>\n",
       "<style scoped>\n",
       "    .dataframe tbody tr th:only-of-type {\n",
       "        vertical-align: middle;\n",
       "    }\n",
       "\n",
       "    .dataframe tbody tr th {\n",
       "        vertical-align: top;\n",
       "    }\n",
       "\n",
       "    .dataframe thead th {\n",
       "        text-align: right;\n",
       "    }\n",
       "</style>\n",
       "<table border=\"1\" class=\"dataframe\">\n",
       "  <thead>\n",
       "    <tr style=\"text-align: right;\">\n",
       "      <th></th>\n",
       "      <th>title</th>\n",
       "      <th>instructions</th>\n",
       "      <th>ingredients</th>\n",
       "      <th>prediction</th>\n",
       "      <th>dim[0]</th>\n",
       "      <th>dim[1]</th>\n",
       "    </tr>\n",
       "    <tr>\n",
       "      <th>id</th>\n",
       "      <th></th>\n",
       "      <th></th>\n",
       "      <th></th>\n",
       "      <th></th>\n",
       "      <th></th>\n",
       "      <th></th>\n",
       "    </tr>\n",
       "  </thead>\n",
       "  <tbody>\n",
       "    <tr>\n",
       "      <th>00011fc1f9</th>\n",
       "      <td>Lentils Vegetable Soup</td>\n",
       "      <td>Saute the onions, carrots, celery with olive o...</td>\n",
       "      <td>1 cup lentils. 12 onion (finely chopped). 1 to...</td>\n",
       "      <td>1</td>\n",
       "      <td>-1.272241</td>\n",
       "      <td>-3.342701</td>\n",
       "    </tr>\n",
       "    <tr>\n",
       "      <th>00004320bb</th>\n",
       "      <td>Cool 'n Easy Creamy Watermelon Pie</td>\n",
       "      <td>Dissolve Jello in boiling water.. Allow to coo...</td>\n",
       "      <td>1 (3 ounce) package watermelon gelatin. 14 cup...</td>\n",
       "      <td>3</td>\n",
       "      <td>1.040195</td>\n",
       "      <td>-2.696531</td>\n",
       "    </tr>\n",
       "    <tr>\n",
       "      <th>000033e39b</th>\n",
       "      <td>Dilly Macaroni Salad Recipe</td>\n",
       "      <td>Cook macaroni according to package directions;...</td>\n",
       "      <td>1 c. elbow macaroni. 1 c. cubed American chees...</td>\n",
       "      <td>0</td>\n",
       "      <td>0.259382</td>\n",
       "      <td>-3.767942</td>\n",
       "    </tr>\n",
       "    <tr>\n",
       "      <th>00050db874</th>\n",
       "      <td>Peanut Butter Bread</td>\n",
       "      <td>In a large bowl, cream together the peanut but...</td>\n",
       "      <td>34 cup peanut butter. 12 cup sugar. 1 teaspoon...</td>\n",
       "      <td>1</td>\n",
       "      <td>-0.628415</td>\n",
       "      <td>-3.188981</td>\n",
       "    </tr>\n",
       "    <tr>\n",
       "      <th>000368efd3</th>\n",
       "      <td>Cheesy Herbed Egg Sandwich</td>\n",
       "      <td>COOK the eggs over medium heat until fluffy, s...</td>\n",
       "      <td>2 eggs, scrambled. 2 Tbsp. PHILADELPHIA Chive ...</td>\n",
       "      <td>0</td>\n",
       "      <td>-0.247285</td>\n",
       "      <td>-3.773543</td>\n",
       "    </tr>\n",
       "  </tbody>\n",
       "</table>\n",
       "</div>"
      ],
      "text/plain": [
       "                                         title  \\\n",
       "id                                               \n",
       "00011fc1f9              Lentils Vegetable Soup   \n",
       "00004320bb  Cool 'n Easy Creamy Watermelon Pie   \n",
       "000033e39b         Dilly Macaroni Salad Recipe   \n",
       "00050db874                 Peanut Butter Bread   \n",
       "000368efd3          Cheesy Herbed Egg Sandwich   \n",
       "\n",
       "                                                 instructions  \\\n",
       "id                                                              \n",
       "00011fc1f9  Saute the onions, carrots, celery with olive o...   \n",
       "00004320bb  Dissolve Jello in boiling water.. Allow to coo...   \n",
       "000033e39b  Cook macaroni according to package directions;...   \n",
       "00050db874  In a large bowl, cream together the peanut but...   \n",
       "000368efd3  COOK the eggs over medium heat until fluffy, s...   \n",
       "\n",
       "                                                  ingredients  prediction  \\\n",
       "id                                                                          \n",
       "00011fc1f9  1 cup lentils. 12 onion (finely chopped). 1 to...           1   \n",
       "00004320bb  1 (3 ounce) package watermelon gelatin. 14 cup...           3   \n",
       "000033e39b  1 c. elbow macaroni. 1 c. cubed American chees...           0   \n",
       "00050db874  34 cup peanut butter. 12 cup sugar. 1 teaspoon...           1   \n",
       "000368efd3  2 eggs, scrambled. 2 Tbsp. PHILADELPHIA Chive ...           0   \n",
       "\n",
       "              dim[0]    dim[1]  \n",
       "id                              \n",
       "00011fc1f9 -1.272241 -3.342701  \n",
       "00004320bb  1.040195 -2.696531  \n",
       "000033e39b  0.259382 -3.767942  \n",
       "00050db874 -0.628415 -3.188981  \n",
       "000368efd3 -0.247285 -3.773543  "
      ]
     },
     "execution_count": 147,
     "metadata": {},
     "output_type": "execute_result"
    }
   ],
   "source": [
    "result_df2 = result.toPandas().set_index('id')\n",
    "result_df2.head()"
   ]
  },
  {
   "cell_type": "code",
   "execution_count": 149,
   "id": "international-green",
   "metadata": {},
   "outputs": [
    {
     "data": {
      "text/html": [
       "\n",
       "    <div class=\"bk-root\">\n",
       "        <a href=\"https://bokeh.org\" target=\"_blank\" class=\"bk-logo bk-logo-small bk-logo-notebook\"></a>\n",
       "        <span id=\"8916\">Loading BokehJS ...</span>\n",
       "    </div>"
      ]
     },
     "metadata": {},
     "output_type": "display_data"
    },
    {
     "data": {
      "application/javascript": [
       "\n",
       "(function(root) {\n",
       "  function now() {\n",
       "    return new Date();\n",
       "  }\n",
       "\n",
       "  var force = true;\n",
       "\n",
       "  if (typeof root._bokeh_onload_callbacks === \"undefined\" || force === true) {\n",
       "    root._bokeh_onload_callbacks = [];\n",
       "    root._bokeh_is_loading = undefined;\n",
       "  }\n",
       "\n",
       "  var JS_MIME_TYPE = 'application/javascript';\n",
       "  var HTML_MIME_TYPE = 'text/html';\n",
       "  var EXEC_MIME_TYPE = 'application/vnd.bokehjs_exec.v0+json';\n",
       "  var CLASS_NAME = 'output_bokeh rendered_html';\n",
       "\n",
       "  /**\n",
       "   * Render data to the DOM node\n",
       "   */\n",
       "  function render(props, node) {\n",
       "    var script = document.createElement(\"script\");\n",
       "    node.appendChild(script);\n",
       "  }\n",
       "\n",
       "  /**\n",
       "   * Handle when an output is cleared or removed\n",
       "   */\n",
       "  function handleClearOutput(event, handle) {\n",
       "    var cell = handle.cell;\n",
       "\n",
       "    var id = cell.output_area._bokeh_element_id;\n",
       "    var server_id = cell.output_area._bokeh_server_id;\n",
       "    // Clean up Bokeh references\n",
       "    if (id != null && id in Bokeh.index) {\n",
       "      Bokeh.index[id].model.document.clear();\n",
       "      delete Bokeh.index[id];\n",
       "    }\n",
       "\n",
       "    if (server_id !== undefined) {\n",
       "      // Clean up Bokeh references\n",
       "      var cmd = \"from bokeh.io.state import curstate; print(curstate().uuid_to_server['\" + server_id + \"'].get_sessions()[0].document.roots[0]._id)\";\n",
       "      cell.notebook.kernel.execute(cmd, {\n",
       "        iopub: {\n",
       "          output: function(msg) {\n",
       "            var id = msg.content.text.trim();\n",
       "            if (id in Bokeh.index) {\n",
       "              Bokeh.index[id].model.document.clear();\n",
       "              delete Bokeh.index[id];\n",
       "            }\n",
       "          }\n",
       "        }\n",
       "      });\n",
       "      // Destroy server and session\n",
       "      var cmd = \"import bokeh.io.notebook as ion; ion.destroy_server('\" + server_id + \"')\";\n",
       "      cell.notebook.kernel.execute(cmd);\n",
       "    }\n",
       "  }\n",
       "\n",
       "  /**\n",
       "   * Handle when a new output is added\n",
       "   */\n",
       "  function handleAddOutput(event, handle) {\n",
       "    var output_area = handle.output_area;\n",
       "    var output = handle.output;\n",
       "\n",
       "    // limit handleAddOutput to display_data with EXEC_MIME_TYPE content only\n",
       "    if ((output.output_type != \"display_data\") || (!Object.prototype.hasOwnProperty.call(output.data, EXEC_MIME_TYPE))) {\n",
       "      return\n",
       "    }\n",
       "\n",
       "    var toinsert = output_area.element.find(\".\" + CLASS_NAME.split(' ')[0]);\n",
       "\n",
       "    if (output.metadata[EXEC_MIME_TYPE][\"id\"] !== undefined) {\n",
       "      toinsert[toinsert.length - 1].firstChild.textContent = output.data[JS_MIME_TYPE];\n",
       "      // store reference to embed id on output_area\n",
       "      output_area._bokeh_element_id = output.metadata[EXEC_MIME_TYPE][\"id\"];\n",
       "    }\n",
       "    if (output.metadata[EXEC_MIME_TYPE][\"server_id\"] !== undefined) {\n",
       "      var bk_div = document.createElement(\"div\");\n",
       "      bk_div.innerHTML = output.data[HTML_MIME_TYPE];\n",
       "      var script_attrs = bk_div.children[0].attributes;\n",
       "      for (var i = 0; i < script_attrs.length; i++) {\n",
       "        toinsert[toinsert.length - 1].firstChild.setAttribute(script_attrs[i].name, script_attrs[i].value);\n",
       "        toinsert[toinsert.length - 1].firstChild.textContent = bk_div.children[0].textContent\n",
       "      }\n",
       "      // store reference to server id on output_area\n",
       "      output_area._bokeh_server_id = output.metadata[EXEC_MIME_TYPE][\"server_id\"];\n",
       "    }\n",
       "  }\n",
       "\n",
       "  function register_renderer(events, OutputArea) {\n",
       "\n",
       "    function append_mime(data, metadata, element) {\n",
       "      // create a DOM node to render to\n",
       "      var toinsert = this.create_output_subarea(\n",
       "        metadata,\n",
       "        CLASS_NAME,\n",
       "        EXEC_MIME_TYPE\n",
       "      );\n",
       "      this.keyboard_manager.register_events(toinsert);\n",
       "      // Render to node\n",
       "      var props = {data: data, metadata: metadata[EXEC_MIME_TYPE]};\n",
       "      render(props, toinsert[toinsert.length - 1]);\n",
       "      element.append(toinsert);\n",
       "      return toinsert\n",
       "    }\n",
       "\n",
       "    /* Handle when an output is cleared or removed */\n",
       "    events.on('clear_output.CodeCell', handleClearOutput);\n",
       "    events.on('delete.Cell', handleClearOutput);\n",
       "\n",
       "    /* Handle when a new output is added */\n",
       "    events.on('output_added.OutputArea', handleAddOutput);\n",
       "\n",
       "    /**\n",
       "     * Register the mime type and append_mime function with output_area\n",
       "     */\n",
       "    OutputArea.prototype.register_mime_type(EXEC_MIME_TYPE, append_mime, {\n",
       "      /* Is output safe? */\n",
       "      safe: true,\n",
       "      /* Index of renderer in `output_area.display_order` */\n",
       "      index: 0\n",
       "    });\n",
       "  }\n",
       "\n",
       "  // register the mime type if in Jupyter Notebook environment and previously unregistered\n",
       "  if (root.Jupyter !== undefined) {\n",
       "    var events = require('base/js/events');\n",
       "    var OutputArea = require('notebook/js/outputarea').OutputArea;\n",
       "\n",
       "    if (OutputArea.prototype.mime_types().indexOf(EXEC_MIME_TYPE) == -1) {\n",
       "      register_renderer(events, OutputArea);\n",
       "    }\n",
       "  }\n",
       "\n",
       "  \n",
       "  if (typeof (root._bokeh_timeout) === \"undefined\" || force === true) {\n",
       "    root._bokeh_timeout = Date.now() + 5000;\n",
       "    root._bokeh_failed_load = false;\n",
       "  }\n",
       "\n",
       "  var NB_LOAD_WARNING = {'data': {'text/html':\n",
       "     \"<div style='background-color: #fdd'>\\n\"+\n",
       "     \"<p>\\n\"+\n",
       "     \"BokehJS does not appear to have successfully loaded. If loading BokehJS from CDN, this \\n\"+\n",
       "     \"may be due to a slow or bad network connection. Possible fixes:\\n\"+\n",
       "     \"</p>\\n\"+\n",
       "     \"<ul>\\n\"+\n",
       "     \"<li>re-rerun `output_notebook()` to attempt to load from CDN again, or</li>\\n\"+\n",
       "     \"<li>use INLINE resources instead, as so:</li>\\n\"+\n",
       "     \"</ul>\\n\"+\n",
       "     \"<code>\\n\"+\n",
       "     \"from bokeh.resources import INLINE\\n\"+\n",
       "     \"output_notebook(resources=INLINE)\\n\"+\n",
       "     \"</code>\\n\"+\n",
       "     \"</div>\"}};\n",
       "\n",
       "  function display_loaded() {\n",
       "    var el = document.getElementById(\"8916\");\n",
       "    if (el != null) {\n",
       "      el.textContent = \"BokehJS is loading...\";\n",
       "    }\n",
       "    if (root.Bokeh !== undefined) {\n",
       "      if (el != null) {\n",
       "        el.textContent = \"BokehJS \" + root.Bokeh.version + \" successfully loaded.\";\n",
       "      }\n",
       "    } else if (Date.now() < root._bokeh_timeout) {\n",
       "      setTimeout(display_loaded, 100)\n",
       "    }\n",
       "  }\n",
       "\n",
       "\n",
       "  function run_callbacks() {\n",
       "    try {\n",
       "      root._bokeh_onload_callbacks.forEach(function(callback) {\n",
       "        if (callback != null)\n",
       "          callback();\n",
       "      });\n",
       "    } finally {\n",
       "      delete root._bokeh_onload_callbacks\n",
       "    }\n",
       "    console.debug(\"Bokeh: all callbacks have finished\");\n",
       "  }\n",
       "\n",
       "  function load_libs(css_urls, js_urls, callback) {\n",
       "    if (css_urls == null) css_urls = [];\n",
       "    if (js_urls == null) js_urls = [];\n",
       "\n",
       "    root._bokeh_onload_callbacks.push(callback);\n",
       "    if (root._bokeh_is_loading > 0) {\n",
       "      console.debug(\"Bokeh: BokehJS is being loaded, scheduling callback at\", now());\n",
       "      return null;\n",
       "    }\n",
       "    if (js_urls == null || js_urls.length === 0) {\n",
       "      run_callbacks();\n",
       "      return null;\n",
       "    }\n",
       "    console.debug(\"Bokeh: BokehJS not loaded, scheduling load and callback at\", now());\n",
       "    root._bokeh_is_loading = css_urls.length + js_urls.length;\n",
       "\n",
       "    function on_load() {\n",
       "      root._bokeh_is_loading--;\n",
       "      if (root._bokeh_is_loading === 0) {\n",
       "        console.debug(\"Bokeh: all BokehJS libraries/stylesheets loaded\");\n",
       "        run_callbacks()\n",
       "      }\n",
       "    }\n",
       "\n",
       "    function on_error(url) {\n",
       "      console.error(\"failed to load \" + url);\n",
       "    }\n",
       "\n",
       "    for (let i = 0; i < css_urls.length; i++) {\n",
       "      const url = css_urls[i];\n",
       "      const element = document.createElement(\"link\");\n",
       "      element.onload = on_load;\n",
       "      element.onerror = on_error.bind(null, url);\n",
       "      element.rel = \"stylesheet\";\n",
       "      element.type = \"text/css\";\n",
       "      element.href = url;\n",
       "      console.debug(\"Bokeh: injecting link tag for BokehJS stylesheet: \", url);\n",
       "      document.body.appendChild(element);\n",
       "    }\n",
       "\n",
       "    const hashes = {\"https://cdn.bokeh.org/bokeh/release/bokeh-2.3.1.min.js\": \"YF85VygJKMVnHE+lLv2AM93Vbstr0yo2TbIu5v8se5Rq3UQAUmcuh4aaJwNlpKwa\", \"https://cdn.bokeh.org/bokeh/release/bokeh-widgets-2.3.1.min.js\": \"KKuas3gevv3PvrlkyCMzffFeaMq5we/a2QsP5AUoS3mJ0jmaCL7jirFJN3GoE/lM\", \"https://cdn.bokeh.org/bokeh/release/bokeh-tables-2.3.1.min.js\": \"MK/uFc3YT18pkvvXRl66tTHjP0/dxoSH2e/eiNMFIguKlun2+WVqaPTWmUy/zvh4\"};\n",
       "\n",
       "    for (let i = 0; i < js_urls.length; i++) {\n",
       "      const url = js_urls[i];\n",
       "      const element = document.createElement('script');\n",
       "      element.onload = on_load;\n",
       "      element.onerror = on_error.bind(null, url);\n",
       "      element.async = false;\n",
       "      element.src = url;\n",
       "      if (url in hashes) {\n",
       "        element.crossOrigin = \"anonymous\";\n",
       "        element.integrity = \"sha384-\" + hashes[url];\n",
       "      }\n",
       "      console.debug(\"Bokeh: injecting script tag for BokehJS library: \", url);\n",
       "      document.head.appendChild(element);\n",
       "    }\n",
       "  };\n",
       "\n",
       "  function inject_raw_css(css) {\n",
       "    const element = document.createElement(\"style\");\n",
       "    element.appendChild(document.createTextNode(css));\n",
       "    document.body.appendChild(element);\n",
       "  }\n",
       "\n",
       "  \n",
       "  var js_urls = [\"https://cdn.bokeh.org/bokeh/release/bokeh-2.3.1.min.js\", \"https://cdn.bokeh.org/bokeh/release/bokeh-widgets-2.3.1.min.js\", \"https://cdn.bokeh.org/bokeh/release/bokeh-tables-2.3.1.min.js\"];\n",
       "  var css_urls = [];\n",
       "  \n",
       "\n",
       "  var inline_js = [\n",
       "    function(Bokeh) {\n",
       "      Bokeh.set_log_level(\"info\");\n",
       "    },\n",
       "    function(Bokeh) {\n",
       "    \n",
       "    \n",
       "    }\n",
       "  ];\n",
       "\n",
       "  function run_inline_js() {\n",
       "    \n",
       "    if (root.Bokeh !== undefined || force === true) {\n",
       "      \n",
       "    for (var i = 0; i < inline_js.length; i++) {\n",
       "      inline_js[i].call(root, root.Bokeh);\n",
       "    }\n",
       "    if (force === true) {\n",
       "        display_loaded();\n",
       "      }} else if (Date.now() < root._bokeh_timeout) {\n",
       "      setTimeout(run_inline_js, 100);\n",
       "    } else if (!root._bokeh_failed_load) {\n",
       "      console.log(\"Bokeh: BokehJS failed to load within specified timeout.\");\n",
       "      root._bokeh_failed_load = true;\n",
       "    } else if (force !== true) {\n",
       "      var cell = $(document.getElementById(\"8916\")).parents('.cell').data().cell;\n",
       "      cell.output_area.append_execute_result(NB_LOAD_WARNING)\n",
       "    }\n",
       "\n",
       "  }\n",
       "\n",
       "  if (root._bokeh_is_loading === 0) {\n",
       "    console.debug(\"Bokeh: BokehJS loaded, going straight to plotting\");\n",
       "    run_inline_js();\n",
       "  } else {\n",
       "    load_libs(css_urls, js_urls, function() {\n",
       "      console.debug(\"Bokeh: BokehJS plotting callback run at\", now());\n",
       "      run_inline_js();\n",
       "    });\n",
       "  }\n",
       "}(window));"
      ],
      "application/vnd.bokehjs_load.v0+json": "\n(function(root) {\n  function now() {\n    return new Date();\n  }\n\n  var force = true;\n\n  if (typeof root._bokeh_onload_callbacks === \"undefined\" || force === true) {\n    root._bokeh_onload_callbacks = [];\n    root._bokeh_is_loading = undefined;\n  }\n\n  \n\n  \n  if (typeof (root._bokeh_timeout) === \"undefined\" || force === true) {\n    root._bokeh_timeout = Date.now() + 5000;\n    root._bokeh_failed_load = false;\n  }\n\n  var NB_LOAD_WARNING = {'data': {'text/html':\n     \"<div style='background-color: #fdd'>\\n\"+\n     \"<p>\\n\"+\n     \"BokehJS does not appear to have successfully loaded. If loading BokehJS from CDN, this \\n\"+\n     \"may be due to a slow or bad network connection. Possible fixes:\\n\"+\n     \"</p>\\n\"+\n     \"<ul>\\n\"+\n     \"<li>re-rerun `output_notebook()` to attempt to load from CDN again, or</li>\\n\"+\n     \"<li>use INLINE resources instead, as so:</li>\\n\"+\n     \"</ul>\\n\"+\n     \"<code>\\n\"+\n     \"from bokeh.resources import INLINE\\n\"+\n     \"output_notebook(resources=INLINE)\\n\"+\n     \"</code>\\n\"+\n     \"</div>\"}};\n\n  function display_loaded() {\n    var el = document.getElementById(\"8916\");\n    if (el != null) {\n      el.textContent = \"BokehJS is loading...\";\n    }\n    if (root.Bokeh !== undefined) {\n      if (el != null) {\n        el.textContent = \"BokehJS \" + root.Bokeh.version + \" successfully loaded.\";\n      }\n    } else if (Date.now() < root._bokeh_timeout) {\n      setTimeout(display_loaded, 100)\n    }\n  }\n\n\n  function run_callbacks() {\n    try {\n      root._bokeh_onload_callbacks.forEach(function(callback) {\n        if (callback != null)\n          callback();\n      });\n    } finally {\n      delete root._bokeh_onload_callbacks\n    }\n    console.debug(\"Bokeh: all callbacks have finished\");\n  }\n\n  function load_libs(css_urls, js_urls, callback) {\n    if (css_urls == null) css_urls = [];\n    if (js_urls == null) js_urls = [];\n\n    root._bokeh_onload_callbacks.push(callback);\n    if (root._bokeh_is_loading > 0) {\n      console.debug(\"Bokeh: BokehJS is being loaded, scheduling callback at\", now());\n      return null;\n    }\n    if (js_urls == null || js_urls.length === 0) {\n      run_callbacks();\n      return null;\n    }\n    console.debug(\"Bokeh: BokehJS not loaded, scheduling load and callback at\", now());\n    root._bokeh_is_loading = css_urls.length + js_urls.length;\n\n    function on_load() {\n      root._bokeh_is_loading--;\n      if (root._bokeh_is_loading === 0) {\n        console.debug(\"Bokeh: all BokehJS libraries/stylesheets loaded\");\n        run_callbacks()\n      }\n    }\n\n    function on_error(url) {\n      console.error(\"failed to load \" + url);\n    }\n\n    for (let i = 0; i < css_urls.length; i++) {\n      const url = css_urls[i];\n      const element = document.createElement(\"link\");\n      element.onload = on_load;\n      element.onerror = on_error.bind(null, url);\n      element.rel = \"stylesheet\";\n      element.type = \"text/css\";\n      element.href = url;\n      console.debug(\"Bokeh: injecting link tag for BokehJS stylesheet: \", url);\n      document.body.appendChild(element);\n    }\n\n    const hashes = {\"https://cdn.bokeh.org/bokeh/release/bokeh-2.3.1.min.js\": \"YF85VygJKMVnHE+lLv2AM93Vbstr0yo2TbIu5v8se5Rq3UQAUmcuh4aaJwNlpKwa\", \"https://cdn.bokeh.org/bokeh/release/bokeh-widgets-2.3.1.min.js\": \"KKuas3gevv3PvrlkyCMzffFeaMq5we/a2QsP5AUoS3mJ0jmaCL7jirFJN3GoE/lM\", \"https://cdn.bokeh.org/bokeh/release/bokeh-tables-2.3.1.min.js\": \"MK/uFc3YT18pkvvXRl66tTHjP0/dxoSH2e/eiNMFIguKlun2+WVqaPTWmUy/zvh4\"};\n\n    for (let i = 0; i < js_urls.length; i++) {\n      const url = js_urls[i];\n      const element = document.createElement('script');\n      element.onload = on_load;\n      element.onerror = on_error.bind(null, url);\n      element.async = false;\n      element.src = url;\n      if (url in hashes) {\n        element.crossOrigin = \"anonymous\";\n        element.integrity = \"sha384-\" + hashes[url];\n      }\n      console.debug(\"Bokeh: injecting script tag for BokehJS library: \", url);\n      document.head.appendChild(element);\n    }\n  };\n\n  function inject_raw_css(css) {\n    const element = document.createElement(\"style\");\n    element.appendChild(document.createTextNode(css));\n    document.body.appendChild(element);\n  }\n\n  \n  var js_urls = [\"https://cdn.bokeh.org/bokeh/release/bokeh-2.3.1.min.js\", \"https://cdn.bokeh.org/bokeh/release/bokeh-widgets-2.3.1.min.js\", \"https://cdn.bokeh.org/bokeh/release/bokeh-tables-2.3.1.min.js\"];\n  var css_urls = [];\n  \n\n  var inline_js = [\n    function(Bokeh) {\n      Bokeh.set_log_level(\"info\");\n    },\n    function(Bokeh) {\n    \n    \n    }\n  ];\n\n  function run_inline_js() {\n    \n    if (root.Bokeh !== undefined || force === true) {\n      \n    for (var i = 0; i < inline_js.length; i++) {\n      inline_js[i].call(root, root.Bokeh);\n    }\n    if (force === true) {\n        display_loaded();\n      }} else if (Date.now() < root._bokeh_timeout) {\n      setTimeout(run_inline_js, 100);\n    } else if (!root._bokeh_failed_load) {\n      console.log(\"Bokeh: BokehJS failed to load within specified timeout.\");\n      root._bokeh_failed_load = true;\n    } else if (force !== true) {\n      var cell = $(document.getElementById(\"8916\")).parents('.cell').data().cell;\n      cell.output_area.append_execute_result(NB_LOAD_WARNING)\n    }\n\n  }\n\n  if (root._bokeh_is_loading === 0) {\n    console.debug(\"Bokeh: BokehJS loaded, going straight to plotting\");\n    run_inline_js();\n  } else {\n    load_libs(css_urls, js_urls, function() {\n      console.debug(\"Bokeh: BokehJS plotting callback run at\", now());\n      run_inline_js();\n    });\n  }\n}(window));"
     },
     "metadata": {},
     "output_type": "display_data"
    },
    {
     "name": "stdout",
     "output_type": "stream",
     "text": [
      "[LABELS] ['0', '4', '2', '3', '1']\n",
      "[PALETTE] ('#1f77b4', '#ff7f0e', '#2ca02c', '#d62728', '#9467bd')\n"
     ]
    },
    {
     "data": {
      "text/html": [
       "\n",
       "\n",
       "\n",
       "\n",
       "\n",
       "\n",
       "  <div class=\"bk-root\" id=\"b2f281e1-13e9-4880-8808-66cbe86f338b\" data-root-id=\"8919\"></div>\n"
      ]
     },
     "metadata": {},
     "output_type": "display_data"
    },
    {
     "data": {
      "application/javascript": [
       "(function(root) {\n",
       "  function embed_document(root) {\n",
       "    \n",
       "  var docs_json = {\"c596d29b-54ab-4ba5-ae4d-fc0ffd345d6b\":{\"defs\":[],\"roots\":{\"references\":[{\"attributes\":{\"below\":[{\"id\":\"8928\"}],\"center\":[{\"id\":\"8931\"},{\"id\":\"8935\"}],\"height\":800,\"left\":[{\"id\":\"8932\"}],\"renderers\":[{\"id\":\"8942\"}],\"title\":{\"id\":\"8945\"},\"toolbar\":{\"id\":\"8937\"},\"width\":800,\"x_range\":{\"id\":\"8920\"},\"x_scale\":{\"id\":\"8924\"},\"y_range\":{\"id\":\"8922\"},\"y_scale\":{\"id\":\"8926\"}},\"id\":\"8919\",\"subtype\":\"Figure\",\"type\":\"Plot\"},{\"attributes\":{},\"id\":\"8929\",\"type\":\"BasicTicker\"},{\"attributes\":{\"factors\":[\"0\",\"4\",\"2\",\"3\",\"1\"],\"palette\":[\"#1f77b4\",\"#ff7f0e\",\"#2ca02c\",\"#d62728\",\"#9467bd\"]},\"id\":\"8918\",\"type\":\"CategoricalColorMapper\"},{\"attributes\":{},\"id\":\"8953\",\"type\":\"UnionRenderers\"},{\"attributes\":{},\"id\":\"8924\",\"type\":\"LinearScale\"},{\"attributes\":{\"data\":{\"label\":[\"1\",\"3\",\"0\",\"1\",\"0\",\"0\",\"0\",\"1\",\"0\",\"1\",\"1\",\"1\",\"1\",\"0\",\"2\",\"1\",\"0\",\"2\",\"1\",\"1\",\"1\",\"0\",\"3\",\"1\",\"1\",\"3\",\"0\",\"0\",\"4\",\"1\",\"3\",\"0\",\"3\",\"1\",\"3\",\"1\",\"1\",\"0\",\"1\",\"1\",\"0\",\"0\",\"1\",\"1\",\"0\",\"0\",\"1\",\"1\",\"0\",\"1\",\"0\",\"1\",\"1\",\"1\",\"0\",\"1\",\"1\",\"3\",\"1\",\"1\",\"0\",\"0\",\"1\",\"3\",\"0\",\"0\",\"1\",\"3\",\"3\",\"1\",\"1\",\"1\",\"1\",\"1\",\"1\",\"0\",\"0\",\"1\",\"1\",\"0\",\"0\",\"1\",\"1\",\"0\",\"1\",\"3\",\"1\",\"0\",\"1\",\"1\",\"0\",\"0\",\"3\",\"1\",\"1\",\"3\",\"1\",\"0\",\"2\",\"0\"],\"titles\":[\"Lentils Vegetable Soup\",\"Cool 'n Easy Creamy Watermelon Pie\",\"Dilly Macaroni Salad Recipe\",\"Peanut Butter Bread\",\"Cheesy Herbed Egg Sandwich\",\"Amy's Cheesey , Bacon savory bites .\",\"Brown Sugar 'Karintou' Snacks\",\"Tex-Mex Caponata\",\"Revoltillos\",\"Grandmommy's Mexicali Meatloaf\",\"Praline Kisses\",\"Wonderful and Good For Health Fruit Salad\",\"Crab Salad with Endive and Tomato-Cilantro Sauce\",\"Green Bean Casserole (Mushroom, Garlic and Bacon, Oh My!)\",\"Margarita Madras\",\"Salmon & Salad a La SPORTZ\",\"Kombu Tea Grilled Chicken Thigh\",\"Guacamole\",\"Hot Corned Beef Buns\",\"Grandma's Caramel Corn\",\"Best Ever Fettuccine Alfredo\",\"Butternut Squash Soup or Bisque (Roasting Method)\",\"Creme Curd Cups\",\"Balsamic Chicken Pasta with Fresh Cheese\",\"Old-Fashioned Sweet Potato Pie\",\"Blondie's Walnut Balls\",\"Curried Pumpkin and Smoked Salmon Soup\",\"Barbecue Baked Potatoes\",\"Popcorn Trail Mix\",\"Whole Wheat Waffles\",\"Tinklee's Vanilla Crack\",\"Penne with Smoked Trout and Sugar Snap Peas\",\"Cooked Raspberry Jelly - CERTO Crystals\",\"Soft Pretzels with Queso Poblano Sauce and Mustard Sauce\",\"Yogurt Parfaits\",\"Peach Scones\",\"Banana Cream Pie Smoothie\",\"Rice Paper Wrapped Halibut Roasted with Foie Gras Gingered Spaghetti Squash and Wild Mushroom Ragout\",\"Spoonriver Melon Mint Soup\",\"Easy Tropical Beef Skillet\",\"My Family's Meat Stuffing for a Turkey\",\"Crock Pot Chicken Tortillas Recipe\",\"Acorn Squash & Black Bean Soup\",\"Shrimp and Caper Salad\",\"Leek, Potato, and Bacon Casserole\",\"Gazpacho\",\"Midnight Mashed Potatoes\",\"Mango Atchar\",\"Quick & Easy Crab Dip\",\"Fennel-Rubbed Pork Tenderloin with Roasted Fennel Wedges\",\"Chicken Sausage Stir Fry\",\"Half-Time Sunshine Bars\",\"Dried Fruit Salad with Philly* Cream\",\"Apple Carrot Bones (dog treat)\",\"Lobster on the Barbie\",\"Erin's Mashed Potatoes\",\"Sweet Biscuit Wreath\",\"Worlds Best Mac and Cheese\",\"Honey Sriracha Chicken Wings\",\"Tropical Banana Muffins\",\"Chirashi (Scattered) Sushi\",\"Left over Make over Turkey Pot Pie\",\"Salt Free, Low Cholesterol Sugar Cookies Recipe\",\"Apple Cinnamon French Toast Strata\",\"Mediterranean Style Lamb and Vegetable Stir-Fry\",\"cheese omelette\",\"Zucchini Nut Bread\",\"Monkey Bread\",\"Frosty Lemon Ice Cream Sandwiches\",\"Pineapple Loaf\",\"Sweet and Spicy Red Pepper Dip\",\"Broccoli Rice Bake\",\"Super Easy Pie Crust\",\"Meringue Topping... You Don't Weep, It Doesn't Either!!\",\"Irresistible Peanut Butter Cookies\",\"Sausage and marmalade plait recipe\",\"Sausage Bread\",\"Curry Wheat Berry Salad\",\"Apple-Currant Bars\",\"Apples And Almonds In Flaky Pastry Recipe\",\"Dinner In A Skillet Recipe\",\"Frosty Strawberry Squares\",\"Vegetable Fritto Misto With Lemon Mayonnaise\",\"Caramelized Beef Skewers\",\"Party Dog Appetizers\",\"Mummy Cupcakes\",\"Lemon Cupcakes with Blueberry Compote Filling and Cream Cheese Frosting\",\"Gyro Meat Loaf W/ Tzatziki Sauce\",\"Crunchy Onion Potato Bake\",\"Harrison Muesli\",\"Shalom Bayit Kugel (Potato Kugel)\",\"Steak & Asparagus Wraps\",\"Strawberry Rhubarb Dump Cake\",\"Anise Biscotti\",\"Corn & Mushroom Curry\",\"Double Cherry Crumble\",\"Spanish Spiked Gazpacho in Cucumber Cups\",\"Almond Blondie Triangles Recipe\",\"Pink Sangria\",\"Corn Casserole\"],\"x\":{\"__ndarray__\":\"+b1QXxlb9L+q2g58o6TwP40D1yq2mdA/K5JAjvob5L+8XpDLCqfPv3EU3DO2vuO/gu9O5e3f4b93Pth/s/a/v4jubKw23de/3Cxz8QOY1r++VqXtCJmnP9sDp5FnlNI/heXPUA7+ub/v/mdt+qDov3+InHjuDMG/hOQ0QT7vxr8/2J9aXmHFv8sF/rbqsQtAMhVpHGbA0D+FMsHldWvDv6JS1VnCAfC/TkoZZH8kwr9Za7wXz0fjPyG0SREYreC/wEVlEnPw5L8ph3CPcwHkP1xuBUPqq+i/DY7vx4c26T/ErEOX8H8dQHYvFMOYxtS/w9dPTD4C27/yZ6/9973qv8p+ccJGI9Y/nV8WNryq4b9JDq3UW6UJQC1+urgRmp+/EfjMpWTVw79EeSEbSTq5v+kePHdqiuC/BKno3uzV6r9dJFSpit3CPwTtzjBpUrE/KyvGxrXQ5L8Wz0DJVvnrv56j4Vlfzc+/V6ssCDTU6b+Nt1k5PMuuv7hSTqvAq+k/4zo6TNrOwb+s/cEso2Znv5yR0fuXrtq/Xc5vZYefsL+s6/WLwSTev2C+hzXCnKG/KksoPrJ33D9VvfIlndKyvwz83qVlppO/thx6URXy3b/eINIdtDTYv5wYoVby8Kc/BElCb36txL+EC1M/8lnAP394E3UpF9U/YUVNI5Yp1b+4bLmjRu3iv1eeCQRUIOC/WSOzfBC+5j8zWNZe1Q3BP6tN+Bm9P+E/6JeBNMHbuL8fs0+bF/bovx6U7JyTEOM/yfFeyoy+sT/jjcW+MMDCv5lyTXDfdsc/MCGrhqlv8b+ER+T0IAi1vw9lfShiOOW/2w+kou5zqL9kw87FWuPUP6t9v14mcuA/VizH4mbttj+jPlpJUabkv9lLfZWUkKg/8+qyLEMF2L9SFRFHu7zXPyTdotFWMc+/mLTAkvo9cL/anWSU/XS4v4GRUYUidd+/s1kt2HDe2b+r1qhrhWPMPw9rrNIGk+g/diU7cHjJwr+3KAV8MwHnv9iBIq5kmok/Uy2fxKcS0j/PveuZoAfaPzYEbjjQk+g/w9M9zKJTwz8=\",\"dtype\":\"float64\",\"order\":\"little\",\"shape\":[100]},\"y\":{\"__ndarray__\":\"WDYhJtq9CsBnqn+sfpIFwBtSJYy+JA7AyzOQkwiDCcB/LlE3NzAOwKexfoHReAnA1b15ADkQAMBh9WwmybH9vx+pQjKOjBDAkp4LfpkLEMAyUXe3lGUCwPlF1Iw/MBTAt2kxAQPJCsDfv8Toa4YLwB696Igy5wbA15mJZcbUAcDd1Ver0bL2v72H/ZPpzAXAf8z+LUF7B8At7L2QUKMKwOdMrtCdWgjAo5e7bXk+BMD7hq/viCILwJ4NZyCEAQfAr0Ew6LxkBMCmZ9mBDJcQwJEDSZvkAwvAO/q/GHp1BcB1O2FwQmQNwP1AKc9m7Q3AnKXhqEpA67+CwDleUOMHwF29v/0/VgnArZVT5HZ3CcDT0jgXgg//vyurudyHggPAi/PQZQmmAsBG51l5Z3Dpv01+PSZovATAOzsWKsQoDsANgwr/4yP4vxLLZPLsxAPAoOrj6xPxC8DYTdx9rSwGwJAWdbigzvG/P3/vOXdlDMBnfGQ+7zEOwGMeY+tpMQjAhwvlnj02CcCvJXkX6t3/v0X0Y1dbtxDA+pztC9M1BMB5UiHXNVMMwNswjLZ2swTAspOkJ/gC8b+ZFFUdPrgKwL+XOkuXmALAOPCC6irJB8C3P/Y2GQHzv2lkhsgAvw3AzirjRxit+r8AERcJDgQGwKyH3v4n9AnAo72BBLwSB8Bi2l4AJy8JwOCt1k/ZswDAqNvzlak3DsC+pX+pv1cKwOZnemePygLAkuGmiDW0EMC1N42f6WcIwJCvIh3CeQbAdNdtZ8gl+b9L3itqPkQDwFfEueoM2wLA1q4uSF4fBcBm1t3n2tUAwFC7vtLjMgnAQA68ihIVCcBJ9BIaAGD6v0MAJF0uoQvAfoJDOrEhBcBzs43lEkX/v04A0Tv/5wnAQ4/0r2qtBsDf5lEMSGcKwDOvO4FX4wXA97ccjigOAMCUk4NnW4IMwBOHsaspcgnAXDuh6zqV/L+DmCTP6ekGwDnx7CaoGOy/JL+r3OoXAcD+YF3Ero0KwL34bVEcSgfA6u/PDg5f+L/qTA+niJABwGs7XVOR+QXAL1ZHEPZdE8A=\",\"dtype\":\"float64\",\"order\":\"little\",\"shape\":[100]}},\"selected\":{\"id\":\"8952\"},\"selection_policy\":{\"id\":\"8953\"}},\"id\":\"8917\",\"type\":\"ColumnDataSource\"},{\"attributes\":{},\"id\":\"8952\",\"type\":\"Selection\"},{\"attributes\":{},\"id\":\"8950\",\"type\":\"BasicTickFormatter\"},{\"attributes\":{},\"id\":\"8926\",\"type\":\"LinearScale\"},{\"attributes\":{\"active_multi\":null,\"tools\":[{\"id\":\"8936\"}]},\"id\":\"8937\",\"type\":\"Toolbar\"},{\"attributes\":{\"source\":{\"id\":\"8917\"}},\"id\":\"8943\",\"type\":\"CDSView\"},{\"attributes\":{\"fill_alpha\":{\"value\":0.1},\"fill_color\":{\"field\":\"label\",\"transform\":{\"id\":\"8918\"}},\"line_alpha\":{\"value\":0.1},\"line_color\":{\"field\":\"label\",\"transform\":{\"id\":\"8918\"}},\"size\":{\"value\":20},\"x\":{\"field\":\"x\"},\"y\":{\"field\":\"y\"}},\"id\":\"8941\",\"type\":\"Circle\"},{\"attributes\":{\"formatter\":{\"id\":\"8950\"},\"major_label_policy\":{\"id\":\"8949\"},\"ticker\":{\"id\":\"8933\"}},\"id\":\"8932\",\"type\":\"LinearAxis\"},{\"attributes\":{},\"id\":\"8933\",\"type\":\"BasicTicker\"},{\"attributes\":{\"axis\":{\"id\":\"8928\"},\"ticker\":null},\"id\":\"8931\",\"type\":\"Grid\"},{\"attributes\":{\"fill_alpha\":{\"value\":0.5},\"fill_color\":{\"field\":\"label\",\"transform\":{\"id\":\"8918\"}},\"line_alpha\":{\"value\":0.5},\"line_color\":{\"field\":\"label\",\"transform\":{\"id\":\"8918\"}},\"size\":{\"value\":20},\"x\":{\"field\":\"x\"},\"y\":{\"field\":\"y\"}},\"id\":\"8940\",\"type\":\"Circle\"},{\"attributes\":{},\"id\":\"8922\",\"type\":\"DataRange1d\"},{\"attributes\":{},\"id\":\"8949\",\"type\":\"AllLabels\"},{\"attributes\":{},\"id\":\"8945\",\"type\":\"Title\"},{\"attributes\":{\"formatter\":{\"id\":\"8947\"},\"major_label_policy\":{\"id\":\"8946\"},\"ticker\":{\"id\":\"8929\"}},\"id\":\"8928\",\"type\":\"LinearAxis\"},{\"attributes\":{},\"id\":\"8920\",\"type\":\"DataRange1d\"},{\"attributes\":{\"callback\":null,\"tooltips\":[[\"name\",\"@titles\"]]},\"id\":\"8936\",\"type\":\"HoverTool\"},{\"attributes\":{},\"id\":\"8946\",\"type\":\"AllLabels\"},{\"attributes\":{},\"id\":\"8947\",\"type\":\"BasicTickFormatter\"},{\"attributes\":{\"data_source\":{\"id\":\"8917\"},\"glyph\":{\"id\":\"8940\"},\"hover_glyph\":null,\"muted_glyph\":null,\"nonselection_glyph\":{\"id\":\"8941\"},\"view\":{\"id\":\"8943\"}},\"id\":\"8942\",\"type\":\"GlyphRenderer\"},{\"attributes\":{\"axis\":{\"id\":\"8932\"},\"dimension\":1,\"ticker\":null},\"id\":\"8935\",\"type\":\"Grid\"}],\"root_ids\":[\"8919\"]},\"title\":\"Bokeh Application\",\"version\":\"2.3.1\"}};\n",
       "  var render_items = [{\"docid\":\"c596d29b-54ab-4ba5-ae4d-fc0ffd345d6b\",\"root_ids\":[\"8919\"],\"roots\":{\"8919\":\"b2f281e1-13e9-4880-8808-66cbe86f338b\"}}];\n",
       "  root.Bokeh.embed.embed_items_notebook(docs_json, render_items);\n",
       "\n",
       "  }\n",
       "  if (root.Bokeh !== undefined) {\n",
       "    embed_document(root);\n",
       "  } else {\n",
       "    var attempts = 0;\n",
       "    var timer = setInterval(function(root) {\n",
       "      if (root.Bokeh !== undefined) {\n",
       "        clearInterval(timer);\n",
       "        embed_document(root);\n",
       "      } else {\n",
       "        attempts++;\n",
       "        if (attempts > 100) {\n",
       "          clearInterval(timer);\n",
       "          console.log(\"Bokeh: ERROR: Unable to run BokehJS code because BokehJS library is missing\");\n",
       "        }\n",
       "      }\n",
       "    }, 10, root)\n",
       "  }\n",
       "})(window);"
      ],
      "application/vnd.bokehjs_exec.v0+json": ""
     },
     "metadata": {
      "application/vnd.bokehjs_exec.v0+json": {
       "id": "8919"
      }
     },
     "output_type": "display_data"
    }
   ],
   "source": [
    "output_notebook()\n",
    "labels = [str(x) for x in result_df2[\"prediction\"]]\n",
    "\n",
    "source = ColumnDataSource(dict(\n",
    "    x=result_df2[\"dim[0]\"], \n",
    "    y=result_df2[\"dim[1]\"],\n",
    "    titles=result_df2[\"title\"],\n",
    "    label=labels,\n",
    "))\n",
    "\n",
    "\n",
    "labels_set = list(set(labels))\n",
    "\n",
    "palette = d3['Category10'][len(labels_set)]\n",
    "\n",
    "color_map = CategoricalColorMapper(factors=labels_set,\n",
    "                                   palette=palette)\n",
    "\n",
    "print('[LABELS]', labels_set)\n",
    "print('[PALETTE]', palette)\n",
    "\n",
    "TOOLTIPS = [\n",
    "    ('name', \"@titles\"),\n",
    "]\n",
    "\n",
    "\n",
    "p = figure(plot_width=800, plot_height=800, tools='hover', tooltips=TOOLTIPS)\n",
    "p.circle(x='x', \n",
    "         y='y',\n",
    "         source=source,\n",
    "         size=20,\n",
    "         color={'field': 'label', 'transform': color_map},\n",
    "         alpha=0.5)\n",
    "jover =p.select(dict(type=HoverTool))\n",
    "show(p)"
   ]
  },
  {
   "cell_type": "code",
   "execution_count": 94,
   "id": "contemporary-expansion",
   "metadata": {},
   "outputs": [
    {
     "name": "stderr",
     "output_type": "stream",
     "text": [
      "<ipython-input-94-ef7f9c72f3ac>:1: MatplotlibDeprecationWarning: Calling gca() with keyword arguments was deprecated in Matplotlib 3.4. Starting two minor releases later, gca() will take no keyword arguments. The gca() function should only be used to get the current axes, or if no axes exist, create new axes with default keyword arguments. To create a new axes with non-default arguments, use plt.axes() or plt.subplot().\n",
      "  threedee = plt.figure(figsize=(12,10)).gca(projection='3d')\n"
     ]
    },
    {
     "data": {
      "image/png": "[encoded data removed]",
      "text/plain": [
       "<Figure size 864x720 with 1 Axes>"
      ]
     },
     "metadata": {
      "needs_background": "light"
     },
     "output_type": "display_data"
    }
   ],
   "source": [
    "threedee = plt.figure(figsize=(12,10)).gca(projection='3d')\n",
    "threedee.scatter(result_df2[\"dim[0]\"], result_df2[\"dim[1]\"], result_df2[\"dim[2]\"], c=result_df2.prediction)\n",
    "threedee.set_xlabel('x')\n",
    "threedee.set_ylabel('y')\n",
    "threedee.set_zlabel('z')\n",
    "plt.show()"
   ]
  },
  {
   "cell_type": "code",
   "execution_count": 1,
   "id": "tamil-wound",
   "metadata": {},
   "outputs": [],
   "source": [
    "# suggest 2D first\n",
    "# try t-sne\n",
    "# describing clusters\n",
    "# look at what you want to visualize\n",
    "# tf-idf"
   ]
  },
  {
   "cell_type": "code",
   "execution_count": null,
   "id": "junior-psychiatry",
   "metadata": {},
   "outputs": [],
   "source": [
    "# Things to note\n",
    "# Errors and lack of clarity in documentation basically ate up \n",
    "# 6+ hours in something that should have been much quicker\n",
    "# Also I had an unforseen 20 hours per week additional committment at the \n",
    "# cost of securing a job (not that is an excuse)"
   ]
  },
  {
   "cell_type": "code",
   "execution_count": 95,
   "id": "central-organic",
   "metadata": {},
   "outputs": [],
   "source": [
    "# Future Work: Change plot library to one that can \n",
    "# move around 3D and hover labels to see what each thing is"
   ]
  },
  {
   "cell_type": "code",
   "execution_count": null,
   "id": "excellent-target",
   "metadata": {},
   "outputs": [],
   "source": [
    "# Clustered & Visualized: Needs work and code can be reduced, \n",
    "# not sure if I should leave it for explainability"
   ]
  },
  {
   "cell_type": "code",
   "execution_count": null,
   "id": "caroline-gnome",
   "metadata": {},
   "outputs": [],
   "source": [
    "# Next: After revamping the above, work on inspecting outliers on whole data\n",
    "# Unsure if I will get to the most important parts of the ingredient, is that okay?"
   ]
  },
  {
   "cell_type": "code",
   "execution_count": null,
   "id": "oriental-commerce",
   "metadata": {},
   "outputs": [],
   "source": [
    "# Timeline: Off by two weeks, had a buffer but will likely consume it, many\n",
    "# late night coffees might need to occur"
   ]
  }
 ],
 "metadata": {
  "kernelspec": {
   "display_name": "Python 3",
   "language": "python",
   "name": "python3"
  },
  "language_info": {
   "codemirror_mode": {
    "name": "ipython",
    "version": 3
   },
   "file_extension": ".py",
   "mimetype": "text/x-python",
   "name": "python",
   "nbconvert_exporter": "python",
   "pygments_lexer": "ipython3",
   "version": "3.9.2"
  }
 },
 "nbformat": 4,
 "nbformat_minor": 5
}
